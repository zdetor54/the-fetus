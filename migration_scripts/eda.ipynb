{
 "cells": [
  {
   "cell_type": "code",
   "execution_count": 8,
   "id": "9f459205",
   "metadata": {},
   "outputs": [],
   "source": [
    "import os\n",
    "import json\n",
    "import pandas as pd\n",
    "\n",
    "from typing import List, Dict, Any, Tuple, Optional\n",
    "\n",
    "from formating import convert_json_to_insert_sql, convert_json_to_update_sql\n",
    "from crud import insert_records, delete_records, fetch_records, get_tables"
   ]
  },
  {
   "cell_type": "code",
   "execution_count": 2,
   "id": "6bc95e21",
   "metadata": {},
   "outputs": [],
   "source": [
    "current_dir = os.getcwd()\n",
    "parent_dir = os.path.dirname(current_dir)\n",
    "assets_dir = os.path.join(parent_dir, '_assets')\n",
    "db_dir = os.path.join(parent_dir, 'fetusapp')\n",
    "db_filename = 'data.sqlite'\n",
    "data_filename = 'detoraki_fetusdata.json'\n",
    "mapping_filename = 'column_mapping.json'\n",
    "\n",
    "db_path = os.path.join(db_dir, db_filename)\n",
    "json_file = os.path.join(assets_dir, data_filename)\n",
    "mapping_file = os.path.join(current_dir, mapping_filename)"
   ]
  },
  {
   "cell_type": "code",
   "execution_count": 3,
   "id": "f534f7d6",
   "metadata": {},
   "outputs": [],
   "source": [
    "with open(json_file, 'r', encoding='utf-8') as f:\n",
    "        json_data = json.load(f)"
   ]
  },
  {
   "cell_type": "code",
   "execution_count": 25,
   "id": "863cd58b",
   "metadata": {},
   "outputs": [
    {
     "name": "stdout",
     "output_type": "stream",
     "text": [
      "tblpregnancyhistory\n",
      "Index(['PregnancyID', 's_org_extID', 'TER', 'Alcohol', 'Smoking',\n",
      "       'Amniocentesis', 'Medication', 'Other', 'Diabetes', 'Ypertasi',\n",
      "       'UrineAlbumin', 'Bleeding', 'BloodType', 'Rhesus',\n",
      "       'HemoglobinopathiesBTH', 'HemoglobinopathiesBS',\n",
      "       'VaginalFluidCultivation', 'MycoplasmaUreaplasma', 'Chlamydia',\n",
      "       'HerpesHSV', 'HIV12', 'SyphilisVDLR', 'HepatitisBBHsAg', 'AIDSHIV',\n",
      "       'RedCells', 'Toxoplasma', 'CytomegalovirusCMV', 'Listeria', 'HCV',\n",
      "       'Created', 'CreatedBy', 'LastUpdated', 'LastUpdatedBy', 'IsActive'],\n",
      "      dtype='object')\n"
     ]
    }
   ],
   "source": [
    "df = pd.DataFrame(json_data[16]['data'])\n",
    "\n",
    "print(json_data[16]['name'])\n",
    "print(df.columns)\n",
    "df_filtered = df[df['IsActive'] == '1']"
   ]
  },
  {
   "cell_type": "code",
   "execution_count": 26,
   "id": "ee2a662a",
   "metadata": {},
   "outputs": [
    {
     "name": "stdout",
     "output_type": "stream",
     "text": [
      "tblpregnancyhistory_x\n",
      "Index(['Pregnancy_XID', 'PregnancyID', 'DateOfVisit', 'CauseOfVisit', 'Tokos',\n",
      "       'PregnancyAge', 'Height', 'WeightBegin', 'WeightCurrent',\n",
      "       'WeightChange', 'Presentation', 'FetalHeart', 'AmnioticSac',\n",
      "       'Contractions', 'CervicalDilation', 'CervicalEffacement',\n",
      "       'ArterialPressure', 'Temperature', 'SumphysialFundalHeightSFH',\n",
      "       'Comments', 'Created', 'CreatedBy', 'LastUpdated', 'LastUpdatedBy',\n",
      "       'IsActive'],\n",
      "      dtype='object')\n"
     ]
    }
   ],
   "source": [
    "df = pd.DataFrame(json_data[17]['data'])\n",
    "\n",
    "print(json_data[17]['name'])\n",
    "print(df.columns)\n",
    "df_filtered = df[df['IsActive'] == '1']"
   ]
  },
  {
   "cell_type": "code",
   "execution_count": null,
   "id": "d8b3e7d4",
   "metadata": {},
   "outputs": [],
   "source": []
  }
 ],
 "metadata": {
  "kernelspec": {
   "display_name": "fetusappenv (3.12.4)",
   "language": "python",
   "name": "python3"
  },
  "language_info": {
   "codemirror_mode": {
    "name": "ipython",
    "version": 3
   },
   "file_extension": ".py",
   "mimetype": "text/x-python",
   "name": "python",
   "nbconvert_exporter": "python",
   "pygments_lexer": "ipython3",
   "version": "3.12.4"
  }
 },
 "nbformat": 4,
 "nbformat_minor": 5
}
