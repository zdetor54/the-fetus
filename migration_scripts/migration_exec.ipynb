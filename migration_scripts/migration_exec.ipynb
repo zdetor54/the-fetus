{
 "cells": [
  {
   "cell_type": "code",
   "execution_count": 1,
   "metadata": {},
   "outputs": [],
   "source": [
    "import sqlite3\n",
    "import os"
   ]
  },
  {
   "cell_type": "code",
   "execution_count": 2,
   "metadata": {},
   "outputs": [],
   "source": [
    "current_dir = os.getcwd()\n",
    "parent_dir = os.path.dirname(current_dir)\n",
    "db_dir = os.path.join(parent_dir, 'fetusapp')\n",
    "db_filename = 'data.sqlite'\n",
    "\n",
    "db_path = os.path.join(db_dir, db_filename)"
   ]
  },
  {
   "cell_type": "code",
   "execution_count": 7,
   "metadata": {},
   "outputs": [],
   "source": [
    "def insert_records(db_path: str, table_name: str) -> None:\n",
    "\n",
    "    current_dir = os.getcwd()\n",
    "    parent_dir = os.path.dirname(current_dir)\n",
    "    assets_dir = os.path.join(parent_dir, '_assets')\n",
    "    sql_filename = f'{table_name}.sql'\n",
    "    sql_path = os.path.join(assets_dir, sql_filename)\n",
    "\n",
    "    # Establish a connection to the database\n",
    "    conn = sqlite3.connect(db_path)\n",
    "\n",
    "    # Create a cursor object using the cursor method\n",
    "    cursor = conn.cursor()\n",
    "    with open(sql_path, 'r') as f:\n",
    "        sql = f.read()  \n",
    "\n",
    "    # For example, to execute a query\n",
    "    cursor.execute(sql)\n",
    "    conn.commit()\n",
    "\n",
    "    # Don't forget to close the connection\n",
    "    conn.close()\n",
    "\n",
    "def fetch_records(table:str, db_path: str) -> None:\n",
    "    # Establish a connection to the database\n",
    "    conn = sqlite3.connect(db_path)\n",
    "    cursor = conn.cursor()\n",
    "\n",
    "    # For example, to execute a query\n",
    "    cursor.execute(f\"select * from {table} limit 5\")\n",
    "    rows = cursor.fetchall()\n",
    "\n",
    "    for row in rows:\n",
    "        print(row)\n",
    "\n",
    "    # Don't forget to close the connection\n",
    "    conn.close()"
   ]
  },
  {
   "cell_type": "code",
   "execution_count": 8,
   "metadata": {},
   "outputs": [
    {
     "name": "stdout",
     "output_type": "stream",
     "text": [
      "(1, 'admin', 'scrypt:32768:8:1$JwYLXDcqGMZI16Rq$cdd70e21f8f5b4446848e6388b291e8f8571c3b47e0e8861b1697686155d41f04655bfba12878c9342db8cd11f3952764aabb634583a4810c4ffb14c3e28d81c', 'Admin', 'User', 1, 1, '2024-05-26 14:29:58', '2024-05-26 14:29:58')\n",
      "(2, 'zac', 'scrypt:32768:8:1$fZJRqknYrg4uZBSH$c31d1411f75aeb4ae367638fc76842e2068211316a3d342bab7fd239c662a603c764d3cdad627b1709769ac4abbdd701c4015118f7f4e54b87885534c3ec0273', 'Zacharias', 'Detorakis', 1, 1, '2024-05-26 14:31:12', '2024-05-26 14:31:12')\n",
      "(3, 'stylianos77', 'scrypt:32768:8:1$iwVThRAQCQqJmK73$dbcbe68400f26bbb838a979d828327cf9d659ccadd0ada3fd64d72e68d54f74fd74c264574f45a29cad9fc19d9e64ee0c1fc1861968b638f6b3700a967a71ffd', 'Stylianos', 'Detorakis', 1, 0, '2024-05-26 14:31:41', '2024-05-26 14:31:41')\n",
      "(4, 'tfarshad', 'scrypt:32768:8:1$FOhpbU4omtd5ifFa$2f382dee6803db364a91b3bad9fd068b15da03eb162b2a067356513b96104d5ccb1e1822e1f4f375d7670daec47fab52051eff8e1d3b22e75296be7a8cb60c3d', 'Farshad', 'Tahmasebi', 1, 1, '2024-05-26 14:32:08', '2024-05-26 14:32:08')\n",
      "(5, 'porto', 'scrypt:32768:8:1$uGtEmf75ArkYIuWt$5f6b398689380cecf768bff0926bc8bbac75a82162cae06c3ace75cdef3c3751b0bcb649bb37e5a85dfd90d52961e6fa3fe86cd62b57b7b47df6c94e6988211a', 'Porto', 'Rafti', 1, 0, '2024-05-26 14:32:22', '2024-05-26 14:32:22')\n"
     ]
    }
   ],
   "source": [
    "fetch_records(table='users', db_path=db_path)"
   ]
  },
  {
   "cell_type": "code",
   "execution_count": null,
   "metadata": {},
   "outputs": [],
   "source": []
  }
 ],
 "metadata": {
  "kernelspec": {
   "display_name": "fetusappenv",
   "language": "python",
   "name": "python3"
  },
  "language_info": {
   "codemirror_mode": {
    "name": "ipython",
    "version": 3
   },
   "file_extension": ".py",
   "mimetype": "text/x-python",
   "name": "python",
   "nbconvert_exporter": "python",
   "pygments_lexer": "ipython3",
   "version": "3.12.4"
  }
 },
 "nbformat": 4,
 "nbformat_minor": 2
}
