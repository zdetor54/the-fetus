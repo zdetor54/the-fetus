{
 "cells": [
  {
   "cell_type": "code",
   "execution_count": 4,
   "metadata": {},
   "outputs": [],
   "source": [
    "from alembic import op\n",
    "import sqlalchemy as sa\n"
   ]
  },
  {
   "cell_type": "code",
   "execution_count": 5,
   "metadata": {},
   "outputs": [],
   "source": [
    "def upgrade():\n",
    "    with op.batch_alter_table('history_medical') as batch_op:\n",
    "        batch_op.alter_column('er_nominator',\n",
    "                            existing_type=sa.Integer(),\n",
    "                            type_=sa.String(64),\n",
    "                            existing_nullable=True)\n"
   ]
  },
  {
   "cell_type": "code",
   "execution_count": 6,
   "metadata": {},
   "outputs": [
    {
     "ename": "NameError",
     "evalue": "Can't invoke function 'batch_alter_table', as the proxy object has not yet been established for the Alembic 'Operations' class.  Try placing this code inside a callable.",
     "output_type": "error",
     "traceback": [
      "\u001b[1;31m---------------------------------------------------------------------------\u001b[0m",
      "\u001b[1;31mNameError\u001b[0m                                 Traceback (most recent call last)",
      "File \u001b[1;32m<string>:5\u001b[0m, in \u001b[0;36mbatch_alter_table\u001b[1;34m(*args, **kw)\u001b[0m\n",
      "\u001b[1;31mNameError\u001b[0m: name '_proxy' is not defined",
      "\nThe above exception was the direct cause of the following exception:\n",
      "\u001b[1;31mNameError\u001b[0m                                 Traceback (most recent call last)",
      "Cell \u001b[1;32mIn[6], line 1\u001b[0m\n\u001b[1;32m----> 1\u001b[0m \u001b[43mupgrade\u001b[49m\u001b[43m(\u001b[49m\u001b[43m)\u001b[49m\n",
      "Cell \u001b[1;32mIn[5], line 2\u001b[0m, in \u001b[0;36mupgrade\u001b[1;34m()\u001b[0m\n\u001b[0;32m      1\u001b[0m \u001b[38;5;28;01mdef\u001b[39;00m \u001b[38;5;21mupgrade\u001b[39m():\n\u001b[1;32m----> 2\u001b[0m     \u001b[38;5;28;01mwith\u001b[39;00m \u001b[43mop\u001b[49m\u001b[38;5;241;43m.\u001b[39;49m\u001b[43mbatch_alter_table\u001b[49m\u001b[43m(\u001b[49m\u001b[38;5;124;43m'\u001b[39;49m\u001b[38;5;124;43mhistory_medical\u001b[39;49m\u001b[38;5;124;43m'\u001b[39;49m\u001b[43m)\u001b[49m \u001b[38;5;28;01mas\u001b[39;00m batch_op:\n\u001b[0;32m      3\u001b[0m         batch_op\u001b[38;5;241m.\u001b[39malter_column(\u001b[38;5;124m'\u001b[39m\u001b[38;5;124mer_nominator\u001b[39m\u001b[38;5;124m'\u001b[39m,\n\u001b[0;32m      4\u001b[0m                             existing_type\u001b[38;5;241m=\u001b[39msa\u001b[38;5;241m.\u001b[39mInteger(),\n\u001b[0;32m      5\u001b[0m                             type_\u001b[38;5;241m=\u001b[39msa\u001b[38;5;241m.\u001b[39mString(\u001b[38;5;241m64\u001b[39m),\n\u001b[0;32m      6\u001b[0m                             existing_nullable\u001b[38;5;241m=\u001b[39m\u001b[38;5;28;01mTrue\u001b[39;00m)\n",
      "File \u001b[1;32m<string>:7\u001b[0m, in \u001b[0;36mbatch_alter_table\u001b[1;34m(*args, **kw)\u001b[0m\n",
      "File \u001b[1;32mc:\\Users\\Zacharias.Detorakis\\Desktop\\Personal\\PyCharmProjects\\the-fetus\\fetusappenv\\Lib\\site-packages\\alembic\\util\\langhelpers.py:136\u001b[0m, in \u001b[0;36mModuleClsProxy._create_method_proxy.<locals>._name_error\u001b[1;34m(name, from_)\u001b[0m\n\u001b[0;32m    135\u001b[0m \u001b[38;5;28;01mdef\u001b[39;00m \u001b[38;5;21m_name_error\u001b[39m(name: \u001b[38;5;28mstr\u001b[39m, from_: \u001b[38;5;167;01mException\u001b[39;00m) \u001b[38;5;241m-\u001b[39m\u001b[38;5;241m>\u001b[39m NoReturn:\n\u001b[1;32m--> 136\u001b[0m     \u001b[38;5;28;01mraise\u001b[39;00m \u001b[38;5;167;01mNameError\u001b[39;00m(\n\u001b[0;32m    137\u001b[0m         \u001b[38;5;124m\"\u001b[39m\u001b[38;5;124mCan\u001b[39m\u001b[38;5;124m'\u001b[39m\u001b[38;5;124mt invoke function \u001b[39m\u001b[38;5;124m'\u001b[39m\u001b[38;5;132;01m%s\u001b[39;00m\u001b[38;5;124m'\u001b[39m\u001b[38;5;124m, as the proxy object has \u001b[39m\u001b[38;5;124m\"\u001b[39m\n\u001b[0;32m    138\u001b[0m         \u001b[38;5;124m\"\u001b[39m\u001b[38;5;124mnot yet been \u001b[39m\u001b[38;5;124m\"\u001b[39m\n\u001b[0;32m    139\u001b[0m         \u001b[38;5;124m\"\u001b[39m\u001b[38;5;124mestablished for the Alembic \u001b[39m\u001b[38;5;124m'\u001b[39m\u001b[38;5;132;01m%s\u001b[39;00m\u001b[38;5;124m'\u001b[39m\u001b[38;5;124m class.  \u001b[39m\u001b[38;5;124m\"\u001b[39m\n\u001b[0;32m    140\u001b[0m         \u001b[38;5;124m\"\u001b[39m\u001b[38;5;124mTry placing this code inside a callable.\u001b[39m\u001b[38;5;124m\"\u001b[39m\n\u001b[0;32m    141\u001b[0m         \u001b[38;5;241m%\u001b[39m (name, \u001b[38;5;28mcls\u001b[39m\u001b[38;5;241m.\u001b[39m\u001b[38;5;18m__name__\u001b[39m)\n\u001b[0;32m    142\u001b[0m     ) \u001b[38;5;28;01mfrom\u001b[39;00m \u001b[38;5;21;01mfrom_\u001b[39;00m\n",
      "\u001b[1;31mNameError\u001b[0m: Can't invoke function 'batch_alter_table', as the proxy object has not yet been established for the Alembic 'Operations' class.  Try placing this code inside a callable."
     ]
    }
   ],
   "source": [
    "upgrade()"
   ]
  },
  {
   "cell_type": "code",
   "execution_count": 2,
   "metadata": {},
   "outputs": [
    {
     "ename": "SyntaxError",
     "evalue": "invalid syntax (2213111121.py, line 1)",
     "output_type": "error",
     "traceback": [
      "\u001b[1;36m  Cell \u001b[1;32mIn[2], line 1\u001b[1;36m\u001b[0m\n\u001b[1;33m    flask db upgrade\u001b[0m\n\u001b[1;37m          ^\u001b[0m\n\u001b[1;31mSyntaxError\u001b[0m\u001b[1;31m:\u001b[0m invalid syntax\n"
     ]
    }
   ],
   "source": [
    "flask db upgrade"
   ]
  },
  {
   "cell_type": "code",
   "execution_count": null,
   "metadata": {},
   "outputs": [],
   "source": []
  }
 ],
 "metadata": {
  "kernelspec": {
   "display_name": "fetusappenv",
   "language": "python",
   "name": "python3"
  },
  "language_info": {
   "codemirror_mode": {
    "name": "ipython",
    "version": 3
   },
   "file_extension": ".py",
   "mimetype": "text/x-python",
   "name": "python",
   "nbconvert_exporter": "python",
   "pygments_lexer": "ipython3",
   "version": "3.12.4"
  }
 },
 "nbformat": 4,
 "nbformat_minor": 2
}
