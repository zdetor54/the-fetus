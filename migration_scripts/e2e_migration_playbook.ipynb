{
 "cells": [
  {
   "cell_type": "code",
   "execution_count": 1,
   "metadata": {},
   "outputs": [],
   "source": [
    "import os\n",
    "import json\n",
    "import sqlite3\n",
    "\n",
    "from typing import List, Dict, Any, Tuple, Optional\n",
    "\n",
    "from formating import convert_json_to_insert_sql, convert_json_to_update_sql\n",
    "from crud import insert_records, delete_records, fetch_records, get_tables"
   ]
  },
  {
   "cell_type": "code",
   "execution_count": 2,
   "metadata": {},
   "outputs": [],
   "source": [
    "current_dir = os.getcwd()\n",
    "parent_dir = os.path.dirname(current_dir)\n",
    "assets_dir = os.path.join(parent_dir, '_assets')\n",
    "db_dir = os.path.join(parent_dir, 'fetusapp')\n",
    "db_filename = 'data.sqlite'\n",
    "data_filename = 'detoraki_fetusdata.json'\n",
    "mapping_filename = 'column_mapping.json'\n",
    "\n",
    "db_path = os.path.join(db_dir, db_filename)\n",
    "json_file = os.path.join(assets_dir, data_filename)\n",
    "mapping_file = os.path.join(current_dir, mapping_filename)"
   ]
  },
  {
   "cell_type": "markdown",
   "metadata": {},
   "source": [
    "Load the source data"
   ]
  },
  {
   "cell_type": "code",
   "execution_count": 3,
   "metadata": {},
   "outputs": [],
   "source": [
    "with open(json_file, 'r', encoding='utf-8') as f:\n",
    "        json_data = json.load(f)"
   ]
  },
  {
   "cell_type": "markdown",
   "metadata": {},
   "source": [
    "Load the column mapping from the JSON file"
   ]
  },
  {
   "cell_type": "code",
   "execution_count": 4,
   "metadata": {},
   "outputs": [],
   "source": [
    "with open(mapping_file, 'r', encoding='utf-8') as f:\n",
    "        column_mapping = json.load(f)"
   ]
  },
  {
   "cell_type": "markdown",
   "metadata": {},
   "source": [
    "### Setup admin in Users (INSERT)\n",
    "\n",
    "The script should already be there in _assets"
   ]
  },
  {
   "cell_type": "code",
   "execution_count": null,
   "metadata": {},
   "outputs": [],
   "source": [
    "target_tablename = 'users'\n",
    "insert_records(target_tablename, db_path)\n"
   ]
  },
  {
   "cell_type": "code",
   "execution_count": null,
   "metadata": {},
   "outputs": [],
   "source": [
    "fetch_records(target_tablename, db_path)"
   ]
  },
  {
   "cell_type": "code",
   "execution_count": null,
   "metadata": {},
   "outputs": [],
   "source": [
    "# delete_records(target_tablename, db_path)"
   ]
  },
  {
   "cell_type": "markdown",
   "metadata": {},
   "source": [
    "---------------------"
   ]
  },
  {
   "cell_type": "markdown",
   "metadata": {},
   "source": [
    "### Migrate Patients (INSERT)\n",
    "\n",
    "Includes manual step to treat patients missing last_name"
   ]
  },
  {
   "cell_type": "code",
   "execution_count": null,
   "metadata": {},
   "outputs": [],
   "source": [
    "source_tablename = 's_org_ext'\n",
    "target_tablename = 'patients'\n",
    "data_index = 3\n",
    "\n",
    "sql_output = convert_json_to_insert_sql(json_data[data_index]['data'], column_mapping[source_tablename], target_tablename = target_tablename)\n",
    "# print(sql_output)\n",
    "output_file = os.path.join(assets_dir, f'{target_tablename}.sql')\n",
    "with open(output_file, 'w', encoding='utf-8') as f:\n",
    "    f.write(sql_output)"
   ]
  },
  {
   "cell_type": "markdown",
   "metadata": {},
   "source": [
    "#### Data Cleansing:\n",
    "* Identify records with null last name and either \n",
    "    * convert the null to the string 'null' in the generated script or\n",
    "    * remove the record altogether if it doesn't have any useful payload"
   ]
  },
  {
   "cell_type": "code",
   "execution_count": null,
   "metadata": {},
   "outputs": [],
   "source": [
    "patient_data = json_data[data_index]['data']\n",
    "null_lastname_ids = [item['s_org_extID'] for item in patient_data if item['lastName'] == \"\"]\n",
    "print(null_lastname_ids)"
   ]
  },
  {
   "cell_type": "markdown",
   "metadata": {},
   "source": []
  },
  {
   "cell_type": "code",
   "execution_count": null,
   "metadata": {},
   "outputs": [],
   "source": [
    "delete_records(target_tablename, db_path)"
   ]
  },
  {
   "cell_type": "code",
   "execution_count": null,
   "metadata": {},
   "outputs": [],
   "source": [
    "insert_records(target_tablename, db_path)"
   ]
  },
  {
   "cell_type": "code",
   "execution_count": null,
   "metadata": {},
   "outputs": [],
   "source": [
    "fetch_records(target_tablename, db_path)"
   ]
  },
  {
   "cell_type": "markdown",
   "metadata": {},
   "source": [
    "---------------------"
   ]
  },
  {
   "cell_type": "markdown",
   "metadata": {},
   "source": [
    "### Migrate MedicalHistory (INSERT)"
   ]
  },
  {
   "cell_type": "code",
   "execution_count": null,
   "metadata": {},
   "outputs": [],
   "source": [
    "source_tablename = 'tblmedhistory'\n",
    "target_tablename = 'history_medical'\n",
    "data_index = 10\n",
    "\n",
    "sql_output = convert_json_to_insert_sql(json_data[data_index]['data'], column_mapping[source_tablename], target_tablename = target_tablename)\n",
    "# print(sql_output)\n",
    "output_file = os.path.join(assets_dir, f'{target_tablename}.sql')\n",
    "with open(output_file, 'w', encoding='utf-8') as f:\n",
    "    f.write(sql_output)"
   ]
  },
  {
   "cell_type": "code",
   "execution_count": null,
   "metadata": {},
   "outputs": [],
   "source": [
    "insert_records(target_tablename, db_path)"
   ]
  },
  {
   "cell_type": "code",
   "execution_count": null,
   "metadata": {},
   "outputs": [],
   "source": [
    "# delete_records(target_tablename, db_path)"
   ]
  },
  {
   "cell_type": "code",
   "execution_count": null,
   "metadata": {},
   "outputs": [],
   "source": [
    "fetch_records(target_tablename, db_path)"
   ]
  },
  {
   "cell_type": "markdown",
   "metadata": {},
   "source": [
    "------------------"
   ]
  },
  {
   "cell_type": "markdown",
   "metadata": {},
   "source": [
    "### Migrate Short Gynaecological History data (UPDATE)"
   ]
  },
  {
   "cell_type": "code",
   "execution_count": null,
   "metadata": {},
   "outputs": [],
   "source": [
    "source_tablename = 'tblgynhistoryshort'\n",
    "target_tablename = 'history_medical'\n",
    "data_index = 7\n",
    "\n",
    "sql_output = convert_json_to_update_sql(json_data[data_index]['data'], column_mapping[source_tablename], target_tablename = target_tablename, source_id = 'MedHistoryID', target_id = 'id')\n",
    "# print(sql_output)\n",
    "output_file = os.path.join(assets_dir, f'{target_tablename}.sql')\n",
    "with open(output_file, 'w', encoding='utf-8') as f:\n",
    "    f.write(sql_output)"
   ]
  },
  {
   "cell_type": "code",
   "execution_count": null,
   "metadata": {},
   "outputs": [],
   "source": [
    "insert_records(target_tablename, db_path)"
   ]
  },
  {
   "cell_type": "markdown",
   "metadata": {},
   "source": [
    "---------"
   ]
  },
  {
   "cell_type": "markdown",
   "metadata": {},
   "source": [
    "### Migrate Pathologies (UPDATE)"
   ]
  },
  {
   "cell_type": "code",
   "execution_count": null,
   "metadata": {},
   "outputs": [],
   "source": [
    "source_tablename = 'tblpathologies'\n",
    "target_tablename = 'history_medical'\n",
    "data_index = 13\n",
    "\n",
    "sql_output = convert_json_to_update_sql(json_data[data_index]['data'], column_mapping[source_tablename], target_tablename = target_tablename, source_id = 'MedHistoryID', target_id = 'id')\n",
    "# print(sql_output)\n",
    "output_file = os.path.join(assets_dir, f'{target_tablename}.sql')\n",
    "with open(output_file, 'w', encoding='utf-8') as f:\n",
    "    f.write(sql_output)"
   ]
  },
  {
   "cell_type": "code",
   "execution_count": null,
   "metadata": {},
   "outputs": [],
   "source": [
    "insert_records(target_tablename, db_path)"
   ]
  },
  {
   "cell_type": "code",
   "execution_count": null,
   "metadata": {},
   "outputs": [],
   "source": [
    "fetch_records(target_tablename, db_path)"
   ]
  },
  {
   "cell_type": "markdown",
   "metadata": {},
   "source": [
    "----------"
   ]
  },
  {
   "cell_type": "markdown",
   "metadata": {},
   "source": [
    "### Migrate ObstetricsHistory (INSERT)"
   ]
  },
  {
   "cell_type": "code",
   "execution_count": null,
   "metadata": {},
   "outputs": [],
   "source": [
    "source_tablename = 'tblobstetrichistory'\n",
    "target_tablename = 'history_obstetrics'\n",
    "data_index = 11 # this is the index in the json_data list where the relevant data is stored\n",
    "\n",
    "sql_output = convert_json_to_insert_sql(json_data[data_index]['data'], column_mapping[source_tablename], target_tablename = target_tablename)\n",
    "# print(sql_output)\n",
    "output_file = os.path.join(assets_dir, f'{target_tablename}.sql')\n",
    "with open(output_file, 'w', encoding='utf-8') as f:\n",
    "    f.write(sql_output)"
   ]
  },
  {
   "cell_type": "code",
   "execution_count": null,
   "metadata": {},
   "outputs": [],
   "source": [
    "delete_records(target_tablename, db_path)"
   ]
  },
  {
   "cell_type": "code",
   "execution_count": null,
   "metadata": {},
   "outputs": [],
   "source": [
    "insert_records(target_tablename, db_path)"
   ]
  },
  {
   "cell_type": "code",
   "execution_count": null,
   "metadata": {},
   "outputs": [],
   "source": [
    "fetch_records(target_tablename, db_path)"
   ]
  },
  {
   "cell_type": "markdown",
   "metadata": {},
   "source": [
    "### tblobstetrichistory_x NOT TO BE MIGRATED"
   ]
  },
  {
   "cell_type": "markdown",
   "metadata": {},
   "source": [
    "### Migrate Short Pregnancies History data (INSERT)"
   ]
  },
  {
   "cell_type": "code",
   "execution_count": null,
   "metadata": {},
   "outputs": [],
   "source": [
    "source_tablename = 'tblpregnancyhistory'\n",
    "target_tablename = 'pregnancy_history'\n",
    "data_index = 16 # this is the index in the json_data list where the relevant data is stored\n",
    "\n",
    "sql_output = convert_json_to_insert_sql(json_data[data_index]['data'], column_mapping[source_tablename], target_tablename = target_tablename)\n",
    "# print(sql_output)\n",
    "output_file = os.path.join(assets_dir, f'{target_tablename}.sql')\n",
    "with open(output_file, 'w', encoding='utf-8') as f:\n",
    "    f.write(sql_output)"
   ]
  },
  {
   "cell_type": "code",
   "execution_count": null,
   "metadata": {},
   "outputs": [],
   "source": [
    "delete_records(target_tablename, db_path)"
   ]
  },
  {
   "cell_type": "code",
   "execution_count": null,
   "metadata": {},
   "outputs": [],
   "source": [
    "insert_records(target_tablename, db_path)"
   ]
  },
  {
   "cell_type": "code",
   "execution_count": null,
   "metadata": {},
   "outputs": [],
   "source": [
    "fetch_records(target_tablename, db_path)"
   ]
  },
  {
   "cell_type": "markdown",
   "metadata": {},
   "source": [
    "### Migrate Short Pregnancies History X data (INSERT)"
   ]
  },
  {
   "cell_type": "code",
   "execution_count": null,
   "metadata": {},
   "outputs": [],
   "source": [
    "source_tablename = 'tblpregnancyhistory_x'\n",
    "target_tablename = 'pregnancy_history_x'\n",
    "data_index = 17 # this is the index in the json_data list where the relevant data is stored\n",
    "\n",
    "sql_output = convert_json_to_insert_sql(json_data[data_index]['data'], column_mapping[source_tablename], target_tablename = target_tablename)\n",
    "# print(sql_output)\n",
    "output_file = os.path.join(assets_dir, f'{target_tablename}.sql')\n",
    "with open(output_file, 'w', encoding='utf-8') as f:\n",
    "    f.write(sql_output)"
   ]
  },
  {
   "cell_type": "code",
   "execution_count": null,
   "metadata": {},
   "outputs": [],
   "source": [
    "insert_records(target_tablename, db_path)\n",
    "fetch_records(target_tablename, db_path)\n",
    "# delete_records(target_tablename, db_path)"
   ]
  },
  {
   "cell_type": "markdown",
   "metadata": {},
   "source": [
    "Delete records with null TER"
   ]
  },
  {
   "cell_type": "code",
   "execution_count": null,
   "metadata": {},
   "outputs": [],
   "source": [
    "import sqlite3\n",
    "\n",
    "conn = sqlite3.connect(db_path)\n",
    "cursor = conn.cursor()\n",
    "\n",
    "cursor.execute(\"\"\"\n",
    "DELETE FROM pregnancy_history_x\n",
    "WHERE pregnancy_id IN (SELECT id FROM pregnancy_history WHERE ter IS NULL)\n",
    "\"\"\")\n",
    "cursor.execute(\"\"\"\n",
    "DELETE FROM pregnancy_history\n",
    "WHERE ter IS NULL\n",
    "\"\"\")\n",
    "conn.commit()\n",
    "\n",
    "conn.close()"
   ]
  },
  {
   "cell_type": "markdown",
   "metadata": {},
   "source": [
    "### Migrate Gyn History X data (INSERT)\n",
    "\n",
    "DELETE 5,8 and 10 records"
   ]
  },
  {
   "cell_type": "code",
   "execution_count": 5,
   "metadata": {},
   "outputs": [],
   "source": [
    "source_tablename = 'tblgynhistory'\n",
    "target_tablename = 'gyn_history'\n",
    "data_index = 6 # this is the index in the json_data list where the relevant data is stored\n",
    "\n",
    "sql_output = convert_json_to_insert_sql(json_data[data_index]['data'], column_mapping[source_tablename], target_tablename = target_tablename)\n",
    "# print(sql_output)\n",
    "output_file = os.path.join(assets_dir, f'{target_tablename}.sql')\n",
    "with open(output_file, 'w', encoding='utf-8') as f:\n",
    "    f.write(sql_output)"
   ]
  },
  {
   "cell_type": "code",
   "execution_count": null,
   "metadata": {},
   "outputs": [
    {
     "name": "stdout",
     "output_type": "stream",
     "text": [
      "(1, 3, 1, 1, '2014-01-23 02:00:29', '2014-02-21 09:55:54', '2014-01-22', 'Πρώτο Ραντεβού', '2012-02-07', 'Όχι κάτι σοβαρό', 'Τι να λέμε', 36, 12, 5, 'καλή δείχνει', 'μακαρόνια με σάλτσα', 164, 50, 'καλά', 'καθαροί', 'επίπεδη', 'οκ', 'οκ', 'οκ', 'οκ', 'οκ', 'Ok', 1)\n",
      "(2, 3, 1, 1, '2014-01-23 02:02:47', '2014-01-23 02:03:32', '2014-01-01', 'ναι', '2012-03-08', None, None, None, None, None, None, None, None, None, None, None, None, None, None, None, None, None, None, 0)\n",
      "(3, 3, 1, 1, '2014-01-23 02:03:38', '2014-01-23 13:35:53', '2014-01-09', 'Να δω το παιδάκι μου', '2014-01-09', 'Mobile', 'Διακοπές το καλοκαίρι', 21, 10, 55, 'σε γνωρίζω από την...', 'και από αυτό δεν πάμε πίσω', 165, 50, None, None, None, None, None, None, None, None, None, 1)\n",
      "(4, 3, 1, 1, '2014-01-28 21:42:48', '2014-01-28 21:43:21', '2014-01-28', None, None, None, None, None, None, None, None, None, None, None, None, None, None, None, None, None, None, None, None, 0)\n",
      "(6, 64, 1, 1, '2014-02-17 15:41:08', '2014-03-18 18:04:55', '2014-02-17', 'Προληπτικός έλεγχος', '2014-01-23', None, 'Ιστορικό ινομυώματος ', None, None, None, None, None, None, None, 'Ιστορικό ινοκυστικής μαστοπάθειας', None, None, 'κφ', 'μήτρα σε ευθειωρία, χωρίς ευαισθησία στη μετακίνηση του τραχήλου', 'αψηλάφητα', None, 'Σε υπέρηχο μαστών που είχε κάνει στο παρελθόν και μαστογραφία ανευρέθησαν κύστεις στους μαστούς άμφω. Έγινε FNA: κυτταρολογική αρνητική για κακοήθεια.', '1) πήρα τεστ Παπ: αρνητικό για κακοήθεια. Εικόνα φλεγμονής από αιμόφιλο (ΛΗΤΩ). Επειδή ανήκει στη φυσιολογική χλωρίδα του κόλπου (Gardnerella vaginalis), δεν δίνω θεραπεία, εκτός και αν έχει συμπτώματα\\n\\n2) μαστογραφία (Μάρτιος 2014): χωρίς παθολογικά ευρήματα. Πέρυσι είχε κάνει υπέρηχο μαστών λόγω αυξημένης πυκνότητας και είχαν βρεθεί πολύ μικρές κύστεις. Φέτος πάλι μιλάει η μαστογραφία για πυκνούς μαστούς. Όμως της είπα να μην κάνει υπέρηχο. Του χρόνου όμως θα κάνουμε και μαστογραφία και υπερηχογράφημα μαστών. Η ίδια δεν ψηλαφά κάτι', 1)\n"
     ]
    }
   ],
   "source": [
    "insert_records(target_tablename, db_path)\n",
    "fetch_records(target_tablename, db_path)\n",
    "# delete_records(target_tablename, db_path)"
   ]
  },
  {
   "cell_type": "markdown",
   "metadata": {},
   "source": [
    "### ... to be continued"
   ]
  },
  {
   "cell_type": "code",
   "execution_count": null,
   "metadata": {},
   "outputs": [],
   "source": [
    "get_tables(db_path)"
   ]
  },
  {
   "cell_type": "markdown",
   "metadata": {},
   "source": [
    "--------------"
   ]
  },
  {
   "cell_type": "code",
   "execution_count": null,
   "metadata": {},
   "outputs": [],
   "source": []
  },
  {
   "cell_type": "code",
   "execution_count": null,
   "metadata": {},
   "outputs": [],
   "source": []
  },
  {
   "cell_type": "code",
   "execution_count": null,
   "metadata": {},
   "outputs": [],
   "source": []
  }
 ],
 "metadata": {
  "kernelspec": {
   "display_name": "fetusappenv (3.12.4)",
   "language": "python",
   "name": "python3"
  },
  "language_info": {
   "codemirror_mode": {
    "name": "ipython",
    "version": 3
   },
   "file_extension": ".py",
   "mimetype": "text/x-python",
   "name": "python",
   "nbconvert_exporter": "python",
   "pygments_lexer": "ipython3",
   "version": "3.12.4"
  }
 },
 "nbformat": 4,
 "nbformat_minor": 2
}
