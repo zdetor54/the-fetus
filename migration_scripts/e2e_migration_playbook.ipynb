{
 "cells": [
  {
   "cell_type": "code",
   "execution_count": 1,
   "metadata": {},
   "outputs": [],
   "source": [
    "import os\n",
    "import json\n",
    "\n",
    "from typing import List, Dict, Any, Tuple, Optional\n",
    "\n",
    "from formating import convert_json_to_insert_sql, convert_json_to_update_sql\n",
    "from crud import insert_records, delete_records, fetch_records, get_tables"
   ]
  },
  {
   "cell_type": "code",
   "execution_count": 2,
   "metadata": {},
   "outputs": [],
   "source": [
    "current_dir = os.getcwd()\n",
    "parent_dir = os.path.dirname(current_dir)\n",
    "assets_dir = os.path.join(parent_dir, '_assets')\n",
    "db_dir = os.path.join(parent_dir, 'fetusapp')\n",
    "db_filename = 'data.sqlite'\n",
    "data_filename = 'detoraki_fetusdata.json'\n",
    "mapping_filename = 'column_mapping.json'\n",
    "\n",
    "db_path = os.path.join(db_dir, db_filename)\n",
    "json_file = os.path.join(assets_dir, data_filename)\n",
    "mapping_file = os.path.join(current_dir, mapping_filename)"
   ]
  },
  {
   "cell_type": "markdown",
   "metadata": {},
   "source": [
    "Load the source data"
   ]
  },
  {
   "cell_type": "code",
   "execution_count": 3,
   "metadata": {},
   "outputs": [],
   "source": [
    "with open(json_file, 'r', encoding='utf-8') as f:\n",
    "        json_data = json.load(f)"
   ]
  },
  {
   "cell_type": "markdown",
   "metadata": {},
   "source": [
    "Load the column mapping from the JSON file"
   ]
  },
  {
   "cell_type": "code",
   "execution_count": 4,
   "metadata": {},
   "outputs": [],
   "source": [
    "with open(mapping_file, 'r', encoding='utf-8') as f:\n",
    "        column_mapping = json.load(f)"
   ]
  },
  {
   "cell_type": "markdown",
   "metadata": {},
   "source": [
    "### Setup admin in Users (INSERT)\n",
    "\n",
    "The script should already be there in _assets"
   ]
  },
  {
   "cell_type": "code",
   "execution_count": null,
   "metadata": {},
   "outputs": [],
   "source": [
    "target_tablename = 'users'\n",
    "insert_records(target_tablename, db_path)\n"
   ]
  },
  {
   "cell_type": "code",
   "execution_count": null,
   "metadata": {},
   "outputs": [],
   "source": [
    "fetch_records(target_tablename, db_path)"
   ]
  },
  {
   "cell_type": "code",
   "execution_count": null,
   "metadata": {},
   "outputs": [],
   "source": [
    "# delete_records(target_tablename, db_path)"
   ]
  },
  {
   "cell_type": "markdown",
   "metadata": {},
   "source": [
    "---------------------"
   ]
  },
  {
   "cell_type": "markdown",
   "metadata": {},
   "source": [
    "### Migrate Patients (INSERT)\n",
    "\n",
    "Includes manual step to treat patients missing last_name"
   ]
  },
  {
   "cell_type": "code",
   "execution_count": null,
   "metadata": {},
   "outputs": [],
   "source": [
    "source_tablename = 's_org_ext'\n",
    "target_tablename = 'patients'\n",
    "data_index = 3\n",
    "\n",
    "sql_output = convert_json_to_insert_sql(json_data[data_index]['data'], column_mapping[source_tablename], target_tablename = target_tablename)\n",
    "# print(sql_output)\n",
    "output_file = os.path.join(assets_dir, f'{target_tablename}.sql')\n",
    "with open(output_file, 'w', encoding='utf-8') as f:\n",
    "    f.write(sql_output)"
   ]
  },
  {
   "cell_type": "markdown",
   "metadata": {},
   "source": [
    "#### Data Cleansing:\n",
    "* Identify records with null last name and either \n",
    "    * convert the null to the string 'null' in the generated script or\n",
    "    * remove the record altogether if it doesn't have any useful payload"
   ]
  },
  {
   "cell_type": "code",
   "execution_count": null,
   "metadata": {},
   "outputs": [],
   "source": [
    "patient_data = json_data[data_index]['data']\n",
    "null_lastname_ids = [item['s_org_extID'] for item in patient_data if item['lastName'] == \"\"]\n",
    "print(null_lastname_ids)"
   ]
  },
  {
   "cell_type": "markdown",
   "metadata": {},
   "source": []
  },
  {
   "cell_type": "code",
   "execution_count": null,
   "metadata": {},
   "outputs": [],
   "source": [
    "delete_records(target_tablename, db_path)"
   ]
  },
  {
   "cell_type": "code",
   "execution_count": null,
   "metadata": {},
   "outputs": [],
   "source": [
    "insert_records(target_tablename, db_path)"
   ]
  },
  {
   "cell_type": "code",
   "execution_count": null,
   "metadata": {},
   "outputs": [],
   "source": [
    "fetch_records(target_tablename, db_path)"
   ]
  },
  {
   "cell_type": "markdown",
   "metadata": {},
   "source": [
    "---------------------"
   ]
  },
  {
   "cell_type": "markdown",
   "metadata": {},
   "source": [
    "### Migrate MedicalHistory (INSERT)"
   ]
  },
  {
   "cell_type": "code",
   "execution_count": null,
   "metadata": {},
   "outputs": [],
   "source": [
    "source_tablename = 'tblmedhistory'\n",
    "target_tablename = 'history_medical'\n",
    "data_index = 10\n",
    "\n",
    "sql_output = convert_json_to_insert_sql(json_data[data_index]['data'], column_mapping[source_tablename], target_tablename = target_tablename)\n",
    "# print(sql_output)\n",
    "output_file = os.path.join(assets_dir, f'{target_tablename}.sql')\n",
    "with open(output_file, 'w', encoding='utf-8') as f:\n",
    "    f.write(sql_output)"
   ]
  },
  {
   "cell_type": "code",
   "execution_count": null,
   "metadata": {},
   "outputs": [],
   "source": [
    "insert_records(target_tablename, db_path)"
   ]
  },
  {
   "cell_type": "code",
   "execution_count": null,
   "metadata": {},
   "outputs": [],
   "source": [
    "# delete_records(target_tablename, db_path)"
   ]
  },
  {
   "cell_type": "code",
   "execution_count": null,
   "metadata": {},
   "outputs": [],
   "source": [
    "fetch_records(target_tablename, db_path)"
   ]
  },
  {
   "cell_type": "markdown",
   "metadata": {},
   "source": [
    "------------------"
   ]
  },
  {
   "cell_type": "markdown",
   "metadata": {},
   "source": [
    "### Migrate Short Gynaecological History data (UPDATE)"
   ]
  },
  {
   "cell_type": "code",
   "execution_count": null,
   "metadata": {},
   "outputs": [],
   "source": [
    "source_tablename = 'tblgynhistoryshort'\n",
    "target_tablename = 'history_medical'\n",
    "data_index = 7\n",
    "\n",
    "sql_output = convert_json_to_update_sql(json_data[data_index]['data'], column_mapping[source_tablename], target_tablename = target_tablename, source_id = 'MedHistoryID', target_id = 'id')\n",
    "# print(sql_output)\n",
    "output_file = os.path.join(assets_dir, f'{target_tablename}.sql')\n",
    "with open(output_file, 'w', encoding='utf-8') as f:\n",
    "    f.write(sql_output)"
   ]
  },
  {
   "cell_type": "code",
   "execution_count": null,
   "metadata": {},
   "outputs": [],
   "source": [
    "insert_records(target_tablename, db_path)"
   ]
  },
  {
   "cell_type": "markdown",
   "metadata": {},
   "source": [
    "---------"
   ]
  },
  {
   "cell_type": "markdown",
   "metadata": {},
   "source": [
    "### Migrate Pathologies (UPDATE)"
   ]
  },
  {
   "cell_type": "code",
   "execution_count": null,
   "metadata": {},
   "outputs": [],
   "source": [
    "source_tablename = 'tblpathologies'\n",
    "target_tablename = 'history_medical'\n",
    "data_index = 13\n",
    "\n",
    "sql_output = convert_json_to_update_sql(json_data[data_index]['data'], column_mapping[source_tablename], target_tablename = target_tablename, source_id = 'MedHistoryID', target_id = 'id')\n",
    "# print(sql_output)\n",
    "output_file = os.path.join(assets_dir, f'{target_tablename}.sql')\n",
    "with open(output_file, 'w', encoding='utf-8') as f:\n",
    "    f.write(sql_output)"
   ]
  },
  {
   "cell_type": "code",
   "execution_count": null,
   "metadata": {},
   "outputs": [],
   "source": [
    "insert_records(target_tablename, db_path)"
   ]
  },
  {
   "cell_type": "code",
   "execution_count": null,
   "metadata": {},
   "outputs": [],
   "source": [
    "fetch_records(target_tablename, db_path)"
   ]
  },
  {
   "cell_type": "markdown",
   "metadata": {},
   "source": [
    "----------"
   ]
  },
  {
   "cell_type": "markdown",
   "metadata": {},
   "source": [
    "### Migrate ObstetricsHistory (INSERT)"
   ]
  },
  {
   "cell_type": "code",
   "execution_count": null,
   "metadata": {},
   "outputs": [],
   "source": [
    "source_tablename = 'tblobstetrichistory'\n",
    "target_tablename = 'history_obstetrics'\n",
    "data_index = 11 # this is the index in the json_data list where the relevant data is stored\n",
    "\n",
    "sql_output = convert_json_to_insert_sql(json_data[data_index]['data'], column_mapping[source_tablename], target_tablename = target_tablename)\n",
    "# print(sql_output)\n",
    "output_file = os.path.join(assets_dir, f'{target_tablename}.sql')\n",
    "with open(output_file, 'w', encoding='utf-8') as f:\n",
    "    f.write(sql_output)"
   ]
  },
  {
   "cell_type": "code",
   "execution_count": null,
   "metadata": {},
   "outputs": [],
   "source": [
    "delete_records(target_tablename, db_path)"
   ]
  },
  {
   "cell_type": "code",
   "execution_count": null,
   "metadata": {},
   "outputs": [],
   "source": [
    "insert_records(target_tablename, db_path)"
   ]
  },
  {
   "cell_type": "code",
   "execution_count": null,
   "metadata": {},
   "outputs": [],
   "source": [
    "fetch_records(target_tablename, db_path)"
   ]
  },
  {
   "cell_type": "markdown",
   "metadata": {},
   "source": [
    "## tblobstetrichistory_x NOT TO BE MIGRATED"
   ]
  },
  {
   "cell_type": "markdown",
   "metadata": {},
   "source": [
    "### Migrate Short Pregnancies History data (INSERT)"
   ]
  },
  {
   "cell_type": "code",
   "execution_count": null,
   "metadata": {},
   "outputs": [],
   "source": [
    "source_tablename = 'tblpregnancyhistory'\n",
    "target_tablename = 'pregnancy_history'\n",
    "data_index = 16 # this is the index in the json_data list where the relevant data is stored\n",
    "\n",
    "sql_output = convert_json_to_insert_sql(json_data[data_index]['data'], column_mapping[source_tablename], target_tablename = target_tablename)\n",
    "# print(sql_output)\n",
    "output_file = os.path.join(assets_dir, f'{target_tablename}.sql')\n",
    "with open(output_file, 'w', encoding='utf-8') as f:\n",
    "    f.write(sql_output)"
   ]
  },
  {
   "cell_type": "code",
   "execution_count": null,
   "metadata": {},
   "outputs": [],
   "source": [
    "insert_records(target_tablename, db_path)"
   ]
  },
  {
   "cell_type": "code",
   "execution_count": null,
   "metadata": {},
   "outputs": [],
   "source": [
    "fetch_records(target_tablename, db_path)"
   ]
  },
  {
   "cell_type": "markdown",
   "metadata": {},
   "source": [
    "### Migrate Short Pregnancies History X data (INSERT)"
   ]
  },
  {
   "cell_type": "code",
   "execution_count": 5,
   "metadata": {},
   "outputs": [],
   "source": [
    "source_tablename = 'tblpregnancyhistory_x'\n",
    "target_tablename = 'pregnancy_history_x'\n",
    "data_index = 17 # this is the index in the json_data list where the relevant data is stored\n",
    "\n",
    "sql_output = convert_json_to_insert_sql(json_data[data_index]['data'], column_mapping[source_tablename], target_tablename = target_tablename)\n",
    "# print(sql_output)\n",
    "output_file = os.path.join(assets_dir, f'{target_tablename}.sql')\n",
    "with open(output_file, 'w', encoding='utf-8') as f:\n",
    "    f.write(sql_output)"
   ]
  },
  {
   "cell_type": "code",
   "execution_count": 7,
   "metadata": {},
   "outputs": [
    {
     "name": "stdout",
     "output_type": "stream",
     "text": [
      "Executing statement: INSERT INTO pregnancy_history_x (id, pregnancy_id, date_of_visit, cause_of_visit, tokos, pregnancy_age, height, weight_b...\n",
      "Successfully executed 1 statements\n",
      "(1, 1, 1, 1, '2013-11-27 00:00:00', '2013-11-27 00:00:00', '2013-11-01', 'Πρώτο Ραντεβού', 1, 'μεγάλη', 1, 2, 3, 4, 'καλή και η προβολή', 'μια χαρά', 'κάνενα πρόβλημα', 'όχι ακόμη', 'δεν καταλαβαίνει', 'τώρα πάλι', 'δεν ξέρω', 36, 12, None, 1)\n",
      "(2, 4, 1, 1, '2013-11-27 00:00:00', '2014-01-20 02:07:47', '2013-11-01', 'Πρώτο Ραντεβού', 1, 'μεγάλη', 1, 2, 3, 1, 'καλή και η προβολή', 'μια χαρά', 'κάνενα πρόβλημα', 'όχι ακόμη', 'δεν καταλαβαίνει', 'τώρα πάλι', 'δεν ξέρω. Να το κάνω text να το αφήσω ως έχει;', 36, 12, None, 1)\n",
      "(3, 1, 1, 1, '2013-11-27 00:00:00', '2013-12-02 21:21:26', '1997-01-01', 'Δεύτερο Ραντεβού', 1, 'μεγάλη', 1, 2, 3, 1, 'καλή και η προβολή', 'μια χαρά', 'κάνενα πρόβλημα', 'όχι ακόμη', 'δεν καταλαβαίνει', 'τώρα πάλι', 'δεν ξέρω', 36, 12, None, 1)\n",
      "(4, 1, 1, 1, '2013-11-27 00:00:00', '2013-11-27 00:00:00', '2013-11-27', 'Τρίτο Ραντεβού', 1, 'μεγάλη', 1, 2, 3, 4, 'καλή και η προβολή', 'μια χαρά', 'κάνενα πρόβλημα', 'όχι ακόμη', 'δεν καταλαβαίνει', 'τώρα πάλι', 'δεν ξέρω', 36, 12, None, 1)\n",
      "(5, 5, 1, 1, '2013-12-02 00:48:58', '2022-12-19 21:51:15', '2013-11-28', '-', 2, '14+6(wbd)', 1, 4, 10, 6, '-', '-', '-', '-', '-', '-', '-', 6, 1, 'ffgdf', 1)\n"
     ]
    }
   ],
   "source": [
    "insert_records(target_tablename, db_path)\n",
    "fetch_records(target_tablename, db_path)\n",
    "# delete_records(target_tablename, db_path)"
   ]
  },
  {
   "cell_type": "code",
   "execution_count": null,
   "metadata": {},
   "outputs": [],
   "source": []
  },
  {
   "cell_type": "markdown",
   "metadata": {},
   "source": [
    "... to be continued"
   ]
  },
  {
   "cell_type": "code",
   "execution_count": null,
   "metadata": {},
   "outputs": [],
   "source": [
    "get_tables(db_path)"
   ]
  },
  {
   "cell_type": "markdown",
   "metadata": {},
   "source": [
    "--------------"
   ]
  },
  {
   "cell_type": "code",
   "execution_count": null,
   "metadata": {},
   "outputs": [],
   "source": []
  },
  {
   "cell_type": "code",
   "execution_count": null,
   "metadata": {},
   "outputs": [],
   "source": []
  },
  {
   "cell_type": "code",
   "execution_count": null,
   "metadata": {},
   "outputs": [],
   "source": []
  }
 ],
 "metadata": {
  "kernelspec": {
   "display_name": "fetusappenv (3.12.4)",
   "language": "python",
   "name": "python3"
  },
  "language_info": {
   "codemirror_mode": {
    "name": "ipython",
    "version": 3
   },
   "file_extension": ".py",
   "mimetype": "text/x-python",
   "name": "python",
   "nbconvert_exporter": "python",
   "pygments_lexer": "ipython3",
   "version": "3.12.4"
  }
 },
 "nbformat": 4,
 "nbformat_minor": 2
}
