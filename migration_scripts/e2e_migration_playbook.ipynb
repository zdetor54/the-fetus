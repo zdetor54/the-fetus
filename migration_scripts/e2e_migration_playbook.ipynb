{
 "cells": [
  {
   "cell_type": "code",
   "execution_count": 1,
   "metadata": {},
   "outputs": [],
   "source": [
    "import os\n",
    "import json\n",
    "import sqlite3\n",
    "import pandas as pd\n",
    "from typing import List, Dict, Any, Tuple, Optional\n",
    "\n",
    "from formating import convert_json_to_insert_sql, convert_json_to_update_sql\n",
    "from crud import insert_records, delete_records, fetch_records, get_tables"
   ]
  },
  {
   "cell_type": "code",
   "execution_count": 2,
   "metadata": {},
   "outputs": [],
   "source": [
    "current_dir = os.getcwd()\n",
    "parent_dir = os.path.dirname(current_dir)\n",
    "assets_dir = os.path.join(parent_dir, '_assets')\n",
    "db_dir = os.path.join(parent_dir, 'fetusapp')\n",
    "db_filename = 'data.sqlite'\n",
    "data_filename = 'detoraki_fetusdata.json'\n",
    "mapping_filename = 'column_mapping.json'\n",
    "\n",
    "db_path = os.path.join(db_dir, db_filename)\n",
    "json_file = os.path.join(assets_dir, data_filename)\n",
    "mapping_file = os.path.join(current_dir, mapping_filename)"
   ]
  },
  {
   "cell_type": "markdown",
   "metadata": {},
   "source": [
    "Load the source data"
   ]
  },
  {
   "cell_type": "code",
   "execution_count": null,
   "metadata": {},
   "outputs": [],
   "source": [
    "with open(json_file, 'r', encoding='utf-8') as f:\n",
    "        json_data = json.load(f)"
   ]
  },
  {
   "cell_type": "markdown",
   "metadata": {},
   "source": [
    "Load the column mapping from the JSON file"
   ]
  },
  {
   "cell_type": "code",
   "execution_count": null,
   "metadata": {},
   "outputs": [],
   "source": [
    "with open(mapping_file, 'r', encoding='utf-8') as f:\n",
    "        column_mapping = json.load(f)"
   ]
  },
  {
   "cell_type": "markdown",
   "metadata": {},
   "source": [
    "### Setup admin in Users (INSERT)\n",
    "\n",
    "The script should already be there in _assets"
   ]
  },
  {
   "cell_type": "code",
   "execution_count": null,
   "metadata": {},
   "outputs": [],
   "source": [
    "target_tablename = 'users'\n",
    "insert_records(target_tablename, db_path)\n"
   ]
  },
  {
   "cell_type": "code",
   "execution_count": null,
   "metadata": {},
   "outputs": [],
   "source": [
    "fetch_records(target_tablename, db_path)"
   ]
  },
  {
   "cell_type": "code",
   "execution_count": null,
   "metadata": {},
   "outputs": [],
   "source": [
    "# delete_records(target_tablename, db_path)"
   ]
  },
  {
   "cell_type": "markdown",
   "metadata": {},
   "source": [
    "---------------------"
   ]
  },
  {
   "cell_type": "markdown",
   "metadata": {},
   "source": [
    "### Migrate Patients (INSERT)\n",
    "\n",
    "Includes manual step to treat patients missing last_name"
   ]
  },
  {
   "cell_type": "code",
   "execution_count": null,
   "metadata": {},
   "outputs": [],
   "source": [
    "source_tablename = 's_org_ext'\n",
    "target_tablename = 'patients'\n",
    "data_index = 3\n",
    "\n",
    "sql_output = convert_json_to_insert_sql(json_data[data_index]['data'], column_mapping[source_tablename], target_tablename = target_tablename)\n",
    "# print(sql_output)\n",
    "output_file = os.path.join(assets_dir, f'{target_tablename}.sql')\n",
    "with open(output_file, 'w', encoding='utf-8') as f:\n",
    "    f.write(sql_output)"
   ]
  },
  {
   "cell_type": "markdown",
   "metadata": {},
   "source": [
    "#### Data Cleansing:\n",
    "* Identify records with null last name and either \n",
    "    * convert the null to the string 'null' in the generated script or\n",
    "    * remove the record altogether if it doesn't have any useful payload"
   ]
  },
  {
   "cell_type": "code",
   "execution_count": null,
   "metadata": {},
   "outputs": [],
   "source": [
    "patient_data = json_data[data_index]['data']\n",
    "null_lastname_ids = [item['s_org_extID'] for item in patient_data if item['lastName'] == \"\"]\n",
    "print(null_lastname_ids)"
   ]
  },
  {
   "cell_type": "markdown",
   "metadata": {},
   "source": []
  },
  {
   "cell_type": "code",
   "execution_count": null,
   "metadata": {},
   "outputs": [],
   "source": [
    "delete_records(target_tablename, db_path)"
   ]
  },
  {
   "cell_type": "code",
   "execution_count": null,
   "metadata": {},
   "outputs": [],
   "source": [
    "insert_records(target_tablename, db_path)"
   ]
  },
  {
   "cell_type": "code",
   "execution_count": null,
   "metadata": {},
   "outputs": [],
   "source": [
    "fetch_records(target_tablename, db_path)"
   ]
  },
  {
   "cell_type": "markdown",
   "metadata": {},
   "source": [
    "---------------------"
   ]
  },
  {
   "cell_type": "markdown",
   "metadata": {},
   "source": [
    "### Migrate MedicalHistory (INSERT)"
   ]
  },
  {
   "cell_type": "code",
   "execution_count": null,
   "metadata": {},
   "outputs": [],
   "source": [
    "source_tablename = 'tblmedhistory'\n",
    "target_tablename = 'history_medical'\n",
    "data_index = 10\n",
    "\n",
    "sql_output = convert_json_to_insert_sql(json_data[data_index]['data'], column_mapping[source_tablename], target_tablename = target_tablename)\n",
    "# print(sql_output)\n",
    "output_file = os.path.join(assets_dir, f'{target_tablename}.sql')\n",
    "with open(output_file, 'w', encoding='utf-8') as f:\n",
    "    f.write(sql_output)"
   ]
  },
  {
   "cell_type": "code",
   "execution_count": null,
   "metadata": {},
   "outputs": [],
   "source": [
    "insert_records(target_tablename, db_path)"
   ]
  },
  {
   "cell_type": "code",
   "execution_count": null,
   "metadata": {},
   "outputs": [],
   "source": [
    "# delete_records(target_tablename, db_path)"
   ]
  },
  {
   "cell_type": "code",
   "execution_count": null,
   "metadata": {},
   "outputs": [],
   "source": [
    "fetch_records(target_tablename, db_path)"
   ]
  },
  {
   "cell_type": "markdown",
   "metadata": {},
   "source": [
    "------------------"
   ]
  },
  {
   "cell_type": "markdown",
   "metadata": {},
   "source": [
    "### Migrate Short Gynaecological History data (UPDATE)"
   ]
  },
  {
   "cell_type": "code",
   "execution_count": null,
   "metadata": {},
   "outputs": [],
   "source": [
    "source_tablename = 'tblgynhistoryshort'\n",
    "target_tablename = 'history_medical'\n",
    "data_index = 7\n",
    "\n",
    "sql_output = convert_json_to_update_sql(json_data[data_index]['data'], column_mapping[source_tablename], target_tablename = target_tablename, source_id = 'MedHistoryID', target_id = 'id')\n",
    "# print(sql_output)\n",
    "output_file = os.path.join(assets_dir, f'{target_tablename}.sql')\n",
    "with open(output_file, 'w', encoding='utf-8') as f:\n",
    "    f.write(sql_output)"
   ]
  },
  {
   "cell_type": "code",
   "execution_count": null,
   "metadata": {},
   "outputs": [],
   "source": [
    "insert_records(target_tablename, db_path)"
   ]
  },
  {
   "cell_type": "markdown",
   "metadata": {},
   "source": [
    "---------"
   ]
  },
  {
   "cell_type": "markdown",
   "metadata": {},
   "source": [
    "### Migrate Pathologies (UPDATE)"
   ]
  },
  {
   "cell_type": "code",
   "execution_count": null,
   "metadata": {},
   "outputs": [],
   "source": [
    "source_tablename = 'tblpathologies'\n",
    "target_tablename = 'history_medical'\n",
    "data_index = 13\n",
    "\n",
    "sql_output = convert_json_to_update_sql(json_data[data_index]['data'], column_mapping[source_tablename], target_tablename = target_tablename, source_id = 'MedHistoryID', target_id = 'id')\n",
    "# print(sql_output)\n",
    "output_file = os.path.join(assets_dir, f'{target_tablename}.sql')\n",
    "with open(output_file, 'w', encoding='utf-8') as f:\n",
    "    f.write(sql_output)"
   ]
  },
  {
   "cell_type": "code",
   "execution_count": null,
   "metadata": {},
   "outputs": [],
   "source": [
    "insert_records(target_tablename, db_path)"
   ]
  },
  {
   "cell_type": "code",
   "execution_count": null,
   "metadata": {},
   "outputs": [],
   "source": [
    "fetch_records(target_tablename, db_path)"
   ]
  },
  {
   "cell_type": "markdown",
   "metadata": {},
   "source": [
    "----------"
   ]
  },
  {
   "cell_type": "markdown",
   "metadata": {},
   "source": [
    "### Migrate ObstetricsHistory (INSERT)"
   ]
  },
  {
   "cell_type": "code",
   "execution_count": null,
   "metadata": {},
   "outputs": [],
   "source": [
    "source_tablename = 'tblobstetrichistory'\n",
    "target_tablename = 'history_obstetrics'\n",
    "data_index = 11 # this is the index in the json_data list where the relevant data is stored\n",
    "\n",
    "sql_output = convert_json_to_insert_sql(json_data[data_index]['data'], column_mapping[source_tablename], target_tablename = target_tablename)\n",
    "# print(sql_output)\n",
    "output_file = os.path.join(assets_dir, f'{target_tablename}.sql')\n",
    "with open(output_file, 'w', encoding='utf-8') as f:\n",
    "    f.write(sql_output)"
   ]
  },
  {
   "cell_type": "code",
   "execution_count": null,
   "metadata": {},
   "outputs": [],
   "source": [
    "delete_records(target_tablename, db_path)"
   ]
  },
  {
   "cell_type": "code",
   "execution_count": null,
   "metadata": {},
   "outputs": [],
   "source": [
    "insert_records(target_tablename, db_path)"
   ]
  },
  {
   "cell_type": "code",
   "execution_count": null,
   "metadata": {},
   "outputs": [],
   "source": [
    "fetch_records(target_tablename, db_path)"
   ]
  },
  {
   "cell_type": "markdown",
   "metadata": {},
   "source": [
    "### tblobstetrichistory_x NOT TO BE MIGRATED"
   ]
  },
  {
   "cell_type": "markdown",
   "metadata": {},
   "source": [
    "### Migrate Short Pregnancies History data (INSERT)"
   ]
  },
  {
   "cell_type": "code",
   "execution_count": null,
   "metadata": {},
   "outputs": [],
   "source": [
    "source_tablename = 'tblpregnancyhistory'\n",
    "target_tablename = 'pregnancy_history'\n",
    "data_index = 16 # this is the index in the json_data list where the relevant data is stored\n",
    "\n",
    "sql_output = convert_json_to_insert_sql(json_data[data_index]['data'], column_mapping[source_tablename], target_tablename = target_tablename)\n",
    "# print(sql_output)\n",
    "output_file = os.path.join(assets_dir, f'{target_tablename}.sql')\n",
    "with open(output_file, 'w', encoding='utf-8') as f:\n",
    "    f.write(sql_output)"
   ]
  },
  {
   "cell_type": "code",
   "execution_count": null,
   "metadata": {},
   "outputs": [],
   "source": [
    "delete_records(target_tablename, db_path)"
   ]
  },
  {
   "cell_type": "code",
   "execution_count": null,
   "metadata": {},
   "outputs": [],
   "source": [
    "insert_records(target_tablename, db_path)"
   ]
  },
  {
   "cell_type": "code",
   "execution_count": null,
   "metadata": {},
   "outputs": [],
   "source": [
    "fetch_records(target_tablename, db_path)"
   ]
  },
  {
   "cell_type": "markdown",
   "metadata": {},
   "source": [
    "### Migrate Short Pregnancies History X data (INSERT)"
   ]
  },
  {
   "cell_type": "code",
   "execution_count": null,
   "metadata": {},
   "outputs": [],
   "source": [
    "source_tablename = 'tblpregnancyhistory_x'\n",
    "target_tablename = 'pregnancy_history_x'\n",
    "data_index = 17 # this is the index in the json_data list where the relevant data is stored\n",
    "\n",
    "sql_output = convert_json_to_insert_sql(json_data[data_index]['data'], column_mapping[source_tablename], target_tablename = target_tablename)\n",
    "# print(sql_output)\n",
    "output_file = os.path.join(assets_dir, f'{target_tablename}.sql')\n",
    "with open(output_file, 'w', encoding='utf-8') as f:\n",
    "    f.write(sql_output)"
   ]
  },
  {
   "cell_type": "code",
   "execution_count": null,
   "metadata": {},
   "outputs": [],
   "source": [
    "insert_records(target_tablename, db_path)\n",
    "fetch_records(target_tablename, db_path)\n",
    "# delete_records(target_tablename, db_path)"
   ]
  },
  {
   "cell_type": "markdown",
   "metadata": {},
   "source": [
    "Delete records with null TER"
   ]
  },
  {
   "cell_type": "code",
   "execution_count": null,
   "metadata": {},
   "outputs": [],
   "source": [
    "\n",
    "\n",
    "conn = sqlite3.connect(db_path)\n",
    "cursor = conn.cursor()\n",
    "\n",
    "cursor.execute(\"\"\"\n",
    "DELETE FROM pregnancy_history_x\n",
    "WHERE pregnancy_id IN (SELECT id FROM pregnancy_history WHERE ter IS NULL)\n",
    "\"\"\")\n",
    "cursor.execute(\"\"\"\n",
    "DELETE FROM pregnancy_history\n",
    "WHERE ter IS NULL\n",
    "\"\"\")\n",
    "conn.commit()\n",
    "\n",
    "conn.close()"
   ]
  },
  {
   "cell_type": "markdown",
   "metadata": {},
   "source": [
    "### Migrate Gyn History X data (INSERT)\n",
    "\n",
    "DELETE 5,8 and 10 records"
   ]
  },
  {
   "cell_type": "code",
   "execution_count": null,
   "metadata": {},
   "outputs": [],
   "source": [
    "source_tablename = 'tblgynhistory'\n",
    "target_tablename = 'gyn_history'\n",
    "data_index = 6 # this is the index in the json_data list where the relevant data is stored\n",
    "\n",
    "sql_output = convert_json_to_insert_sql(json_data[data_index]['data'], column_mapping[source_tablename], target_tablename = target_tablename)\n",
    "# print(sql_output)\n",
    "output_file = os.path.join(assets_dir, f'{target_tablename}.sql')\n",
    "with open(output_file, 'w', encoding='utf-8') as f:\n",
    "    f.write(sql_output)"
   ]
  },
  {
   "cell_type": "code",
   "execution_count": null,
   "metadata": {},
   "outputs": [],
   "source": [
    "delete_records(target_tablename, db_path)\n",
    "insert_records(target_tablename, db_path)\n",
    "fetch_records(target_tablename, db_path)"
   ]
  },
  {
   "cell_type": "code",
   "execution_count": null,
   "metadata": {},
   "outputs": [],
   "source": [
    "conn = sqlite3.connect(db_path)\n",
    "cursor = conn.cursor()\n",
    "cursor.execute(\"\"\"\n",
    "    UPDATE gyn_history\n",
    "    SET comments = TRIM(REPLACE(REPLACE(comments, '\\n\\n', '\\n'), '\\r\\n\\r\\n', '\\n'))\n",
    "    WHERE comments IS NOT NULL\n",
    "\"\"\")\n",
    "conn.commit()\n",
    "conn.close()"
   ]
  },
  {
   "cell_type": "markdown",
   "metadata": {},
   "source": [
    "## Update next_suggested_appointment date"
   ]
  },
  {
   "cell_type": "code",
   "execution_count": 3,
   "metadata": {},
   "outputs": [],
   "source": [
    "from fetusapp.chatai.note_to_app_service import analyze_doctor_note\n",
    "from loguru import logger"
   ]
  },
  {
   "cell_type": "code",
   "execution_count": 34,
   "metadata": {},
   "outputs": [
    {
     "name": "stderr",
     "output_type": "stream",
     "text": [
      "\u001b[32m2025-10-20 10:46:23.364\u001b[0m | \u001b[1mINFO    \u001b[0m | \u001b[36m__main__\u001b[0m:\u001b[36m<module>\u001b[0m:\u001b[36m22\u001b[0m - \u001b[1mTotal visits to analyze: 397\u001b[0m\n"
     ]
    }
   ],
   "source": [
    "conn = sqlite3.connect(db_path)\n",
    "cursor = conn.cursor()\n",
    "\n",
    "cursor.execute(\"\"\"\n",
    "               SELECT patient_id\n",
    "                    , date_of_visit\n",
    "                    , next_suggested_appointment\n",
    "                    , comments\n",
    "               FROM gyn_history g\n",
    "               JOIN patients p ON g.patient_id = p.id\n",
    "               WHERE date_of_visit >= date('2024-06-13', '-1 year')\n",
    "               AND g.is_active = 1\n",
    "               AND p.is_active = 1\n",
    "               AND g.created_by = 1\n",
    "               GROUP BY patient_id\n",
    "               ORDER BY 2 DESC;\n",
    "               \"\"\")\n",
    "visits = cursor.fetchall()\n",
    "columns = [desc[0] for desc in cursor.description]\n",
    "\n",
    "visits_df = pd.DataFrame(visits, columns=columns)\n",
    "logger.info(f\"Total visits to analyze: {len(visits_df)}\")"
   ]
  },
  {
   "cell_type": "code",
   "execution_count": 35,
   "metadata": {},
   "outputs": [
    {
     "data": {
      "application/vnd.microsoft.datawrangler.viewer.v0+json": {
       "columns": [
        {
         "name": "index",
         "rawType": "int64",
         "type": "integer"
        },
        {
         "name": "patient_id",
         "rawType": "int64",
         "type": "integer"
        },
        {
         "name": "date_of_visit",
         "rawType": "object",
         "type": "string"
        },
        {
         "name": "next_suggested_appointment",
         "rawType": "object",
         "type": "unknown"
        },
        {
         "name": "comments",
         "rawType": "object",
         "type": "string"
        }
       ],
       "ref": "861291f8-624a-47ea-8bb9-7a03d86c9572",
       "rows": [
        [
         "0",
         "1349",
         "2024-05-28",
         "2024-09-28",
         "-της πήρα τεστ Παπ και το πήγα στον Λαΐνη:\n-υπέρηχος εγο:\n-4 μήνες μετά τη διακοπή του θηλασμού, θα κάνουμε υπέρηχο μαστών\n-αν θέλει σπιράλ, θα της πω 200 ευρώ στο ΙΑΣΩ λόγω ΠΚΤ\n-μου πλήρωσε 100 ευρώ"
        ],
        [
         "1",
         "608",
         "2024-05-09",
         null,
         "-της πήρα τεστ Παπ και το πήγα στον Λαΐνη: \n-υπέρηχος εγο: ΠΚΚ,\n-της έγραψα να κάνει μαστογραφία και υπέρηχο μαστών και θα μου τα προσκομίσει:\n-μου πλήρωσε 80 ευρώ για όλα μαζί"
        ],
        [
         "2",
         "671",
         "2024-04-24",
         null,
         "-της πήρα τεστ Παπ και το πήγα στον Λαΐνη: \n-υπέρηχος εγο: ενδομήτριο. Εξαρτήματα δεν έχει\n-θα κάνει μαστογραφία και υπέρηχο μαστών και θα μου τα προσκομίσει: \n-μου πλήρωσε 70 ευρώ για όλα μαζί"
        ],
        [
         "3",
         "255",
         "2024-04-24",
         null,
         "-της πήρα τεστ Παπ και το πήγα στον Λαΐνη:\n-υπέρηχος εγο: ΠΚΚ, βλέπε προηγούμενο ιστορικό για ινομύωμα\n-της έγραψα να κάνει μαστογραφία και υπέρηχο μαστών και θα μου τα προσκομίσει: βλέπε προηγούμενο ιστορικό για ινοαδένωμα\n-μου πλήρωσε 80 ευρώ για όλα μαζί"
        ],
        [
         "4",
         "880",
         "2024-04-23",
         null,
         "-της πήρα τεστ Παπ και το πήγα στον Λαΐνη:\n-αν θέλει, θα της κάνω κολποσκόπηση:\n-υπέρηχος εγο:\n-να κάνει υπέρηχο μαστών:\n-μου πλήρωσε 80 ευρώ. Αν κάνουμε και κολποσκόπηση, θα της πάρουμε 150 ευρώ"
        ],
        [
         "5",
         "752",
         "2024-04-23",
         null,
         "-της πήρα τεστ Παπ και το πήγα στον Λαΐνη:\n-υπέρηχος εγο:\n-να κάνει μαστογραφία αναφοράς και υπέρηχο μαστών:\n-μου πλήρωσε 100 ευρώ"
        ],
        [
         "6",
         "663",
         "2024-04-23",
         null,
         "-της πήρα τεστ Παπ και το πήγα στον Λαΐνη: \n-υπέρηχος εγο: ΠΚΚ, \n-check αν παίρνει ακόμη OCPs (βλέπε προηγούμενο ιστορικό)\n-να κάνει υπέρηχο μαστών:\n-μου πλήρωσε 80 ευρώ"
        ],
        [
         "7",
         "416",
         "2024-04-23",
         null,
         "-της πήρα τεστ Παπ και το πήγα στον Λαΐνη:\n-υπέρηχος εγο: εικόνα ολικής υστερεκτομής\n-να κάνει μαστογραφία και υπέρηχο μαστών:\n-μου πλήρωσε 80 ευρώ\n-να της πω ότι δεν έχω πληρωθεί ακόμη από την ασφάλειά της για το χειρουργείο μας"
        ],
        [
         "8",
         "972",
         "2024-04-15",
         null,
         "-της πήρα τεστ Παπ και το πήγα στον Λαΐνη: \n-υπέρηχος εγο: ΠΚΚ, χωρίς παθολογικά ευρήματα\n-της έγραψα να κάνει μαστογραφία αναφοράς και υπέρηχο μαστών και θα μου τα προσκομίσει:\n-μου πλήρωσε 100 ευρώ"
        ],
        [
         "9",
         "565",
         "2024-04-15",
         null,
         "-αν έχει ξεκινήσει επαφές, της παίρνω τεστ Παπ:\n-υπέρηχος εγο: ΠΚΚ, χωρίς παθολογικά ευρήματα\n-δεν παίρνουμε επίσκεψη"
        ],
        [
         "10",
         "536",
         "2024-04-15",
         null,
         "-της πήρα τεστ Παπ και το πήγα στον Λαΐνη: \n-υπέρηχος εγο: ΠΚΚ, χωρίς παθολογικά ευρήματα\n-προσπαθούν για τρίτο παιδί. Να ρωτήσω πώς πάμε\n-της έγραψα να κάνει υπέρηχο μαστών και θα μου τον προσκομίσει: της είπα για πιθανή επανάληψη υπερήχου με ψηφιακή τομοσύνθεση, αν δω κάτι ύποπτο\n-μου πλήρωσε 100 ευρώ για όλα μαζί"
        ],
        [
         "11",
         "306",
         "2024-04-15",
         null,
         "-της πήρα τεστ Παπ και το πήγα στον Λαΐνη: αν κφ, δεν χρειάζεται να κάνουμε άλλο\n-υπέρηχος εγο: ΠΚΚ, ενδομήτριο 1,15 χιλιοστά\n-της έγραψα να κάνει μαστογραφία και θα μου την προσκομίσει: κφ, Μάρτιος 2024\n-μου πλήρωσε 80 ευρώ για όλα μαζί"
        ],
        [
         "12",
         "1458",
         "2024-04-11",
         "2025-04-11",
         "-τεστ Παπ είχε προ μηνός: κφ\n-υπέρηχος εγο: ΠΚΚ, πρόσθιο ενδοτοιχωματικό ινομύωμα 3,2 εκαστοστά και υποβλεννογόνιο 1,6 εκατοστά\n-να κάνει μαστογραφία και υπέρηχο μαστών: μαστογραφία κφ. Υπέρηχο θα κάνει του χρόνου\n-μου πλήρωσε 70 ευρώ"
        ],
        [
         "13",
         "1457",
         "2024-04-09",
         null,
         "-της έκανα τοποθέτηση IUD χαλκού\n-τεχνικά άψογα\n-υπέρηχος εγο μετά: IUD στη θέση του\n-μου πλήρωσε συνολικά 200 ευρώ"
        ],
        [
         "14",
         "1456",
         "2024-04-09",
         "2025-04-09",
         "-της πήρα τεστ Παπ και το πήγα στον Λαΐνη: αρνητικό για κακοήθεια. Επανάληψη σε ένα έτος\n-υπέρηχος εγο: ΠΚΚ, χωρίς παθολογικά ευρήματα\n-μου πλήρωσε 100 ευρώ\n-πρώτη επίσκεψη σε γυναικολόγο σήμερα"
        ],
        [
         "15",
         "1455",
         "2024-04-09",
         "2027-04-09",
         "-της πήρα τεστ Παπ και το πήγα στον Λαΐνη: αν κφ, της είπα το επόμενο σε 3 έτη. Έβγαλε ASCUS, μάλλον λόγω ατροφίας\n-υπέρηχος εγο: ΠΚΚ, χωρίς παθολογικά ευρήματα\n-να κάνει μαστογραφία και υπέρηχο μαστών: θα τα κάνει τον Οκτώβριο\n-μου πλήρωσε 80 ευρώ"
        ],
        [
         "16",
         "1454",
         "2024-04-09",
         null,
         "-της πήρα τεστ Παπ και το πήγα στον Λαΐνη: αρνητικό για κακοήθεια. Δεν χρειάζεται να το ξανακάνουμε\n-υπέρηχος εγο: ΠΚΚ, χωρίς παθολογικά ευρήματα, μικρή ενδομητρική συλλογή\n-έλεγχο μαστών έχει κάνει: κφ\n-δεν παίρνουμε επίσκεψη"
        ],
        [
         "17",
         "1121",
         "2024-04-09",
         "2025-04-09",
         "-της πήρα τεστ Παπ και το πήγα στον Λαΐνη: αρνητικό για κακοήθεια. Επανάληψη σε ένα έτος\n-υπέρηχος εγο: ΟΚΚ, χωρίς παθολογικά ευρήματα\n-να κάνει υπέρηχο μαστών:\n-μου πλήρωσε 100 ευρώ"
        ],
        [
         "18",
         "1067",
         "2024-04-09",
         "2025-04-09",
         "-της πήρα τεστ Παπ και το πήγα στον Λαΐνη: αρνητικό για κακοήθεια. Επανάληψη σε ένα έτος\n-υπέρηχος εγο: σε ευθειωρία, χωρίς παθολογικά ευρήματα\n-να κάνει μαστογραφία και υπέρηχο μαστών:\n-μου πλήρωσε 100 ευρώ"
        ],
        [
         "19",
         "256",
         "2024-04-09",
         "2025-04-09",
         "-της πήρα τεστ Παπ και το πήγα στον Λαΐνη: αρνητικό για κακοήθεια. Επανάληψη σε ένα έτος\n-υπέρηχος εγο: ΠΚΚ, check IUD (το είχαμε βάλει Ιούνιο 2020). Όλα κφ\n-της έγραψα να κάνει μαστογραφία και υπέρηχο μαστών και θα μου τα προσκομίσει: υπέρηχος (Απρίλιος 2024): δύο απλές κύστεις του μισού εκατοστού. Εκκρεμεί μαστογραφία\n-μου πλήρωσε 80 ευρώ"
        ],
        [
         "20",
         "1453",
         "2024-04-04",
         "2025-04-04",
         "-της πήρα τεστ Παπ και το πήγα στον Λαΐνη: αρνητικό για κακοήθεια. Επανάληψη σε ένα έτος\n-υπέρηχος εγο: ΠΚΚ, χωρίς παθολογικά ευρήματα\n-να κάνει μαστογραφία αναφοράς και υπέρηχο μαστών:\n-μου πλήρωσε 80 ευρώ"
        ],
        [
         "21",
         "1452",
         "2024-04-04",
         null,
         "-έχει πρόσφατο τεστ Παπ\n-υπέρηχος εγο: ΠΚΚ, παρουσία ενδομητρικού πολύποδα\n-της είπα για υστεροσκοπική αφαίρεση\n-έχει ιδιωτική ασφάλεια και θα πληρωθώ από εκεί. Μάλλον στο ΜΗΤΕΡΑ\n-να κάνει υπέρηχο μαστών:\n-μου πλήρωσε 50 ευρώ"
        ],
        [
         "22",
         "1451",
         "2024-04-04",
         "2025-04-04",
         "-της πήρα τεστ Παπ και το πήγα στον Λαΐνη: αρνητικό για κακοήθεια. Επανάληψη σε ένα έτος\n-υπέρηχος εγο: ΟΚΚ, παχύ ενδομήτριο\n-της είπα για ΔΑ στο ΙΑΣΩ και τους είπα ήδη 500 ευρώ συνολικά. Μετρητά και θα τα κανονίσω εγώ\n-μου πλήρωσε 50 ευρώ μόνο για το τεστ Παπ"
        ],
        [
         "23",
         "592",
         "2024-04-04",
         "2025-04-04",
         "-της πήρα τεστ Παπ και το πήγα στον Λαΐνη: αρνητικό για κακοήθεια. Επανάληψη σε ένα έτος\n-υπέρηχος εγο: ΠΚΚ, χωρίς παθολογικά ευρήματα\n-να κάνει μαστογραφία και υπέρηχο μαστών:\n-ΟΠΩΣΔΗΠΟΤΕ να κάνει τα BRCA1 KAI 2 γιατί από την πλευρά της μαμάς της έχει ιστορικό Ca μαστού σε πολλές γυναίκες \n-μου πλήρωσε 100 ευρώ για όλα μαζί"
        ],
        [
         "24",
         "385",
         "2024-04-04",
         "2025-04-04",
         "-της πήρα τεστ Παπ και το πήγα στον Λαΐνη: αρνητικό για κακοήθεια. Επανάληψη σε ένα έτος\n-της πήρα και ΚΚΥ: μύκητες και της έδωσα αγωγή\n-υπέρηχος εγο: ΠΚΚ, χωρίς παθολογικά ευρήματα\n-της είπα να κάνει υπέρηχο μαστών και θα μου τον προσκομίσει: κφ προ εξαμήνου\n-μου πλήρωσε 150 ευρώ"
        ],
        [
         "25",
         "289",
         "2024-04-04",
         "2025-04-04",
         "-της πήρα τεστ Παπ και το πήγα στον Λαΐνη: αρνητικό για κακοήθεια. Επανάληψη σε ένα έτος\n-υπέρηχος εγο: ΠΚΚ, μικροί ινομυωματώδεις πυρήνες\n-της έγραψα να κάνει υπέρηχο μαστών και θα μου τον προσκομίσει: άψογος (Απρίλιος 2024)\n-μου πλήρωσε 80 ευρώ"
        ],
        [
         "26",
         "1450",
         "2024-04-03",
         null,
         "-ευρήματα στη μαστογραφία\n-της είπα να κάνει συμπληρωματικά υπέρηχο, γιατί μπορεί να είναι λόγω της πυκνής σύστασης των μαστών\n-δεν κάναμε check up\n-μου πλήρωσε 20 ευρώ"
        ],
        [
         "27",
         "1449",
         "2024-04-03",
         null,
         "-ασταθής κύκλος με υπερμηνόρροια\n-υπέρηχος εγο: ΠΚΚ, χωρίς παθολογικά ευρήματα\n-γυναικείες ορμονολογικές εξετάσεις: κφ\n-της είπα για υστεροσκόπηση και πιθανή τοποθέτηση Mirena\n-της είπα ότι δεν θα πληρωθώ εγώ για την υστεροσκόπηση. Αν μου δώσουν κάτι φυσικά, θα το πάρω\n-δεν πήρα επίσκεψη σήμερα"
        ],
        [
         "28",
         "1448",
         "2024-04-03",
         "2025-04-03",
         "-της πήρα τεστ Παπ και το πήγα στον Λαΐνη: αρνητικό για κακοήθεια. Επανάληψη σε ένα έτος\n-υπέρηχος εγο: ΟΚΚ, χωρίς παθολογικά ευρήματα\n-εμμηνόπαυση σε ηλικία 49 ετών\n-να κάνει μαστογραφία και υπέρηχο μαστών: έχει πρόσφατα κφ, όπως αναφέρει\n-μου πλήρωσε 80 ευρώ"
        ],
        [
         "29",
         "753",
         "2024-04-03",
         "2025-04-03",
         "-της πήρα τεστ Παπ και το πήγα στον Λαΐνη: αρνητικό για κακοήθεια. Επανάληψη σε ένα έτος\n-υπέρηχος εγο: ΟΚΚ, χωρίς παθολογικά ευρήματα\n-να κάνει μαστογραφία και υπέρηχο μαστών: στον ΔΕ μαστό που είχαμε χειρουργήσει, έχει μία ύποπτη βλάβη με ακτινωτή παρυφή, που φαίνεται και στις δύο εξετάσεις. Της έστειλα να κάνει μαγνητική μαστογραφία και αν είναι θα την παραπέμψω στον Ξεπαπαδάκη ή στην Καρυδά\n-μου πλήρωσε 80 ευρώ"
        ],
        [
         "30",
         "544",
         "2024-04-03",
         "2024-08-03",
         "-της πήρα τεστ Παπ και το πήγα στον Λαΐνη: ίχνη HPV. Της έδωσα θεραπεία και της είπα επανάληψη σε 4 μήνες ΚΑΙ κολποσκόπηση\n-αν χρειαστεί loop, θα της πω με 1300 ευρώ στο ΙΑΣΩ\n-υπέρηχος εγο: σε ευθειωρία, χωρίς παθολογικά ευρήματα\n-να κάνει υπέρηχο μαστών και μαστογραφία:\n-μου πλήρωσε 80 ευρώ"
        ],
        [
         "31",
         "1447",
         "2024-03-28",
         "2025-03-28",
         "-της πήρα τεστ Παπ και το πήγα στον Λαΐνη: αρνητικό για κακοήθεια. Επανάληψη σε ένα έτος\n-υπέρηχος εγο: ΠΚΚ, χωρίς παθολογικά ευρήματα\n-να κάνει υπέρηχο μαστών:\n-μου πλήρωσε 80 ευρώ"
        ],
        [
         "32",
         "807",
         "2024-03-28",
         "2025-03-28",
         "-της πήρα τεστ Παπ και το πήγα στον Λαΐνη: αρνητικό για κακοήθεια. Επανάληψη σε ένα έτος\n-υπέρηχος εγο: ΠΚΚ, δεν έχει εξαρτήματα, ενδομήτριο 1,85 χιλιοστά\n-της έγραψα να κάνει μαστογραφία και υπέρηχο μαστών και θα μου τα προσκομίσει: κφ\n-μου πλήρωσε 80 ευρώ\n-εμμηνόπαυση σε ηλικία 47 ετών"
        ],
        [
         "33",
         "806",
         "2024-03-28",
         "2027-03-28",
         "-της πήρα τεστ Παπ και το πήγα στον Λαΐνη: αν κφ, της είπα το επόμενο σε 3 έτη. Αρνητικό για κακοήθεια.\n-υπέρηχος εγο: ΠΚΚ, ενδομήτριο 1,67χιλιοστά\n-ΠΡΟΣΟΧΗ: ιστορικό Ca μαστού από μαμά και αδερφή μαμάς της\n-της έγραψα να κάνει μαστογραφία και υπέρηχο μαστών και θα μου τα προσκομίσει: άψογες και οι δύο εξετάσεις\n-μου πλήρωσε 100 ευρώ για όλα μαζί\n-εμμηνόπαυση σε ηλικία 45 ετών"
        ],
        [
         "34",
         "664",
         "2024-03-28",
         "2025-03-28",
         "-της πήρα τεστ Παπ και το πήγα στον Λαΐνη: αρνητικό για κακοήθεια. Επανάληψη σε ένα έτος\n-υπέρηχος εγο: ΠΚΚ, χωρίς παθολογικά ευρήματα\n-της έγραψα να κάνει υπέρηχο μαστών και μαστογραφία και θα μου τα προσκομίσει: κφ \n-μου πλήρωσε 80 ευρώ"
        ],
        [
         "35",
         "390",
         "2024-03-28",
         null,
         "-δεν την είδα σήμερα. Απλώς γράφω ότι έχει έναν ενδομητρικό πολύποδα και της είπα για υστεροσκοπική αφαίρεση στην Ελλάδα\n-θα της πω 1200 ευρώ δικά μου και αναισθησιολόγου απογευματινό ODS\n-την ίδια ημέρα θα πω στον Μπρεδάκη ή Μίλτο ή Λυμπερόπουλο να της κάνουν έναν υπέρηχο, γιατί της βρήκαν ένα ινοαδένωμα 2 εκατοστά στον ΔΕ μαστό"
        ],
        [
         "36",
         "348",
         "2024-03-28",
         "2025-03-28",
         "-της πήρα τεστ Παπ και το πήγα στον Λαΐνη: αρνητικό για κακοήθεια. Επανάληψη σε ένα έτος\n-υπέρηχος εγο: ΠΚΚ, χωρίς παθολογικά ευρήματα\n-της έγραψα να κάνει υπέρηχο μαστών και θα μου τον προσκομίσει: \n-μου πλήρωσε 80 ευρώ"
        ],
        [
         "37",
         "1446",
         "2024-03-26",
         "2025-03-26",
         "-της πήρα τεστ Παπ και το πήγα στον Λαΐνη: αρνητικό για κακοήθεια. Επανάληψη σε ένα έτος. \n-υπέρηχος εγο: ΠΚΚ, χωρίς παθολογικά ευρήματα\n-για μαστούς την παρακολουθεί η Καρυδά\n-μου πλήρωσε 50 ευρώ μόνο για το τεστ Παπ"
        ],
        [
         "38",
         "1445",
         "2024-03-21",
         "2024-09-21",
         "-τεστ Παπ θα κάνουμε τον Σεπτέμβριο 2024\n-υπέρηχος εγο: ΠΚΚ, χωρίς παθολογικά ευρήματα. ΑΨΟΓΕΣ ωοθήκες\n-να κάνει μαστογραφία και υπέρηχο μαστών:\n-μου πλήρωσε 80 ευρώ"
        ],
        [
         "39",
         "1444",
         "2024-03-21",
         "2025-03-21",
         "-της πήρα τεστ Παπ και το πήγα στον Λαΐνη: αρνητικό για κακοήθεια. Επανάληψη σε ένα έτος\n-υπέρηχος εγο: ΠΚΚ, χωρίς παθολογικά ευρήματα\n-να κάνει υπέρηχο μαστών:\n-μου πλήρωσε 80 ευρώ"
        ],
        [
         "40",
         "1272",
         "2024-03-21",
         null,
         "-της πήρα τεστ Παπ και το πήγα στον Λαΐνη:\n-υπέρηχος εγο:\n-αν δεν θηλάζει, να κάνει υπέρηχο μαστών\n-μου πλήρωσε 100 ευρώ"
        ],
        [
         "41",
         "1248",
         "2024-03-21",
         "2025-03-21",
         "-της πήρα τεστ Παπ και το πήγα στον Λαΐνη: αρνητικό για κακοήθεια. Επανάληψη σε ένα έτος\n-υπέρηχος εγο: ΟΚΚ, χωρίς παθολογικά ευρήματα\n-της έγραψα να κάνει υπέρηχο μαστών και θα μου τον προσκομίσει:\n-μου πλήρωσε 80 ευρώ"
        ],
        [
         "42",
         "1094",
         "2024-03-21",
         "2025-03-21",
         "-της πήρα τεστ Παπ και το πήγα στον Λαΐνη: αρνητικό για κακοήθεια. Επανάληψη σε ένα έτος\n-υπέρηχος εγο: ΠΚΚ, χωρίς παθολογικά ευρήματα\n-να κάνει υπέρηχο μαστών:\n-μου πλήρωσε 80 ευρώ"
        ],
        [
         "43",
         "1062",
         "2024-03-21",
         "2025-03-21",
         "-της πήρα τεστ Παπ και το πήγα στον Λαΐνη: αρνητικό για κακοήθεια. Επανάληψη σε ένα έτος\n-υπέρηχος εγο: ΠΚΚ, χωρίς παθολογικά ευρήματα\n-να κάνει μαστογραφία αναφοράς και υπέρηχο μαστών:\n-μου πλήρωσε 100 ευρώ"
        ],
        [
         "44",
         "1443",
         "2024-03-20",
         null,
         "-υπέρηχος εγο: ΟΚΚ, χωρίς παθολογικά ευρήματα\n-τεστ Παπ (Ιανουάριος 2024): αρνητικό για κακοήθεια\n-μαστογραφία και υπέρηχος μαστών: κφ\n-μου πλήρωσε 70 ευρώ"
        ],
        [
         "45",
         "1230",
         "2024-03-20",
         "2024-07-20",
         "-της πήρα τεστ Παπ και το πήγα στον Λαΐνη: ίχνη HPV. Της έδωσα θεραπεία με papillocare gel και της είπα επανάληψη σε 4 μήνες και κολποσκόπηση. Αν χρειαστεί loop, θα της πω με 1500 ευρώ στο ΙΑΣΩ, γιατί είναι ΧΩΡΙΣ ΕΟΠΥΥ!!!!\n-ενδεχομένως να της τα κάνω και τα δύο μαζί στο ODS, αλλά θα της πω σε αυτήν την περίπτωση 2000 ευρώ: 1400 το loop και 600 η υστεροσκόπηση και θα πω στην ¨Αρτεμη να μην της χρεώσει το loop\n-υπέρηχος εγο: ΠΚΚ, οι ενδομητρικοί πολύποδες είναι εκεί (2)\n-θα κάνουμε υστεροσκόπηση μετά το Πάσχα στο ΙΑΣΩ. Της είπα 600 ευρώ δική μου αμοιβή και θα τη βάλω απογευματινό τιμολόγιο, γιατί είναι ΧΩΡΙΣ ΕΟΠΥΥ!!!!\n-να κάνει μαστογραφία και υπέρηχο μαστών:\n-μου πλήρωσε 70 ευρώ"
        ],
        [
         "46",
         "1442",
         "2024-03-19",
         "2025-03-19",
         "-της πήρα ΚΚΥ και τις πήγα στον Λαΐνη: φυσιολογική χλωρίδα\n-υπέρηχο εγο και τεστ Παπ έχει πρόσφατα και θα κάνουμε σε ένα έτος\n-μου πλήρωσε 80 ευρώ"
        ],
        [
         "47",
         "1441",
         "2024-03-19",
         "2024-09-19",
         "-της πήρα thin prep και το πήγα στον Λαΐνη: HPV\n-κολποσκόπηση: εγώ είδα LGSIL στη 12η ώρα του τραχήλου. Της είπα ήδη για loop\n-αν χρειαστεί loop, της έχω ήδη πει 1300 ευρώ στο ΙΑΣΩ. ΠΡΟΣΟΧΗ: HGSIL σε τεστ Παπ τον Μάρτιο 2024\n-μου πλήρωσε 180 ευρώ"
        ],
        [
         "48",
         "879",
         "2024-03-19",
         null,
         "-της πήρα τεστ Παπ και το πήγα στον Λαΐνη: SUPER SOS βλέπε προηγούμενο ιστορικό!!!!\n-υπέρηχος εγο: ΟΚΚ, \n-να κάνει υπέρηχο μαστών:\n-μου πλήρωσε 80 ευρώ για όλα μαζί"
        ],
        [
         "49",
         "877",
         "2024-03-19",
         "2024-07-19",
         "-της πήρα τεστ Παπ και το πήγα στον Λαΐνη: ίχνη ΗPV. Της έδωσα θεραπεία με papillocare και της είπα επανάληψη σε 4 μήνες και κολποσκόπηση. Αν χρειαστεί loop τότε, θα της πω με 1500 ευρώ στο ΙΑΣΩ\n-υπέρηχος εγο: ΠΚΚ, χωρίς παθολογικά ευρήματα\n-της έγραψα να κάνει μαστογραφία και υπέρηχο μαστών και θα μου τα προσκομίσει: \n-μου πλήρωσε 80 ευρώ για όλα μαζί"
        ]
       ],
       "shape": {
        "columns": 4,
        "rows": 50
       }
      },
      "text/html": [
       "<div>\n",
       "<style scoped>\n",
       "    .dataframe tbody tr th:only-of-type {\n",
       "        vertical-align: middle;\n",
       "    }\n",
       "\n",
       "    .dataframe tbody tr th {\n",
       "        vertical-align: top;\n",
       "    }\n",
       "\n",
       "    .dataframe thead th {\n",
       "        text-align: right;\n",
       "    }\n",
       "</style>\n",
       "<table border=\"1\" class=\"dataframe\">\n",
       "  <thead>\n",
       "    <tr style=\"text-align: right;\">\n",
       "      <th></th>\n",
       "      <th>patient_id</th>\n",
       "      <th>date_of_visit</th>\n",
       "      <th>next_suggested_appointment</th>\n",
       "      <th>comments</th>\n",
       "    </tr>\n",
       "  </thead>\n",
       "  <tbody>\n",
       "    <tr>\n",
       "      <th>0</th>\n",
       "      <td>1349</td>\n",
       "      <td>2024-05-28</td>\n",
       "      <td>2024-09-28</td>\n",
       "      <td>-της πήρα τεστ Παπ και το πήγα στον Λαΐνη:\\n-υ...</td>\n",
       "    </tr>\n",
       "    <tr>\n",
       "      <th>1</th>\n",
       "      <td>608</td>\n",
       "      <td>2024-05-09</td>\n",
       "      <td>None</td>\n",
       "      <td>-της πήρα τεστ Παπ και το πήγα στον Λαΐνη: \\n-...</td>\n",
       "    </tr>\n",
       "    <tr>\n",
       "      <th>2</th>\n",
       "      <td>671</td>\n",
       "      <td>2024-04-24</td>\n",
       "      <td>None</td>\n",
       "      <td>-της πήρα τεστ Παπ και το πήγα στον Λαΐνη: \\n-...</td>\n",
       "    </tr>\n",
       "    <tr>\n",
       "      <th>3</th>\n",
       "      <td>255</td>\n",
       "      <td>2024-04-24</td>\n",
       "      <td>None</td>\n",
       "      <td>-της πήρα τεστ Παπ και το πήγα στον Λαΐνη:\\n-υ...</td>\n",
       "    </tr>\n",
       "    <tr>\n",
       "      <th>4</th>\n",
       "      <td>880</td>\n",
       "      <td>2024-04-23</td>\n",
       "      <td>None</td>\n",
       "      <td>-της πήρα τεστ Παπ και το πήγα στον Λαΐνη:\\n-α...</td>\n",
       "    </tr>\n",
       "    <tr>\n",
       "      <th>5</th>\n",
       "      <td>752</td>\n",
       "      <td>2024-04-23</td>\n",
       "      <td>None</td>\n",
       "      <td>-της πήρα τεστ Παπ και το πήγα στον Λαΐνη:\\n-υ...</td>\n",
       "    </tr>\n",
       "    <tr>\n",
       "      <th>6</th>\n",
       "      <td>663</td>\n",
       "      <td>2024-04-23</td>\n",
       "      <td>None</td>\n",
       "      <td>-της πήρα τεστ Παπ και το πήγα στον Λαΐνη: \\n-...</td>\n",
       "    </tr>\n",
       "    <tr>\n",
       "      <th>7</th>\n",
       "      <td>416</td>\n",
       "      <td>2024-04-23</td>\n",
       "      <td>None</td>\n",
       "      <td>-της πήρα τεστ Παπ και το πήγα στον Λαΐνη:\\n-υ...</td>\n",
       "    </tr>\n",
       "    <tr>\n",
       "      <th>8</th>\n",
       "      <td>972</td>\n",
       "      <td>2024-04-15</td>\n",
       "      <td>None</td>\n",
       "      <td>-της πήρα τεστ Παπ και το πήγα στον Λαΐνη: \\n-...</td>\n",
       "    </tr>\n",
       "    <tr>\n",
       "      <th>9</th>\n",
       "      <td>565</td>\n",
       "      <td>2024-04-15</td>\n",
       "      <td>None</td>\n",
       "      <td>-αν έχει ξεκινήσει επαφές, της παίρνω τεστ Παπ...</td>\n",
       "    </tr>\n",
       "    <tr>\n",
       "      <th>10</th>\n",
       "      <td>536</td>\n",
       "      <td>2024-04-15</td>\n",
       "      <td>None</td>\n",
       "      <td>-της πήρα τεστ Παπ και το πήγα στον Λαΐνη: \\n-...</td>\n",
       "    </tr>\n",
       "    <tr>\n",
       "      <th>11</th>\n",
       "      <td>306</td>\n",
       "      <td>2024-04-15</td>\n",
       "      <td>None</td>\n",
       "      <td>-της πήρα τεστ Παπ και το πήγα στον Λαΐνη: αν ...</td>\n",
       "    </tr>\n",
       "    <tr>\n",
       "      <th>12</th>\n",
       "      <td>1458</td>\n",
       "      <td>2024-04-11</td>\n",
       "      <td>2025-04-11</td>\n",
       "      <td>-τεστ Παπ είχε προ μηνός: κφ\\n-υπέρηχος εγο: Π...</td>\n",
       "    </tr>\n",
       "    <tr>\n",
       "      <th>13</th>\n",
       "      <td>1457</td>\n",
       "      <td>2024-04-09</td>\n",
       "      <td>None</td>\n",
       "      <td>-της έκανα τοποθέτηση IUD χαλκού\\n-τεχνικά άψο...</td>\n",
       "    </tr>\n",
       "    <tr>\n",
       "      <th>14</th>\n",
       "      <td>1456</td>\n",
       "      <td>2024-04-09</td>\n",
       "      <td>2025-04-09</td>\n",
       "      <td>-της πήρα τεστ Παπ και το πήγα στον Λαΐνη: αρν...</td>\n",
       "    </tr>\n",
       "    <tr>\n",
       "      <th>15</th>\n",
       "      <td>1455</td>\n",
       "      <td>2024-04-09</td>\n",
       "      <td>2027-04-09</td>\n",
       "      <td>-της πήρα τεστ Παπ και το πήγα στον Λαΐνη: αν ...</td>\n",
       "    </tr>\n",
       "    <tr>\n",
       "      <th>16</th>\n",
       "      <td>1454</td>\n",
       "      <td>2024-04-09</td>\n",
       "      <td>None</td>\n",
       "      <td>-της πήρα τεστ Παπ και το πήγα στον Λαΐνη: αρν...</td>\n",
       "    </tr>\n",
       "    <tr>\n",
       "      <th>17</th>\n",
       "      <td>1121</td>\n",
       "      <td>2024-04-09</td>\n",
       "      <td>2025-04-09</td>\n",
       "      <td>-της πήρα τεστ Παπ και το πήγα στον Λαΐνη: αρν...</td>\n",
       "    </tr>\n",
       "    <tr>\n",
       "      <th>18</th>\n",
       "      <td>1067</td>\n",
       "      <td>2024-04-09</td>\n",
       "      <td>2025-04-09</td>\n",
       "      <td>-της πήρα τεστ Παπ και το πήγα στον Λαΐνη: αρν...</td>\n",
       "    </tr>\n",
       "    <tr>\n",
       "      <th>19</th>\n",
       "      <td>256</td>\n",
       "      <td>2024-04-09</td>\n",
       "      <td>2025-04-09</td>\n",
       "      <td>-της πήρα τεστ Παπ και το πήγα στον Λαΐνη: αρν...</td>\n",
       "    </tr>\n",
       "    <tr>\n",
       "      <th>20</th>\n",
       "      <td>1453</td>\n",
       "      <td>2024-04-04</td>\n",
       "      <td>2025-04-04</td>\n",
       "      <td>-της πήρα τεστ Παπ και το πήγα στον Λαΐνη: αρν...</td>\n",
       "    </tr>\n",
       "    <tr>\n",
       "      <th>21</th>\n",
       "      <td>1452</td>\n",
       "      <td>2024-04-04</td>\n",
       "      <td>None</td>\n",
       "      <td>-έχει πρόσφατο τεστ Παπ\\n-υπέρηχος εγο: ΠΚΚ, π...</td>\n",
       "    </tr>\n",
       "    <tr>\n",
       "      <th>22</th>\n",
       "      <td>1451</td>\n",
       "      <td>2024-04-04</td>\n",
       "      <td>2025-04-04</td>\n",
       "      <td>-της πήρα τεστ Παπ και το πήγα στον Λαΐνη: αρν...</td>\n",
       "    </tr>\n",
       "    <tr>\n",
       "      <th>23</th>\n",
       "      <td>592</td>\n",
       "      <td>2024-04-04</td>\n",
       "      <td>2025-04-04</td>\n",
       "      <td>-της πήρα τεστ Παπ και το πήγα στον Λαΐνη: αρν...</td>\n",
       "    </tr>\n",
       "    <tr>\n",
       "      <th>24</th>\n",
       "      <td>385</td>\n",
       "      <td>2024-04-04</td>\n",
       "      <td>2025-04-04</td>\n",
       "      <td>-της πήρα τεστ Παπ και το πήγα στον Λαΐνη: αρν...</td>\n",
       "    </tr>\n",
       "    <tr>\n",
       "      <th>25</th>\n",
       "      <td>289</td>\n",
       "      <td>2024-04-04</td>\n",
       "      <td>2025-04-04</td>\n",
       "      <td>-της πήρα τεστ Παπ και το πήγα στον Λαΐνη: αρν...</td>\n",
       "    </tr>\n",
       "    <tr>\n",
       "      <th>26</th>\n",
       "      <td>1450</td>\n",
       "      <td>2024-04-03</td>\n",
       "      <td>None</td>\n",
       "      <td>-ευρήματα στη μαστογραφία\\n-της είπα να κάνει ...</td>\n",
       "    </tr>\n",
       "    <tr>\n",
       "      <th>27</th>\n",
       "      <td>1449</td>\n",
       "      <td>2024-04-03</td>\n",
       "      <td>None</td>\n",
       "      <td>-ασταθής κύκλος με υπερμηνόρροια\\n-υπέρηχος εγ...</td>\n",
       "    </tr>\n",
       "    <tr>\n",
       "      <th>28</th>\n",
       "      <td>1448</td>\n",
       "      <td>2024-04-03</td>\n",
       "      <td>2025-04-03</td>\n",
       "      <td>-της πήρα τεστ Παπ και το πήγα στον Λαΐνη: αρν...</td>\n",
       "    </tr>\n",
       "    <tr>\n",
       "      <th>29</th>\n",
       "      <td>753</td>\n",
       "      <td>2024-04-03</td>\n",
       "      <td>2025-04-03</td>\n",
       "      <td>-της πήρα τεστ Παπ και το πήγα στον Λαΐνη: αρν...</td>\n",
       "    </tr>\n",
       "    <tr>\n",
       "      <th>30</th>\n",
       "      <td>544</td>\n",
       "      <td>2024-04-03</td>\n",
       "      <td>2024-08-03</td>\n",
       "      <td>-της πήρα τεστ Παπ και το πήγα στον Λαΐνη: ίχν...</td>\n",
       "    </tr>\n",
       "    <tr>\n",
       "      <th>31</th>\n",
       "      <td>1447</td>\n",
       "      <td>2024-03-28</td>\n",
       "      <td>2025-03-28</td>\n",
       "      <td>-της πήρα τεστ Παπ και το πήγα στον Λαΐνη: αρν...</td>\n",
       "    </tr>\n",
       "    <tr>\n",
       "      <th>32</th>\n",
       "      <td>807</td>\n",
       "      <td>2024-03-28</td>\n",
       "      <td>2025-03-28</td>\n",
       "      <td>-της πήρα τεστ Παπ και το πήγα στον Λαΐνη: αρν...</td>\n",
       "    </tr>\n",
       "    <tr>\n",
       "      <th>33</th>\n",
       "      <td>806</td>\n",
       "      <td>2024-03-28</td>\n",
       "      <td>2027-03-28</td>\n",
       "      <td>-της πήρα τεστ Παπ και το πήγα στον Λαΐνη: αν ...</td>\n",
       "    </tr>\n",
       "    <tr>\n",
       "      <th>34</th>\n",
       "      <td>664</td>\n",
       "      <td>2024-03-28</td>\n",
       "      <td>2025-03-28</td>\n",
       "      <td>-της πήρα τεστ Παπ και το πήγα στον Λαΐνη: αρν...</td>\n",
       "    </tr>\n",
       "    <tr>\n",
       "      <th>35</th>\n",
       "      <td>390</td>\n",
       "      <td>2024-03-28</td>\n",
       "      <td>None</td>\n",
       "      <td>-δεν την είδα σήμερα. Απλώς γράφω ότι έχει ένα...</td>\n",
       "    </tr>\n",
       "    <tr>\n",
       "      <th>36</th>\n",
       "      <td>348</td>\n",
       "      <td>2024-03-28</td>\n",
       "      <td>2025-03-28</td>\n",
       "      <td>-της πήρα τεστ Παπ και το πήγα στον Λαΐνη: αρν...</td>\n",
       "    </tr>\n",
       "    <tr>\n",
       "      <th>37</th>\n",
       "      <td>1446</td>\n",
       "      <td>2024-03-26</td>\n",
       "      <td>2025-03-26</td>\n",
       "      <td>-της πήρα τεστ Παπ και το πήγα στον Λαΐνη: αρν...</td>\n",
       "    </tr>\n",
       "    <tr>\n",
       "      <th>38</th>\n",
       "      <td>1445</td>\n",
       "      <td>2024-03-21</td>\n",
       "      <td>2024-09-21</td>\n",
       "      <td>-τεστ Παπ θα κάνουμε τον Σεπτέμβριο 2024\\n-υπέ...</td>\n",
       "    </tr>\n",
       "    <tr>\n",
       "      <th>39</th>\n",
       "      <td>1444</td>\n",
       "      <td>2024-03-21</td>\n",
       "      <td>2025-03-21</td>\n",
       "      <td>-της πήρα τεστ Παπ και το πήγα στον Λαΐνη: αρν...</td>\n",
       "    </tr>\n",
       "    <tr>\n",
       "      <th>40</th>\n",
       "      <td>1272</td>\n",
       "      <td>2024-03-21</td>\n",
       "      <td>None</td>\n",
       "      <td>-της πήρα τεστ Παπ και το πήγα στον Λαΐνη:\\n-υ...</td>\n",
       "    </tr>\n",
       "    <tr>\n",
       "      <th>41</th>\n",
       "      <td>1248</td>\n",
       "      <td>2024-03-21</td>\n",
       "      <td>2025-03-21</td>\n",
       "      <td>-της πήρα τεστ Παπ και το πήγα στον Λαΐνη: αρν...</td>\n",
       "    </tr>\n",
       "    <tr>\n",
       "      <th>42</th>\n",
       "      <td>1094</td>\n",
       "      <td>2024-03-21</td>\n",
       "      <td>2025-03-21</td>\n",
       "      <td>-της πήρα τεστ Παπ και το πήγα στον Λαΐνη: αρν...</td>\n",
       "    </tr>\n",
       "    <tr>\n",
       "      <th>43</th>\n",
       "      <td>1062</td>\n",
       "      <td>2024-03-21</td>\n",
       "      <td>2025-03-21</td>\n",
       "      <td>-της πήρα τεστ Παπ και το πήγα στον Λαΐνη: αρν...</td>\n",
       "    </tr>\n",
       "    <tr>\n",
       "      <th>44</th>\n",
       "      <td>1443</td>\n",
       "      <td>2024-03-20</td>\n",
       "      <td>None</td>\n",
       "      <td>-υπέρηχος εγο: ΟΚΚ, χωρίς παθολογικά ευρήματα\\...</td>\n",
       "    </tr>\n",
       "    <tr>\n",
       "      <th>45</th>\n",
       "      <td>1230</td>\n",
       "      <td>2024-03-20</td>\n",
       "      <td>2024-07-20</td>\n",
       "      <td>-της πήρα τεστ Παπ και το πήγα στον Λαΐνη: ίχν...</td>\n",
       "    </tr>\n",
       "    <tr>\n",
       "      <th>46</th>\n",
       "      <td>1442</td>\n",
       "      <td>2024-03-19</td>\n",
       "      <td>2025-03-19</td>\n",
       "      <td>-της πήρα ΚΚΥ και τις πήγα στον Λαΐνη: φυσιολο...</td>\n",
       "    </tr>\n",
       "    <tr>\n",
       "      <th>47</th>\n",
       "      <td>1441</td>\n",
       "      <td>2024-03-19</td>\n",
       "      <td>2024-09-19</td>\n",
       "      <td>-της πήρα thin prep και το πήγα στον Λαΐνη: HP...</td>\n",
       "    </tr>\n",
       "    <tr>\n",
       "      <th>48</th>\n",
       "      <td>879</td>\n",
       "      <td>2024-03-19</td>\n",
       "      <td>None</td>\n",
       "      <td>-της πήρα τεστ Παπ και το πήγα στον Λαΐνη: SUP...</td>\n",
       "    </tr>\n",
       "    <tr>\n",
       "      <th>49</th>\n",
       "      <td>877</td>\n",
       "      <td>2024-03-19</td>\n",
       "      <td>2024-07-19</td>\n",
       "      <td>-της πήρα τεστ Παπ και το πήγα στον Λαΐνη: ίχν...</td>\n",
       "    </tr>\n",
       "  </tbody>\n",
       "</table>\n",
       "</div>"
      ],
      "text/plain": [
       "    patient_id date_of_visit next_suggested_appointment  \\\n",
       "0         1349    2024-05-28                 2024-09-28   \n",
       "1          608    2024-05-09                       None   \n",
       "2          671    2024-04-24                       None   \n",
       "3          255    2024-04-24                       None   \n",
       "4          880    2024-04-23                       None   \n",
       "5          752    2024-04-23                       None   \n",
       "6          663    2024-04-23                       None   \n",
       "7          416    2024-04-23                       None   \n",
       "8          972    2024-04-15                       None   \n",
       "9          565    2024-04-15                       None   \n",
       "10         536    2024-04-15                       None   \n",
       "11         306    2024-04-15                       None   \n",
       "12        1458    2024-04-11                 2025-04-11   \n",
       "13        1457    2024-04-09                       None   \n",
       "14        1456    2024-04-09                 2025-04-09   \n",
       "15        1455    2024-04-09                 2027-04-09   \n",
       "16        1454    2024-04-09                       None   \n",
       "17        1121    2024-04-09                 2025-04-09   \n",
       "18        1067    2024-04-09                 2025-04-09   \n",
       "19         256    2024-04-09                 2025-04-09   \n",
       "20        1453    2024-04-04                 2025-04-04   \n",
       "21        1452    2024-04-04                       None   \n",
       "22        1451    2024-04-04                 2025-04-04   \n",
       "23         592    2024-04-04                 2025-04-04   \n",
       "24         385    2024-04-04                 2025-04-04   \n",
       "25         289    2024-04-04                 2025-04-04   \n",
       "26        1450    2024-04-03                       None   \n",
       "27        1449    2024-04-03                       None   \n",
       "28        1448    2024-04-03                 2025-04-03   \n",
       "29         753    2024-04-03                 2025-04-03   \n",
       "30         544    2024-04-03                 2024-08-03   \n",
       "31        1447    2024-03-28                 2025-03-28   \n",
       "32         807    2024-03-28                 2025-03-28   \n",
       "33         806    2024-03-28                 2027-03-28   \n",
       "34         664    2024-03-28                 2025-03-28   \n",
       "35         390    2024-03-28                       None   \n",
       "36         348    2024-03-28                 2025-03-28   \n",
       "37        1446    2024-03-26                 2025-03-26   \n",
       "38        1445    2024-03-21                 2024-09-21   \n",
       "39        1444    2024-03-21                 2025-03-21   \n",
       "40        1272    2024-03-21                       None   \n",
       "41        1248    2024-03-21                 2025-03-21   \n",
       "42        1094    2024-03-21                 2025-03-21   \n",
       "43        1062    2024-03-21                 2025-03-21   \n",
       "44        1443    2024-03-20                       None   \n",
       "45        1230    2024-03-20                 2024-07-20   \n",
       "46        1442    2024-03-19                 2025-03-19   \n",
       "47        1441    2024-03-19                 2024-09-19   \n",
       "48         879    2024-03-19                       None   \n",
       "49         877    2024-03-19                 2024-07-19   \n",
       "\n",
       "                                             comments  \n",
       "0   -της πήρα τεστ Παπ και το πήγα στον Λαΐνη:\\n-υ...  \n",
       "1   -της πήρα τεστ Παπ και το πήγα στον Λαΐνη: \\n-...  \n",
       "2   -της πήρα τεστ Παπ και το πήγα στον Λαΐνη: \\n-...  \n",
       "3   -της πήρα τεστ Παπ και το πήγα στον Λαΐνη:\\n-υ...  \n",
       "4   -της πήρα τεστ Παπ και το πήγα στον Λαΐνη:\\n-α...  \n",
       "5   -της πήρα τεστ Παπ και το πήγα στον Λαΐνη:\\n-υ...  \n",
       "6   -της πήρα τεστ Παπ και το πήγα στον Λαΐνη: \\n-...  \n",
       "7   -της πήρα τεστ Παπ και το πήγα στον Λαΐνη:\\n-υ...  \n",
       "8   -της πήρα τεστ Παπ και το πήγα στον Λαΐνη: \\n-...  \n",
       "9   -αν έχει ξεκινήσει επαφές, της παίρνω τεστ Παπ...  \n",
       "10  -της πήρα τεστ Παπ και το πήγα στον Λαΐνη: \\n-...  \n",
       "11  -της πήρα τεστ Παπ και το πήγα στον Λαΐνη: αν ...  \n",
       "12  -τεστ Παπ είχε προ μηνός: κφ\\n-υπέρηχος εγο: Π...  \n",
       "13  -της έκανα τοποθέτηση IUD χαλκού\\n-τεχνικά άψο...  \n",
       "14  -της πήρα τεστ Παπ και το πήγα στον Λαΐνη: αρν...  \n",
       "15  -της πήρα τεστ Παπ και το πήγα στον Λαΐνη: αν ...  \n",
       "16  -της πήρα τεστ Παπ και το πήγα στον Λαΐνη: αρν...  \n",
       "17  -της πήρα τεστ Παπ και το πήγα στον Λαΐνη: αρν...  \n",
       "18  -της πήρα τεστ Παπ και το πήγα στον Λαΐνη: αρν...  \n",
       "19  -της πήρα τεστ Παπ και το πήγα στον Λαΐνη: αρν...  \n",
       "20  -της πήρα τεστ Παπ και το πήγα στον Λαΐνη: αρν...  \n",
       "21  -έχει πρόσφατο τεστ Παπ\\n-υπέρηχος εγο: ΠΚΚ, π...  \n",
       "22  -της πήρα τεστ Παπ και το πήγα στον Λαΐνη: αρν...  \n",
       "23  -της πήρα τεστ Παπ και το πήγα στον Λαΐνη: αρν...  \n",
       "24  -της πήρα τεστ Παπ και το πήγα στον Λαΐνη: αρν...  \n",
       "25  -της πήρα τεστ Παπ και το πήγα στον Λαΐνη: αρν...  \n",
       "26  -ευρήματα στη μαστογραφία\\n-της είπα να κάνει ...  \n",
       "27  -ασταθής κύκλος με υπερμηνόρροια\\n-υπέρηχος εγ...  \n",
       "28  -της πήρα τεστ Παπ και το πήγα στον Λαΐνη: αρν...  \n",
       "29  -της πήρα τεστ Παπ και το πήγα στον Λαΐνη: αρν...  \n",
       "30  -της πήρα τεστ Παπ και το πήγα στον Λαΐνη: ίχν...  \n",
       "31  -της πήρα τεστ Παπ και το πήγα στον Λαΐνη: αρν...  \n",
       "32  -της πήρα τεστ Παπ και το πήγα στον Λαΐνη: αρν...  \n",
       "33  -της πήρα τεστ Παπ και το πήγα στον Λαΐνη: αν ...  \n",
       "34  -της πήρα τεστ Παπ και το πήγα στον Λαΐνη: αρν...  \n",
       "35  -δεν την είδα σήμερα. Απλώς γράφω ότι έχει ένα...  \n",
       "36  -της πήρα τεστ Παπ και το πήγα στον Λαΐνη: αρν...  \n",
       "37  -της πήρα τεστ Παπ και το πήγα στον Λαΐνη: αρν...  \n",
       "38  -τεστ Παπ θα κάνουμε τον Σεπτέμβριο 2024\\n-υπέ...  \n",
       "39  -της πήρα τεστ Παπ και το πήγα στον Λαΐνη: αρν...  \n",
       "40  -της πήρα τεστ Παπ και το πήγα στον Λαΐνη:\\n-υ...  \n",
       "41  -της πήρα τεστ Παπ και το πήγα στον Λαΐνη: αρν...  \n",
       "42  -της πήρα τεστ Παπ και το πήγα στον Λαΐνη: αρν...  \n",
       "43  -της πήρα τεστ Παπ και το πήγα στον Λαΐνη: αρν...  \n",
       "44  -υπέρηχος εγο: ΟΚΚ, χωρίς παθολογικά ευρήματα\\...  \n",
       "45  -της πήρα τεστ Παπ και το πήγα στον Λαΐνη: ίχν...  \n",
       "46  -της πήρα ΚΚΥ και τις πήγα στον Λαΐνη: φυσιολο...  \n",
       "47  -της πήρα thin prep και το πήγα στον Λαΐνη: HP...  \n",
       "48  -της πήρα τεστ Παπ και το πήγα στον Λαΐνη: SUP...  \n",
       "49  -της πήρα τεστ Παπ και το πήγα στον Λαΐνη: ίχν...  "
      ]
     },
     "execution_count": 35,
     "metadata": {},
     "output_type": "execute_result"
    }
   ],
   "source": [
    "visits_df.head(50)"
   ]
  },
  {
   "cell_type": "code",
   "execution_count": 33,
   "metadata": {},
   "outputs": [
    {
     "name": "stderr",
     "output_type": "stream",
     "text": [
      "\u001b[32m2025-10-20 10:41:28.699\u001b[0m | \u001b[1mINFO    \u001b[0m | \u001b[36m__main__\u001b[0m:\u001b[36m<module>\u001b[0m:\u001b[36m5\u001b[0m - \u001b[1m================================================================================\u001b[0m\n",
      "\u001b[32m2025-10-20 10:41:28.701\u001b[0m | \u001b[1mINFO    \u001b[0m | \u001b[36m__main__\u001b[0m:\u001b[36m<module>\u001b[0m:\u001b[36m6\u001b[0m - \u001b[1mAnalyzing comment #0:\n",
      "-της πήρα τεστ Παπ και το πήγα στον Λαΐνη:\n",
      "-υπέρηχος εγο:\n",
      "-4 μήνες μετά τη διακοπή του θηλασμού, θα κάνουμε υπέρηχο μαστών\n",
      "-αν θέλει σπιράλ, θα της πω 200 ευρώ στο ΙΑΣΩ λόγω ΠΚΤ\n",
      "-μου πλήρωσε 100 ευρώ...\u001b[0m\n",
      "\u001b[32m2025-10-20 10:41:28.701\u001b[0m | \u001b[1mINFO    \u001b[0m | \u001b[36m__main__\u001b[0m:\u001b[36m<module>\u001b[0m:\u001b[36m10\u001b[0m - \u001b[1mUsing current appointment date: 2024-05-28\u001b[0m\n"
     ]
    },
    {
     "name": "stdout",
     "output_type": "stream",
     "text": [
      "\n",
      "\n",
      "\u001b[1m> Entering new AgentExecutor chain...\u001b[0m\n",
      "\u001b[32;1m\u001b[1;3m\n",
      "Invoking: `fetch_next_suggested_app_date` with `{'patient_id': '1349'}`\n",
      "\n",
      "\n",
      "\u001b[0m\u001b[33;1m\u001b[1;3mNone\u001b[0m\u001b[32;1m\u001b[1;3m\n",
      "Invoking: `calculate_appointment_date` with `{'reference_date': '2024-05-28', 'timeframe': '4 months'}`\n",
      "\n",
      "\n",
      "\u001b[0m\u001b[36;1m\u001b[1;3m2024-09-28\u001b[0m\u001b[32;1m\u001b[1;3m\n",
      "Invoking: `update_next_suggested_app_date` with `{'patient_id': '1349', 'new_date': '2024-09-28'}`\n",
      "responded: The doctor's note suggests a follow-up appointment for a Pap test in \"4 months\" after today's visit date (2024-05-28). \n",
      "\n",
      "Using this timeframe, the suggested date for the appointment is calculated as follows:\n",
      "- **current_appointment_date**: 2024-05-28\n",
      "- **timeframe**: 4 months\n",
      "- **suggested_date**: 2024-09-28\n",
      "\n",
      "I also checked the patient's next scheduled appointment, which is **next_appointment_date**: None (no appointment scheduled).\n",
      "\n",
      "Now, applying the decision logic:\n",
      "\n",
      "- **RULE 1**: Since next_appointment_date is None, I will update the appointment to the suggested_date (2024-09-28).\n",
      "- **ACTION**: UPDATE to 2024-09-28\n",
      "- **REASON**: Patient has no appointment, so schedule one.\n",
      "\n",
      "I will proceed to update the appointment date.\n",
      "\n",
      "\u001b[0m\u001b[38;5;200m\u001b[1;3mAppointment updated to 2024-09-28\u001b[0m\u001b[32;1m\u001b[1;3mThe appointment has been successfully updated to **2024-09-28** for the Pap test. If you need any further assistance, feel free to ask!\u001b[0m\n",
      "\n",
      "\u001b[1m> Finished chain.\u001b[0m\n"
     ]
    },
    {
     "name": "stderr",
     "output_type": "stream",
     "text": [
      "\u001b[32m2025-10-20 10:41:39.984\u001b[0m | \u001b[1mINFO    \u001b[0m | \u001b[36mfetusapp.chatai.note_to_app_service\u001b[0m:\u001b[36manalyze_doctor_note\u001b[0m:\u001b[36m304\u001b[0m - \u001b[1mValidation passed on attempt 1\u001b[0m\n",
      "\u001b[32m2025-10-20 10:41:39.985\u001b[0m | \u001b[1mINFO    \u001b[0m | \u001b[36m__main__\u001b[0m:\u001b[36m<module>\u001b[0m:\u001b[36m15\u001b[0m - \u001b[1m================================================================================\u001b[0m\n",
      "\u001b[32m2025-10-20 10:41:39.986\u001b[0m | \u001b[1mINFO    \u001b[0m | \u001b[36m__main__\u001b[0m:\u001b[36m<module>\u001b[0m:\u001b[36m5\u001b[0m - \u001b[1m================================================================================\u001b[0m\n",
      "\u001b[32m2025-10-20 10:41:39.987\u001b[0m | \u001b[1mINFO    \u001b[0m | \u001b[36m__main__\u001b[0m:\u001b[36m<module>\u001b[0m:\u001b[36m6\u001b[0m - \u001b[1mAnalyzing comment #1:\n",
      "-της πήρα τεστ Παπ και το πήγα στον Λαΐνη: \n",
      "-υπέρηχος εγο: ΠΚΚ,\n",
      "-της έγραψα να κάνει μαστογραφία και υπέρηχο μαστών και θα μου τα προσκομίσει:\n",
      "-μου πλήρωσε 80 ευρώ για όλα μαζί...\u001b[0m\n",
      "\u001b[32m2025-10-20 10:41:39.987\u001b[0m | \u001b[1mINFO    \u001b[0m | \u001b[36m__main__\u001b[0m:\u001b[36m<module>\u001b[0m:\u001b[36m10\u001b[0m - \u001b[1mUsing current appointment date: 2024-05-09\u001b[0m\n"
     ]
    },
    {
     "name": "stdout",
     "output_type": "stream",
     "text": [
      "\n",
      "\n",
      "\u001b[1m> Entering new AgentExecutor chain...\u001b[0m\n",
      "\u001b[32;1m\u001b[1;3mNo appointment suggestion found.\u001b[0m\n",
      "\n",
      "\u001b[1m> Finished chain.\u001b[0m\n"
     ]
    },
    {
     "name": "stderr",
     "output_type": "stream",
     "text": [
      "\u001b[32m2025-10-20 10:41:41.797\u001b[0m | \u001b[1mINFO    \u001b[0m | \u001b[36mfetusapp.chatai.note_to_app_service\u001b[0m:\u001b[36manalyze_doctor_note\u001b[0m:\u001b[36m304\u001b[0m - \u001b[1mValidation passed on attempt 1\u001b[0m\n",
      "\u001b[32m2025-10-20 10:41:41.798\u001b[0m | \u001b[1mINFO    \u001b[0m | \u001b[36m__main__\u001b[0m:\u001b[36m<module>\u001b[0m:\u001b[36m15\u001b[0m - \u001b[1m================================================================================\u001b[0m\n",
      "\u001b[32m2025-10-20 10:41:41.798\u001b[0m | \u001b[1mINFO    \u001b[0m | \u001b[36m__main__\u001b[0m:\u001b[36m<module>\u001b[0m:\u001b[36m5\u001b[0m - \u001b[1m================================================================================\u001b[0m\n",
      "\u001b[32m2025-10-20 10:41:41.799\u001b[0m | \u001b[1mINFO    \u001b[0m | \u001b[36m__main__\u001b[0m:\u001b[36m<module>\u001b[0m:\u001b[36m6\u001b[0m - \u001b[1mAnalyzing comment #2:\n",
      "-της πήρα τεστ Παπ και το πήγα στον Λαΐνη: \n",
      "-υπέρηχος εγο: ενδομήτριο. Εξαρτήματα δεν έχει\n",
      "-θα κάνει μαστογραφία και υπέρηχο μαστών και θα μου τα προσκομίσει: \n",
      "-μου πλήρωσε 70 ευρώ για όλα μαζί...\u001b[0m\n",
      "\u001b[32m2025-10-20 10:41:41.799\u001b[0m | \u001b[1mINFO    \u001b[0m | \u001b[36m__main__\u001b[0m:\u001b[36m<module>\u001b[0m:\u001b[36m10\u001b[0m - \u001b[1mUsing current appointment date: 2024-04-24\u001b[0m\n"
     ]
    },
    {
     "name": "stdout",
     "output_type": "stream",
     "text": [
      "\n",
      "\n",
      "\u001b[1m> Entering new AgentExecutor chain...\u001b[0m\n",
      "\u001b[32;1m\u001b[1;3m\n",
      "Invoking: `fetch_next_suggested_app_date` with `{'patient_id': '671'}`\n",
      "\n",
      "\n",
      "\u001b[0m\u001b[33;1m\u001b[1;3mNone\u001b[0m\u001b[32;1m\u001b[1;3mNo appointment suggestion found in the doctor's note.\u001b[0m\n",
      "\n",
      "\u001b[1m> Finished chain.\u001b[0m\n"
     ]
    },
    {
     "name": "stderr",
     "output_type": "stream",
     "text": [
      "\u001b[32m2025-10-20 10:41:44.147\u001b[0m | \u001b[1mINFO    \u001b[0m | \u001b[36mfetusapp.chatai.note_to_app_service\u001b[0m:\u001b[36manalyze_doctor_note\u001b[0m:\u001b[36m304\u001b[0m - \u001b[1mValidation passed on attempt 1\u001b[0m\n",
      "\u001b[32m2025-10-20 10:41:44.148\u001b[0m | \u001b[1mINFO    \u001b[0m | \u001b[36m__main__\u001b[0m:\u001b[36m<module>\u001b[0m:\u001b[36m15\u001b[0m - \u001b[1m================================================================================\u001b[0m\n",
      "\u001b[32m2025-10-20 10:41:44.149\u001b[0m | \u001b[1mINFO    \u001b[0m | \u001b[36m__main__\u001b[0m:\u001b[36m<module>\u001b[0m:\u001b[36m5\u001b[0m - \u001b[1m================================================================================\u001b[0m\n",
      "\u001b[32m2025-10-20 10:41:44.150\u001b[0m | \u001b[1mINFO    \u001b[0m | \u001b[36m__main__\u001b[0m:\u001b[36m<module>\u001b[0m:\u001b[36m6\u001b[0m - \u001b[1mAnalyzing comment #3:\n",
      "-της πήρα τεστ Παπ και το πήγα στον Λαΐνη:\n",
      "-υπέρηχος εγο: ΠΚΚ, βλέπε προηγούμενο ιστορικό για ινομύωμα\n",
      "-της έγραψα να κάνει μαστογραφία και υπέρηχο μαστών και θα μου τα προσκομίσει: βλέπε προηγούμενο ιστορικό για ινοαδένωμα\n",
      "-μου πλήρωσε 80 ευρώ για όλα μαζί...\u001b[0m\n",
      "\u001b[32m2025-10-20 10:41:44.151\u001b[0m | \u001b[1mINFO    \u001b[0m | \u001b[36m__main__\u001b[0m:\u001b[36m<module>\u001b[0m:\u001b[36m10\u001b[0m - \u001b[1mUsing current appointment date: 2024-04-24\u001b[0m\n"
     ]
    },
    {
     "name": "stdout",
     "output_type": "stream",
     "text": [
      "\n",
      "\n",
      "\u001b[1m> Entering new AgentExecutor chain...\u001b[0m\n",
      "\u001b[32;1m\u001b[1;3m\n",
      "Invoking: `fetch_next_suggested_app_date` with `{'patient_id': '255'}`\n",
      "\n",
      "\n",
      "\u001b[0m\u001b[33;1m\u001b[1;3mNone\u001b[0m\u001b[32;1m\u001b[1;3mNo appointment suggestion found.\u001b[0m\n",
      "\n",
      "\u001b[1m> Finished chain.\u001b[0m\n"
     ]
    },
    {
     "name": "stderr",
     "output_type": "stream",
     "text": [
      "\u001b[32m2025-10-20 10:41:47.595\u001b[0m | \u001b[1mINFO    \u001b[0m | \u001b[36mfetusapp.chatai.note_to_app_service\u001b[0m:\u001b[36manalyze_doctor_note\u001b[0m:\u001b[36m304\u001b[0m - \u001b[1mValidation passed on attempt 1\u001b[0m\n",
      "\u001b[32m2025-10-20 10:41:47.596\u001b[0m | \u001b[1mINFO    \u001b[0m | \u001b[36m__main__\u001b[0m:\u001b[36m<module>\u001b[0m:\u001b[36m15\u001b[0m - \u001b[1m================================================================================\u001b[0m\n",
      "\u001b[32m2025-10-20 10:41:47.597\u001b[0m | \u001b[1mINFO    \u001b[0m | \u001b[36m__main__\u001b[0m:\u001b[36m<module>\u001b[0m:\u001b[36m5\u001b[0m - \u001b[1m================================================================================\u001b[0m\n",
      "\u001b[32m2025-10-20 10:41:47.597\u001b[0m | \u001b[1mINFO    \u001b[0m | \u001b[36m__main__\u001b[0m:\u001b[36m<module>\u001b[0m:\u001b[36m6\u001b[0m - \u001b[1mAnalyzing comment #4:\n",
      "-της πήρα τεστ Παπ και το πήγα στον Λαΐνη:\n",
      "-αν θέλει, θα της κάνω κολποσκόπηση:\n",
      "-υπέρηχος εγο:\n",
      "-να κάνει υπέρηχο μαστών:\n",
      "-μου πλήρωσε 80 ευρώ. Αν κάνουμε και κολποσκόπηση, θα της πάρουμε 150 ευρώ...\u001b[0m\n",
      "\u001b[32m2025-10-20 10:41:47.598\u001b[0m | \u001b[1mINFO    \u001b[0m | \u001b[36m__main__\u001b[0m:\u001b[36m<module>\u001b[0m:\u001b[36m10\u001b[0m - \u001b[1mUsing current appointment date: 2024-04-23\u001b[0m\n"
     ]
    },
    {
     "name": "stdout",
     "output_type": "stream",
     "text": [
      "\n",
      "\n",
      "\u001b[1m> Entering new AgentExecutor chain...\u001b[0m\n",
      "\u001b[32;1m\u001b[1;3mNo appointment suggestion found.\u001b[0m\n",
      "\n",
      "\u001b[1m> Finished chain.\u001b[0m\n"
     ]
    },
    {
     "name": "stderr",
     "output_type": "stream",
     "text": [
      "\u001b[32m2025-10-20 10:41:49.190\u001b[0m | \u001b[1mINFO    \u001b[0m | \u001b[36mfetusapp.chatai.note_to_app_service\u001b[0m:\u001b[36manalyze_doctor_note\u001b[0m:\u001b[36m304\u001b[0m - \u001b[1mValidation passed on attempt 1\u001b[0m\n",
      "\u001b[32m2025-10-20 10:41:49.190\u001b[0m | \u001b[1mINFO    \u001b[0m | \u001b[36m__main__\u001b[0m:\u001b[36m<module>\u001b[0m:\u001b[36m15\u001b[0m - \u001b[1m================================================================================\u001b[0m\n",
      "\u001b[32m2025-10-20 10:41:49.191\u001b[0m | \u001b[1mINFO    \u001b[0m | \u001b[36m__main__\u001b[0m:\u001b[36m<module>\u001b[0m:\u001b[36m5\u001b[0m - \u001b[1m================================================================================\u001b[0m\n",
      "\u001b[32m2025-10-20 10:41:49.192\u001b[0m | \u001b[1mINFO    \u001b[0m | \u001b[36m__main__\u001b[0m:\u001b[36m<module>\u001b[0m:\u001b[36m6\u001b[0m - \u001b[1mAnalyzing comment #5:\n",
      "-της πήρα τεστ Παπ και το πήγα στον Λαΐνη:\n",
      "-υπέρηχος εγο:\n",
      "-να κάνει μαστογραφία αναφοράς και υπέρηχο μαστών:\n",
      "-μου πλήρωσε 100 ευρώ...\u001b[0m\n",
      "\u001b[32m2025-10-20 10:41:49.193\u001b[0m | \u001b[1mINFO    \u001b[0m | \u001b[36m__main__\u001b[0m:\u001b[36m<module>\u001b[0m:\u001b[36m10\u001b[0m - \u001b[1mUsing current appointment date: 2024-04-23\u001b[0m\n"
     ]
    },
    {
     "name": "stdout",
     "output_type": "stream",
     "text": [
      "\n",
      "\n",
      "\u001b[1m> Entering new AgentExecutor chain...\u001b[0m\n",
      "\u001b[32;1m\u001b[1;3mNo appointment suggestion found.\u001b[0m\n",
      "\n",
      "\u001b[1m> Finished chain.\u001b[0m\n"
     ]
    },
    {
     "name": "stderr",
     "output_type": "stream",
     "text": [
      "\u001b[32m2025-10-20 10:41:51.264\u001b[0m | \u001b[1mINFO    \u001b[0m | \u001b[36mfetusapp.chatai.note_to_app_service\u001b[0m:\u001b[36manalyze_doctor_note\u001b[0m:\u001b[36m304\u001b[0m - \u001b[1mValidation passed on attempt 1\u001b[0m\n",
      "\u001b[32m2025-10-20 10:41:51.264\u001b[0m | \u001b[1mINFO    \u001b[0m | \u001b[36m__main__\u001b[0m:\u001b[36m<module>\u001b[0m:\u001b[36m15\u001b[0m - \u001b[1m================================================================================\u001b[0m\n",
      "\u001b[32m2025-10-20 10:41:51.265\u001b[0m | \u001b[1mINFO    \u001b[0m | \u001b[36m__main__\u001b[0m:\u001b[36m<module>\u001b[0m:\u001b[36m5\u001b[0m - \u001b[1m================================================================================\u001b[0m\n",
      "\u001b[32m2025-10-20 10:41:51.266\u001b[0m | \u001b[1mINFO    \u001b[0m | \u001b[36m__main__\u001b[0m:\u001b[36m<module>\u001b[0m:\u001b[36m6\u001b[0m - \u001b[1mAnalyzing comment #6:\n",
      "-της πήρα τεστ Παπ και το πήγα στον Λαΐνη: \n",
      "-υπέρηχος εγο: ΠΚΚ, \n",
      "-check αν παίρνει ακόμη OCPs (βλέπε προηγούμενο ιστορικό)\n",
      "-να κάνει υπέρηχο μαστών:\n",
      "-μου πλήρωσε 80 ευρώ...\u001b[0m\n",
      "\u001b[32m2025-10-20 10:41:51.266\u001b[0m | \u001b[1mINFO    \u001b[0m | \u001b[36m__main__\u001b[0m:\u001b[36m<module>\u001b[0m:\u001b[36m10\u001b[0m - \u001b[1mUsing current appointment date: 2024-04-23\u001b[0m\n"
     ]
    },
    {
     "name": "stdout",
     "output_type": "stream",
     "text": [
      "\n",
      "\n",
      "\u001b[1m> Entering new AgentExecutor chain...\u001b[0m\n",
      "\u001b[32;1m\u001b[1;3m\n",
      "Invoking: `fetch_next_suggested_app_date` with `{'patient_id': '663'}`\n",
      "\n",
      "\n",
      "\u001b[0m\u001b[33;1m\u001b[1;3mNone\u001b[0m\u001b[32;1m\u001b[1;3mNo appointment suggestion found in the doctor's note. \n",
      "\n",
      "Since there is no mention of a timeframe or specific date for a new ΠΑΠ test, I cannot proceed with scheduling an appointment.\u001b[0m\n",
      "\n",
      "\u001b[1m> Finished chain.\u001b[0m\n"
     ]
    },
    {
     "name": "stderr",
     "output_type": "stream",
     "text": [
      "\u001b[32m2025-10-20 10:41:53.957\u001b[0m | \u001b[1mINFO    \u001b[0m | \u001b[36mfetusapp.chatai.note_to_app_service\u001b[0m:\u001b[36manalyze_doctor_note\u001b[0m:\u001b[36m304\u001b[0m - \u001b[1mValidation passed on attempt 1\u001b[0m\n",
      "\u001b[32m2025-10-20 10:41:53.958\u001b[0m | \u001b[1mINFO    \u001b[0m | \u001b[36m__main__\u001b[0m:\u001b[36m<module>\u001b[0m:\u001b[36m15\u001b[0m - \u001b[1m================================================================================\u001b[0m\n",
      "\u001b[32m2025-10-20 10:41:53.959\u001b[0m | \u001b[1mINFO    \u001b[0m | \u001b[36m__main__\u001b[0m:\u001b[36m<module>\u001b[0m:\u001b[36m5\u001b[0m - \u001b[1m================================================================================\u001b[0m\n",
      "\u001b[32m2025-10-20 10:41:53.960\u001b[0m | \u001b[1mINFO    \u001b[0m | \u001b[36m__main__\u001b[0m:\u001b[36m<module>\u001b[0m:\u001b[36m6\u001b[0m - \u001b[1mAnalyzing comment #7:\n",
      "-της πήρα τεστ Παπ και το πήγα στον Λαΐνη:\n",
      "-υπέρηχος εγο: εικόνα ολικής υστερεκτομής\n",
      "-να κάνει μαστογραφία και υπέρηχο μαστών:\n",
      "-μου πλήρωσε 80 ευρώ\n",
      "-να της πω ότι δεν έχω πληρωθεί ακόμη από την ασφάλειά της για το χειρουργείο μας...\u001b[0m\n",
      "\u001b[32m2025-10-20 10:41:53.960\u001b[0m | \u001b[1mINFO    \u001b[0m | \u001b[36m__main__\u001b[0m:\u001b[36m<module>\u001b[0m:\u001b[36m10\u001b[0m - \u001b[1mUsing current appointment date: 2024-04-23\u001b[0m\n"
     ]
    },
    {
     "name": "stdout",
     "output_type": "stream",
     "text": [
      "\n",
      "\n",
      "\u001b[1m> Entering new AgentExecutor chain...\u001b[0m\n",
      "\u001b[32;1m\u001b[1;3mNo appointment suggestion found.\u001b[0m\n",
      "\n",
      "\u001b[1m> Finished chain.\u001b[0m\n"
     ]
    },
    {
     "name": "stderr",
     "output_type": "stream",
     "text": [
      "\u001b[32m2025-10-20 10:41:55.780\u001b[0m | \u001b[1mINFO    \u001b[0m | \u001b[36mfetusapp.chatai.note_to_app_service\u001b[0m:\u001b[36manalyze_doctor_note\u001b[0m:\u001b[36m304\u001b[0m - \u001b[1mValidation passed on attempt 1\u001b[0m\n",
      "\u001b[32m2025-10-20 10:41:55.781\u001b[0m | \u001b[1mINFO    \u001b[0m | \u001b[36m__main__\u001b[0m:\u001b[36m<module>\u001b[0m:\u001b[36m15\u001b[0m - \u001b[1m================================================================================\u001b[0m\n",
      "\u001b[32m2025-10-20 10:41:55.782\u001b[0m | \u001b[1mINFO    \u001b[0m | \u001b[36m__main__\u001b[0m:\u001b[36m<module>\u001b[0m:\u001b[36m5\u001b[0m - \u001b[1m================================================================================\u001b[0m\n",
      "\u001b[32m2025-10-20 10:41:55.782\u001b[0m | \u001b[1mINFO    \u001b[0m | \u001b[36m__main__\u001b[0m:\u001b[36m<module>\u001b[0m:\u001b[36m6\u001b[0m - \u001b[1mAnalyzing comment #8:\n",
      "-της πήρα τεστ Παπ και το πήγα στον Λαΐνη: \n",
      "-υπέρηχος εγο: ΠΚΚ, χωρίς παθολογικά ευρήματα\n",
      "-της έγραψα να κάνει μαστογραφία αναφοράς και υπέρηχο μαστών και θα μου τα προσκομίσει:\n",
      "-μου πλήρωσε 100 ευρώ...\u001b[0m\n",
      "\u001b[32m2025-10-20 10:41:55.783\u001b[0m | \u001b[1mINFO    \u001b[0m | \u001b[36m__main__\u001b[0m:\u001b[36m<module>\u001b[0m:\u001b[36m10\u001b[0m - \u001b[1mUsing current appointment date: 2024-04-15\u001b[0m\n"
     ]
    },
    {
     "name": "stdout",
     "output_type": "stream",
     "text": [
      "\n",
      "\n",
      "\u001b[1m> Entering new AgentExecutor chain...\u001b[0m\n",
      "\u001b[32;1m\u001b[1;3mNo appointment suggestion found.\u001b[0m\n",
      "\n",
      "\u001b[1m> Finished chain.\u001b[0m\n"
     ]
    },
    {
     "name": "stderr",
     "output_type": "stream",
     "text": [
      "\u001b[32m2025-10-20 10:41:57.381\u001b[0m | \u001b[1mINFO    \u001b[0m | \u001b[36mfetusapp.chatai.note_to_app_service\u001b[0m:\u001b[36manalyze_doctor_note\u001b[0m:\u001b[36m304\u001b[0m - \u001b[1mValidation passed on attempt 1\u001b[0m\n",
      "\u001b[32m2025-10-20 10:41:57.382\u001b[0m | \u001b[1mINFO    \u001b[0m | \u001b[36m__main__\u001b[0m:\u001b[36m<module>\u001b[0m:\u001b[36m15\u001b[0m - \u001b[1m================================================================================\u001b[0m\n",
      "\u001b[32m2025-10-20 10:41:57.383\u001b[0m | \u001b[1mINFO    \u001b[0m | \u001b[36m__main__\u001b[0m:\u001b[36m<module>\u001b[0m:\u001b[36m5\u001b[0m - \u001b[1m================================================================================\u001b[0m\n",
      "\u001b[32m2025-10-20 10:41:57.384\u001b[0m | \u001b[1mINFO    \u001b[0m | \u001b[36m__main__\u001b[0m:\u001b[36m<module>\u001b[0m:\u001b[36m6\u001b[0m - \u001b[1mAnalyzing comment #9:\n",
      "-αν έχει ξεκινήσει επαφές, της παίρνω τεστ Παπ:\n",
      "-υπέρηχος εγο: ΠΚΚ, χωρίς παθολογικά ευρήματα\n",
      "-δεν παίρνουμε επίσκεψη...\u001b[0m\n",
      "\u001b[32m2025-10-20 10:41:57.384\u001b[0m | \u001b[1mINFO    \u001b[0m | \u001b[36m__main__\u001b[0m:\u001b[36m<module>\u001b[0m:\u001b[36m10\u001b[0m - \u001b[1mUsing current appointment date: 2024-04-15\u001b[0m\n"
     ]
    },
    {
     "name": "stdout",
     "output_type": "stream",
     "text": [
      "\n",
      "\n",
      "\u001b[1m> Entering new AgentExecutor chain...\u001b[0m\n",
      "\u001b[32;1m\u001b[1;3mNo appointment suggestion found.\u001b[0m\n",
      "\n",
      "\u001b[1m> Finished chain.\u001b[0m\n"
     ]
    },
    {
     "name": "stderr",
     "output_type": "stream",
     "text": [
      "\u001b[32m2025-10-20 10:41:58.748\u001b[0m | \u001b[1mINFO    \u001b[0m | \u001b[36mfetusapp.chatai.note_to_app_service\u001b[0m:\u001b[36manalyze_doctor_note\u001b[0m:\u001b[36m304\u001b[0m - \u001b[1mValidation passed on attempt 1\u001b[0m\n",
      "\u001b[32m2025-10-20 10:41:58.748\u001b[0m | \u001b[1mINFO    \u001b[0m | \u001b[36m__main__\u001b[0m:\u001b[36m<module>\u001b[0m:\u001b[36m15\u001b[0m - \u001b[1m================================================================================\u001b[0m\n",
      "\u001b[32m2025-10-20 10:41:58.749\u001b[0m | \u001b[1mINFO    \u001b[0m | \u001b[36m__main__\u001b[0m:\u001b[36m<module>\u001b[0m:\u001b[36m5\u001b[0m - \u001b[1m================================================================================\u001b[0m\n",
      "\u001b[32m2025-10-20 10:41:58.749\u001b[0m | \u001b[1mINFO    \u001b[0m | \u001b[36m__main__\u001b[0m:\u001b[36m<module>\u001b[0m:\u001b[36m6\u001b[0m - \u001b[1mAnalyzing comment #10:\n",
      "-της πήρα τεστ Παπ και το πήγα στον Λαΐνη: \n",
      "-υπέρηχος εγο: ΠΚΚ, χωρίς παθολογικά ευρήματα\n",
      "-προσπαθούν για τρίτο παιδί. Να ρωτήσω πώς πάμε\n",
      "-της έγραψα να κάνει υπέρηχο μαστών και θα μου τον προσκομίσει: της είπα για πιθανή επανάληψη υπερήχου με ψηφιακή τομοσύνθεση, αν δω κάτι ύποπτο\n",
      "-μου πλήρωσε 100 ευρώ για όλα μαζί...\u001b[0m\n",
      "\u001b[32m2025-10-20 10:41:58.749\u001b[0m | \u001b[1mINFO    \u001b[0m | \u001b[36m__main__\u001b[0m:\u001b[36m<module>\u001b[0m:\u001b[36m10\u001b[0m - \u001b[1mUsing current appointment date: 2024-04-15\u001b[0m\n"
     ]
    },
    {
     "name": "stdout",
     "output_type": "stream",
     "text": [
      "\n",
      "\n",
      "\u001b[1m> Entering new AgentExecutor chain...\u001b[0m\n",
      "\u001b[32;1m\u001b[1;3m\n",
      "Invoking: `fetch_next_suggested_app_date` with `{'patient_id': '536'}`\n",
      "\n",
      "\n",
      "\u001b[0m\u001b[33;1m\u001b[1;3mNone\u001b[0m\u001b[32;1m\u001b[1;3mNo appointment suggestion found.\u001b[0m\n",
      "\n",
      "\u001b[1m> Finished chain.\u001b[0m\n"
     ]
    },
    {
     "name": "stderr",
     "output_type": "stream",
     "text": [
      "\u001b[32m2025-10-20 10:42:00.831\u001b[0m | \u001b[1mINFO    \u001b[0m | \u001b[36mfetusapp.chatai.note_to_app_service\u001b[0m:\u001b[36manalyze_doctor_note\u001b[0m:\u001b[36m304\u001b[0m - \u001b[1mValidation passed on attempt 1\u001b[0m\n",
      "\u001b[32m2025-10-20 10:42:00.832\u001b[0m | \u001b[1mINFO    \u001b[0m | \u001b[36m__main__\u001b[0m:\u001b[36m<module>\u001b[0m:\u001b[36m15\u001b[0m - \u001b[1m================================================================================\u001b[0m\n",
      "\u001b[32m2025-10-20 10:42:00.832\u001b[0m | \u001b[1mINFO    \u001b[0m | \u001b[36m__main__\u001b[0m:\u001b[36m<module>\u001b[0m:\u001b[36m5\u001b[0m - \u001b[1m================================================================================\u001b[0m\n",
      "\u001b[32m2025-10-20 10:42:00.833\u001b[0m | \u001b[1mINFO    \u001b[0m | \u001b[36m__main__\u001b[0m:\u001b[36m<module>\u001b[0m:\u001b[36m6\u001b[0m - \u001b[1mAnalyzing comment #11:\n",
      "-της πήρα τεστ Παπ και το πήγα στον Λαΐνη: αν κφ, δεν χρειάζεται να κάνουμε άλλο\n",
      "-υπέρηχος εγο: ΠΚΚ, ενδομήτριο 1,15 χιλιοστά\n",
      "-της έγραψα να κάνει μαστογραφία και θα μου την προσκομίσει: κφ, Μάρτιος 2024\n",
      "-μου πλήρωσε 80 ευρώ για όλα μαζί...\u001b[0m\n",
      "\u001b[32m2025-10-20 10:42:00.833\u001b[0m | \u001b[1mINFO    \u001b[0m | \u001b[36m__main__\u001b[0m:\u001b[36m<module>\u001b[0m:\u001b[36m10\u001b[0m - \u001b[1mUsing current appointment date: 2024-04-15\u001b[0m\n"
     ]
    },
    {
     "name": "stdout",
     "output_type": "stream",
     "text": [
      "\n",
      "\n",
      "\u001b[1m> Entering new AgentExecutor chain...\u001b[0m\n",
      "\u001b[32;1m\u001b[1;3m\n",
      "Invoking: `fetch_next_suggested_app_date` with `{'patient_id': '306'}`\n",
      "\n",
      "\n",
      "\u001b[0m\u001b[33;1m\u001b[1;3mNone\u001b[0m\u001b[32;1m\u001b[1;3mThe doctor's note does not suggest a new ΠΑΠ test, as it states \"αν κφ, δεν χρειάζεται να κάνουμε άλλο\" (if everything is fine, we do not need to do another). Therefore, there is no appointment suggestion found.\n",
      "\n",
      "No appointment suggestion found.\u001b[0m\n",
      "\n",
      "\u001b[1m> Finished chain.\u001b[0m\n"
     ]
    },
    {
     "name": "stderr",
     "output_type": "stream",
     "text": [
      "\u001b[32m2025-10-20 10:42:04.595\u001b[0m | \u001b[1mINFO    \u001b[0m | \u001b[36mfetusapp.chatai.note_to_app_service\u001b[0m:\u001b[36manalyze_doctor_note\u001b[0m:\u001b[36m304\u001b[0m - \u001b[1mValidation passed on attempt 1\u001b[0m\n",
      "\u001b[32m2025-10-20 10:42:04.595\u001b[0m | \u001b[1mINFO    \u001b[0m | \u001b[36m__main__\u001b[0m:\u001b[36m<module>\u001b[0m:\u001b[36m15\u001b[0m - \u001b[1m================================================================================\u001b[0m\n",
      "\u001b[32m2025-10-20 10:42:04.596\u001b[0m | \u001b[1mINFO    \u001b[0m | \u001b[36m__main__\u001b[0m:\u001b[36m<module>\u001b[0m:\u001b[36m5\u001b[0m - \u001b[1m================================================================================\u001b[0m\n",
      "\u001b[32m2025-10-20 10:42:04.597\u001b[0m | \u001b[1mINFO    \u001b[0m | \u001b[36m__main__\u001b[0m:\u001b[36m<module>\u001b[0m:\u001b[36m6\u001b[0m - \u001b[1mAnalyzing comment #12:\n",
      "-τεστ Παπ είχε προ μηνός: κφ\n",
      "-υπέρηχος εγο: ΠΚΚ, πρόσθιο ενδοτοιχωματικό ινομύωμα 3,2 εκαστοστά και υποβλεννογόνιο 1,6 εκατοστά\n",
      "-να κάνει μαστογραφία και υπέρηχο μαστών: μαστογραφία κφ. Υπέρηχο θα κάνει του χρόνου\n",
      "-μου πλήρωσε 70 ευρώ...\u001b[0m\n",
      "\u001b[32m2025-10-20 10:42:04.597\u001b[0m | \u001b[1mINFO    \u001b[0m | \u001b[36m__main__\u001b[0m:\u001b[36m<module>\u001b[0m:\u001b[36m10\u001b[0m - \u001b[1mUsing current appointment date: 2024-04-11\u001b[0m\n"
     ]
    },
    {
     "name": "stdout",
     "output_type": "stream",
     "text": [
      "\n",
      "\n",
      "\u001b[1m> Entering new AgentExecutor chain...\u001b[0m\n",
      "\u001b[32;1m\u001b[1;3m\n",
      "Invoking: `fetch_next_suggested_app_date` with `{'patient_id': '1458'}`\n",
      "\n",
      "\n",
      "\u001b[0m\u001b[33;1m\u001b[1;3mNone\u001b[0m\u001b[32;1m\u001b[1;3m\n",
      "Invoking: `calculate_appointment_date` with `{'reference_date': '2024-04-11', 'timeframe': '1 year'}`\n",
      "\n",
      "\n",
      "\u001b[0m\u001b[36;1m\u001b[1;3m2025-04-11\u001b[0m\u001b[32;1m\u001b[1;3m\n",
      "Invoking: `update_next_suggested_app_date` with `{'patient_id': '1458', 'new_date': '2025-04-11'}`\n",
      "responded: The doctor's note suggests that the patient should have a Pap test \"του χρόνου\" (next year), which indicates a timeframe of 1 year from today's visit date (2024-04-11). \n",
      "\n",
      "Using this timeframe, the suggested date for the Pap test is calculated as follows:\n",
      "- **current_appointment_date**: 2024-04-11\n",
      "- **timeframe**: 1 year\n",
      "- **suggested_date**: 2025-04-11\n",
      "\n",
      "I also checked the patient's next scheduled appointment, which is **next_appointment_date**: None (no appointment scheduled).\n",
      "\n",
      "Now, applying the decision logic:\n",
      "\n",
      "- **RULE 1**: Since next_appointment_date is None, I will update the appointment to the suggested_date (2025-04-11).\n",
      "- **ACTION**: UPDATE to 2025-04-11\n",
      "- **REASON**: Patient has no appointment, so schedule one.\n",
      "\n",
      "I will proceed to update the appointment date.\n",
      "\n",
      "\u001b[0m\u001b[38;5;200m\u001b[1;3mAppointment updated to 2025-04-11\u001b[0m\u001b[32;1m\u001b[1;3mThe patient's appointment has been successfully updated to **2025-04-11** for the Pap test.\u001b[0m\n",
      "\n",
      "\u001b[1m> Finished chain.\u001b[0m\n"
     ]
    },
    {
     "name": "stderr",
     "output_type": "stream",
     "text": [
      "\u001b[32m2025-10-20 10:42:12.348\u001b[0m | \u001b[1mINFO    \u001b[0m | \u001b[36mfetusapp.chatai.note_to_app_service\u001b[0m:\u001b[36manalyze_doctor_note\u001b[0m:\u001b[36m304\u001b[0m - \u001b[1mValidation passed on attempt 1\u001b[0m\n",
      "\u001b[32m2025-10-20 10:42:12.348\u001b[0m | \u001b[1mINFO    \u001b[0m | \u001b[36m__main__\u001b[0m:\u001b[36m<module>\u001b[0m:\u001b[36m15\u001b[0m - \u001b[1m================================================================================\u001b[0m\n",
      "\u001b[32m2025-10-20 10:42:12.349\u001b[0m | \u001b[1mINFO    \u001b[0m | \u001b[36m__main__\u001b[0m:\u001b[36m<module>\u001b[0m:\u001b[36m5\u001b[0m - \u001b[1m================================================================================\u001b[0m\n",
      "\u001b[32m2025-10-20 10:42:12.349\u001b[0m | \u001b[1mINFO    \u001b[0m | \u001b[36m__main__\u001b[0m:\u001b[36m<module>\u001b[0m:\u001b[36m6\u001b[0m - \u001b[1mAnalyzing comment #13:\n",
      "-της έκανα τοποθέτηση IUD χαλκού\n",
      "-τεχνικά άψογα\n",
      "-υπέρηχος εγο μετά: IUD στη θέση του\n",
      "-μου πλήρωσε συνολικά 200 ευρώ...\u001b[0m\n",
      "\u001b[32m2025-10-20 10:42:12.350\u001b[0m | \u001b[1mINFO    \u001b[0m | \u001b[36m__main__\u001b[0m:\u001b[36m<module>\u001b[0m:\u001b[36m10\u001b[0m - \u001b[1mUsing current appointment date: 2024-04-09\u001b[0m\n"
     ]
    },
    {
     "name": "stdout",
     "output_type": "stream",
     "text": [
      "\n",
      "\n",
      "\u001b[1m> Entering new AgentExecutor chain...\u001b[0m\n",
      "\u001b[32;1m\u001b[1;3mNo appointment suggestion found.\u001b[0m\n",
      "\n",
      "\u001b[1m> Finished chain.\u001b[0m\n"
     ]
    },
    {
     "name": "stderr",
     "output_type": "stream",
     "text": [
      "\u001b[32m2025-10-20 10:42:13.851\u001b[0m | \u001b[1mINFO    \u001b[0m | \u001b[36mfetusapp.chatai.note_to_app_service\u001b[0m:\u001b[36manalyze_doctor_note\u001b[0m:\u001b[36m304\u001b[0m - \u001b[1mValidation passed on attempt 1\u001b[0m\n",
      "\u001b[32m2025-10-20 10:42:13.853\u001b[0m | \u001b[1mINFO    \u001b[0m | \u001b[36m__main__\u001b[0m:\u001b[36m<module>\u001b[0m:\u001b[36m15\u001b[0m - \u001b[1m================================================================================\u001b[0m\n",
      "\u001b[32m2025-10-20 10:42:13.854\u001b[0m | \u001b[1mINFO    \u001b[0m | \u001b[36m__main__\u001b[0m:\u001b[36m<module>\u001b[0m:\u001b[36m5\u001b[0m - \u001b[1m================================================================================\u001b[0m\n",
      "\u001b[32m2025-10-20 10:42:13.854\u001b[0m | \u001b[1mINFO    \u001b[0m | \u001b[36m__main__\u001b[0m:\u001b[36m<module>\u001b[0m:\u001b[36m6\u001b[0m - \u001b[1mAnalyzing comment #14:\n",
      "-της πήρα τεστ Παπ και το πήγα στον Λαΐνη: αρνητικό για κακοήθεια. Επανάληψη σε ένα έτος\n",
      "-υπέρηχος εγο: ΠΚΚ, χωρίς παθολογικά ευρήματα\n",
      "-μου πλήρωσε 100 ευρώ\n",
      "-πρώτη επίσκεψη σε γυναικολόγο σήμερα...\u001b[0m\n",
      "\u001b[32m2025-10-20 10:42:13.856\u001b[0m | \u001b[1mINFO    \u001b[0m | \u001b[36m__main__\u001b[0m:\u001b[36m<module>\u001b[0m:\u001b[36m10\u001b[0m - \u001b[1mUsing current appointment date: 2024-04-09\u001b[0m\n"
     ]
    },
    {
     "name": "stdout",
     "output_type": "stream",
     "text": [
      "\n",
      "\n",
      "\u001b[1m> Entering new AgentExecutor chain...\u001b[0m\n",
      "\u001b[32;1m\u001b[1;3m\n",
      "Invoking: `fetch_next_suggested_app_date` with `{'patient_id': '1456'}`\n",
      "\n",
      "\n",
      "\u001b[0m\u001b[33;1m\u001b[1;3mNone\u001b[0m\u001b[32;1m\u001b[1;3m\n",
      "Invoking: `calculate_appointment_date` with `{'reference_date': '2024-04-09', 'timeframe': '1 year'}`\n",
      "\n",
      "\n",
      "\u001b[0m\u001b[36;1m\u001b[1;3m2025-04-09\u001b[0m\u001b[32;1m\u001b[1;3m\n",
      "Invoking: `update_next_suggested_app_date` with `{'patient_id': '1456', 'new_date': '2025-04-09'}`\n",
      "responded: The doctor's note suggests a repeat ΠΑΠ test \"σε ένα έτος\" (in one year), which translates to a suggested date of **2025-04-09**.\n",
      "\n",
      "The patient's next scheduled appointment date is **None** (no appointment scheduled).\n",
      "\n",
      "### Decision Logic:\n",
      "- **Rule 1**: Since next_appointment_date is None, we will **UPDATE to suggested_date (2025-04-09)**.\n",
      "- **Reason**: Patient has no appointment, so schedule one.\n",
      "\n",
      "I will proceed to update the appointment date to **2025-04-09**.\n",
      "\n",
      "\u001b[0m\u001b[38;5;200m\u001b[1;3mAppointment updated to 2025-04-09\u001b[0m\u001b[32;1m\u001b[1;3mThe appointment has been successfully updated to **2025-04-09**.\u001b[0m\n",
      "\n",
      "\u001b[1m> Finished chain.\u001b[0m\n"
     ]
    },
    {
     "name": "stderr",
     "output_type": "stream",
     "text": [
      "\u001b[32m2025-10-20 10:42:22.598\u001b[0m | \u001b[1mINFO    \u001b[0m | \u001b[36mfetusapp.chatai.note_to_app_service\u001b[0m:\u001b[36manalyze_doctor_note\u001b[0m:\u001b[36m304\u001b[0m - \u001b[1mValidation passed on attempt 1\u001b[0m\n",
      "\u001b[32m2025-10-20 10:42:22.599\u001b[0m | \u001b[1mINFO    \u001b[0m | \u001b[36m__main__\u001b[0m:\u001b[36m<module>\u001b[0m:\u001b[36m15\u001b[0m - \u001b[1m================================================================================\u001b[0m\n",
      "\u001b[32m2025-10-20 10:42:22.600\u001b[0m | \u001b[1mINFO    \u001b[0m | \u001b[36m__main__\u001b[0m:\u001b[36m<module>\u001b[0m:\u001b[36m5\u001b[0m - \u001b[1m================================================================================\u001b[0m\n",
      "\u001b[32m2025-10-20 10:42:22.600\u001b[0m | \u001b[1mINFO    \u001b[0m | \u001b[36m__main__\u001b[0m:\u001b[36m<module>\u001b[0m:\u001b[36m6\u001b[0m - \u001b[1mAnalyzing comment #15:\n",
      "-της πήρα τεστ Παπ και το πήγα στον Λαΐνη: αν κφ, της είπα το επόμενο σε 3 έτη. Έβγαλε ASCUS, μάλλον λόγω ατροφίας\n",
      "-υπέρηχος εγο: ΠΚΚ, χωρίς παθολογικά ευρήματα\n",
      "-να κάνει μαστογραφία και υπέρηχο μαστών: θα τα κάνει τον Οκτώβριο\n",
      "-μου πλήρωσε 80 ευρώ...\u001b[0m\n",
      "\u001b[32m2025-10-20 10:42:22.601\u001b[0m | \u001b[1mINFO    \u001b[0m | \u001b[36m__main__\u001b[0m:\u001b[36m<module>\u001b[0m:\u001b[36m10\u001b[0m - \u001b[1mUsing current appointment date: 2024-04-09\u001b[0m\n"
     ]
    },
    {
     "name": "stdout",
     "output_type": "stream",
     "text": [
      "\n",
      "\n",
      "\u001b[1m> Entering new AgentExecutor chain...\u001b[0m\n",
      "\u001b[32;1m\u001b[1;3m\n",
      "Invoking: `fetch_next_suggested_app_date` with `{'patient_id': '1455'}`\n",
      "\n",
      "\n",
      "\u001b[0m\u001b[33;1m\u001b[1;3mNone\u001b[0m\u001b[32;1m\u001b[1;3m\n",
      "Invoking: `calculate_appointment_date` with `{'reference_date': '2024-04-09', 'timeframe': '3 years'}`\n",
      "\n",
      "\n",
      "\u001b[0m\u001b[36;1m\u001b[1;3m2027-04-09\u001b[0m\u001b[32;1m\u001b[1;3m\n",
      "Invoking: `update_next_suggested_app_date` with `{'patient_id': '1455', 'new_date': '2027-04-09'}`\n",
      "responded: The doctor's note suggests the next Pap test in \"3 years\" from today's visit date (2024-04-09), which calculates to a suggested date of **2027-04-09**.\n",
      "\n",
      "The patient's next scheduled appointment date is **None** (no appointment scheduled).\n",
      "\n",
      "### Decision Logic:\n",
      "- **Rule 1**: Since the next appointment date is None, we will update to the suggested date.\n",
      "\n",
      "### Action:\n",
      "- **Update to suggested_date**: 2027-04-09\n",
      "- **Reason**: Patient has no appointment, so schedule one.\n",
      "\n",
      "I will proceed to update the appointment date to **2027-04-09**.\n",
      "\n",
      "\u001b[0m\u001b[38;5;200m\u001b[1;3mAppointment updated to 2027-04-09\u001b[0m\u001b[32;1m\u001b[1;3mThe patient's appointment has been successfully updated to **2027-04-09**.\u001b[0m\n",
      "\n",
      "\u001b[1m> Finished chain.\u001b[0m\n"
     ]
    },
    {
     "name": "stderr",
     "output_type": "stream",
     "text": [
      "\u001b[32m2025-10-20 10:42:28.885\u001b[0m | \u001b[1mINFO    \u001b[0m | \u001b[36mfetusapp.chatai.note_to_app_service\u001b[0m:\u001b[36manalyze_doctor_note\u001b[0m:\u001b[36m304\u001b[0m - \u001b[1mValidation passed on attempt 1\u001b[0m\n",
      "\u001b[32m2025-10-20 10:42:28.886\u001b[0m | \u001b[1mINFO    \u001b[0m | \u001b[36m__main__\u001b[0m:\u001b[36m<module>\u001b[0m:\u001b[36m15\u001b[0m - \u001b[1m================================================================================\u001b[0m\n",
      "\u001b[32m2025-10-20 10:42:28.886\u001b[0m | \u001b[1mINFO    \u001b[0m | \u001b[36m__main__\u001b[0m:\u001b[36m<module>\u001b[0m:\u001b[36m5\u001b[0m - \u001b[1m================================================================================\u001b[0m\n",
      "\u001b[32m2025-10-20 10:42:28.887\u001b[0m | \u001b[1mINFO    \u001b[0m | \u001b[36m__main__\u001b[0m:\u001b[36m<module>\u001b[0m:\u001b[36m6\u001b[0m - \u001b[1mAnalyzing comment #16:\n",
      "-της πήρα τεστ Παπ και το πήγα στον Λαΐνη: αρνητικό για κακοήθεια. Δεν χρειάζεται να το ξανακάνουμε\n",
      "-υπέρηχος εγο: ΠΚΚ, χωρίς παθολογικά ευρήματα, μικρή ενδομητρική συλλογή\n",
      "-έλεγχο μαστών έχει κάνει: κφ\n",
      "-δεν παίρνουμε επίσκεψη...\u001b[0m\n",
      "\u001b[32m2025-10-20 10:42:28.887\u001b[0m | \u001b[1mINFO    \u001b[0m | \u001b[36m__main__\u001b[0m:\u001b[36m<module>\u001b[0m:\u001b[36m10\u001b[0m - \u001b[1mUsing current appointment date: 2024-04-09\u001b[0m\n"
     ]
    },
    {
     "name": "stdout",
     "output_type": "stream",
     "text": [
      "\n",
      "\n",
      "\u001b[1m> Entering new AgentExecutor chain...\u001b[0m\n",
      "\u001b[32;1m\u001b[1;3mThe doctor's note indicates that a Pap test was performed and the result was negative for malignancy. The note states, \"Δεν χρειάζεται να το ξανακάνουμε,\" which translates to \"There is no need to do it again.\" This suggests that there is no recommendation for a new Pap test appointment.\n",
      "\n",
      "Since there is no appointment suggestion found in the note, I will stop here and state: \n",
      "\n",
      "No appointment suggestion found.\u001b[0m\n",
      "\n",
      "\u001b[1m> Finished chain.\u001b[0m\n"
     ]
    },
    {
     "name": "stderr",
     "output_type": "stream",
     "text": [
      "\u001b[32m2025-10-20 10:42:31.659\u001b[0m | \u001b[1mINFO    \u001b[0m | \u001b[36mfetusapp.chatai.note_to_app_service\u001b[0m:\u001b[36manalyze_doctor_note\u001b[0m:\u001b[36m304\u001b[0m - \u001b[1mValidation passed on attempt 1\u001b[0m\n",
      "\u001b[32m2025-10-20 10:42:31.659\u001b[0m | \u001b[1mINFO    \u001b[0m | \u001b[36m__main__\u001b[0m:\u001b[36m<module>\u001b[0m:\u001b[36m15\u001b[0m - \u001b[1m================================================================================\u001b[0m\n",
      "\u001b[32m2025-10-20 10:42:31.660\u001b[0m | \u001b[1mINFO    \u001b[0m | \u001b[36m__main__\u001b[0m:\u001b[36m<module>\u001b[0m:\u001b[36m5\u001b[0m - \u001b[1m================================================================================\u001b[0m\n",
      "\u001b[32m2025-10-20 10:42:31.661\u001b[0m | \u001b[1mINFO    \u001b[0m | \u001b[36m__main__\u001b[0m:\u001b[36m<module>\u001b[0m:\u001b[36m6\u001b[0m - \u001b[1mAnalyzing comment #17:\n",
      "-της πήρα τεστ Παπ και το πήγα στον Λαΐνη: αρνητικό για κακοήθεια. Επανάληψη σε ένα έτος\n",
      "-υπέρηχος εγο: ΟΚΚ, χωρίς παθολογικά ευρήματα\n",
      "-να κάνει υπέρηχο μαστών:\n",
      "-μου πλήρωσε 100 ευρώ...\u001b[0m\n",
      "\u001b[32m2025-10-20 10:42:31.661\u001b[0m | \u001b[1mINFO    \u001b[0m | \u001b[36m__main__\u001b[0m:\u001b[36m<module>\u001b[0m:\u001b[36m10\u001b[0m - \u001b[1mUsing current appointment date: 2024-04-09\u001b[0m\n"
     ]
    },
    {
     "name": "stdout",
     "output_type": "stream",
     "text": [
      "\n",
      "\n",
      "\u001b[1m> Entering new AgentExecutor chain...\u001b[0m\n",
      "\u001b[32;1m\u001b[1;3m\n",
      "Invoking: `fetch_next_suggested_app_date` with `{'patient_id': '1121'}`\n",
      "\n",
      "\n",
      "\u001b[0m\u001b[33;1m\u001b[1;3mNone\u001b[0m\u001b[32;1m\u001b[1;3m\n",
      "Invoking: `calculate_appointment_date` with `{'reference_date': '2024-04-09', 'timeframe': '1 year'}`\n",
      "\n",
      "\n",
      "\u001b[0m\u001b[36;1m\u001b[1;3m2025-04-09\u001b[0m\u001b[32;1m\u001b[1;3m\n",
      "Invoking: `update_next_suggested_app_date` with `{'patient_id': '1121', 'new_date': '2025-04-09'}`\n",
      "responded: The doctor's note suggests a repeat ΠΑΠ test in \"ένα έτος\" (1 year). Based on today's visit date of 2024-04-09, the suggested date for the next ΠΑΠ test is calculated as:\n",
      "\n",
      "- **suggested_date**: 2025-04-09\n",
      "\n",
      "I also checked the patient's next scheduled appointment:\n",
      "\n",
      "- **next_appointment_date**: None (no appointment scheduled)\n",
      "\n",
      "Now, applying the decision logic:\n",
      "\n",
      "- **Rule 1**: Since there is no next appointment scheduled (next_appointment_date is None), I will update the appointment to the suggested date.\n",
      "\n",
      "### Action:\n",
      "- **UPDATE to suggested_date**: 2025-04-09\n",
      "- **Reason**: Patient has no appointment, so schedule one.\n",
      "\n",
      "I will proceed to update the patient's appointment date.\n",
      "\n",
      "\u001b[0m\u001b[38;5;200m\u001b[1;3mAppointment updated to 2025-04-09\u001b[0m\u001b[32;1m\u001b[1;3mThe patient's appointment has been successfully updated to **2025-04-09** for the repeat ΠΑΠ test.\u001b[0m\n",
      "\n",
      "\u001b[1m> Finished chain.\u001b[0m\n"
     ]
    },
    {
     "name": "stderr",
     "output_type": "stream",
     "text": [
      "\u001b[32m2025-10-20 10:42:38.698\u001b[0m | \u001b[1mINFO    \u001b[0m | \u001b[36mfetusapp.chatai.note_to_app_service\u001b[0m:\u001b[36manalyze_doctor_note\u001b[0m:\u001b[36m304\u001b[0m - \u001b[1mValidation passed on attempt 1\u001b[0m\n",
      "\u001b[32m2025-10-20 10:42:38.698\u001b[0m | \u001b[1mINFO    \u001b[0m | \u001b[36m__main__\u001b[0m:\u001b[36m<module>\u001b[0m:\u001b[36m15\u001b[0m - \u001b[1m================================================================================\u001b[0m\n",
      "\u001b[32m2025-10-20 10:42:38.699\u001b[0m | \u001b[1mINFO    \u001b[0m | \u001b[36m__main__\u001b[0m:\u001b[36m<module>\u001b[0m:\u001b[36m5\u001b[0m - \u001b[1m================================================================================\u001b[0m\n",
      "\u001b[32m2025-10-20 10:42:38.699\u001b[0m | \u001b[1mINFO    \u001b[0m | \u001b[36m__main__\u001b[0m:\u001b[36m<module>\u001b[0m:\u001b[36m6\u001b[0m - \u001b[1mAnalyzing comment #18:\n",
      "-της πήρα τεστ Παπ και το πήγα στον Λαΐνη: αρνητικό για κακοήθεια. Επανάληψη σε ένα έτος\n",
      "-υπέρηχος εγο: σε ευθειωρία, χωρίς παθολογικά ευρήματα\n",
      "-να κάνει μαστογραφία και υπέρηχο μαστών:\n",
      "-μου πλήρωσε 100 ευρώ...\u001b[0m\n",
      "\u001b[32m2025-10-20 10:42:38.700\u001b[0m | \u001b[1mINFO    \u001b[0m | \u001b[36m__main__\u001b[0m:\u001b[36m<module>\u001b[0m:\u001b[36m10\u001b[0m - \u001b[1mUsing current appointment date: 2024-04-09\u001b[0m\n"
     ]
    },
    {
     "name": "stdout",
     "output_type": "stream",
     "text": [
      "\n",
      "\n",
      "\u001b[1m> Entering new AgentExecutor chain...\u001b[0m\n",
      "\u001b[32;1m\u001b[1;3m\n",
      "Invoking: `fetch_next_suggested_app_date` with `{'patient_id': '1067'}`\n",
      "\n",
      "\n",
      "\u001b[0m\u001b[33;1m\u001b[1;3mNone\u001b[0m\u001b[32;1m\u001b[1;3m\n",
      "Invoking: `calculate_appointment_date` with `{'reference_date': '2024-04-09', 'timeframe': '1 year'}`\n",
      "\n",
      "\n",
      "\u001b[0m\u001b[36;1m\u001b[1;3m2025-04-09\u001b[0m\u001b[32;1m\u001b[1;3m\n",
      "Invoking: `update_next_suggested_app_date` with `{'patient_id': '1067', 'new_date': '2025-04-09'}`\n",
      "responded: The doctor's note suggests a Pap test to be repeated \"σε ένα έτος\" (in one year). Based on today's visit date of 2024-04-09, the suggested date for the next Pap test is calculated as 2025-04-09.\n",
      "\n",
      "The patient's next scheduled appointment date is not found (next_appointment_date is None).\n",
      "\n",
      "### Decision Logic:\n",
      "- **Rule 1**: Since next_appointment_date is None, we will update to the suggested_date of 2025-04-09.\n",
      "- **Action**: UPDATE to 2025-04-09\n",
      "- **Reason**: Patient has no appointment, so schedule one.\n",
      "\n",
      "Now, I will proceed to update the appointment date.\n",
      "\n",
      "\u001b[0m\u001b[38;5;200m\u001b[1;3mAppointment updated to 2025-04-09\u001b[0m\u001b[32;1m\u001b[1;3mThe appointment has been successfully updated to 2025-04-09 for the next Pap test.\u001b[0m\n",
      "\n",
      "\u001b[1m> Finished chain.\u001b[0m\n"
     ]
    },
    {
     "name": "stderr",
     "output_type": "stream",
     "text": [
      "\u001b[32m2025-10-20 10:42:44.679\u001b[0m | \u001b[1mINFO    \u001b[0m | \u001b[36mfetusapp.chatai.note_to_app_service\u001b[0m:\u001b[36manalyze_doctor_note\u001b[0m:\u001b[36m304\u001b[0m - \u001b[1mValidation passed on attempt 1\u001b[0m\n",
      "\u001b[32m2025-10-20 10:42:44.681\u001b[0m | \u001b[1mINFO    \u001b[0m | \u001b[36m__main__\u001b[0m:\u001b[36m<module>\u001b[0m:\u001b[36m15\u001b[0m - \u001b[1m================================================================================\u001b[0m\n",
      "\u001b[32m2025-10-20 10:42:44.682\u001b[0m | \u001b[1mINFO    \u001b[0m | \u001b[36m__main__\u001b[0m:\u001b[36m<module>\u001b[0m:\u001b[36m5\u001b[0m - \u001b[1m================================================================================\u001b[0m\n",
      "\u001b[32m2025-10-20 10:42:44.682\u001b[0m | \u001b[1mINFO    \u001b[0m | \u001b[36m__main__\u001b[0m:\u001b[36m<module>\u001b[0m:\u001b[36m6\u001b[0m - \u001b[1mAnalyzing comment #19:\n",
      "-της πήρα τεστ Παπ και το πήγα στον Λαΐνη: αρνητικό για κακοήθεια. Επανάληψη σε ένα έτος\n",
      "-υπέρηχος εγο: ΠΚΚ, check IUD (το είχαμε βάλει Ιούνιο 2020). Όλα κφ\n",
      "-της έγραψα να κάνει μαστογραφία και υπέρηχο μαστών και θα μου τα προσκομίσει: υπέρηχος (Απρίλιος 2024): δύο απλές κύστεις του μισού εκατοστού. Εκκρεμεί μαστογραφία\n",
      "-μου πλήρωσε 80 ευρώ...\u001b[0m\n",
      "\u001b[32m2025-10-20 10:42:44.683\u001b[0m | \u001b[1mINFO    \u001b[0m | \u001b[36m__main__\u001b[0m:\u001b[36m<module>\u001b[0m:\u001b[36m10\u001b[0m - \u001b[1mUsing current appointment date: 2024-04-09\u001b[0m\n"
     ]
    },
    {
     "name": "stdout",
     "output_type": "stream",
     "text": [
      "\n",
      "\n",
      "\u001b[1m> Entering new AgentExecutor chain...\u001b[0m\n",
      "\u001b[32;1m\u001b[1;3m\n",
      "Invoking: `fetch_next_suggested_app_date` with `{'patient_id': '256'}`\n",
      "\n",
      "\n",
      "\u001b[0m\u001b[33;1m\u001b[1;3mNone\u001b[0m\u001b[32;1m\u001b[1;3m\n",
      "Invoking: `calculate_appointment_date` with `{'reference_date': '2024-04-09', 'timeframe': '1 year'}`\n",
      "\n",
      "\n",
      "\u001b[0m\u001b[36;1m\u001b[1;3m2025-04-09\u001b[0m\u001b[32;1m\u001b[1;3m\n",
      "Invoking: `update_next_suggested_app_date` with `{'patient_id': '256', 'new_date': '2025-04-09'}`\n",
      "responded: The doctor's note suggests a repeat ΠΑΠ test in \"ένα έτος\" (one year), which translates to a timeframe of 1 year. Based on today's visit date of 2024-04-09, the suggested date for the next ΠΑΠ test is calculated as:\n",
      "\n",
      "- **suggested_date**: 2025-04-09\n",
      "\n",
      "I also checked the patient's next scheduled appointment, which is **next_appointment_date**: None (no appointment scheduled).\n",
      "\n",
      "Now, applying the decision logic:\n",
      "\n",
      "- **RULE 1**: Since next_appointment_date is None, I will update the appointment to the suggested_date.\n",
      "\n",
      "### Action:\n",
      "- **UPDATE** to suggested_date: 2025-04-09\n",
      "- **REASON**: Patient has no appointment, so schedule one.\n",
      "\n",
      "I will proceed to update the patient's appointment date.\n",
      "\n",
      "\u001b[0m\u001b[38;5;200m\u001b[1;3mAppointment updated to 2025-04-09\u001b[0m\u001b[32;1m\u001b[1;3mThe patient's appointment has been successfully updated to **2025-04-09** for the repeat ΠΑΠ test.\u001b[0m\n",
      "\n",
      "\u001b[1m> Finished chain.\u001b[0m\n"
     ]
    },
    {
     "name": "stderr",
     "output_type": "stream",
     "text": [
      "\u001b[32m2025-10-20 10:42:51.244\u001b[0m | \u001b[1mINFO    \u001b[0m | \u001b[36mfetusapp.chatai.note_to_app_service\u001b[0m:\u001b[36manalyze_doctor_note\u001b[0m:\u001b[36m304\u001b[0m - \u001b[1mValidation passed on attempt 1\u001b[0m\n",
      "\u001b[32m2025-10-20 10:42:51.245\u001b[0m | \u001b[1mINFO    \u001b[0m | \u001b[36m__main__\u001b[0m:\u001b[36m<module>\u001b[0m:\u001b[36m15\u001b[0m - \u001b[1m================================================================================\u001b[0m\n",
      "\u001b[32m2025-10-20 10:42:51.245\u001b[0m | \u001b[1mINFO    \u001b[0m | \u001b[36m__main__\u001b[0m:\u001b[36m<module>\u001b[0m:\u001b[36m5\u001b[0m - \u001b[1m================================================================================\u001b[0m\n",
      "\u001b[32m2025-10-20 10:42:51.245\u001b[0m | \u001b[1mINFO    \u001b[0m | \u001b[36m__main__\u001b[0m:\u001b[36m<module>\u001b[0m:\u001b[36m6\u001b[0m - \u001b[1mAnalyzing comment #20:\n",
      "-της πήρα τεστ Παπ και το πήγα στον Λαΐνη: αρνητικό για κακοήθεια. Επανάληψη σε ένα έτος\n",
      "-υπέρηχος εγο: ΠΚΚ, χωρίς παθολογικά ευρήματα\n",
      "-να κάνει μαστογραφία αναφοράς και υπέρηχο μαστών:\n",
      "-μου πλήρωσε 80 ευρώ...\u001b[0m\n",
      "\u001b[32m2025-10-20 10:42:51.246\u001b[0m | \u001b[1mINFO    \u001b[0m | \u001b[36m__main__\u001b[0m:\u001b[36m<module>\u001b[0m:\u001b[36m10\u001b[0m - \u001b[1mUsing current appointment date: 2024-04-04\u001b[0m\n"
     ]
    },
    {
     "name": "stdout",
     "output_type": "stream",
     "text": [
      "\n",
      "\n",
      "\u001b[1m> Entering new AgentExecutor chain...\u001b[0m\n",
      "\u001b[32;1m\u001b[1;3m\n",
      "Invoking: `fetch_next_suggested_app_date` with `{'patient_id': '1453'}`\n",
      "\n",
      "\n",
      "\u001b[0m\u001b[33;1m\u001b[1;3m2025-04-04\u001b[0m\u001b[32;1m\u001b[1;3m\n",
      "Invoking: `calculate_appointment_date` with `{'reference_date': '2024-04-04', 'timeframe': '1 year'}`\n",
      "\n",
      "\n",
      "\u001b[0m\u001b[36;1m\u001b[1;3m2025-04-04\u001b[0m\u001b[32;1m\u001b[1;3mThe doctor's note suggests a repeat ΠΑΠ test \"σε ένα έτος\" (in one year), which translates to a suggested date of **2025-04-04**.\n",
      "\n",
      "The patient's next scheduled appointment date is **2025-04-04**.\n",
      "\n",
      "Now, let's compare the suggested date and the next appointment date:\n",
      "- suggested_date (2025-04-04) vs next_appointment_date (2025-04-04)\n",
      "\n",
      "Since the suggested date is the same as the next appointment date, according to the decision logic:\n",
      "\n",
      "**RULE 3** applies: If next_appointment_date exists AND suggested_date >= next_appointment_date (suggested is LATER or SAME) → DO NOT UPDATE.\n",
      "\n",
      "Therefore, we will **not update** the appointment date as the patient already has an appointment scheduled for the same date.\u001b[0m\n",
      "\n",
      "\u001b[1m> Finished chain.\u001b[0m\n"
     ]
    },
    {
     "name": "stderr",
     "output_type": "stream",
     "text": [
      "\u001b[32m2025-10-20 10:42:56.648\u001b[0m | \u001b[1mINFO    \u001b[0m | \u001b[36mfetusapp.chatai.note_to_app_service\u001b[0m:\u001b[36manalyze_doctor_note\u001b[0m:\u001b[36m304\u001b[0m - \u001b[1mValidation passed on attempt 1\u001b[0m\n",
      "\u001b[32m2025-10-20 10:42:56.649\u001b[0m | \u001b[1mINFO    \u001b[0m | \u001b[36m__main__\u001b[0m:\u001b[36m<module>\u001b[0m:\u001b[36m15\u001b[0m - \u001b[1m================================================================================\u001b[0m\n",
      "\u001b[32m2025-10-20 10:42:56.650\u001b[0m | \u001b[1mINFO    \u001b[0m | \u001b[36m__main__\u001b[0m:\u001b[36m<module>\u001b[0m:\u001b[36m5\u001b[0m - \u001b[1m================================================================================\u001b[0m\n",
      "\u001b[32m2025-10-20 10:42:56.651\u001b[0m | \u001b[1mINFO    \u001b[0m | \u001b[36m__main__\u001b[0m:\u001b[36m<module>\u001b[0m:\u001b[36m6\u001b[0m - \u001b[1mAnalyzing comment #21:\n",
      "-έχει πρόσφατο τεστ Παπ\n",
      "-υπέρηχος εγο: ΠΚΚ, παρουσία ενδομητρικού πολύποδα\n",
      "-της είπα για υστεροσκοπική αφαίρεση\n",
      "-έχει ιδιωτική ασφάλεια και θα πληρωθώ από εκεί. Μάλλον στο ΜΗΤΕΡΑ\n",
      "-να κάνει υπέρηχο μαστών:\n",
      "-μου πλήρωσε 50 ευρώ...\u001b[0m\n",
      "\u001b[32m2025-10-20 10:42:56.651\u001b[0m | \u001b[1mINFO    \u001b[0m | \u001b[36m__main__\u001b[0m:\u001b[36m<module>\u001b[0m:\u001b[36m10\u001b[0m - \u001b[1mUsing current appointment date: 2024-04-04\u001b[0m\n"
     ]
    },
    {
     "name": "stdout",
     "output_type": "stream",
     "text": [
      "\n",
      "\n",
      "\u001b[1m> Entering new AgentExecutor chain...\u001b[0m\n",
      "\u001b[32;1m\u001b[1;3m\n",
      "Invoking: `fetch_next_suggested_app_date` with `{'patient_id': '1452'}`\n",
      "\n",
      "\n",
      "\u001b[0m\u001b[33;1m\u001b[1;3mNone\u001b[0m\u001b[32;1m\u001b[1;3mNo appointment suggestion found in the doctor's note.\u001b[0m\n",
      "\n",
      "\u001b[1m> Finished chain.\u001b[0m\n"
     ]
    },
    {
     "name": "stderr",
     "output_type": "stream",
     "text": [
      "\u001b[32m2025-10-20 10:42:59.758\u001b[0m | \u001b[1mINFO    \u001b[0m | \u001b[36mfetusapp.chatai.note_to_app_service\u001b[0m:\u001b[36manalyze_doctor_note\u001b[0m:\u001b[36m304\u001b[0m - \u001b[1mValidation passed on attempt 1\u001b[0m\n",
      "\u001b[32m2025-10-20 10:42:59.759\u001b[0m | \u001b[1mINFO    \u001b[0m | \u001b[36m__main__\u001b[0m:\u001b[36m<module>\u001b[0m:\u001b[36m15\u001b[0m - \u001b[1m================================================================================\u001b[0m\n",
      "\u001b[32m2025-10-20 10:42:59.759\u001b[0m | \u001b[1mINFO    \u001b[0m | \u001b[36m__main__\u001b[0m:\u001b[36m<module>\u001b[0m:\u001b[36m5\u001b[0m - \u001b[1m================================================================================\u001b[0m\n",
      "\u001b[32m2025-10-20 10:42:59.760\u001b[0m | \u001b[1mINFO    \u001b[0m | \u001b[36m__main__\u001b[0m:\u001b[36m<module>\u001b[0m:\u001b[36m6\u001b[0m - \u001b[1mAnalyzing comment #22:\n",
      "-της πήρα τεστ Παπ και το πήγα στον Λαΐνη: αρνητικό για κακοήθεια. Επανάληψη σε ένα έτος\n",
      "-υπέρηχος εγο: ΟΚΚ, παχύ ενδομήτριο\n",
      "-της είπα για ΔΑ στο ΙΑΣΩ και τους είπα ήδη 500 ευρώ συνολικά. Μετρητά και θα τα κανονίσω εγώ\n",
      "-μου πλήρωσε 50 ευρώ μόνο για το τεστ Παπ...\u001b[0m\n",
      "\u001b[32m2025-10-20 10:42:59.760\u001b[0m | \u001b[1mINFO    \u001b[0m | \u001b[36m__main__\u001b[0m:\u001b[36m<module>\u001b[0m:\u001b[36m10\u001b[0m - \u001b[1mUsing current appointment date: 2024-04-04\u001b[0m\n"
     ]
    },
    {
     "name": "stdout",
     "output_type": "stream",
     "text": [
      "\n",
      "\n",
      "\u001b[1m> Entering new AgentExecutor chain...\u001b[0m\n",
      "\u001b[32;1m\u001b[1;3m\n",
      "Invoking: `fetch_next_suggested_app_date` with `{'patient_id': '1451'}`\n",
      "\n",
      "\n",
      "\u001b[0m\u001b[33;1m\u001b[1;3mNone\u001b[0m\u001b[32;1m\u001b[1;3m\n",
      "Invoking: `calculate_appointment_date` with `{'reference_date': '2024-04-04', 'timeframe': '1 year'}`\n",
      "\n",
      "\n",
      "\u001b[0m\u001b[36;1m\u001b[1;3m2025-04-04\u001b[0m\u001b[32;1m\u001b[1;3m\n",
      "Invoking: `update_next_suggested_app_date` with `{'patient_id': '1451', 'new_date': '2025-04-04'}`\n",
      "responded: The doctor's note suggests a follow-up Pap test in \"ένα έτος\" (one year), which translates to a suggested date of **2025-04-04**.\n",
      "\n",
      "The patient's next scheduled appointment date is **None** (no appointment scheduled).\n",
      "\n",
      "### Decision Logic:\n",
      "- **Rule 1**: Since the next appointment date is None, we will update to the suggested date of **2025-04-04**.\n",
      "- **Action**: UPDATE to **2025-04-04**.\n",
      "- **Reason**: Patient has no appointment, so schedule one.\n",
      "\n",
      "Now, I will proceed to update the appointment date.\n",
      "\n",
      "\u001b[0m\u001b[38;5;200m\u001b[1;3mAppointment updated to 2025-04-04\u001b[0m\u001b[32;1m\u001b[1;3mThe patient's appointment has been successfully updated to **2025-04-04**.\u001b[0m\n",
      "\n",
      "\u001b[1m> Finished chain.\u001b[0m\n"
     ]
    },
    {
     "name": "stderr",
     "output_type": "stream",
     "text": [
      "\u001b[32m2025-10-20 10:43:05.394\u001b[0m | \u001b[1mINFO    \u001b[0m | \u001b[36mfetusapp.chatai.note_to_app_service\u001b[0m:\u001b[36manalyze_doctor_note\u001b[0m:\u001b[36m304\u001b[0m - \u001b[1mValidation passed on attempt 1\u001b[0m\n",
      "\u001b[32m2025-10-20 10:43:05.395\u001b[0m | \u001b[1mINFO    \u001b[0m | \u001b[36m__main__\u001b[0m:\u001b[36m<module>\u001b[0m:\u001b[36m15\u001b[0m - \u001b[1m================================================================================\u001b[0m\n",
      "\u001b[32m2025-10-20 10:43:05.395\u001b[0m | \u001b[1mINFO    \u001b[0m | \u001b[36m__main__\u001b[0m:\u001b[36m<module>\u001b[0m:\u001b[36m5\u001b[0m - \u001b[1m================================================================================\u001b[0m\n",
      "\u001b[32m2025-10-20 10:43:05.396\u001b[0m | \u001b[1mINFO    \u001b[0m | \u001b[36m__main__\u001b[0m:\u001b[36m<module>\u001b[0m:\u001b[36m6\u001b[0m - \u001b[1mAnalyzing comment #23:\n",
      "-της πήρα τεστ Παπ και το πήγα στον Λαΐνη: αρνητικό για κακοήθεια. Επανάληψη σε ένα έτος\n",
      "-υπέρηχος εγο: ΠΚΚ, χωρίς παθολογικά ευρήματα\n",
      "-να κάνει μαστογραφία και υπέρηχο μαστών:\n",
      "-ΟΠΩΣΔΗΠΟΤΕ να κάνει τα BRCA1 KAI 2 γιατί από την πλευρά της μαμάς της έχει ιστορικό Ca μαστού σε πολλές γυναίκες \n",
      "-μου πλήρωσε 100 ευρώ για όλα μαζί...\u001b[0m\n",
      "\u001b[32m2025-10-20 10:43:05.396\u001b[0m | \u001b[1mINFO    \u001b[0m | \u001b[36m__main__\u001b[0m:\u001b[36m<module>\u001b[0m:\u001b[36m10\u001b[0m - \u001b[1mUsing current appointment date: 2024-04-04\u001b[0m\n"
     ]
    },
    {
     "name": "stdout",
     "output_type": "stream",
     "text": [
      "\n",
      "\n",
      "\u001b[1m> Entering new AgentExecutor chain...\u001b[0m\n",
      "\u001b[32;1m\u001b[1;3m\n",
      "Invoking: `fetch_next_suggested_app_date` with `{'patient_id': '592'}`\n",
      "\n",
      "\n",
      "\u001b[0m\u001b[33;1m\u001b[1;3mNone\u001b[0m\u001b[32;1m\u001b[1;3m\n",
      "Invoking: `calculate_appointment_date` with `{'reference_date': '2024-04-04', 'timeframe': '1 year'}`\n",
      "\n",
      "\n",
      "\u001b[0m\u001b[36;1m\u001b[1;3m2025-04-04\u001b[0m\u001b[32;1m\u001b[1;3m\n",
      "Invoking: `update_next_suggested_app_date` with `{'patient_id': '592', 'new_date': '2025-04-04'}`\n",
      "responded: The doctor's note suggests a repeat Pap test in \"ένα έτος\" (one year), which translates to a suggested date of **2025-04-04**.\n",
      "\n",
      "I have also checked the patient's next appointment date, which is **None** (no appointment scheduled).\n",
      "\n",
      "Now, applying the decision logic:\n",
      "\n",
      "- **Rule 1**: Since the next appointment date is None, I will update the appointment to the suggested date of **2025-04-04**.\n",
      "- **Action**: UPDATE to **2025-04-04**\n",
      "- **Reason**: Patient has no appointment, so schedule one.\n",
      "\n",
      "I will proceed to update the appointment date.\n",
      "\n",
      "\u001b[0m\u001b[38;5;200m\u001b[1;3mAppointment updated to 2025-04-04\u001b[0m\u001b[32;1m\u001b[1;3mThe appointment has been successfully updated to **2025-04-04**.\u001b[0m\n",
      "\n",
      "\u001b[1m> Finished chain.\u001b[0m\n"
     ]
    },
    {
     "name": "stderr",
     "output_type": "stream",
     "text": [
      "\u001b[32m2025-10-20 10:43:11.154\u001b[0m | \u001b[1mINFO    \u001b[0m | \u001b[36mfetusapp.chatai.note_to_app_service\u001b[0m:\u001b[36manalyze_doctor_note\u001b[0m:\u001b[36m304\u001b[0m - \u001b[1mValidation passed on attempt 1\u001b[0m\n",
      "\u001b[32m2025-10-20 10:43:11.157\u001b[0m | \u001b[1mINFO    \u001b[0m | \u001b[36m__main__\u001b[0m:\u001b[36m<module>\u001b[0m:\u001b[36m15\u001b[0m - \u001b[1m================================================================================\u001b[0m\n",
      "\u001b[32m2025-10-20 10:43:11.159\u001b[0m | \u001b[1mINFO    \u001b[0m | \u001b[36m__main__\u001b[0m:\u001b[36m<module>\u001b[0m:\u001b[36m5\u001b[0m - \u001b[1m================================================================================\u001b[0m\n",
      "\u001b[32m2025-10-20 10:43:11.160\u001b[0m | \u001b[1mINFO    \u001b[0m | \u001b[36m__main__\u001b[0m:\u001b[36m<module>\u001b[0m:\u001b[36m6\u001b[0m - \u001b[1mAnalyzing comment #24:\n",
      "-της πήρα τεστ Παπ και το πήγα στον Λαΐνη: αρνητικό για κακοήθεια. Επανάληψη σε ένα έτος\n",
      "-της πήρα και ΚΚΥ: μύκητες και της έδωσα αγωγή\n",
      "-υπέρηχος εγο: ΠΚΚ, χωρίς παθολογικά ευρήματα\n",
      "-της είπα να κάνει υπέρηχο μαστών και θα μου τον προσκομίσει: κφ προ εξαμήνου\n",
      "-μου πλήρωσε 150 ευρώ...\u001b[0m\n",
      "\u001b[32m2025-10-20 10:43:11.161\u001b[0m | \u001b[1mINFO    \u001b[0m | \u001b[36m__main__\u001b[0m:\u001b[36m<module>\u001b[0m:\u001b[36m10\u001b[0m - \u001b[1mUsing current appointment date: 2024-04-04\u001b[0m\n"
     ]
    },
    {
     "name": "stdout",
     "output_type": "stream",
     "text": [
      "\n",
      "\n",
      "\u001b[1m> Entering new AgentExecutor chain...\u001b[0m\n",
      "\u001b[32;1m\u001b[1;3m\n",
      "Invoking: `fetch_next_suggested_app_date` with `{'patient_id': '385'}`\n",
      "\n",
      "\n",
      "\u001b[0m\u001b[33;1m\u001b[1;3mNone\u001b[0m\u001b[32;1m\u001b[1;3m\n",
      "Invoking: `calculate_appointment_date` with `{'reference_date': '2024-04-04', 'timeframe': '1 year'}`\n",
      "\n",
      "\n",
      "\u001b[0m\u001b[36;1m\u001b[1;3m2025-04-04\u001b[0m\u001b[32;1m\u001b[1;3m\n",
      "Invoking: `update_next_suggested_app_date` with `{'patient_id': '385', 'new_date': '2025-04-04'}`\n",
      "responded: The doctor's note suggests a repeat ΠΑΠ test \"σε ένα έτος\" (in one year), which translates to a suggested date of **2025-04-04**.\n",
      "\n",
      "I also fetched the patient's next appointment date, which is **None** (no appointment scheduled).\n",
      "\n",
      "Now, applying the decision logic:\n",
      "\n",
      "- **Rule 1**: Since the next appointment date is None, I will update to the suggested date of **2025-04-04**.\n",
      "- **Action**: UPDATE to **2025-04-04**.\n",
      "- **Reason**: Patient has no appointment, so schedule one.\n",
      "\n",
      "I will proceed to update the appointment date.\n",
      "\n",
      "\u001b[0m\u001b[38;5;200m\u001b[1;3mAppointment updated to 2025-04-04\u001b[0m\u001b[32;1m\u001b[1;3mThe patient's appointment has been successfully updated to **2025-04-04**.\u001b[0m\n",
      "\n",
      "\u001b[1m> Finished chain.\u001b[0m\n"
     ]
    },
    {
     "name": "stderr",
     "output_type": "stream",
     "text": [
      "\u001b[32m2025-10-20 10:43:17.457\u001b[0m | \u001b[1mINFO    \u001b[0m | \u001b[36mfetusapp.chatai.note_to_app_service\u001b[0m:\u001b[36manalyze_doctor_note\u001b[0m:\u001b[36m304\u001b[0m - \u001b[1mValidation passed on attempt 1\u001b[0m\n",
      "\u001b[32m2025-10-20 10:43:17.458\u001b[0m | \u001b[1mINFO    \u001b[0m | \u001b[36m__main__\u001b[0m:\u001b[36m<module>\u001b[0m:\u001b[36m15\u001b[0m - \u001b[1m================================================================================\u001b[0m\n",
      "\u001b[32m2025-10-20 10:43:17.459\u001b[0m | \u001b[1mINFO    \u001b[0m | \u001b[36m__main__\u001b[0m:\u001b[36m<module>\u001b[0m:\u001b[36m5\u001b[0m - \u001b[1m================================================================================\u001b[0m\n",
      "\u001b[32m2025-10-20 10:43:17.460\u001b[0m | \u001b[1mINFO    \u001b[0m | \u001b[36m__main__\u001b[0m:\u001b[36m<module>\u001b[0m:\u001b[36m6\u001b[0m - \u001b[1mAnalyzing comment #25:\n",
      "-της πήρα τεστ Παπ και το πήγα στον Λαΐνη: αρνητικό για κακοήθεια. Επανάληψη σε ένα έτος\n",
      "-υπέρηχος εγο: ΠΚΚ, μικροί ινομυωματώδεις πυρήνες\n",
      "-της έγραψα να κάνει υπέρηχο μαστών και θα μου τον προσκομίσει: άψογος (Απρίλιος 2024)\n",
      "-μου πλήρωσε 80 ευρώ...\u001b[0m\n",
      "\u001b[32m2025-10-20 10:43:17.460\u001b[0m | \u001b[1mINFO    \u001b[0m | \u001b[36m__main__\u001b[0m:\u001b[36m<module>\u001b[0m:\u001b[36m10\u001b[0m - \u001b[1mUsing current appointment date: 2024-04-04\u001b[0m\n"
     ]
    },
    {
     "name": "stdout",
     "output_type": "stream",
     "text": [
      "\n",
      "\n",
      "\u001b[1m> Entering new AgentExecutor chain...\u001b[0m\n",
      "\u001b[32;1m\u001b[1;3m\n",
      "Invoking: `fetch_next_suggested_app_date` with `{'patient_id': '289'}`\n",
      "\n",
      "\n",
      "\u001b[0m\u001b[33;1m\u001b[1;3mNone\u001b[0m\u001b[32;1m\u001b[1;3m\n",
      "Invoking: `calculate_appointment_date` with `{'reference_date': '2024-04-04', 'timeframe': '1 year'}`\n",
      "\n",
      "\n",
      "\u001b[0m\u001b[36;1m\u001b[1;3m2025-04-04\u001b[0m\u001b[32;1m\u001b[1;3m\n",
      "Invoking: `update_next_suggested_app_date` with `{'patient_id': '289', 'new_date': '2025-04-04'}`\n",
      "responded: The doctor's note suggests a Pap test to be repeated \"σε ένα έτος\" (in one year), which translates to a timeframe of 1 year. Based on today's visit date of 2024-04-04, the suggested date for the next Pap test is calculated as:\n",
      "\n",
      "- **suggested_date**: 2025-04-04\n",
      "\n",
      "I also checked the patient's next appointment date, which is **next_appointment_date**: None (no appointment scheduled).\n",
      "\n",
      "Now, applying the decision logic:\n",
      "\n",
      "- **RULE 1**: Since next_appointment_date is None, I will update to the suggested_date.\n",
      "\n",
      "### Action:\n",
      "- **UPDATE** to suggested_date: 2025-04-04\n",
      "- **Reason**: Patient has no appointment, so schedule one.\n",
      "\n",
      "I will proceed to update the appointment date.\n",
      "\n",
      "\u001b[0m\u001b[38;5;200m\u001b[1;3mAppointment updated to 2025-04-04\u001b[0m\u001b[32;1m\u001b[1;3mThe appointment has been successfully updated to **2025-04-04** for the next Pap test.\u001b[0m\n",
      "\n",
      "\u001b[1m> Finished chain.\u001b[0m\n"
     ]
    },
    {
     "name": "stderr",
     "output_type": "stream",
     "text": [
      "\u001b[32m2025-10-20 10:43:23.941\u001b[0m | \u001b[1mINFO    \u001b[0m | \u001b[36mfetusapp.chatai.note_to_app_service\u001b[0m:\u001b[36manalyze_doctor_note\u001b[0m:\u001b[36m304\u001b[0m - \u001b[1mValidation passed on attempt 1\u001b[0m\n",
      "\u001b[32m2025-10-20 10:43:23.942\u001b[0m | \u001b[1mINFO    \u001b[0m | \u001b[36m__main__\u001b[0m:\u001b[36m<module>\u001b[0m:\u001b[36m15\u001b[0m - \u001b[1m================================================================================\u001b[0m\n",
      "\u001b[32m2025-10-20 10:43:23.942\u001b[0m | \u001b[1mINFO    \u001b[0m | \u001b[36m__main__\u001b[0m:\u001b[36m<module>\u001b[0m:\u001b[36m5\u001b[0m - \u001b[1m================================================================================\u001b[0m\n",
      "\u001b[32m2025-10-20 10:43:23.943\u001b[0m | \u001b[1mINFO    \u001b[0m | \u001b[36m__main__\u001b[0m:\u001b[36m<module>\u001b[0m:\u001b[36m6\u001b[0m - \u001b[1mAnalyzing comment #26:\n",
      "-ευρήματα στη μαστογραφία\n",
      "-της είπα να κάνει συμπληρωματικά υπέρηχο, γιατί μπορεί να είναι λόγω της πυκνής σύστασης των μαστών\n",
      "-δεν κάναμε check up\n",
      "-μου πλήρωσε 20 ευρώ...\u001b[0m\n",
      "\u001b[32m2025-10-20 10:43:23.943\u001b[0m | \u001b[1mINFO    \u001b[0m | \u001b[36m__main__\u001b[0m:\u001b[36m<module>\u001b[0m:\u001b[36m10\u001b[0m - \u001b[1mUsing current appointment date: 2024-04-03\u001b[0m\n"
     ]
    },
    {
     "name": "stdout",
     "output_type": "stream",
     "text": [
      "\n",
      "\n",
      "\u001b[1m> Entering new AgentExecutor chain...\u001b[0m\n",
      "\u001b[32;1m\u001b[1;3mNo appointment suggestion found.\u001b[0m\n",
      "\n",
      "\u001b[1m> Finished chain.\u001b[0m\n"
     ]
    },
    {
     "name": "stderr",
     "output_type": "stream",
     "text": [
      "\u001b[32m2025-10-20 10:43:25.590\u001b[0m | \u001b[1mINFO    \u001b[0m | \u001b[36mfetusapp.chatai.note_to_app_service\u001b[0m:\u001b[36manalyze_doctor_note\u001b[0m:\u001b[36m304\u001b[0m - \u001b[1mValidation passed on attempt 1\u001b[0m\n",
      "\u001b[32m2025-10-20 10:43:25.591\u001b[0m | \u001b[1mINFO    \u001b[0m | \u001b[36m__main__\u001b[0m:\u001b[36m<module>\u001b[0m:\u001b[36m15\u001b[0m - \u001b[1m================================================================================\u001b[0m\n",
      "\u001b[32m2025-10-20 10:43:25.591\u001b[0m | \u001b[1mINFO    \u001b[0m | \u001b[36m__main__\u001b[0m:\u001b[36m<module>\u001b[0m:\u001b[36m5\u001b[0m - \u001b[1m================================================================================\u001b[0m\n",
      "\u001b[32m2025-10-20 10:43:25.592\u001b[0m | \u001b[1mINFO    \u001b[0m | \u001b[36m__main__\u001b[0m:\u001b[36m<module>\u001b[0m:\u001b[36m6\u001b[0m - \u001b[1mAnalyzing comment #27:\n",
      "-ασταθής κύκλος με υπερμηνόρροια\n",
      "-υπέρηχος εγο: ΠΚΚ, χωρίς παθολογικά ευρήματα\n",
      "-γυναικείες ορμονολογικές εξετάσεις: κφ\n",
      "-της είπα για υστεροσκόπηση και πιθανή τοποθέτηση Mirena\n",
      "-της είπα ότι δεν θα πληρωθώ εγώ για την υστεροσκόπηση. Αν μου δώσουν κάτι φυσικά, θα το πάρω\n",
      "-δεν πήρα επίσκεψη σήμερα...\u001b[0m\n",
      "\u001b[32m2025-10-20 10:43:25.592\u001b[0m | \u001b[1mINFO    \u001b[0m | \u001b[36m__main__\u001b[0m:\u001b[36m<module>\u001b[0m:\u001b[36m10\u001b[0m - \u001b[1mUsing current appointment date: 2024-04-03\u001b[0m\n"
     ]
    },
    {
     "name": "stdout",
     "output_type": "stream",
     "text": [
      "\n",
      "\n",
      "\u001b[1m> Entering new AgentExecutor chain...\u001b[0m\n",
      "\u001b[32;1m\u001b[1;3mNo appointment suggestion found.\u001b[0m\n",
      "\n",
      "\u001b[1m> Finished chain.\u001b[0m\n"
     ]
    },
    {
     "name": "stderr",
     "output_type": "stream",
     "text": [
      "\u001b[32m2025-10-20 10:43:27.045\u001b[0m | \u001b[1mINFO    \u001b[0m | \u001b[36mfetusapp.chatai.note_to_app_service\u001b[0m:\u001b[36manalyze_doctor_note\u001b[0m:\u001b[36m304\u001b[0m - \u001b[1mValidation passed on attempt 1\u001b[0m\n",
      "\u001b[32m2025-10-20 10:43:27.046\u001b[0m | \u001b[1mINFO    \u001b[0m | \u001b[36m__main__\u001b[0m:\u001b[36m<module>\u001b[0m:\u001b[36m15\u001b[0m - \u001b[1m================================================================================\u001b[0m\n",
      "\u001b[32m2025-10-20 10:43:27.046\u001b[0m | \u001b[1mINFO    \u001b[0m | \u001b[36m__main__\u001b[0m:\u001b[36m<module>\u001b[0m:\u001b[36m5\u001b[0m - \u001b[1m================================================================================\u001b[0m\n",
      "\u001b[32m2025-10-20 10:43:27.047\u001b[0m | \u001b[1mINFO    \u001b[0m | \u001b[36m__main__\u001b[0m:\u001b[36m<module>\u001b[0m:\u001b[36m6\u001b[0m - \u001b[1mAnalyzing comment #28:\n",
      "-της πήρα τεστ Παπ και το πήγα στον Λαΐνη: αρνητικό για κακοήθεια. Επανάληψη σε ένα έτος\n",
      "-υπέρηχος εγο: ΟΚΚ, χωρίς παθολογικά ευρήματα\n",
      "-εμμηνόπαυση σε ηλικία 49 ετών\n",
      "-να κάνει μαστογραφία και υπέρηχο μαστών: έχει πρόσφατα κφ, όπως αναφέρει\n",
      "-μου πλήρωσε 80 ευρώ...\u001b[0m\n",
      "\u001b[32m2025-10-20 10:43:27.047\u001b[0m | \u001b[1mINFO    \u001b[0m | \u001b[36m__main__\u001b[0m:\u001b[36m<module>\u001b[0m:\u001b[36m10\u001b[0m - \u001b[1mUsing current appointment date: 2024-04-03\u001b[0m\n"
     ]
    },
    {
     "name": "stdout",
     "output_type": "stream",
     "text": [
      "\n",
      "\n",
      "\u001b[1m> Entering new AgentExecutor chain...\u001b[0m\n",
      "\u001b[32;1m\u001b[1;3m\n",
      "Invoking: `fetch_next_suggested_app_date` with `{'patient_id': '1448'}`\n",
      "\n",
      "\n",
      "\u001b[0m\u001b[33;1m\u001b[1;3mNone\u001b[0m\u001b[32;1m\u001b[1;3m\n",
      "Invoking: `calculate_appointment_date` with `{'reference_date': '2024-04-03', 'timeframe': '1 year'}`\n",
      "\n",
      "\n",
      "\u001b[0m\u001b[36;1m\u001b[1;3m2025-04-03\u001b[0m\u001b[32;1m\u001b[1;3m\n",
      "Invoking: `update_next_suggested_app_date` with `{'patient_id': '1448', 'new_date': '2025-04-03'}`\n",
      "responded: The doctor's note suggests a repeat ΠΑΠ test \"σε ένα έτος\" (in one year), which translates to a suggested date of **2025-04-03**.\n",
      "\n",
      "I have also checked the patient's next appointment date, which is **None** (no appointment scheduled).\n",
      "\n",
      "### Decision Logic:\n",
      "- **next_appointment_date**: None\n",
      "- **suggested_date**: 2025-04-03\n",
      "\n",
      "**Rule 1** applies here since there is no next appointment scheduled. Therefore, I will update the appointment to the suggested date.\n",
      "\n",
      "### Action:\n",
      "- **Update to suggested_date**: 2025-04-03\n",
      "- **Reason**: Patient has no appointment, so schedule one.\n",
      "\n",
      "Now, I will proceed to update the appointment.\n",
      "\n",
      "\u001b[0m\u001b[38;5;200m\u001b[1;3mAppointment updated to 2025-04-03\u001b[0m\u001b[32;1m\u001b[1;3mThe appointment has been successfully updated to **2025-04-03** for the repeat ΠΑΠ test.\u001b[0m\n",
      "\n",
      "\u001b[1m> Finished chain.\u001b[0m\n"
     ]
    },
    {
     "name": "stderr",
     "output_type": "stream",
     "text": [
      "\u001b[32m2025-10-20 10:43:33.864\u001b[0m | \u001b[1mINFO    \u001b[0m | \u001b[36mfetusapp.chatai.note_to_app_service\u001b[0m:\u001b[36manalyze_doctor_note\u001b[0m:\u001b[36m304\u001b[0m - \u001b[1mValidation passed on attempt 1\u001b[0m\n",
      "\u001b[32m2025-10-20 10:43:33.864\u001b[0m | \u001b[1mINFO    \u001b[0m | \u001b[36m__main__\u001b[0m:\u001b[36m<module>\u001b[0m:\u001b[36m15\u001b[0m - \u001b[1m================================================================================\u001b[0m\n",
      "\u001b[32m2025-10-20 10:43:33.865\u001b[0m | \u001b[1mINFO    \u001b[0m | \u001b[36m__main__\u001b[0m:\u001b[36m<module>\u001b[0m:\u001b[36m5\u001b[0m - \u001b[1m================================================================================\u001b[0m\n",
      "\u001b[32m2025-10-20 10:43:33.866\u001b[0m | \u001b[1mINFO    \u001b[0m | \u001b[36m__main__\u001b[0m:\u001b[36m<module>\u001b[0m:\u001b[36m6\u001b[0m - \u001b[1mAnalyzing comment #29:\n",
      "-της πήρα τεστ Παπ και το πήγα στον Λαΐνη: αρνητικό για κακοήθεια. Επανάληψη σε ένα έτος\n",
      "-υπέρηχος εγο: ΟΚΚ, χωρίς παθολογικά ευρήματα\n",
      "-να κάνει μαστογραφία και υπέρηχο μαστών: στον ΔΕ μαστό που είχαμε χειρουργήσει, έχει μία ύποπτη βλάβη με ακτινωτή παρυφή, που φαίνεται και στις δύο εξετάσεις. Της έστειλα να κάνει μαγνητική μαστογραφία και αν είναι θα την παραπέμψω στον Ξεπαπαδάκη ή στην Καρυδά\n",
      "-μου πλήρωσε 80 ευρώ...\u001b[0m\n",
      "\u001b[32m2025-10-20 10:43:33.867\u001b[0m | \u001b[1mINFO    \u001b[0m | \u001b[36m__main__\u001b[0m:\u001b[36m<module>\u001b[0m:\u001b[36m10\u001b[0m - \u001b[1mUsing current appointment date: 2024-04-03\u001b[0m\n"
     ]
    },
    {
     "name": "stdout",
     "output_type": "stream",
     "text": [
      "\n",
      "\n",
      "\u001b[1m> Entering new AgentExecutor chain...\u001b[0m\n",
      "\u001b[32;1m\u001b[1;3m\n",
      "Invoking: `fetch_next_suggested_app_date` with `{'patient_id': '753'}`\n",
      "\n",
      "\n",
      "\u001b[0m\u001b[33;1m\u001b[1;3mNone\u001b[0m\u001b[32;1m\u001b[1;3m\n",
      "Invoking: `calculate_appointment_date` with `{'reference_date': '2024-04-03', 'timeframe': '1 year'}`\n",
      "\n",
      "\n",
      "\u001b[0m\u001b[36;1m\u001b[1;3m2025-04-03\u001b[0m\u001b[32;1m\u001b[1;3m\n",
      "Invoking: `update_next_suggested_app_date` with `{'patient_id': '753', 'new_date': '2025-04-03'}`\n",
      "responded: The doctor's note suggests a follow-up Pap test in \"ένα έτος\" (one year), which translates to a suggested date of **2025-04-03**.\n",
      "\n",
      "I have also checked the patient's next appointment date, which is **None** (no appointment scheduled).\n",
      "\n",
      "### Decision Logic:\n",
      "- **next_appointment_date**: None\n",
      "- **suggested_date**: 2025-04-03\n",
      "\n",
      "**Rule 1** applies here since there is no next appointment scheduled. Therefore, I will update the appointment to the suggested date.\n",
      "\n",
      "### Action:\n",
      "- **Update to suggested_date**: 2025-04-03\n",
      "- **Reason**: Patient has no appointment, so schedule one.\n",
      "\n",
      "Now, I will proceed to update the appointment date.\n",
      "\n",
      "\u001b[0m\u001b[38;5;200m\u001b[1;3mAppointment updated to 2025-04-03\u001b[0m\u001b[32;1m\u001b[1;3mThe appointment has been successfully updated to **2025-04-03**. If you need any further assistance, feel free to ask!\u001b[0m\n",
      "\n",
      "\u001b[1m> Finished chain.\u001b[0m\n"
     ]
    },
    {
     "name": "stderr",
     "output_type": "stream",
     "text": [
      "\u001b[32m2025-10-20 10:43:40.088\u001b[0m | \u001b[1mINFO    \u001b[0m | \u001b[36mfetusapp.chatai.note_to_app_service\u001b[0m:\u001b[36manalyze_doctor_note\u001b[0m:\u001b[36m304\u001b[0m - \u001b[1mValidation passed on attempt 1\u001b[0m\n",
      "\u001b[32m2025-10-20 10:43:40.089\u001b[0m | \u001b[1mINFO    \u001b[0m | \u001b[36m__main__\u001b[0m:\u001b[36m<module>\u001b[0m:\u001b[36m15\u001b[0m - \u001b[1m================================================================================\u001b[0m\n",
      "\u001b[32m2025-10-20 10:43:40.089\u001b[0m | \u001b[1mINFO    \u001b[0m | \u001b[36m__main__\u001b[0m:\u001b[36m<module>\u001b[0m:\u001b[36m5\u001b[0m - \u001b[1m================================================================================\u001b[0m\n",
      "\u001b[32m2025-10-20 10:43:40.090\u001b[0m | \u001b[1mINFO    \u001b[0m | \u001b[36m__main__\u001b[0m:\u001b[36m<module>\u001b[0m:\u001b[36m6\u001b[0m - \u001b[1mAnalyzing comment #30:\n",
      "-της πήρα τεστ Παπ και το πήγα στον Λαΐνη: ίχνη HPV. Της έδωσα θεραπεία και της είπα επανάληψη σε 4 μήνες ΚΑΙ κολποσκόπηση\n",
      "-αν χρειαστεί loop, θα της πω με 1300 ευρώ στο ΙΑΣΩ\n",
      "-υπέρηχος εγο: σε ευθειωρία, χωρίς παθολογικά ευρήματα\n",
      "-να κάνει υπέρηχο μαστών και μαστογραφία:\n",
      "-μου πλήρωσε 80 ευρώ...\u001b[0m\n",
      "\u001b[32m2025-10-20 10:43:40.090\u001b[0m | \u001b[1mINFO    \u001b[0m | \u001b[36m__main__\u001b[0m:\u001b[36m<module>\u001b[0m:\u001b[36m10\u001b[0m - \u001b[1mUsing current appointment date: 2024-04-03\u001b[0m\n"
     ]
    },
    {
     "name": "stdout",
     "output_type": "stream",
     "text": [
      "\n",
      "\n",
      "\u001b[1m> Entering new AgentExecutor chain...\u001b[0m\n",
      "\u001b[32;1m\u001b[1;3m\n",
      "Invoking: `fetch_next_suggested_app_date` with `{'patient_id': '544'}`\n",
      "\n",
      "\n",
      "\u001b[0m\u001b[33;1m\u001b[1;3mNone\u001b[0m\u001b[32;1m\u001b[1;3m\n",
      "Invoking: `calculate_appointment_date` with `{'reference_date': '2024-04-03', 'timeframe': '4 months'}`\n",
      "\n",
      "\n",
      "\u001b[0m\u001b[36;1m\u001b[1;3m2024-08-03\u001b[0m\u001b[32;1m\u001b[1;3m\n",
      "Invoking: `update_next_suggested_app_date` with `{'patient_id': '544', 'new_date': '2024-08-03'}`\n",
      "responded: The doctor's note suggests a follow-up appointment for a Pap test in \"4 months\" from today's visit date (2024-04-03). \n",
      "\n",
      "Using this timeframe, the suggested date for the next appointment is calculated as follows:\n",
      "- **suggested_date**: 2024-08-03\n",
      "\n",
      "I also checked the patient's next scheduled appointment:\n",
      "- **next_appointment_date**: None (the patient has no future appointment scheduled)\n",
      "\n",
      "Since there is no existing appointment, I will proceed to update the patient's appointment to the suggested date.\n",
      "\n",
      "### Action:\n",
      "- **Update to suggested_date**: 2024-08-03\n",
      "- **Reason**: Patient has no appointment, so schedule one.\n",
      "\n",
      "Now, I will update the appointment.\n",
      "\n",
      "\u001b[0m\u001b[38;5;200m\u001b[1;3mAppointment updated to 2024-08-03\u001b[0m\u001b[32;1m\u001b[1;3mThe patient's appointment has been successfully updated to **2024-08-03**.\u001b[0m\n",
      "\n",
      "\u001b[1m> Finished chain.\u001b[0m\n"
     ]
    },
    {
     "name": "stderr",
     "output_type": "stream",
     "text": [
      "\u001b[32m2025-10-20 10:43:46.579\u001b[0m | \u001b[1mINFO    \u001b[0m | \u001b[36mfetusapp.chatai.note_to_app_service\u001b[0m:\u001b[36manalyze_doctor_note\u001b[0m:\u001b[36m304\u001b[0m - \u001b[1mValidation passed on attempt 1\u001b[0m\n",
      "\u001b[32m2025-10-20 10:43:46.580\u001b[0m | \u001b[1mINFO    \u001b[0m | \u001b[36m__main__\u001b[0m:\u001b[36m<module>\u001b[0m:\u001b[36m15\u001b[0m - \u001b[1m================================================================================\u001b[0m\n",
      "\u001b[32m2025-10-20 10:43:46.581\u001b[0m | \u001b[1mINFO    \u001b[0m | \u001b[36m__main__\u001b[0m:\u001b[36m<module>\u001b[0m:\u001b[36m5\u001b[0m - \u001b[1m================================================================================\u001b[0m\n",
      "\u001b[32m2025-10-20 10:43:46.581\u001b[0m | \u001b[1mINFO    \u001b[0m | \u001b[36m__main__\u001b[0m:\u001b[36m<module>\u001b[0m:\u001b[36m6\u001b[0m - \u001b[1mAnalyzing comment #31:\n",
      "-της πήρα τεστ Παπ και το πήγα στον Λαΐνη: αρνητικό για κακοήθεια. Επανάληψη σε ένα έτος\n",
      "-υπέρηχος εγο: ΠΚΚ, χωρίς παθολογικά ευρήματα\n",
      "-να κάνει υπέρηχο μαστών:\n",
      "-μου πλήρωσε 80 ευρώ...\u001b[0m\n",
      "\u001b[32m2025-10-20 10:43:46.582\u001b[0m | \u001b[1mINFO    \u001b[0m | \u001b[36m__main__\u001b[0m:\u001b[36m<module>\u001b[0m:\u001b[36m10\u001b[0m - \u001b[1mUsing current appointment date: 2024-03-28\u001b[0m\n"
     ]
    },
    {
     "name": "stdout",
     "output_type": "stream",
     "text": [
      "\n",
      "\n",
      "\u001b[1m> Entering new AgentExecutor chain...\u001b[0m\n",
      "\u001b[32;1m\u001b[1;3m\n",
      "Invoking: `fetch_next_suggested_app_date` with `{'patient_id': '1447'}`\n",
      "\n",
      "\n",
      "\u001b[0m\u001b[33;1m\u001b[1;3mNone\u001b[0m\u001b[32;1m\u001b[1;3m\n",
      "Invoking: `calculate_appointment_date` with `{'reference_date': '2024-03-28', 'timeframe': '1 year'}`\n",
      "\n",
      "\n",
      "\u001b[0m\u001b[36;1m\u001b[1;3m2025-03-28\u001b[0m\u001b[32;1m\u001b[1;3m\n",
      "Invoking: `update_next_suggested_app_date` with `{'patient_id': '1447', 'new_date': '2025-03-28'}`\n",
      "responded: The doctor's note suggests a Pap test to be repeated \"σε ένα έτος\" (in one year). Based on today's visit date of 2024-03-28, the suggested date for the next Pap test is calculated as:\n",
      "\n",
      "- **suggested_date**: 2025-03-28\n",
      "\n",
      "The patient's next scheduled appointment (next_appointment_date) is **None** (no appointment scheduled).\n",
      "\n",
      "Now, applying the decision logic:\n",
      "\n",
      "- **RULE 1**: Since next_appointment_date is None, we will **UPDATE to suggested_date (2025-03-28)**.\n",
      "- **REASON**: Patient has no appointment, so schedule one.\n",
      "\n",
      "I will proceed to update the patient's appointment date to 2025-03-28.\n",
      "\n",
      "\u001b[0m\u001b[38;5;200m\u001b[1;3mAppointment updated to 2025-03-28\u001b[0m\u001b[32;1m\u001b[1;3mThe patient's appointment has been successfully updated to **2025-03-28** for the next Pap test.\u001b[0m\n",
      "\n",
      "\u001b[1m> Finished chain.\u001b[0m\n"
     ]
    },
    {
     "name": "stderr",
     "output_type": "stream",
     "text": [
      "\u001b[32m2025-10-20 10:43:53.036\u001b[0m | \u001b[1mINFO    \u001b[0m | \u001b[36mfetusapp.chatai.note_to_app_service\u001b[0m:\u001b[36manalyze_doctor_note\u001b[0m:\u001b[36m304\u001b[0m - \u001b[1mValidation passed on attempt 1\u001b[0m\n",
      "\u001b[32m2025-10-20 10:43:53.038\u001b[0m | \u001b[1mINFO    \u001b[0m | \u001b[36m__main__\u001b[0m:\u001b[36m<module>\u001b[0m:\u001b[36m15\u001b[0m - \u001b[1m================================================================================\u001b[0m\n",
      "\u001b[32m2025-10-20 10:43:53.038\u001b[0m | \u001b[1mINFO    \u001b[0m | \u001b[36m__main__\u001b[0m:\u001b[36m<module>\u001b[0m:\u001b[36m5\u001b[0m - \u001b[1m================================================================================\u001b[0m\n",
      "\u001b[32m2025-10-20 10:43:53.039\u001b[0m | \u001b[1mINFO    \u001b[0m | \u001b[36m__main__\u001b[0m:\u001b[36m<module>\u001b[0m:\u001b[36m6\u001b[0m - \u001b[1mAnalyzing comment #32:\n",
      "-της πήρα τεστ Παπ και το πήγα στον Λαΐνη: αρνητικό για κακοήθεια. Επανάληψη σε ένα έτος\n",
      "-υπέρηχος εγο: ΠΚΚ, δεν έχει εξαρτήματα, ενδομήτριο 1,85 χιλιοστά\n",
      "-της έγραψα να κάνει μαστογραφία και υπέρηχο μαστών και θα μου τα προσκομίσει: κφ\n",
      "-μου πλήρωσε 80 ευρώ\n",
      "-εμμηνόπαυση σε ηλικία 47 ετών...\u001b[0m\n",
      "\u001b[32m2025-10-20 10:43:53.040\u001b[0m | \u001b[1mINFO    \u001b[0m | \u001b[36m__main__\u001b[0m:\u001b[36m<module>\u001b[0m:\u001b[36m10\u001b[0m - \u001b[1mUsing current appointment date: 2024-03-28\u001b[0m\n"
     ]
    },
    {
     "name": "stdout",
     "output_type": "stream",
     "text": [
      "\n",
      "\n",
      "\u001b[1m> Entering new AgentExecutor chain...\u001b[0m\n",
      "\u001b[32;1m\u001b[1;3m\n",
      "Invoking: `fetch_next_suggested_app_date` with `{'patient_id': '807'}`\n",
      "\n",
      "\n",
      "\u001b[0m\u001b[33;1m\u001b[1;3mNone\u001b[0m\u001b[32;1m\u001b[1;3m\n",
      "Invoking: `calculate_appointment_date` with `{'reference_date': '2024-03-28', 'timeframe': '1 year'}`\n",
      "\n",
      "\n",
      "\u001b[0m\u001b[36;1m\u001b[1;3m2025-03-28\u001b[0m\u001b[32;1m\u001b[1;3m\n",
      "Invoking: `update_next_suggested_app_date` with `{'patient_id': '807', 'new_date': '2025-03-28'}`\n",
      "responded: The doctor's note suggests a repeat ΠΑΠ test in \"ένα έτος\" (one year). Based on today's visit date of 2024-03-28, the suggested date for the next ΠΑΠ test is calculated as 2025-03-28.\n",
      "\n",
      "I also checked the patient's next scheduled appointment, which is currently **None** (no appointment scheduled).\n",
      "\n",
      "### Decision Logic:\n",
      "- **Rule 1**: Since there is no next appointment scheduled, I will update the appointment to the suggested date.\n",
      "\n",
      "### Action:\n",
      "- **Update to suggested_date**: 2025-03-28\n",
      "- **Reason**: Patient has no appointment, so schedule one.\n",
      "\n",
      "Now, I will proceed to update the appointment date.\n",
      "\n",
      "\u001b[0m\u001b[38;5;200m\u001b[1;3mAppointment updated to 2025-03-28\u001b[0m\u001b[32;1m\u001b[1;3mThe appointment has been successfully updated to **2025-03-28** for the repeat ΠΑΠ test. If you need any further assistance, feel free to ask!\u001b[0m\n",
      "\n",
      "\u001b[1m> Finished chain.\u001b[0m\n"
     ]
    },
    {
     "name": "stderr",
     "output_type": "stream",
     "text": [
      "\u001b[32m2025-10-20 10:44:00.353\u001b[0m | \u001b[1mINFO    \u001b[0m | \u001b[36mfetusapp.chatai.note_to_app_service\u001b[0m:\u001b[36manalyze_doctor_note\u001b[0m:\u001b[36m304\u001b[0m - \u001b[1mValidation passed on attempt 1\u001b[0m\n",
      "\u001b[32m2025-10-20 10:44:00.355\u001b[0m | \u001b[1mINFO    \u001b[0m | \u001b[36m__main__\u001b[0m:\u001b[36m<module>\u001b[0m:\u001b[36m15\u001b[0m - \u001b[1m================================================================================\u001b[0m\n",
      "\u001b[32m2025-10-20 10:44:00.358\u001b[0m | \u001b[1mINFO    \u001b[0m | \u001b[36m__main__\u001b[0m:\u001b[36m<module>\u001b[0m:\u001b[36m5\u001b[0m - \u001b[1m================================================================================\u001b[0m\n",
      "\u001b[32m2025-10-20 10:44:00.359\u001b[0m | \u001b[1mINFO    \u001b[0m | \u001b[36m__main__\u001b[0m:\u001b[36m<module>\u001b[0m:\u001b[36m6\u001b[0m - \u001b[1mAnalyzing comment #33:\n",
      "-της πήρα τεστ Παπ και το πήγα στον Λαΐνη: αν κφ, της είπα το επόμενο σε 3 έτη. Αρνητικό για κακοήθεια.\n",
      "-υπέρηχος εγο: ΠΚΚ, ενδομήτριο 1,67χιλιοστά\n",
      "-ΠΡΟΣΟΧΗ: ιστορικό Ca μαστού από μαμά και αδερφή μαμάς της\n",
      "-της έγραψα να κάνει μαστογραφία και υπέρηχο μαστών και θα μου τα προσκομίσει: άψογες και οι δύο εξετάσεις\n",
      "-μου πλήρωσε 100 ευρώ για όλα μαζί\n",
      "-εμμηνόπαυση σε ηλικία 45 ετών...\u001b[0m\n",
      "\u001b[32m2025-10-20 10:44:00.362\u001b[0m | \u001b[1mINFO    \u001b[0m | \u001b[36m__main__\u001b[0m:\u001b[36m<module>\u001b[0m:\u001b[36m10\u001b[0m - \u001b[1mUsing current appointment date: 2024-03-28\u001b[0m\n"
     ]
    },
    {
     "name": "stdout",
     "output_type": "stream",
     "text": [
      "\n",
      "\n",
      "\u001b[1m> Entering new AgentExecutor chain...\u001b[0m\n",
      "\u001b[32;1m\u001b[1;3m\n",
      "Invoking: `fetch_next_suggested_app_date` with `{'patient_id': '806'}`\n",
      "\n",
      "\n",
      "\u001b[0m\u001b[33;1m\u001b[1;3mNone\u001b[0m\u001b[32;1m\u001b[1;3m\n",
      "Invoking: `calculate_appointment_date` with `{'reference_date': '2024-03-28', 'timeframe': '3 years'}`\n",
      "\n",
      "\n",
      "\u001b[0m\u001b[36;1m\u001b[1;3m2027-03-28\u001b[0m\u001b[32;1m\u001b[1;3m\n",
      "Invoking: `update_next_suggested_app_date` with `{'patient_id': '806', 'new_date': '2027-03-28'}`\n",
      "responded: The doctor's note suggests that the next Pap test should be in 3 years from today's visit date (2024-03-28), which calculates to a suggested date of 2027-03-28.\n",
      "\n",
      "Now, I will compare the suggested date with the patient's next appointment date:\n",
      "\n",
      "- **suggested_date**: 2027-03-28\n",
      "- **next_appointment_date**: None (no appointment scheduled)\n",
      "\n",
      "Since there is no next appointment scheduled, I will proceed to update the patient's appointment to the suggested date of 2027-03-28.\n",
      "\n",
      "Updating the appointment now.\n",
      "\n",
      "\u001b[0m\u001b[38;5;200m\u001b[1;3mAppointment updated to 2027-03-28\u001b[0m\u001b[32;1m\u001b[1;3mThe patient's appointment has been successfully updated to the suggested date of **2027-03-28**.\u001b[0m\n",
      "\n",
      "\u001b[1m> Finished chain.\u001b[0m\n"
     ]
    },
    {
     "name": "stderr",
     "output_type": "stream",
     "text": [
      "\u001b[32m2025-10-20 10:44:08.110\u001b[0m | \u001b[1mINFO    \u001b[0m | \u001b[36mfetusapp.chatai.note_to_app_service\u001b[0m:\u001b[36manalyze_doctor_note\u001b[0m:\u001b[36m304\u001b[0m - \u001b[1mValidation passed on attempt 1\u001b[0m\n",
      "\u001b[32m2025-10-20 10:44:08.111\u001b[0m | \u001b[1mINFO    \u001b[0m | \u001b[36m__main__\u001b[0m:\u001b[36m<module>\u001b[0m:\u001b[36m15\u001b[0m - \u001b[1m================================================================================\u001b[0m\n",
      "\u001b[32m2025-10-20 10:44:08.111\u001b[0m | \u001b[1mINFO    \u001b[0m | \u001b[36m__main__\u001b[0m:\u001b[36m<module>\u001b[0m:\u001b[36m5\u001b[0m - \u001b[1m================================================================================\u001b[0m\n",
      "\u001b[32m2025-10-20 10:44:08.112\u001b[0m | \u001b[1mINFO    \u001b[0m | \u001b[36m__main__\u001b[0m:\u001b[36m<module>\u001b[0m:\u001b[36m6\u001b[0m - \u001b[1mAnalyzing comment #34:\n",
      "-της πήρα τεστ Παπ και το πήγα στον Λαΐνη: αρνητικό για κακοήθεια. Επανάληψη σε ένα έτος\n",
      "-υπέρηχος εγο: ΠΚΚ, χωρίς παθολογικά ευρήματα\n",
      "-της έγραψα να κάνει υπέρηχο μαστών και μαστογραφία και θα μου τα προσκομίσει: κφ \n",
      "-μου πλήρωσε 80 ευρώ...\u001b[0m\n",
      "\u001b[32m2025-10-20 10:44:08.112\u001b[0m | \u001b[1mINFO    \u001b[0m | \u001b[36m__main__\u001b[0m:\u001b[36m<module>\u001b[0m:\u001b[36m10\u001b[0m - \u001b[1mUsing current appointment date: 2024-03-28\u001b[0m\n"
     ]
    },
    {
     "name": "stdout",
     "output_type": "stream",
     "text": [
      "\n",
      "\n",
      "\u001b[1m> Entering new AgentExecutor chain...\u001b[0m\n",
      "\u001b[32;1m\u001b[1;3m\n",
      "Invoking: `fetch_next_suggested_app_date` with `{'patient_id': '664'}`\n",
      "\n",
      "\n",
      "\u001b[0m\u001b[33;1m\u001b[1;3mNone\u001b[0m\u001b[32;1m\u001b[1;3m\n",
      "Invoking: `calculate_appointment_date` with `{'reference_date': '2024-03-28', 'timeframe': '1 year'}`\n",
      "\n",
      "\n",
      "\u001b[0m\u001b[36;1m\u001b[1;3m2025-03-28\u001b[0m\u001b[32;1m\u001b[1;3m\n",
      "Invoking: `update_next_suggested_app_date` with `{'patient_id': '664', 'new_date': '2025-03-28'}`\n",
      "responded: The doctor's note suggests a follow-up Pap test in \"ένα έτος\" (one year). Based on today's visit date of 2024-03-28, the suggested date for the next Pap test is calculated as 2025-03-28.\n",
      "\n",
      "I also checked the patient's next appointment date, which is currently **None** (no appointment scheduled).\n",
      "\n",
      "### Decision Logic:\n",
      "- **Rule 1**: Since the next appointment date is None, I will update the appointment to the suggested date.\n",
      "\n",
      "### Action:\n",
      "- **Update to suggested_date**: 2025-03-28\n",
      "- **Reason**: Patient has no appointment, so schedule one.\n",
      "\n",
      "Now, I will proceed to update the appointment date.\n",
      "\n",
      "\u001b[0m\u001b[38;5;200m\u001b[1;3mAppointment updated to 2025-03-28\u001b[0m\u001b[32;1m\u001b[1;3mThe appointment has been successfully updated to **2025-03-28** for the follow-up Pap test.\u001b[0m\n",
      "\n",
      "\u001b[1m> Finished chain.\u001b[0m\n"
     ]
    },
    {
     "name": "stderr",
     "output_type": "stream",
     "text": [
      "\u001b[32m2025-10-20 10:44:14.866\u001b[0m | \u001b[1mINFO    \u001b[0m | \u001b[36mfetusapp.chatai.note_to_app_service\u001b[0m:\u001b[36manalyze_doctor_note\u001b[0m:\u001b[36m304\u001b[0m - \u001b[1mValidation passed on attempt 1\u001b[0m\n",
      "\u001b[32m2025-10-20 10:44:14.867\u001b[0m | \u001b[1mINFO    \u001b[0m | \u001b[36m__main__\u001b[0m:\u001b[36m<module>\u001b[0m:\u001b[36m15\u001b[0m - \u001b[1m================================================================================\u001b[0m\n",
      "\u001b[32m2025-10-20 10:44:14.867\u001b[0m | \u001b[1mINFO    \u001b[0m | \u001b[36m__main__\u001b[0m:\u001b[36m<module>\u001b[0m:\u001b[36m5\u001b[0m - \u001b[1m================================================================================\u001b[0m\n",
      "\u001b[32m2025-10-20 10:44:14.867\u001b[0m | \u001b[1mINFO    \u001b[0m | \u001b[36m__main__\u001b[0m:\u001b[36m<module>\u001b[0m:\u001b[36m6\u001b[0m - \u001b[1mAnalyzing comment #35:\n",
      "-δεν την είδα σήμερα. Απλώς γράφω ότι έχει έναν ενδομητρικό πολύποδα και της είπα για υστεροσκοπική αφαίρεση στην Ελλάδα\n",
      "-θα της πω 1200 ευρώ δικά μου και αναισθησιολόγου απογευματινό ODS\n",
      "-την ίδια ημέρα θα πω στον Μπρεδάκη ή Μίλτο ή Λυμπερόπουλο να της κάνουν έναν υπέρηχο, γιατί της βρήκαν ένα ινοαδένωμα 2 εκατοστά στον ΔΕ μαστό...\u001b[0m\n",
      "\u001b[32m2025-10-20 10:44:14.869\u001b[0m | \u001b[1mINFO    \u001b[0m | \u001b[36m__main__\u001b[0m:\u001b[36m<module>\u001b[0m:\u001b[36m10\u001b[0m - \u001b[1mUsing current appointment date: 2024-03-28\u001b[0m\n"
     ]
    },
    {
     "name": "stdout",
     "output_type": "stream",
     "text": [
      "\n",
      "\n",
      "\u001b[1m> Entering new AgentExecutor chain...\u001b[0m\n",
      "\u001b[32;1m\u001b[1;3m\n",
      "Invoking: `fetch_next_suggested_app_date` with `{'patient_id': '390'}`\n",
      "\n",
      "\n",
      "\u001b[0m\u001b[33;1m\u001b[1;3mNone\u001b[0m\u001b[32;1m\u001b[1;3mNo appointment suggestion found.\u001b[0m\n",
      "\n",
      "\u001b[1m> Finished chain.\u001b[0m\n"
     ]
    },
    {
     "name": "stderr",
     "output_type": "stream",
     "text": [
      "\u001b[32m2025-10-20 10:44:17.287\u001b[0m | \u001b[1mINFO    \u001b[0m | \u001b[36mfetusapp.chatai.note_to_app_service\u001b[0m:\u001b[36manalyze_doctor_note\u001b[0m:\u001b[36m304\u001b[0m - \u001b[1mValidation passed on attempt 1\u001b[0m\n",
      "\u001b[32m2025-10-20 10:44:17.288\u001b[0m | \u001b[1mINFO    \u001b[0m | \u001b[36m__main__\u001b[0m:\u001b[36m<module>\u001b[0m:\u001b[36m15\u001b[0m - \u001b[1m================================================================================\u001b[0m\n",
      "\u001b[32m2025-10-20 10:44:17.289\u001b[0m | \u001b[1mINFO    \u001b[0m | \u001b[36m__main__\u001b[0m:\u001b[36m<module>\u001b[0m:\u001b[36m5\u001b[0m - \u001b[1m================================================================================\u001b[0m\n",
      "\u001b[32m2025-10-20 10:44:17.289\u001b[0m | \u001b[1mINFO    \u001b[0m | \u001b[36m__main__\u001b[0m:\u001b[36m<module>\u001b[0m:\u001b[36m6\u001b[0m - \u001b[1mAnalyzing comment #36:\n",
      "-της πήρα τεστ Παπ και το πήγα στον Λαΐνη: αρνητικό για κακοήθεια. Επανάληψη σε ένα έτος\n",
      "-υπέρηχος εγο: ΠΚΚ, χωρίς παθολογικά ευρήματα\n",
      "-της έγραψα να κάνει υπέρηχο μαστών και θα μου τον προσκομίσει: \n",
      "-μου πλήρωσε 80 ευρώ...\u001b[0m\n",
      "\u001b[32m2025-10-20 10:44:17.289\u001b[0m | \u001b[1mINFO    \u001b[0m | \u001b[36m__main__\u001b[0m:\u001b[36m<module>\u001b[0m:\u001b[36m10\u001b[0m - \u001b[1mUsing current appointment date: 2024-03-28\u001b[0m\n"
     ]
    },
    {
     "name": "stdout",
     "output_type": "stream",
     "text": [
      "\n",
      "\n",
      "\u001b[1m> Entering new AgentExecutor chain...\u001b[0m\n",
      "\u001b[32;1m\u001b[1;3m\n",
      "Invoking: `fetch_next_suggested_app_date` with `{'patient_id': '348'}`\n",
      "\n",
      "\n",
      "\u001b[0m\u001b[33;1m\u001b[1;3mNone\u001b[0m\u001b[32;1m\u001b[1;3m\n",
      "Invoking: `calculate_appointment_date` with `{'reference_date': '2024-03-28', 'timeframe': '1 year'}`\n",
      "\n",
      "\n",
      "\u001b[0m\u001b[36;1m\u001b[1;3m2025-03-28\u001b[0m\u001b[32;1m\u001b[1;3m\n",
      "Invoking: `update_next_suggested_app_date` with `{'patient_id': '348', 'new_date': '2025-03-28'}`\n",
      "responded: The doctor's note suggests a Pap test to be repeated \"σε ένα έτος\" (in one year). Based on today's visit date of 2024-03-28, the suggested date for the next Pap test is calculated as:\n",
      "\n",
      "- **suggested_date**: 2025-03-28\n",
      "\n",
      "I also checked the patient's next appointment date, which is **next_appointment_date**: None (no appointment scheduled).\n",
      "\n",
      "Now, applying the decision logic:\n",
      "\n",
      "- **RULE 1**: Since next_appointment_date is None, I will update to the suggested_date.\n",
      "\n",
      "### Action:\n",
      "- **UPDATE** to suggested_date: 2025-03-28\n",
      "- **REASON**: Patient has no appointment, so schedule one.\n",
      "\n",
      "I will proceed to update the appointment date.\n",
      "\n",
      "\u001b[0m\u001b[38;5;200m\u001b[1;3mAppointment updated to 2025-03-28\u001b[0m\u001b[32;1m\u001b[1;3mThe appointment has been successfully updated to **2025-03-28** for the next Pap test.\u001b[0m\n",
      "\n",
      "\u001b[1m> Finished chain.\u001b[0m\n"
     ]
    },
    {
     "name": "stderr",
     "output_type": "stream",
     "text": [
      "\u001b[32m2025-10-20 10:44:23.401\u001b[0m | \u001b[1mINFO    \u001b[0m | \u001b[36mfetusapp.chatai.note_to_app_service\u001b[0m:\u001b[36manalyze_doctor_note\u001b[0m:\u001b[36m304\u001b[0m - \u001b[1mValidation passed on attempt 1\u001b[0m\n",
      "\u001b[32m2025-10-20 10:44:23.404\u001b[0m | \u001b[1mINFO    \u001b[0m | \u001b[36m__main__\u001b[0m:\u001b[36m<module>\u001b[0m:\u001b[36m15\u001b[0m - \u001b[1m================================================================================\u001b[0m\n",
      "\u001b[32m2025-10-20 10:44:23.408\u001b[0m | \u001b[1mINFO    \u001b[0m | \u001b[36m__main__\u001b[0m:\u001b[36m<module>\u001b[0m:\u001b[36m5\u001b[0m - \u001b[1m================================================================================\u001b[0m\n",
      "\u001b[32m2025-10-20 10:44:23.409\u001b[0m | \u001b[1mINFO    \u001b[0m | \u001b[36m__main__\u001b[0m:\u001b[36m<module>\u001b[0m:\u001b[36m6\u001b[0m - \u001b[1mAnalyzing comment #37:\n",
      "-της πήρα τεστ Παπ και το πήγα στον Λαΐνη: αρνητικό για κακοήθεια. Επανάληψη σε ένα έτος. \n",
      "-υπέρηχος εγο: ΠΚΚ, χωρίς παθολογικά ευρήματα\n",
      "-για μαστούς την παρακολουθεί η Καρυδά\n",
      "-μου πλήρωσε 50 ευρώ μόνο για το τεστ Παπ...\u001b[0m\n",
      "\u001b[32m2025-10-20 10:44:23.410\u001b[0m | \u001b[1mINFO    \u001b[0m | \u001b[36m__main__\u001b[0m:\u001b[36m<module>\u001b[0m:\u001b[36m10\u001b[0m - \u001b[1mUsing current appointment date: 2024-03-26\u001b[0m\n"
     ]
    },
    {
     "name": "stdout",
     "output_type": "stream",
     "text": [
      "\n",
      "\n",
      "\u001b[1m> Entering new AgentExecutor chain...\u001b[0m\n",
      "\u001b[32;1m\u001b[1;3m\n",
      "Invoking: `fetch_next_suggested_app_date` with `{'patient_id': '1446'}`\n",
      "\n",
      "\n",
      "\u001b[0m\u001b[33;1m\u001b[1;3mNone\u001b[0m\u001b[32;1m\u001b[1;3m\n",
      "Invoking: `calculate_appointment_date` with `{'reference_date': '2024-03-26', 'timeframe': '1 year'}`\n",
      "\n",
      "\n",
      "\u001b[0m\u001b[36;1m\u001b[1;3m2025-03-26\u001b[0m\u001b[32;1m\u001b[1;3m\n",
      "Invoking: `update_next_suggested_app_date` with `{'patient_id': '1446', 'new_date': '2025-03-26'}`\n",
      "responded: The doctor's note suggests a follow-up Pap test in \"ένα έτος\" (one year), which translates to a suggested date of **2025-03-26**.\n",
      "\n",
      "The patient's next scheduled appointment date is **None** (no appointment scheduled).\n",
      "\n",
      "### Decision Logic:\n",
      "- **Rule 1**: Since the next appointment date is None, we will update to the suggested date.\n",
      "\n",
      "### Action:\n",
      "- **Update the appointment date to 2025-03-26**.\n",
      "- **Reason**: Patient has no appointment, so schedule one.\n",
      "\n",
      "Now, I will proceed to update the appointment date.\n",
      "\n",
      "\u001b[0m\u001b[38;5;200m\u001b[1;3mAppointment updated to 2025-03-26\u001b[0m\u001b[32;1m\u001b[1;3mThe appointment has been successfully updated to **2025-03-26**.\u001b[0m\n",
      "\n",
      "\u001b[1m> Finished chain.\u001b[0m\n"
     ]
    },
    {
     "name": "stderr",
     "output_type": "stream",
     "text": [
      "\u001b[32m2025-10-20 10:44:32.356\u001b[0m | \u001b[1mINFO    \u001b[0m | \u001b[36mfetusapp.chatai.note_to_app_service\u001b[0m:\u001b[36manalyze_doctor_note\u001b[0m:\u001b[36m304\u001b[0m - \u001b[1mValidation passed on attempt 1\u001b[0m\n",
      "\u001b[32m2025-10-20 10:44:32.356\u001b[0m | \u001b[1mINFO    \u001b[0m | \u001b[36m__main__\u001b[0m:\u001b[36m<module>\u001b[0m:\u001b[36m15\u001b[0m - \u001b[1m================================================================================\u001b[0m\n",
      "\u001b[32m2025-10-20 10:44:32.357\u001b[0m | \u001b[1mINFO    \u001b[0m | \u001b[36m__main__\u001b[0m:\u001b[36m<module>\u001b[0m:\u001b[36m5\u001b[0m - \u001b[1m================================================================================\u001b[0m\n",
      "\u001b[32m2025-10-20 10:44:32.357\u001b[0m | \u001b[1mINFO    \u001b[0m | \u001b[36m__main__\u001b[0m:\u001b[36m<module>\u001b[0m:\u001b[36m6\u001b[0m - \u001b[1mAnalyzing comment #38:\n",
      "-τεστ Παπ θα κάνουμε τον Σεπτέμβριο 2024\n",
      "-υπέρηχος εγο: ΠΚΚ, χωρίς παθολογικά ευρήματα. ΑΨΟΓΕΣ ωοθήκες\n",
      "-να κάνει μαστογραφία και υπέρηχο μαστών:\n",
      "-μου πλήρωσε 80 ευρώ...\u001b[0m\n",
      "\u001b[32m2025-10-20 10:44:32.358\u001b[0m | \u001b[1mINFO    \u001b[0m | \u001b[36m__main__\u001b[0m:\u001b[36m<module>\u001b[0m:\u001b[36m10\u001b[0m - \u001b[1mUsing current appointment date: 2024-03-21\u001b[0m\n"
     ]
    },
    {
     "name": "stdout",
     "output_type": "stream",
     "text": [
      "\n",
      "\n",
      "\u001b[1m> Entering new AgentExecutor chain...\u001b[0m\n",
      "\u001b[32;1m\u001b[1;3m\n",
      "Invoking: `fetch_next_suggested_app_date` with `{'patient_id': '1445'}`\n",
      "\n",
      "\n",
      "\u001b[0m\u001b[33;1m\u001b[1;3mNone\u001b[0m\u001b[32;1m\u001b[1;3m\n",
      "Invoking: `calculate_appointment_date` with `{'reference_date': '2024-03-21', 'timeframe': '6 months'}`\n",
      "\n",
      "\n",
      "\u001b[0m\u001b[36;1m\u001b[1;3m2024-09-21\u001b[0m\u001b[32;1m\u001b[1;3m\n",
      "Invoking: `update_next_suggested_app_date` with `{'patient_id': '1445', 'new_date': '2024-09-21'}`\n",
      "responded: The doctor's note suggests a Pap test to be done in September 2024. \n",
      "\n",
      "1. **Extracted Date**: The note indicates \"τον Σεπτέμβριο 2024\", which suggests a timeframe for the Pap test.\n",
      "2. **Calculated Suggested Date**: Based on the current appointment date of 2024-03-21 and the timeframe of \"6 months\", the suggested date for the Pap test is calculated as **2024-09-21**.\n",
      "\n",
      "Next, I fetched the patient's next appointment date, which is **None** (no appointment scheduled).\n",
      "\n",
      "### Decision Logic:\n",
      "- **Rule 1**: Since the next appointment date is None, I will update the appointment to the suggested date of **2024-09-21**.\n",
      "- **Action**: UPDATE to **2024-09-21**\n",
      "- **Reason**: Patient has no appointment, so schedule one.\n",
      "\n",
      "Now, I will proceed to update the appointment date.\n",
      "\n",
      "\u001b[0m\u001b[38;5;200m\u001b[1;3mAppointment updated to 2024-09-21\u001b[0m\u001b[32;1m\u001b[1;3mThe appointment has been successfully updated to **2024-09-21** for the Pap test. If you need any further assistance, feel free to ask!\u001b[0m\n",
      "\n",
      "\u001b[1m> Finished chain.\u001b[0m\n"
     ]
    },
    {
     "name": "stderr",
     "output_type": "stream",
     "text": [
      "\u001b[32m2025-10-20 10:44:41.930\u001b[0m | \u001b[1mINFO    \u001b[0m | \u001b[36mfetusapp.chatai.note_to_app_service\u001b[0m:\u001b[36manalyze_doctor_note\u001b[0m:\u001b[36m304\u001b[0m - \u001b[1mValidation passed on attempt 1\u001b[0m\n",
      "\u001b[32m2025-10-20 10:44:41.933\u001b[0m | \u001b[1mINFO    \u001b[0m | \u001b[36m__main__\u001b[0m:\u001b[36m<module>\u001b[0m:\u001b[36m15\u001b[0m - \u001b[1m================================================================================\u001b[0m\n",
      "\u001b[32m2025-10-20 10:44:41.934\u001b[0m | \u001b[1mINFO    \u001b[0m | \u001b[36m__main__\u001b[0m:\u001b[36m<module>\u001b[0m:\u001b[36m5\u001b[0m - \u001b[1m================================================================================\u001b[0m\n",
      "\u001b[32m2025-10-20 10:44:41.936\u001b[0m | \u001b[1mINFO    \u001b[0m | \u001b[36m__main__\u001b[0m:\u001b[36m<module>\u001b[0m:\u001b[36m6\u001b[0m - \u001b[1mAnalyzing comment #39:\n",
      "-της πήρα τεστ Παπ και το πήγα στον Λαΐνη: αρνητικό για κακοήθεια. Επανάληψη σε ένα έτος\n",
      "-υπέρηχος εγο: ΠΚΚ, χωρίς παθολογικά ευρήματα\n",
      "-να κάνει υπέρηχο μαστών:\n",
      "-μου πλήρωσε 80 ευρώ...\u001b[0m\n",
      "\u001b[32m2025-10-20 10:44:41.939\u001b[0m | \u001b[1mINFO    \u001b[0m | \u001b[36m__main__\u001b[0m:\u001b[36m<module>\u001b[0m:\u001b[36m10\u001b[0m - \u001b[1mUsing current appointment date: 2024-03-21\u001b[0m\n"
     ]
    },
    {
     "name": "stdout",
     "output_type": "stream",
     "text": [
      "\n",
      "\n",
      "\u001b[1m> Entering new AgentExecutor chain...\u001b[0m\n",
      "\u001b[32;1m\u001b[1;3m\n",
      "Invoking: `fetch_next_suggested_app_date` with `{'patient_id': '1444'}`\n",
      "\n",
      "\n",
      "\u001b[0m\u001b[33;1m\u001b[1;3mNone\u001b[0m\u001b[32;1m\u001b[1;3m\n",
      "Invoking: `calculate_appointment_date` with `{'reference_date': '2024-03-21', 'timeframe': '1 year'}`\n",
      "\n",
      "\n",
      "\u001b[0m\u001b[36;1m\u001b[1;3m2025-03-21\u001b[0m\u001b[32;1m\u001b[1;3m\n",
      "Invoking: `update_next_suggested_app_date` with `{'patient_id': '1444', 'new_date': '2025-03-21'}`\n",
      "responded: The doctor's note suggests a repeat ΠΑΠ test in \"ένα έτος\" (one year). Based on today's visit date of 2024-03-21, the suggested date for the next ΠΑΠ test is calculated as:\n",
      "\n",
      "- **suggested_date**: 2025-03-21\n",
      "\n",
      "I also checked the patient's next scheduled appointment:\n",
      "\n",
      "- **next_appointment_date**: None (no appointment scheduled)\n",
      "\n",
      "Now, applying the decision logic:\n",
      "\n",
      "- **Rule 1**: Since there is no next appointment scheduled (next_appointment_date is None), I will update the appointment to the suggested date.\n",
      "\n",
      "### Action:\n",
      "- **UPDATE** to suggested_date: 2025-03-21\n",
      "- **Reason**: Patient has no appointment, so schedule one.\n",
      "\n",
      "I will proceed to update the patient's appointment date.\n",
      "\n",
      "\u001b[0m\u001b[38;5;200m\u001b[1;3mAppointment updated to 2025-03-21\u001b[0m\u001b[32;1m\u001b[1;3mThe patient's appointment has been successfully updated to **2025-03-21** for the repeat ΠΑΠ test.\u001b[0m\n",
      "\n",
      "\u001b[1m> Finished chain.\u001b[0m\n"
     ]
    },
    {
     "name": "stderr",
     "output_type": "stream",
     "text": [
      "\u001b[32m2025-10-20 10:44:48.664\u001b[0m | \u001b[1mINFO    \u001b[0m | \u001b[36mfetusapp.chatai.note_to_app_service\u001b[0m:\u001b[36manalyze_doctor_note\u001b[0m:\u001b[36m304\u001b[0m - \u001b[1mValidation passed on attempt 1\u001b[0m\n",
      "\u001b[32m2025-10-20 10:44:48.665\u001b[0m | \u001b[1mINFO    \u001b[0m | \u001b[36m__main__\u001b[0m:\u001b[36m<module>\u001b[0m:\u001b[36m15\u001b[0m - \u001b[1m================================================================================\u001b[0m\n",
      "\u001b[32m2025-10-20 10:44:48.667\u001b[0m | \u001b[1mINFO    \u001b[0m | \u001b[36m__main__\u001b[0m:\u001b[36m<module>\u001b[0m:\u001b[36m5\u001b[0m - \u001b[1m================================================================================\u001b[0m\n",
      "\u001b[32m2025-10-20 10:44:48.669\u001b[0m | \u001b[1mINFO    \u001b[0m | \u001b[36m__main__\u001b[0m:\u001b[36m<module>\u001b[0m:\u001b[36m6\u001b[0m - \u001b[1mAnalyzing comment #40:\n",
      "-της πήρα τεστ Παπ και το πήγα στον Λαΐνη:\n",
      "-υπέρηχος εγο:\n",
      "-αν δεν θηλάζει, να κάνει υπέρηχο μαστών\n",
      "-μου πλήρωσε 100 ευρώ...\u001b[0m\n",
      "\u001b[32m2025-10-20 10:44:48.670\u001b[0m | \u001b[1mINFO    \u001b[0m | \u001b[36m__main__\u001b[0m:\u001b[36m<module>\u001b[0m:\u001b[36m10\u001b[0m - \u001b[1mUsing current appointment date: 2024-03-21\u001b[0m\n"
     ]
    },
    {
     "name": "stdout",
     "output_type": "stream",
     "text": [
      "\n",
      "\n",
      "\u001b[1m> Entering new AgentExecutor chain...\u001b[0m\n",
      "\u001b[32;1m\u001b[1;3mNo appointment suggestion found.\u001b[0m\n",
      "\n",
      "\u001b[1m> Finished chain.\u001b[0m\n"
     ]
    },
    {
     "name": "stderr",
     "output_type": "stream",
     "text": [
      "\u001b[32m2025-10-20 10:44:50.344\u001b[0m | \u001b[1mINFO    \u001b[0m | \u001b[36mfetusapp.chatai.note_to_app_service\u001b[0m:\u001b[36manalyze_doctor_note\u001b[0m:\u001b[36m304\u001b[0m - \u001b[1mValidation passed on attempt 1\u001b[0m\n",
      "\u001b[32m2025-10-20 10:44:50.345\u001b[0m | \u001b[1mINFO    \u001b[0m | \u001b[36m__main__\u001b[0m:\u001b[36m<module>\u001b[0m:\u001b[36m15\u001b[0m - \u001b[1m================================================================================\u001b[0m\n",
      "\u001b[32m2025-10-20 10:44:50.346\u001b[0m | \u001b[1mINFO    \u001b[0m | \u001b[36m__main__\u001b[0m:\u001b[36m<module>\u001b[0m:\u001b[36m5\u001b[0m - \u001b[1m================================================================================\u001b[0m\n",
      "\u001b[32m2025-10-20 10:44:50.347\u001b[0m | \u001b[1mINFO    \u001b[0m | \u001b[36m__main__\u001b[0m:\u001b[36m<module>\u001b[0m:\u001b[36m6\u001b[0m - \u001b[1mAnalyzing comment #41:\n",
      "-της πήρα τεστ Παπ και το πήγα στον Λαΐνη: αρνητικό για κακοήθεια. Επανάληψη σε ένα έτος\n",
      "-υπέρηχος εγο: ΟΚΚ, χωρίς παθολογικά ευρήματα\n",
      "-της έγραψα να κάνει υπέρηχο μαστών και θα μου τον προσκομίσει:\n",
      "-μου πλήρωσε 80 ευρώ...\u001b[0m\n",
      "\u001b[32m2025-10-20 10:44:50.347\u001b[0m | \u001b[1mINFO    \u001b[0m | \u001b[36m__main__\u001b[0m:\u001b[36m<module>\u001b[0m:\u001b[36m10\u001b[0m - \u001b[1mUsing current appointment date: 2024-03-21\u001b[0m\n"
     ]
    },
    {
     "name": "stdout",
     "output_type": "stream",
     "text": [
      "\n",
      "\n",
      "\u001b[1m> Entering new AgentExecutor chain...\u001b[0m\n",
      "\u001b[32;1m\u001b[1;3m\n",
      "Invoking: `fetch_next_suggested_app_date` with `{'patient_id': '1248'}`\n",
      "\n",
      "\n",
      "\u001b[0m\u001b[33;1m\u001b[1;3mNone\u001b[0m\u001b[32;1m\u001b[1;3m\n",
      "Invoking: `calculate_appointment_date` with `{'reference_date': '2024-03-21', 'timeframe': '1 year'}`\n",
      "\n",
      "\n",
      "\u001b[0m\u001b[36;1m\u001b[1;3m2025-03-21\u001b[0m\u001b[32;1m\u001b[1;3m\n",
      "Invoking: `update_next_suggested_app_date` with `{'patient_id': '1248', 'new_date': '2025-03-21'}`\n",
      "responded: The doctor's note suggests a follow-up Pap test in \"ένα έτος\" (one year), which translates to a suggested date of **2025-03-21**.\n",
      "\n",
      "The patient's next scheduled appointment date is **None** (no appointment scheduled).\n",
      "\n",
      "### Decision Logic:\n",
      "- **Rule 1**: Since the next appointment date is None, we will update to the suggested date.\n",
      "\n",
      "### Action:\n",
      "- **Update to suggested_date**: 2025-03-21\n",
      "- **Reason**: Patient has no appointment, so schedule one.\n",
      "\n",
      "Now, I will proceed to update the patient's appointment date to **2025-03-21**.\n",
      "\n",
      "\u001b[0m\u001b[38;5;200m\u001b[1;3mAppointment updated to 2025-03-21\u001b[0m\u001b[32;1m\u001b[1;3mThe patient's appointment has been successfully updated to **2025-03-21** for the follow-up Pap test.\u001b[0m\n",
      "\n",
      "\u001b[1m> Finished chain.\u001b[0m\n"
     ]
    },
    {
     "name": "stderr",
     "output_type": "stream",
     "text": [
      "\u001b[32m2025-10-20 10:44:57.192\u001b[0m | \u001b[1mINFO    \u001b[0m | \u001b[36mfetusapp.chatai.note_to_app_service\u001b[0m:\u001b[36manalyze_doctor_note\u001b[0m:\u001b[36m304\u001b[0m - \u001b[1mValidation passed on attempt 1\u001b[0m\n",
      "\u001b[32m2025-10-20 10:44:57.193\u001b[0m | \u001b[1mINFO    \u001b[0m | \u001b[36m__main__\u001b[0m:\u001b[36m<module>\u001b[0m:\u001b[36m15\u001b[0m - \u001b[1m================================================================================\u001b[0m\n",
      "\u001b[32m2025-10-20 10:44:57.194\u001b[0m | \u001b[1mINFO    \u001b[0m | \u001b[36m__main__\u001b[0m:\u001b[36m<module>\u001b[0m:\u001b[36m5\u001b[0m - \u001b[1m================================================================================\u001b[0m\n",
      "\u001b[32m2025-10-20 10:44:57.194\u001b[0m | \u001b[1mINFO    \u001b[0m | \u001b[36m__main__\u001b[0m:\u001b[36m<module>\u001b[0m:\u001b[36m6\u001b[0m - \u001b[1mAnalyzing comment #42:\n",
      "-της πήρα τεστ Παπ και το πήγα στον Λαΐνη: αρνητικό για κακοήθεια. Επανάληψη σε ένα έτος\n",
      "-υπέρηχος εγο: ΠΚΚ, χωρίς παθολογικά ευρήματα\n",
      "-να κάνει υπέρηχο μαστών:\n",
      "-μου πλήρωσε 80 ευρώ...\u001b[0m\n",
      "\u001b[32m2025-10-20 10:44:57.195\u001b[0m | \u001b[1mINFO    \u001b[0m | \u001b[36m__main__\u001b[0m:\u001b[36m<module>\u001b[0m:\u001b[36m10\u001b[0m - \u001b[1mUsing current appointment date: 2024-03-21\u001b[0m\n"
     ]
    },
    {
     "name": "stdout",
     "output_type": "stream",
     "text": [
      "\n",
      "\n",
      "\u001b[1m> Entering new AgentExecutor chain...\u001b[0m\n",
      "\u001b[32;1m\u001b[1;3m\n",
      "Invoking: `fetch_next_suggested_app_date` with `{'patient_id': '1094'}`\n",
      "\n",
      "\n",
      "\u001b[0m\u001b[33;1m\u001b[1;3mNone\u001b[0m\u001b[32;1m\u001b[1;3m\n",
      "Invoking: `calculate_appointment_date` with `{'reference_date': '2024-03-21', 'timeframe': '1 year'}`\n",
      "\n",
      "\n",
      "\u001b[0m\u001b[36;1m\u001b[1;3m2025-03-21\u001b[0m\u001b[32;1m\u001b[1;3m\n",
      "Invoking: `update_next_suggested_app_date` with `{'patient_id': '1094', 'new_date': '2025-03-21'}`\n",
      "responded: The doctor's note suggests a Pap test to be repeated \"σε ένα έτος\" (in one year). Based on today's visit date of 2024-03-21, the suggested date for the next Pap test is calculated as:\n",
      "\n",
      "- **suggested_date**: 2025-03-21\n",
      "\n",
      "I also checked the patient's next appointment date, which is **next_appointment_date**: None (no appointment scheduled).\n",
      "\n",
      "Now, applying the decision logic:\n",
      "\n",
      "- **RULE 1**: Since next_appointment_date is None, I will update to the suggested_date.\n",
      "\n",
      "### Action:\n",
      "- **UPDATE** to suggested_date: 2025-03-21\n",
      "- **REASON**: Patient has no appointment, so schedule one.\n",
      "\n",
      "I will proceed to update the patient's appointment date.\n",
      "\n",
      "\u001b[0m\u001b[38;5;200m\u001b[1;3mAppointment updated to 2025-03-21\u001b[0m\u001b[32;1m\u001b[1;3mThe patient's appointment has been successfully updated to **2025-03-21** for the next Pap test.\u001b[0m\n",
      "\n",
      "\u001b[1m> Finished chain.\u001b[0m\n"
     ]
    },
    {
     "name": "stderr",
     "output_type": "stream",
     "text": [
      "\u001b[32m2025-10-20 10:45:03.560\u001b[0m | \u001b[1mINFO    \u001b[0m | \u001b[36mfetusapp.chatai.note_to_app_service\u001b[0m:\u001b[36manalyze_doctor_note\u001b[0m:\u001b[36m304\u001b[0m - \u001b[1mValidation passed on attempt 1\u001b[0m\n",
      "\u001b[32m2025-10-20 10:45:03.562\u001b[0m | \u001b[1mINFO    \u001b[0m | \u001b[36m__main__\u001b[0m:\u001b[36m<module>\u001b[0m:\u001b[36m15\u001b[0m - \u001b[1m================================================================================\u001b[0m\n",
      "\u001b[32m2025-10-20 10:45:03.562\u001b[0m | \u001b[1mINFO    \u001b[0m | \u001b[36m__main__\u001b[0m:\u001b[36m<module>\u001b[0m:\u001b[36m5\u001b[0m - \u001b[1m================================================================================\u001b[0m\n",
      "\u001b[32m2025-10-20 10:45:03.563\u001b[0m | \u001b[1mINFO    \u001b[0m | \u001b[36m__main__\u001b[0m:\u001b[36m<module>\u001b[0m:\u001b[36m6\u001b[0m - \u001b[1mAnalyzing comment #43:\n",
      "-της πήρα τεστ Παπ και το πήγα στον Λαΐνη: αρνητικό για κακοήθεια. Επανάληψη σε ένα έτος\n",
      "-υπέρηχος εγο: ΠΚΚ, χωρίς παθολογικά ευρήματα\n",
      "-να κάνει μαστογραφία αναφοράς και υπέρηχο μαστών:\n",
      "-μου πλήρωσε 100 ευρώ...\u001b[0m\n",
      "\u001b[32m2025-10-20 10:45:03.563\u001b[0m | \u001b[1mINFO    \u001b[0m | \u001b[36m__main__\u001b[0m:\u001b[36m<module>\u001b[0m:\u001b[36m10\u001b[0m - \u001b[1mUsing current appointment date: 2024-03-21\u001b[0m\n"
     ]
    },
    {
     "name": "stdout",
     "output_type": "stream",
     "text": [
      "\n",
      "\n",
      "\u001b[1m> Entering new AgentExecutor chain...\u001b[0m\n",
      "\u001b[32;1m\u001b[1;3m\n",
      "Invoking: `fetch_next_suggested_app_date` with `{'patient_id': '1062'}`\n",
      "\n",
      "\n",
      "\u001b[0m\u001b[33;1m\u001b[1;3mNone\u001b[0m\u001b[32;1m\u001b[1;3m\n",
      "Invoking: `calculate_appointment_date` with `{'reference_date': '2024-03-21', 'timeframe': '1 year'}`\n",
      "\n",
      "\n",
      "\u001b[0m\u001b[36;1m\u001b[1;3m2025-03-21\u001b[0m\u001b[32;1m\u001b[1;3m\n",
      "Invoking: `update_next_suggested_app_date` with `{'patient_id': '1062', 'new_date': '2025-03-21'}`\n",
      "responded: The doctor's note suggests a Pap test to be repeated \"σε ένα έτος\" (in one year), which translates to a timeframe of 1 year. Based on today's visit date of 2024-03-21, the suggested date for the next Pap test is calculated as:\n",
      "\n",
      "- **suggested_date**: 2025-03-21\n",
      "\n",
      "I also checked the patient's next appointment date, which is **next_appointment_date**: None (no appointment scheduled).\n",
      "\n",
      "Now, applying the decision logic:\n",
      "\n",
      "- **Rule 1**: Since there is no next appointment scheduled (next_appointment_date is None), I will update the appointment to the suggested date.\n",
      "\n",
      "### Action:\n",
      "- **Update to suggested_date**: 2025-03-21\n",
      "- **Reason**: Patient has no appointment, so schedule one.\n",
      "\n",
      "I will proceed to update the patient's appointment date.\n",
      "\n",
      "\u001b[0m\u001b[38;5;200m\u001b[1;3mAppointment updated to 2025-03-21\u001b[0m\u001b[32;1m\u001b[1;3mThe patient's appointment has been successfully updated to **2025-03-21** for the next Pap test.\u001b[0m\n",
      "\n",
      "\u001b[1m> Finished chain.\u001b[0m\n"
     ]
    },
    {
     "name": "stderr",
     "output_type": "stream",
     "text": [
      "\u001b[32m2025-10-20 10:45:10.568\u001b[0m | \u001b[1mINFO    \u001b[0m | \u001b[36mfetusapp.chatai.note_to_app_service\u001b[0m:\u001b[36manalyze_doctor_note\u001b[0m:\u001b[36m304\u001b[0m - \u001b[1mValidation passed on attempt 1\u001b[0m\n",
      "\u001b[32m2025-10-20 10:45:10.569\u001b[0m | \u001b[1mINFO    \u001b[0m | \u001b[36m__main__\u001b[0m:\u001b[36m<module>\u001b[0m:\u001b[36m15\u001b[0m - \u001b[1m================================================================================\u001b[0m\n",
      "\u001b[32m2025-10-20 10:45:10.571\u001b[0m | \u001b[1mINFO    \u001b[0m | \u001b[36m__main__\u001b[0m:\u001b[36m<module>\u001b[0m:\u001b[36m5\u001b[0m - \u001b[1m================================================================================\u001b[0m\n",
      "\u001b[32m2025-10-20 10:45:10.571\u001b[0m | \u001b[1mINFO    \u001b[0m | \u001b[36m__main__\u001b[0m:\u001b[36m<module>\u001b[0m:\u001b[36m6\u001b[0m - \u001b[1mAnalyzing comment #44:\n",
      "-υπέρηχος εγο: ΟΚΚ, χωρίς παθολογικά ευρήματα\n",
      "-τεστ Παπ (Ιανουάριος 2024): αρνητικό για κακοήθεια\n",
      "-μαστογραφία και υπέρηχος μαστών: κφ\n",
      "-μου πλήρωσε 70 ευρώ...\u001b[0m\n",
      "\u001b[32m2025-10-20 10:45:10.572\u001b[0m | \u001b[1mINFO    \u001b[0m | \u001b[36m__main__\u001b[0m:\u001b[36m<module>\u001b[0m:\u001b[36m10\u001b[0m - \u001b[1mUsing current appointment date: 2024-03-20\u001b[0m\n"
     ]
    },
    {
     "name": "stdout",
     "output_type": "stream",
     "text": [
      "\n",
      "\n",
      "\u001b[1m> Entering new AgentExecutor chain...\u001b[0m\n",
      "\u001b[32;1m\u001b[1;3m\n",
      "Invoking: `fetch_next_suggested_app_date` with `{'patient_id': '1443'}`\n",
      "\n",
      "\n",
      "\u001b[0m\u001b[33;1m\u001b[1;3mNone\u001b[0m\u001b[32;1m\u001b[1;3mNo appointment suggestion found in the doctor's note.\u001b[0m\n",
      "\n",
      "\u001b[1m> Finished chain.\u001b[0m\n"
     ]
    },
    {
     "name": "stderr",
     "output_type": "stream",
     "text": [
      "\u001b[32m2025-10-20 10:45:12.940\u001b[0m | \u001b[1mINFO    \u001b[0m | \u001b[36mfetusapp.chatai.note_to_app_service\u001b[0m:\u001b[36manalyze_doctor_note\u001b[0m:\u001b[36m304\u001b[0m - \u001b[1mValidation passed on attempt 1\u001b[0m\n",
      "\u001b[32m2025-10-20 10:45:12.942\u001b[0m | \u001b[1mINFO    \u001b[0m | \u001b[36m__main__\u001b[0m:\u001b[36m<module>\u001b[0m:\u001b[36m15\u001b[0m - \u001b[1m================================================================================\u001b[0m\n",
      "\u001b[32m2025-10-20 10:45:12.943\u001b[0m | \u001b[1mINFO    \u001b[0m | \u001b[36m__main__\u001b[0m:\u001b[36m<module>\u001b[0m:\u001b[36m5\u001b[0m - \u001b[1m================================================================================\u001b[0m\n",
      "\u001b[32m2025-10-20 10:45:12.945\u001b[0m | \u001b[1mINFO    \u001b[0m | \u001b[36m__main__\u001b[0m:\u001b[36m<module>\u001b[0m:\u001b[36m6\u001b[0m - \u001b[1mAnalyzing comment #45:\n",
      "-της πήρα τεστ Παπ και το πήγα στον Λαΐνη: ίχνη HPV. Της έδωσα θεραπεία με papillocare gel και της είπα επανάληψη σε 4 μήνες και κολποσκόπηση. Αν χρειαστεί loop, θα της πω με 1500 ευρώ στο ΙΑΣΩ, γιατί είναι ΧΩΡΙΣ ΕΟΠΥΥ!!!!\n",
      "-ενδεχομένως να της τα κάνω και τα δύο μαζί στο ODS, αλλά θα της πω σε αυτήν την περίπτωση 2000 ευρώ: 1400 το loop και 600 η υστεροσκόπηση και θα πω στην ¨Αρτεμη να μην της χρεώσει το loop\n",
      "-υπέρηχος εγο: ΠΚΚ, οι ενδομητρικοί πολύποδες είναι εκεί (2)\n",
      "-θα κάνουμε υστεροσκόπηση μετά το Πάσχα στο ΙΑΣΩ. Της είπα 600 ευρώ δική μου αμοιβή και θα τη βάλω απογευματινό τιμολόγιο, γιατί είναι ΧΩΡΙΣ ΕΟΠΥΥ!!!!\n",
      "-να κάνει μαστογραφία και υπέρηχο μαστών:\n",
      "-μου πλήρωσε 70 ευρώ...\u001b[0m\n",
      "\u001b[32m2025-10-20 10:45:12.947\u001b[0m | \u001b[1mINFO    \u001b[0m | \u001b[36m__main__\u001b[0m:\u001b[36m<module>\u001b[0m:\u001b[36m10\u001b[0m - \u001b[1mUsing current appointment date: 2024-03-20\u001b[0m\n"
     ]
    },
    {
     "name": "stdout",
     "output_type": "stream",
     "text": [
      "\n",
      "\n",
      "\u001b[1m> Entering new AgentExecutor chain...\u001b[0m\n",
      "\u001b[32;1m\u001b[1;3m\n",
      "Invoking: `fetch_next_suggested_app_date` with `{'patient_id': '1230'}`\n",
      "\n",
      "\n",
      "\u001b[0m\u001b[33;1m\u001b[1;3mNone\u001b[0m\u001b[32;1m\u001b[1;3m\n",
      "Invoking: `calculate_appointment_date` with `{'reference_date': '2024-03-20', 'timeframe': '4 months'}`\n",
      "\n",
      "\n",
      "\u001b[0m\u001b[36;1m\u001b[1;3m2024-07-20\u001b[0m\u001b[32;1m\u001b[1;3m\n",
      "Invoking: `update_next_suggested_app_date` with `{'patient_id': '1230', 'new_date': '2024-07-20'}`\n",
      "responded: The doctor's note suggests a follow-up appointment for a ΠΑΠ test in \"4 months\" from today's visit date (2024-03-20). \n",
      "\n",
      "Using this timeframe, the suggested date for the appointment is calculated as follows:\n",
      "- **current_appointment_date**: 2024-03-20\n",
      "- **timeframe**: 4 months\n",
      "- **suggested_date**: 2024-07-20\n",
      "\n",
      "I also checked the patient's next scheduled appointment, which is **next_appointment_date**: None (no appointment scheduled).\n",
      "\n",
      "Now, applying the decision logic:\n",
      "\n",
      "- **RULE 1**: Since next_appointment_date is None, I will update the appointment to the suggested_date (2024-07-20).\n",
      "- **ACTION**: UPDATE to 2024-07-20\n",
      "- **REASON**: Patient has no appointment, so schedule one.\n",
      "\n",
      "I will proceed to update the patient's appointment date to 2024-07-20.\n",
      "\n",
      "\u001b[0m\u001b[38;5;200m\u001b[1;3mAppointment updated to 2024-07-20\u001b[0m\u001b[32;1m\u001b[1;3mThe patient's appointment has been successfully updated to **2024-07-20**.\u001b[0m\n",
      "\n",
      "\u001b[1m> Finished chain.\u001b[0m\n"
     ]
    },
    {
     "name": "stderr",
     "output_type": "stream",
     "text": [
      "\u001b[32m2025-10-20 10:45:19.640\u001b[0m | \u001b[1mINFO    \u001b[0m | \u001b[36mfetusapp.chatai.note_to_app_service\u001b[0m:\u001b[36manalyze_doctor_note\u001b[0m:\u001b[36m304\u001b[0m - \u001b[1mValidation passed on attempt 1\u001b[0m\n",
      "\u001b[32m2025-10-20 10:45:19.641\u001b[0m | \u001b[1mINFO    \u001b[0m | \u001b[36m__main__\u001b[0m:\u001b[36m<module>\u001b[0m:\u001b[36m15\u001b[0m - \u001b[1m================================================================================\u001b[0m\n",
      "\u001b[32m2025-10-20 10:45:19.641\u001b[0m | \u001b[1mINFO    \u001b[0m | \u001b[36m__main__\u001b[0m:\u001b[36m<module>\u001b[0m:\u001b[36m5\u001b[0m - \u001b[1m================================================================================\u001b[0m\n",
      "\u001b[32m2025-10-20 10:45:19.642\u001b[0m | \u001b[1mINFO    \u001b[0m | \u001b[36m__main__\u001b[0m:\u001b[36m<module>\u001b[0m:\u001b[36m6\u001b[0m - \u001b[1mAnalyzing comment #46:\n",
      "-της πήρα ΚΚΥ και τις πήγα στον Λαΐνη: φυσιολογική χλωρίδα\n",
      "-υπέρηχο εγο και τεστ Παπ έχει πρόσφατα και θα κάνουμε σε ένα έτος\n",
      "-μου πλήρωσε 80 ευρώ...\u001b[0m\n",
      "\u001b[32m2025-10-20 10:45:19.642\u001b[0m | \u001b[1mINFO    \u001b[0m | \u001b[36m__main__\u001b[0m:\u001b[36m<module>\u001b[0m:\u001b[36m10\u001b[0m - \u001b[1mUsing current appointment date: 2024-03-19\u001b[0m\n"
     ]
    },
    {
     "name": "stdout",
     "output_type": "stream",
     "text": [
      "\n",
      "\n",
      "\u001b[1m> Entering new AgentExecutor chain...\u001b[0m\n",
      "\u001b[32;1m\u001b[1;3m\n",
      "Invoking: `fetch_next_suggested_app_date` with `{'patient_id': '1442'}`\n",
      "\n",
      "\n",
      "\u001b[0m\u001b[33;1m\u001b[1;3mNone\u001b[0m\u001b[32;1m\u001b[1;3m\n",
      "Invoking: `calculate_appointment_date` with `{'reference_date': '2024-03-19', 'timeframe': '1 year'}`\n",
      "\n",
      "\n",
      "\u001b[0m\u001b[36;1m\u001b[1;3m2025-03-19\u001b[0m\u001b[32;1m\u001b[1;3m\n",
      "Invoking: `update_next_suggested_app_date` with `{'patient_id': '1442', 'new_date': '2025-03-19'}`\n",
      "responded: The doctor's note suggests that the next ΠΑΠ test will be done \"σε ένα έτος\" (in one year), which translates to a suggested date of **2025-03-19**.\n",
      "\n",
      "I also fetched the patient's next appointment date, which is **None** (no appointment scheduled).\n",
      "\n",
      "Now, applying the decision logic:\n",
      "\n",
      "- **Rule 1**: Since the next_appointment_date is None, I will update to the suggested_date of **2025-03-19**.\n",
      "- **Action**: UPDATE to **2025-03-19**.\n",
      "- **Reason**: Patient has no appointment, so schedule one.\n",
      "\n",
      "I will proceed to update the appointment date.\n",
      "\n",
      "\u001b[0m\u001b[38;5;200m\u001b[1;3mAppointment updated to 2025-03-19\u001b[0m\u001b[32;1m\u001b[1;3mThe appointment has been successfully updated to **2025-03-19**.\u001b[0m\n",
      "\n",
      "\u001b[1m> Finished chain.\u001b[0m\n"
     ]
    },
    {
     "name": "stderr",
     "output_type": "stream",
     "text": [
      "\u001b[32m2025-10-20 10:45:26.846\u001b[0m | \u001b[1mINFO    \u001b[0m | \u001b[36mfetusapp.chatai.note_to_app_service\u001b[0m:\u001b[36manalyze_doctor_note\u001b[0m:\u001b[36m304\u001b[0m - \u001b[1mValidation passed on attempt 1\u001b[0m\n",
      "\u001b[32m2025-10-20 10:45:26.848\u001b[0m | \u001b[1mINFO    \u001b[0m | \u001b[36m__main__\u001b[0m:\u001b[36m<module>\u001b[0m:\u001b[36m15\u001b[0m - \u001b[1m================================================================================\u001b[0m\n",
      "\u001b[32m2025-10-20 10:45:26.850\u001b[0m | \u001b[1mINFO    \u001b[0m | \u001b[36m__main__\u001b[0m:\u001b[36m<module>\u001b[0m:\u001b[36m5\u001b[0m - \u001b[1m================================================================================\u001b[0m\n",
      "\u001b[32m2025-10-20 10:45:26.850\u001b[0m | \u001b[1mINFO    \u001b[0m | \u001b[36m__main__\u001b[0m:\u001b[36m<module>\u001b[0m:\u001b[36m6\u001b[0m - \u001b[1mAnalyzing comment #47:\n",
      "-της πήρα thin prep και το πήγα στον Λαΐνη: HPV\n",
      "-κολποσκόπηση: εγώ είδα LGSIL στη 12η ώρα του τραχήλου. Της είπα ήδη για loop\n",
      "-αν χρειαστεί loop, της έχω ήδη πει 1300 ευρώ στο ΙΑΣΩ. ΠΡΟΣΟΧΗ: HGSIL σε τεστ Παπ τον Μάρτιο 2024\n",
      "-μου πλήρωσε 180 ευρώ...\u001b[0m\n",
      "\u001b[32m2025-10-20 10:45:26.851\u001b[0m | \u001b[1mINFO    \u001b[0m | \u001b[36m__main__\u001b[0m:\u001b[36m<module>\u001b[0m:\u001b[36m10\u001b[0m - \u001b[1mUsing current appointment date: 2024-03-19\u001b[0m\n"
     ]
    },
    {
     "name": "stdout",
     "output_type": "stream",
     "text": [
      "\n",
      "\n",
      "\u001b[1m> Entering new AgentExecutor chain...\u001b[0m\n",
      "\u001b[32;1m\u001b[1;3m\n",
      "Invoking: `fetch_next_suggested_app_date` with `{'patient_id': '1441'}`\n",
      "\n",
      "\n",
      "\u001b[0m\u001b[33;1m\u001b[1;3mNone\u001b[0m\u001b[32;1m\u001b[1;3m\n",
      "Invoking: `calculate_appointment_date` with `{'reference_date': '2024-03-19', 'timeframe': '6 months'}`\n",
      "\n",
      "\n",
      "\u001b[0m\u001b[36;1m\u001b[1;3m2024-09-19\u001b[0m\u001b[32;1m\u001b[1;3m\n",
      "Invoking: `update_next_suggested_app_date` with `{'patient_id': '1441', 'new_date': '2024-09-19'}`\n",
      "responded: The doctor's note suggests a follow-up Pap test due to the mention of \"HGSIL σε τεστ Παπ τον Μάρτιο 2024,\" indicating that the patient should have a Pap test in March 2024. However, since today's visit date is March 19, 2024, this date has already passed.\n",
      "\n",
      "Additionally, I calculated a suggested date for a Pap test in 6 months from today's visit date (2024-03-19), which results in **2024-09-19**.\n",
      "\n",
      "Now, I will compare the suggested date with the patient's next appointment date.\n",
      "\n",
      "- **suggested_date**: 2024-09-19\n",
      "- **next_appointment_date**: None (the patient has no future scheduled appointment)\n",
      "\n",
      "Since there is no next appointment scheduled, I will proceed to update the patient's appointment to the suggested date of **2024-09-19**.\n",
      "\n",
      "### Action:\n",
      "- **Update to suggested_date**: 2024-09-19\n",
      "- **Reason**: Patient has no appointment, so schedule one.\n",
      "\n",
      "Now, I will perform the update.\n",
      "\n",
      "\u001b[0m\u001b[38;5;200m\u001b[1;3mAppointment updated to 2024-09-19\u001b[0m\u001b[32;1m\u001b[1;3mThe patient's appointment has been successfully updated to **2024-09-19**.\u001b[0m\n",
      "\n",
      "\u001b[1m> Finished chain.\u001b[0m\n"
     ]
    },
    {
     "name": "stderr",
     "output_type": "stream",
     "text": [
      "\u001b[32m2025-10-20 10:45:34.655\u001b[0m | \u001b[1mINFO    \u001b[0m | \u001b[36mfetusapp.chatai.note_to_app_service\u001b[0m:\u001b[36manalyze_doctor_note\u001b[0m:\u001b[36m304\u001b[0m - \u001b[1mValidation passed on attempt 1\u001b[0m\n",
      "\u001b[32m2025-10-20 10:45:34.656\u001b[0m | \u001b[1mINFO    \u001b[0m | \u001b[36m__main__\u001b[0m:\u001b[36m<module>\u001b[0m:\u001b[36m15\u001b[0m - \u001b[1m================================================================================\u001b[0m\n",
      "\u001b[32m2025-10-20 10:45:34.658\u001b[0m | \u001b[1mINFO    \u001b[0m | \u001b[36m__main__\u001b[0m:\u001b[36m<module>\u001b[0m:\u001b[36m5\u001b[0m - \u001b[1m================================================================================\u001b[0m\n",
      "\u001b[32m2025-10-20 10:45:34.658\u001b[0m | \u001b[1mINFO    \u001b[0m | \u001b[36m__main__\u001b[0m:\u001b[36m<module>\u001b[0m:\u001b[36m6\u001b[0m - \u001b[1mAnalyzing comment #48:\n",
      "-της πήρα τεστ Παπ και το πήγα στον Λαΐνη: SUPER SOS βλέπε προηγούμενο ιστορικό!!!!\n",
      "-υπέρηχος εγο: ΟΚΚ, \n",
      "-να κάνει υπέρηχο μαστών:\n",
      "-μου πλήρωσε 80 ευρώ για όλα μαζί...\u001b[0m\n",
      "\u001b[32m2025-10-20 10:45:34.659\u001b[0m | \u001b[1mINFO    \u001b[0m | \u001b[36m__main__\u001b[0m:\u001b[36m<module>\u001b[0m:\u001b[36m10\u001b[0m - \u001b[1mUsing current appointment date: 2024-03-19\u001b[0m\n"
     ]
    },
    {
     "name": "stdout",
     "output_type": "stream",
     "text": [
      "\n",
      "\n",
      "\u001b[1m> Entering new AgentExecutor chain...\u001b[0m\n",
      "\u001b[32;1m\u001b[1;3m\n",
      "Invoking: `fetch_next_suggested_app_date` with `{'patient_id': '879'}`\n",
      "\n",
      "\n",
      "\u001b[0m\u001b[33;1m\u001b[1;3mNone\u001b[0m\u001b[32;1m\u001b[1;3mNo appointment suggestion found in the doctor's note.\u001b[0m\n",
      "\n",
      "\u001b[1m> Finished chain.\u001b[0m\n"
     ]
    },
    {
     "name": "stderr",
     "output_type": "stream",
     "text": [
      "\u001b[32m2025-10-20 10:45:37.844\u001b[0m | \u001b[1mINFO    \u001b[0m | \u001b[36mfetusapp.chatai.note_to_app_service\u001b[0m:\u001b[36manalyze_doctor_note\u001b[0m:\u001b[36m304\u001b[0m - \u001b[1mValidation passed on attempt 1\u001b[0m\n",
      "\u001b[32m2025-10-20 10:45:37.845\u001b[0m | \u001b[1mINFO    \u001b[0m | \u001b[36m__main__\u001b[0m:\u001b[36m<module>\u001b[0m:\u001b[36m15\u001b[0m - \u001b[1m================================================================================\u001b[0m\n",
      "\u001b[32m2025-10-20 10:45:37.847\u001b[0m | \u001b[1mINFO    \u001b[0m | \u001b[36m__main__\u001b[0m:\u001b[36m<module>\u001b[0m:\u001b[36m5\u001b[0m - \u001b[1m================================================================================\u001b[0m\n",
      "\u001b[32m2025-10-20 10:45:37.848\u001b[0m | \u001b[1mINFO    \u001b[0m | \u001b[36m__main__\u001b[0m:\u001b[36m<module>\u001b[0m:\u001b[36m6\u001b[0m - \u001b[1mAnalyzing comment #49:\n",
      "-της πήρα τεστ Παπ και το πήγα στον Λαΐνη: ίχνη ΗPV. Της έδωσα θεραπεία με papillocare και της είπα επανάληψη σε 4 μήνες και κολποσκόπηση. Αν χρειαστεί loop τότε, θα της πω με 1500 ευρώ στο ΙΑΣΩ\n",
      "-υπέρηχος εγο: ΠΚΚ, χωρίς παθολογικά ευρήματα\n",
      "-της έγραψα να κάνει μαστογραφία και υπέρηχο μαστών και θα μου τα προσκομίσει: \n",
      "-μου πλήρωσε 80 ευρώ για όλα μαζί...\u001b[0m\n",
      "\u001b[32m2025-10-20 10:45:37.849\u001b[0m | \u001b[1mINFO    \u001b[0m | \u001b[36m__main__\u001b[0m:\u001b[36m<module>\u001b[0m:\u001b[36m10\u001b[0m - \u001b[1mUsing current appointment date: 2024-03-19\u001b[0m\n"
     ]
    },
    {
     "name": "stdout",
     "output_type": "stream",
     "text": [
      "\n",
      "\n",
      "\u001b[1m> Entering new AgentExecutor chain...\u001b[0m\n",
      "\u001b[32;1m\u001b[1;3m\n",
      "Invoking: `fetch_next_suggested_app_date` with `{'patient_id': '877'}`\n",
      "\n",
      "\n",
      "\u001b[0m\u001b[33;1m\u001b[1;3mNone\u001b[0m\u001b[32;1m\u001b[1;3m\n",
      "Invoking: `calculate_appointment_date` with `{'reference_date': '2024-03-19', 'timeframe': '4 months'}`\n",
      "\n",
      "\n",
      "\u001b[0m\u001b[36;1m\u001b[1;3m2024-07-19\u001b[0m\u001b[32;1m\u001b[1;3m\n",
      "Invoking: `update_next_suggested_app_date` with `{'patient_id': '877', 'new_date': '2024-07-19'}`\n",
      "responded: The doctor's note suggests a follow-up appointment for a Pap test in \"4 months\" from today's visit date (2024-03-19). \n",
      "\n",
      "- **Suggested Date**: 2024-07-19 (calculated from the timeframe of 4 months)\n",
      "- **Next Appointment Date**: None (the patient has no future scheduled appointment)\n",
      "\n",
      "Since there is no next appointment scheduled, I will update the patient's appointment to the suggested date of 2024-07-19.\n",
      "\n",
      "### Action:\n",
      "- **Update to Suggested Date**: 2024-07-19\n",
      "- **Reason**: Patient has no appointment, so schedule one.\n",
      "\n",
      "Now, I will proceed to update the appointment.\n",
      "\n",
      "\u001b[0m\u001b[38;5;200m\u001b[1;3mAppointment updated to 2024-07-19\u001b[0m\u001b[32;1m\u001b[1;3mThe patient's appointment has been successfully updated to **2024-07-19**.\u001b[0m\n",
      "\n",
      "\u001b[1m> Finished chain.\u001b[0m\n"
     ]
    },
    {
     "name": "stderr",
     "output_type": "stream",
     "text": [
      "\u001b[32m2025-10-20 10:45:44.966\u001b[0m | \u001b[1mINFO    \u001b[0m | \u001b[36mfetusapp.chatai.note_to_app_service\u001b[0m:\u001b[36manalyze_doctor_note\u001b[0m:\u001b[36m304\u001b[0m - \u001b[1mValidation passed on attempt 1\u001b[0m\n",
      "\u001b[32m2025-10-20 10:45:44.967\u001b[0m | \u001b[1mINFO    \u001b[0m | \u001b[36m__main__\u001b[0m:\u001b[36m<module>\u001b[0m:\u001b[36m15\u001b[0m - \u001b[1m================================================================================\u001b[0m\n"
     ]
    }
   ],
   "source": [
    "from fetusapp import app  # Make sure this imports your Flask app\n",
    "\n",
    "with app.app_context():\n",
    "    for i, row in visits_df.head(50).iterrows():\n",
    "        logger.info(\"=\"*80)\n",
    "        logger.info(f\"Analyzing comment #{i}:\\n{row['comments']}...\")\n",
    "        doctor_note = row['comments']\n",
    "        patient_id = row['patient_id']\n",
    "        current_appointment_date = row['date_of_visit']\n",
    "        logger.info(f\"Using current appointment date: {current_appointment_date}\")\n",
    "        try:\n",
    "            analyze_doctor_note(doctor_note, patient_id, current_appointment_date=current_appointment_date)\n",
    "        except Exception as e:\n",
    "            logger.error(f\"Error analyzing note for patient {patient_id}: {e}\")\n",
    "        logger.info(\"=\"*80)"
   ]
  },
  {
   "cell_type": "code",
   "execution_count": null,
   "metadata": {},
   "outputs": [],
   "source": []
  },
  {
   "cell_type": "code",
   "execution_count": null,
   "metadata": {},
   "outputs": [],
   "source": []
  },
  {
   "cell_type": "code",
   "execution_count": null,
   "metadata": {},
   "outputs": [],
   "source": []
  },
  {
   "cell_type": "code",
   "execution_count": null,
   "metadata": {},
   "outputs": [],
   "source": []
  },
  {
   "cell_type": "code",
   "execution_count": null,
   "metadata": {},
   "outputs": [],
   "source": []
  },
  {
   "cell_type": "markdown",
   "metadata": {},
   "source": [
    "### Migrate Medical Exams (INSERT)"
   ]
  },
  {
   "cell_type": "code",
   "execution_count": null,
   "metadata": {},
   "outputs": [],
   "source": [
    "source_tablename = 'tblmedexam'\n",
    "target_tablename = 'medical_exams'\n",
    "data_index = 8 # this is the index in the json_data list where the relevant data is stored\n",
    "\n",
    "sql_output = convert_json_to_insert_sql(json_data[data_index]['data'], column_mapping[source_tablename], target_tablename = target_tablename)\n",
    "# print(sql_output)\n",
    "output_file = os.path.join(assets_dir, f'{target_tablename}.sql')\n",
    "with open(output_file, 'w', encoding='utf-8') as f:\n",
    "    f.write(sql_output)"
   ]
  },
  {
   "cell_type": "code",
   "execution_count": null,
   "metadata": {},
   "outputs": [],
   "source": [
    "# delete_records(target_tablename, db_path)\n",
    "insert_records(target_tablename, db_path)\n",
    "fetch_records(target_tablename, db_path)"
   ]
  },
  {
   "cell_type": "markdown",
   "metadata": {},
   "source": [
    "### ... to be continued"
   ]
  },
  {
   "cell_type": "code",
   "execution_count": null,
   "metadata": {},
   "outputs": [],
   "source": [
    "get_tables(db_path)"
   ]
  },
  {
   "cell_type": "markdown",
   "metadata": {},
   "source": [
    "--------------"
   ]
  },
  {
   "cell_type": "code",
   "execution_count": null,
   "metadata": {},
   "outputs": [],
   "source": []
  },
  {
   "cell_type": "code",
   "execution_count": null,
   "metadata": {},
   "outputs": [],
   "source": []
  },
  {
   "cell_type": "code",
   "execution_count": null,
   "metadata": {},
   "outputs": [],
   "source": []
  }
 ],
 "metadata": {
  "kernelspec": {
   "display_name": "fetusappenv (3.12.4)",
   "language": "python",
   "name": "python3"
  },
  "language_info": {
   "codemirror_mode": {
    "name": "ipython",
    "version": 3
   },
   "file_extension": ".py",
   "mimetype": "text/x-python",
   "name": "python",
   "nbconvert_exporter": "python",
   "pygments_lexer": "ipython3",
   "version": "3.12.4"
  }
 },
 "nbformat": 4,
 "nbformat_minor": 2
}
