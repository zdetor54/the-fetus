{
 "cells": [
  {
   "cell_type": "code",
   "execution_count": null,
   "metadata": {},
   "outputs": [],
   "source": [
    "import os\n",
    "import json\n",
    "import sqlite3\n",
    "import pandas as pd\n",
    "from typing import List, Dict, Any, Tuple, Optional\n",
    "\n",
    "from formating import convert_json_to_insert_sql, convert_json_to_update_sql\n",
    "from crud import insert_records, delete_records, fetch_records, get_tables"
   ]
  },
  {
   "cell_type": "code",
   "execution_count": null,
   "metadata": {},
   "outputs": [],
   "source": [
    "current_dir = os.getcwd()\n",
    "parent_dir = os.path.dirname(current_dir)\n",
    "assets_dir = os.path.join(parent_dir, '_assets')\n",
    "db_dir = os.path.join(parent_dir, 'fetusapp')\n",
    "db_filename = 'data.sqlite'\n",
    "data_filename = 'detoraki_fetusdata.json'\n",
    "mapping_filename = 'column_mapping.json'\n",
    "\n",
    "db_path = os.path.join(db_dir, db_filename)\n",
    "json_file = os.path.join(assets_dir, data_filename)\n",
    "mapping_file = os.path.join(current_dir, mapping_filename)"
   ]
  },
  {
   "cell_type": "markdown",
   "metadata": {},
   "source": [
    "Load the source data"
   ]
  },
  {
   "cell_type": "code",
   "execution_count": null,
   "metadata": {},
   "outputs": [],
   "source": [
    "with open(json_file, 'r', encoding='utf-8') as f:\n",
    "        json_data = json.load(f)"
   ]
  },
  {
   "cell_type": "markdown",
   "metadata": {},
   "source": [
    "Load the column mapping from the JSON file"
   ]
  },
  {
   "cell_type": "code",
   "execution_count": null,
   "metadata": {},
   "outputs": [],
   "source": [
    "with open(mapping_file, 'r', encoding='utf-8') as f:\n",
    "        column_mapping = json.load(f)"
   ]
  },
  {
   "cell_type": "markdown",
   "metadata": {},
   "source": [
    "### Setup admin in Users (INSERT)\n",
    "\n",
    "The script should already be there in _assets"
   ]
  },
  {
   "cell_type": "code",
   "execution_count": null,
   "metadata": {},
   "outputs": [],
   "source": [
    "target_tablename = 'users'\n",
    "insert_records(target_tablename, db_path)\n"
   ]
  },
  {
   "cell_type": "code",
   "execution_count": null,
   "metadata": {},
   "outputs": [],
   "source": [
    "fetch_records(target_tablename, db_path)"
   ]
  },
  {
   "cell_type": "code",
   "execution_count": null,
   "metadata": {},
   "outputs": [],
   "source": [
    "# delete_records(target_tablename, db_path)"
   ]
  },
  {
   "cell_type": "markdown",
   "metadata": {},
   "source": [
    "---------------------"
   ]
  },
  {
   "cell_type": "markdown",
   "metadata": {},
   "source": [
    "### Migrate Patients (INSERT)\n",
    "\n",
    "Includes manual step to treat patients missing last_name"
   ]
  },
  {
   "cell_type": "code",
   "execution_count": null,
   "metadata": {},
   "outputs": [],
   "source": [
    "source_tablename = 's_org_ext'\n",
    "target_tablename = 'patients'\n",
    "data_index = 3\n",
    "\n",
    "sql_output = convert_json_to_insert_sql(json_data[data_index]['data'], column_mapping[source_tablename], target_tablename = target_tablename)\n",
    "# print(sql_output)\n",
    "output_file = os.path.join(assets_dir, f'{target_tablename}.sql')\n",
    "with open(output_file, 'w', encoding='utf-8') as f:\n",
    "    f.write(sql_output)"
   ]
  },
  {
   "cell_type": "markdown",
   "metadata": {},
   "source": [
    "#### Data Cleansing:\n",
    "* Identify records with null last name and either \n",
    "    * convert the null to the string 'null' in the generated script or\n",
    "    * remove the record altogether if it doesn't have any useful payload"
   ]
  },
  {
   "cell_type": "code",
   "execution_count": null,
   "metadata": {},
   "outputs": [],
   "source": [
    "patient_data = json_data[data_index]['data']\n",
    "null_lastname_ids = [item['s_org_extID'] for item in patient_data if item['lastName'] == \"\"]\n",
    "print(null_lastname_ids)"
   ]
  },
  {
   "cell_type": "markdown",
   "metadata": {},
   "source": []
  },
  {
   "cell_type": "code",
   "execution_count": null,
   "metadata": {},
   "outputs": [],
   "source": [
    "delete_records(target_tablename, db_path)"
   ]
  },
  {
   "cell_type": "code",
   "execution_count": null,
   "metadata": {},
   "outputs": [],
   "source": [
    "insert_records(target_tablename, db_path)"
   ]
  },
  {
   "cell_type": "code",
   "execution_count": null,
   "metadata": {},
   "outputs": [],
   "source": [
    "fetch_records(target_tablename, db_path)"
   ]
  },
  {
   "cell_type": "markdown",
   "metadata": {},
   "source": [
    "---------------------"
   ]
  },
  {
   "cell_type": "markdown",
   "metadata": {},
   "source": [
    "### Migrate MedicalHistory (INSERT)"
   ]
  },
  {
   "cell_type": "code",
   "execution_count": null,
   "metadata": {},
   "outputs": [],
   "source": [
    "source_tablename = 'tblmedhistory'\n",
    "target_tablename = 'history_medical'\n",
    "data_index = 10\n",
    "\n",
    "sql_output = convert_json_to_insert_sql(json_data[data_index]['data'], column_mapping[source_tablename], target_tablename = target_tablename)\n",
    "# print(sql_output)\n",
    "output_file = os.path.join(assets_dir, f'{target_tablename}.sql')\n",
    "with open(output_file, 'w', encoding='utf-8') as f:\n",
    "    f.write(sql_output)"
   ]
  },
  {
   "cell_type": "code",
   "execution_count": null,
   "metadata": {},
   "outputs": [],
   "source": [
    "insert_records(target_tablename, db_path)"
   ]
  },
  {
   "cell_type": "code",
   "execution_count": null,
   "metadata": {},
   "outputs": [],
   "source": [
    "# delete_records(target_tablename, db_path)"
   ]
  },
  {
   "cell_type": "code",
   "execution_count": null,
   "metadata": {},
   "outputs": [],
   "source": [
    "fetch_records(target_tablename, db_path)"
   ]
  },
  {
   "cell_type": "markdown",
   "metadata": {},
   "source": [
    "------------------"
   ]
  },
  {
   "cell_type": "markdown",
   "metadata": {},
   "source": [
    "### Migrate Short Gynaecological History data (UPDATE)"
   ]
  },
  {
   "cell_type": "code",
   "execution_count": null,
   "metadata": {},
   "outputs": [],
   "source": [
    "source_tablename = 'tblgynhistoryshort'\n",
    "target_tablename = 'history_medical'\n",
    "data_index = 7\n",
    "\n",
    "sql_output = convert_json_to_update_sql(json_data[data_index]['data'], column_mapping[source_tablename], target_tablename = target_tablename, source_id = 'MedHistoryID', target_id = 'id')\n",
    "# print(sql_output)\n",
    "output_file = os.path.join(assets_dir, f'{target_tablename}.sql')\n",
    "with open(output_file, 'w', encoding='utf-8') as f:\n",
    "    f.write(sql_output)"
   ]
  },
  {
   "cell_type": "code",
   "execution_count": null,
   "metadata": {},
   "outputs": [],
   "source": [
    "insert_records(target_tablename, db_path)"
   ]
  },
  {
   "cell_type": "markdown",
   "metadata": {},
   "source": [
    "---------"
   ]
  },
  {
   "cell_type": "markdown",
   "metadata": {},
   "source": [
    "### Migrate Pathologies (UPDATE)"
   ]
  },
  {
   "cell_type": "code",
   "execution_count": null,
   "metadata": {},
   "outputs": [],
   "source": [
    "source_tablename = 'tblpathologies'\n",
    "target_tablename = 'history_medical'\n",
    "data_index = 13\n",
    "\n",
    "sql_output = convert_json_to_update_sql(json_data[data_index]['data'], column_mapping[source_tablename], target_tablename = target_tablename, source_id = 'MedHistoryID', target_id = 'id')\n",
    "# print(sql_output)\n",
    "output_file = os.path.join(assets_dir, f'{target_tablename}.sql')\n",
    "with open(output_file, 'w', encoding='utf-8') as f:\n",
    "    f.write(sql_output)"
   ]
  },
  {
   "cell_type": "code",
   "execution_count": null,
   "metadata": {},
   "outputs": [],
   "source": [
    "insert_records(target_tablename, db_path)"
   ]
  },
  {
   "cell_type": "code",
   "execution_count": null,
   "metadata": {},
   "outputs": [],
   "source": [
    "fetch_records(target_tablename, db_path)"
   ]
  },
  {
   "cell_type": "markdown",
   "metadata": {},
   "source": [
    "----------"
   ]
  },
  {
   "cell_type": "markdown",
   "metadata": {},
   "source": [
    "### Migrate ObstetricsHistory (INSERT)"
   ]
  },
  {
   "cell_type": "code",
   "execution_count": null,
   "metadata": {},
   "outputs": [],
   "source": [
    "source_tablename = 'tblobstetrichistory'\n",
    "target_tablename = 'history_obstetrics'\n",
    "data_index = 11 # this is the index in the json_data list where the relevant data is stored\n",
    "\n",
    "sql_output = convert_json_to_insert_sql(json_data[data_index]['data'], column_mapping[source_tablename], target_tablename = target_tablename)\n",
    "# print(sql_output)\n",
    "output_file = os.path.join(assets_dir, f'{target_tablename}.sql')\n",
    "with open(output_file, 'w', encoding='utf-8') as f:\n",
    "    f.write(sql_output)"
   ]
  },
  {
   "cell_type": "code",
   "execution_count": null,
   "metadata": {},
   "outputs": [],
   "source": [
    "delete_records(target_tablename, db_path)"
   ]
  },
  {
   "cell_type": "code",
   "execution_count": null,
   "metadata": {},
   "outputs": [],
   "source": [
    "insert_records(target_tablename, db_path)"
   ]
  },
  {
   "cell_type": "code",
   "execution_count": null,
   "metadata": {},
   "outputs": [],
   "source": [
    "fetch_records(target_tablename, db_path)"
   ]
  },
  {
   "cell_type": "markdown",
   "metadata": {},
   "source": [
    "### tblobstetrichistory_x NOT TO BE MIGRATED"
   ]
  },
  {
   "cell_type": "markdown",
   "metadata": {},
   "source": [
    "### Migrate Short Pregnancies History data (INSERT)"
   ]
  },
  {
   "cell_type": "code",
   "execution_count": null,
   "metadata": {},
   "outputs": [],
   "source": [
    "source_tablename = 'tblpregnancyhistory'\n",
    "target_tablename = 'pregnancy_history'\n",
    "data_index = 16 # this is the index in the json_data list where the relevant data is stored\n",
    "\n",
    "sql_output = convert_json_to_insert_sql(json_data[data_index]['data'], column_mapping[source_tablename], target_tablename = target_tablename)\n",
    "# print(sql_output)\n",
    "output_file = os.path.join(assets_dir, f'{target_tablename}.sql')\n",
    "with open(output_file, 'w', encoding='utf-8') as f:\n",
    "    f.write(sql_output)"
   ]
  },
  {
   "cell_type": "code",
   "execution_count": null,
   "metadata": {},
   "outputs": [],
   "source": [
    "delete_records(target_tablename, db_path)"
   ]
  },
  {
   "cell_type": "code",
   "execution_count": null,
   "metadata": {},
   "outputs": [],
   "source": [
    "insert_records(target_tablename, db_path)"
   ]
  },
  {
   "cell_type": "code",
   "execution_count": null,
   "metadata": {},
   "outputs": [],
   "source": [
    "fetch_records(target_tablename, db_path)"
   ]
  },
  {
   "cell_type": "markdown",
   "metadata": {},
   "source": [
    "### Migrate Short Pregnancies History X data (INSERT)"
   ]
  },
  {
   "cell_type": "code",
   "execution_count": null,
   "metadata": {},
   "outputs": [],
   "source": [
    "source_tablename = 'tblpregnancyhistory_x'\n",
    "target_tablename = 'pregnancy_history_x'\n",
    "data_index = 17 # this is the index in the json_data list where the relevant data is stored\n",
    "\n",
    "sql_output = convert_json_to_insert_sql(json_data[data_index]['data'], column_mapping[source_tablename], target_tablename = target_tablename)\n",
    "# print(sql_output)\n",
    "output_file = os.path.join(assets_dir, f'{target_tablename}.sql')\n",
    "with open(output_file, 'w', encoding='utf-8') as f:\n",
    "    f.write(sql_output)"
   ]
  },
  {
   "cell_type": "code",
   "execution_count": null,
   "metadata": {},
   "outputs": [],
   "source": [
    "insert_records(target_tablename, db_path)\n",
    "fetch_records(target_tablename, db_path)\n",
    "# delete_records(target_tablename, db_path)"
   ]
  },
  {
   "cell_type": "markdown",
   "metadata": {},
   "source": [
    "Delete records with null TER"
   ]
  },
  {
   "cell_type": "code",
   "execution_count": null,
   "metadata": {},
   "outputs": [],
   "source": [
    "\n",
    "\n",
    "conn = sqlite3.connect(db_path)\n",
    "cursor = conn.cursor()\n",
    "\n",
    "cursor.execute(\"\"\"\n",
    "DELETE FROM pregnancy_history_x\n",
    "WHERE pregnancy_id IN (SELECT id FROM pregnancy_history WHERE ter IS NULL)\n",
    "\"\"\")\n",
    "cursor.execute(\"\"\"\n",
    "DELETE FROM pregnancy_history\n",
    "WHERE ter IS NULL\n",
    "\"\"\")\n",
    "conn.commit()\n",
    "\n",
    "conn.close()"
   ]
  },
  {
   "cell_type": "markdown",
   "metadata": {},
   "source": [
    "### Migrate Gyn History X data (INSERT)\n",
    "\n",
    "DELETE 5,8 and 10 records"
   ]
  },
  {
   "cell_type": "code",
   "execution_count": null,
   "metadata": {},
   "outputs": [],
   "source": [
    "source_tablename = 'tblgynhistory'\n",
    "target_tablename = 'gyn_history'\n",
    "data_index = 6 # this is the index in the json_data list where the relevant data is stored\n",
    "\n",
    "sql_output = convert_json_to_insert_sql(json_data[data_index]['data'], column_mapping[source_tablename], target_tablename = target_tablename)\n",
    "# print(sql_output)\n",
    "output_file = os.path.join(assets_dir, f'{target_tablename}.sql')\n",
    "with open(output_file, 'w', encoding='utf-8') as f:\n",
    "    f.write(sql_output)"
   ]
  },
  {
   "cell_type": "code",
   "execution_count": null,
   "metadata": {},
   "outputs": [],
   "source": [
    "delete_records(target_tablename, db_path)\n",
    "insert_records(target_tablename, db_path)\n",
    "fetch_records(target_tablename, db_path)"
   ]
  },
  {
   "cell_type": "code",
   "execution_count": null,
   "metadata": {},
   "outputs": [],
   "source": [
    "conn = sqlite3.connect(db_path)\n",
    "cursor = conn.cursor()\n",
    "cursor.execute(\"\"\"\n",
    "    UPDATE gyn_history\n",
    "    SET comments = TRIM(REPLACE(REPLACE(comments, '\\n\\n', '\\n'), '\\r\\n\\r\\n', '\\n'))\n",
    "    WHERE comments IS NOT NULL\n",
    "\"\"\")\n",
    "conn.commit()\n",
    "conn.close()"
   ]
  },
  {
   "cell_type": "markdown",
   "metadata": {},
   "source": [
    "## Update next_suggested_appointment date"
   ]
  },
  {
   "cell_type": "code",
   "execution_count": null,
   "metadata": {},
   "outputs": [],
   "source": [
    "from fetusapp.chatai.note_to_app_service import analyze_doctor_note\n",
    "from loguru import logger"
   ]
  },
  {
   "cell_type": "code",
   "execution_count": 26,
   "metadata": {},
   "outputs": [
    {
     "data": {
      "application/vnd.microsoft.datawrangler.viewer.v0+json": {
       "columns": [
        {
         "name": "index",
         "rawType": "int64",
         "type": "integer"
        },
        {
         "name": "patient_id",
         "rawType": "int64",
         "type": "integer"
        },
        {
         "name": "date_of_visit",
         "rawType": "object",
         "type": "string"
        },
        {
         "name": "comments",
         "rawType": "object",
         "type": "unknown"
        }
       ],
       "ref": "0fca342f-b9b2-4ac5-9b32-94b0ad8d1cb1",
       "rows": [
        [
         "0",
         "1349",
         "2024-05-28",
         "-της πήρα τεστ Παπ και το πήγα στον Λαΐνη:\n-υπέρηχος εγο:\n-4 μήνες μετά τη διακοπή του θηλασμού, θα κάνουμε υπέρηχο μαστών\n-αν θέλει σπιράλ, θα της πω 200 ευρώ στο ΙΑΣΩ λόγω ΠΚΤ\n-μου πλήρωσε 100 ευρώ"
        ],
        [
         "1",
         "608",
         "2024-05-09",
         "-της πήρα τεστ Παπ και το πήγα στον Λαΐνη: \n-υπέρηχος εγο: ΠΚΚ,\n-της έγραψα να κάνει μαστογραφία και υπέρηχο μαστών και θα μου τα προσκομίσει:\n-μου πλήρωσε 80 ευρώ για όλα μαζί"
        ],
        [
         "2",
         "671",
         "2024-04-24",
         "-της πήρα τεστ Παπ και το πήγα στον Λαΐνη: \n-υπέρηχος εγο: ενδομήτριο. Εξαρτήματα δεν έχει\n-θα κάνει μαστογραφία και υπέρηχο μαστών και θα μου τα προσκομίσει: \n-μου πλήρωσε 70 ευρώ για όλα μαζί"
        ],
        [
         "3",
         "255",
         "2024-04-24",
         "-της πήρα τεστ Παπ και το πήγα στον Λαΐνη:\n-υπέρηχος εγο: ΠΚΚ, βλέπε προηγούμενο ιστορικό για ινομύωμα\n-της έγραψα να κάνει μαστογραφία και υπέρηχο μαστών και θα μου τα προσκομίσει: βλέπε προηγούμενο ιστορικό για ινοαδένωμα\n-μου πλήρωσε 80 ευρώ για όλα μαζί"
        ],
        [
         "4",
         "880",
         "2024-04-23",
         "-της πήρα τεστ Παπ και το πήγα στον Λαΐνη:\n-αν θέλει, θα της κάνω κολποσκόπηση:\n-υπέρηχος εγο:\n-να κάνει υπέρηχο μαστών:\n-μου πλήρωσε 80 ευρώ. Αν κάνουμε και κολποσκόπηση, θα της πάρουμε 150 ευρώ"
        ],
        [
         "5",
         "752",
         "2024-04-23",
         "-της πήρα τεστ Παπ και το πήγα στον Λαΐνη:\n-υπέρηχος εγο:\n-να κάνει μαστογραφία αναφοράς και υπέρηχο μαστών:\n-μου πλήρωσε 100 ευρώ"
        ],
        [
         "6",
         "663",
         "2024-04-23",
         "-της πήρα τεστ Παπ και το πήγα στον Λαΐνη: \n-υπέρηχος εγο: ΠΚΚ, \n-check αν παίρνει ακόμη OCPs (βλέπε προηγούμενο ιστορικό)\n-να κάνει υπέρηχο μαστών:\n-μου πλήρωσε 80 ευρώ"
        ],
        [
         "7",
         "416",
         "2024-04-23",
         "-της πήρα τεστ Παπ και το πήγα στον Λαΐνη:\n-υπέρηχος εγο: εικόνα ολικής υστερεκτομής\n-να κάνει μαστογραφία και υπέρηχο μαστών:\n-μου πλήρωσε 80 ευρώ\n-να της πω ότι δεν έχω πληρωθεί ακόμη από την ασφάλειά της για το χειρουργείο μας"
        ],
        [
         "8",
         "972",
         "2024-04-15",
         "-της πήρα τεστ Παπ και το πήγα στον Λαΐνη: \n-υπέρηχος εγο: ΠΚΚ, χωρίς παθολογικά ευρήματα\n-της έγραψα να κάνει μαστογραφία αναφοράς και υπέρηχο μαστών και θα μου τα προσκομίσει:\n-μου πλήρωσε 100 ευρώ"
        ],
        [
         "9",
         "565",
         "2024-04-15",
         "-αν έχει ξεκινήσει επαφές, της παίρνω τεστ Παπ:\n-υπέρηχος εγο: ΠΚΚ, χωρίς παθολογικά ευρήματα\n-δεν παίρνουμε επίσκεψη"
        ],
        [
         "10",
         "536",
         "2024-04-15",
         "-της πήρα τεστ Παπ και το πήγα στον Λαΐνη: \n-υπέρηχος εγο: ΠΚΚ, χωρίς παθολογικά ευρήματα\n-προσπαθούν για τρίτο παιδί. Να ρωτήσω πώς πάμε\n-της έγραψα να κάνει υπέρηχο μαστών και θα μου τον προσκομίσει: της είπα για πιθανή επανάληψη υπερήχου με ψηφιακή τομοσύνθεση, αν δω κάτι ύποπτο\n-μου πλήρωσε 100 ευρώ για όλα μαζί"
        ],
        [
         "11",
         "306",
         "2024-04-15",
         "-της πήρα τεστ Παπ και το πήγα στον Λαΐνη: αν κφ, δεν χρειάζεται να κάνουμε άλλο\n-υπέρηχος εγο: ΠΚΚ, ενδομήτριο 1,15 χιλιοστά\n-της έγραψα να κάνει μαστογραφία και θα μου την προσκομίσει: κφ, Μάρτιος 2024\n-μου πλήρωσε 80 ευρώ για όλα μαζί"
        ],
        [
         "12",
         "1458",
         "2024-04-11",
         "-τεστ Παπ είχε προ μηνός: κφ\n-υπέρηχος εγο: ΠΚΚ, πρόσθιο ενδοτοιχωματικό ινομύωμα 3,2 εκαστοστά και υποβλεννογόνιο 1,6 εκατοστά\n-να κάνει μαστογραφία και υπέρηχο μαστών: μαστογραφία κφ. Υπέρηχο θα κάνει του χρόνου\n-μου πλήρωσε 70 ευρώ"
        ],
        [
         "13",
         "1457",
         "2024-04-09",
         "-της έκανα τοποθέτηση IUD χαλκού\n-τεχνικά άψογα\n-υπέρηχος εγο μετά: IUD στη θέση του\n-μου πλήρωσε συνολικά 200 ευρώ"
        ],
        [
         "14",
         "1456",
         "2024-04-09",
         "-της πήρα τεστ Παπ και το πήγα στον Λαΐνη: αρνητικό για κακοήθεια. Επανάληψη σε ένα έτος\n-υπέρηχος εγο: ΠΚΚ, χωρίς παθολογικά ευρήματα\n-μου πλήρωσε 100 ευρώ\n-πρώτη επίσκεψη σε γυναικολόγο σήμερα"
        ],
        [
         "15",
         "1455",
         "2024-04-09",
         "-της πήρα τεστ Παπ και το πήγα στον Λαΐνη: αν κφ, της είπα το επόμενο σε 3 έτη. Έβγαλε ASCUS, μάλλον λόγω ατροφίας\n-υπέρηχος εγο: ΠΚΚ, χωρίς παθολογικά ευρήματα\n-να κάνει μαστογραφία και υπέρηχο μαστών: θα τα κάνει τον Οκτώβριο\n-μου πλήρωσε 80 ευρώ"
        ],
        [
         "16",
         "1454",
         "2024-04-09",
         "-της πήρα τεστ Παπ και το πήγα στον Λαΐνη: αρνητικό για κακοήθεια. Δεν χρειάζεται να το ξανακάνουμε\n-υπέρηχος εγο: ΠΚΚ, χωρίς παθολογικά ευρήματα, μικρή ενδομητρική συλλογή\n-έλεγχο μαστών έχει κάνει: κφ\n-δεν παίρνουμε επίσκεψη"
        ],
        [
         "17",
         "1121",
         "2024-04-09",
         "-της πήρα τεστ Παπ και το πήγα στον Λαΐνη: αρνητικό για κακοήθεια. Επανάληψη σε ένα έτος\n-υπέρηχος εγο: ΟΚΚ, χωρίς παθολογικά ευρήματα\n-να κάνει υπέρηχο μαστών:\n-μου πλήρωσε 100 ευρώ"
        ],
        [
         "18",
         "1067",
         "2024-04-09",
         "-της πήρα τεστ Παπ και το πήγα στον Λαΐνη: αρνητικό για κακοήθεια. Επανάληψη σε ένα έτος\n-υπέρηχος εγο: σε ευθειωρία, χωρίς παθολογικά ευρήματα\n-να κάνει μαστογραφία και υπέρηχο μαστών:\n-μου πλήρωσε 100 ευρώ"
        ],
        [
         "19",
         "256",
         "2024-04-09",
         "-της πήρα τεστ Παπ και το πήγα στον Λαΐνη: αρνητικό για κακοήθεια. Επανάληψη σε ένα έτος\n-υπέρηχος εγο: ΠΚΚ, check IUD (το είχαμε βάλει Ιούνιο 2020). Όλα κφ\n-της έγραψα να κάνει μαστογραφία και υπέρηχο μαστών και θα μου τα προσκομίσει: υπέρηχος (Απρίλιος 2024): δύο απλές κύστεις του μισού εκατοστού. Εκκρεμεί μαστογραφία\n-μου πλήρωσε 80 ευρώ"
        ],
        [
         "20",
         "1453",
         "2024-04-04",
         "-της πήρα τεστ Παπ και το πήγα στον Λαΐνη: αρνητικό για κακοήθεια. Επανάληψη σε ένα έτος\n-υπέρηχος εγο: ΠΚΚ, χωρίς παθολογικά ευρήματα\n-να κάνει μαστογραφία αναφοράς και υπέρηχο μαστών:\n-μου πλήρωσε 80 ευρώ"
        ],
        [
         "21",
         "1452",
         "2024-04-04",
         "-έχει πρόσφατο τεστ Παπ\n-υπέρηχος εγο: ΠΚΚ, παρουσία ενδομητρικού πολύποδα\n-της είπα για υστεροσκοπική αφαίρεση\n-έχει ιδιωτική ασφάλεια και θα πληρωθώ από εκεί. Μάλλον στο ΜΗΤΕΡΑ\n-να κάνει υπέρηχο μαστών:\n-μου πλήρωσε 50 ευρώ"
        ],
        [
         "22",
         "1451",
         "2024-04-04",
         "-της πήρα τεστ Παπ και το πήγα στον Λαΐνη: αρνητικό για κακοήθεια. Επανάληψη σε ένα έτος\n-υπέρηχος εγο: ΟΚΚ, παχύ ενδομήτριο\n-της είπα για ΔΑ στο ΙΑΣΩ και τους είπα ήδη 500 ευρώ συνολικά. Μετρητά και θα τα κανονίσω εγώ\n-μου πλήρωσε 50 ευρώ μόνο για το τεστ Παπ"
        ],
        [
         "23",
         "592",
         "2024-04-04",
         "-της πήρα τεστ Παπ και το πήγα στον Λαΐνη: αρνητικό για κακοήθεια. Επανάληψη σε ένα έτος\n-υπέρηχος εγο: ΠΚΚ, χωρίς παθολογικά ευρήματα\n-να κάνει μαστογραφία και υπέρηχο μαστών:\n-ΟΠΩΣΔΗΠΟΤΕ να κάνει τα BRCA1 KAI 2 γιατί από την πλευρά της μαμάς της έχει ιστορικό Ca μαστού σε πολλές γυναίκες \n-μου πλήρωσε 100 ευρώ για όλα μαζί"
        ],
        [
         "24",
         "385",
         "2024-04-04",
         "-της πήρα τεστ Παπ και το πήγα στον Λαΐνη: αρνητικό για κακοήθεια. Επανάληψη σε ένα έτος\n-της πήρα και ΚΚΥ: μύκητες και της έδωσα αγωγή\n-υπέρηχος εγο: ΠΚΚ, χωρίς παθολογικά ευρήματα\n-της είπα να κάνει υπέρηχο μαστών και θα μου τον προσκομίσει: κφ προ εξαμήνου\n-μου πλήρωσε 150 ευρώ"
        ],
        [
         "25",
         "289",
         "2024-04-04",
         "-της πήρα τεστ Παπ και το πήγα στον Λαΐνη: αρνητικό για κακοήθεια. Επανάληψη σε ένα έτος\n-υπέρηχος εγο: ΠΚΚ, μικροί ινομυωματώδεις πυρήνες\n-της έγραψα να κάνει υπέρηχο μαστών και θα μου τον προσκομίσει: άψογος (Απρίλιος 2024)\n-μου πλήρωσε 80 ευρώ"
        ],
        [
         "26",
         "1450",
         "2024-04-03",
         "-ευρήματα στη μαστογραφία\n-της είπα να κάνει συμπληρωματικά υπέρηχο, γιατί μπορεί να είναι λόγω της πυκνής σύστασης των μαστών\n-δεν κάναμε check up\n-μου πλήρωσε 20 ευρώ"
        ],
        [
         "27",
         "1449",
         "2024-04-03",
         "-ασταθής κύκλος με υπερμηνόρροια\n-υπέρηχος εγο: ΠΚΚ, χωρίς παθολογικά ευρήματα\n-γυναικείες ορμονολογικές εξετάσεις: κφ\n-της είπα για υστεροσκόπηση και πιθανή τοποθέτηση Mirena\n-της είπα ότι δεν θα πληρωθώ εγώ για την υστεροσκόπηση. Αν μου δώσουν κάτι φυσικά, θα το πάρω\n-δεν πήρα επίσκεψη σήμερα"
        ],
        [
         "28",
         "1448",
         "2024-04-03",
         "-της πήρα τεστ Παπ και το πήγα στον Λαΐνη: αρνητικό για κακοήθεια. Επανάληψη σε ένα έτος\n-υπέρηχος εγο: ΟΚΚ, χωρίς παθολογικά ευρήματα\n-εμμηνόπαυση σε ηλικία 49 ετών\n-να κάνει μαστογραφία και υπέρηχο μαστών: έχει πρόσφατα κφ, όπως αναφέρει\n-μου πλήρωσε 80 ευρώ"
        ],
        [
         "29",
         "753",
         "2024-04-03",
         "-της πήρα τεστ Παπ και το πήγα στον Λαΐνη: αρνητικό για κακοήθεια. Επανάληψη σε ένα έτος\n-υπέρηχος εγο: ΟΚΚ, χωρίς παθολογικά ευρήματα\n-να κάνει μαστογραφία και υπέρηχο μαστών: στον ΔΕ μαστό που είχαμε χειρουργήσει, έχει μία ύποπτη βλάβη με ακτινωτή παρυφή, που φαίνεται και στις δύο εξετάσεις. Της έστειλα να κάνει μαγνητική μαστογραφία και αν είναι θα την παραπέμψω στον Ξεπαπαδάκη ή στην Καρυδά\n-μου πλήρωσε 80 ευρώ"
        ],
        [
         "30",
         "544",
         "2024-04-03",
         "-της πήρα τεστ Παπ και το πήγα στον Λαΐνη: ίχνη HPV. Της έδωσα θεραπεία και της είπα επανάληψη σε 4 μήνες ΚΑΙ κολποσκόπηση\n-αν χρειαστεί loop, θα της πω με 1300 ευρώ στο ΙΑΣΩ\n-υπέρηχος εγο: σε ευθειωρία, χωρίς παθολογικά ευρήματα\n-να κάνει υπέρηχο μαστών και μαστογραφία:\n-μου πλήρωσε 80 ευρώ"
        ],
        [
         "31",
         "1447",
         "2024-03-28",
         "-της πήρα τεστ Παπ και το πήγα στον Λαΐνη: αρνητικό για κακοήθεια. Επανάληψη σε ένα έτος\n-υπέρηχος εγο: ΠΚΚ, χωρίς παθολογικά ευρήματα\n-να κάνει υπέρηχο μαστών:\n-μου πλήρωσε 80 ευρώ"
        ],
        [
         "32",
         "807",
         "2024-03-28",
         "-της πήρα τεστ Παπ και το πήγα στον Λαΐνη: αρνητικό για κακοήθεια. Επανάληψη σε ένα έτος\n-υπέρηχος εγο: ΠΚΚ, δεν έχει εξαρτήματα, ενδομήτριο 1,85 χιλιοστά\n-της έγραψα να κάνει μαστογραφία και υπέρηχο μαστών και θα μου τα προσκομίσει: κφ\n-μου πλήρωσε 80 ευρώ\n-εμμηνόπαυση σε ηλικία 47 ετών"
        ],
        [
         "33",
         "806",
         "2024-03-28",
         "-της πήρα τεστ Παπ και το πήγα στον Λαΐνη: αν κφ, της είπα το επόμενο σε 3 έτη. Αρνητικό για κακοήθεια.\n-υπέρηχος εγο: ΠΚΚ, ενδομήτριο 1,67χιλιοστά\n-ΠΡΟΣΟΧΗ: ιστορικό Ca μαστού από μαμά και αδερφή μαμάς της\n-της έγραψα να κάνει μαστογραφία και υπέρηχο μαστών και θα μου τα προσκομίσει: άψογες και οι δύο εξετάσεις\n-μου πλήρωσε 100 ευρώ για όλα μαζί\n-εμμηνόπαυση σε ηλικία 45 ετών"
        ],
        [
         "34",
         "664",
         "2024-03-28",
         "-της πήρα τεστ Παπ και το πήγα στον Λαΐνη: αρνητικό για κακοήθεια. Επανάληψη σε ένα έτος\n-υπέρηχος εγο: ΠΚΚ, χωρίς παθολογικά ευρήματα\n-της έγραψα να κάνει υπέρηχο μαστών και μαστογραφία και θα μου τα προσκομίσει: κφ \n-μου πλήρωσε 80 ευρώ"
        ],
        [
         "35",
         "390",
         "2024-03-28",
         "-δεν την είδα σήμερα. Απλώς γράφω ότι έχει έναν ενδομητρικό πολύποδα και της είπα για υστεροσκοπική αφαίρεση στην Ελλάδα\n-θα της πω 1200 ευρώ δικά μου και αναισθησιολόγου απογευματινό ODS\n-την ίδια ημέρα θα πω στον Μπρεδάκη ή Μίλτο ή Λυμπερόπουλο να της κάνουν έναν υπέρηχο, γιατί της βρήκαν ένα ινοαδένωμα 2 εκατοστά στον ΔΕ μαστό"
        ],
        [
         "36",
         "348",
         "2024-03-28",
         "-της πήρα τεστ Παπ και το πήγα στον Λαΐνη: αρνητικό για κακοήθεια. Επανάληψη σε ένα έτος\n-υπέρηχος εγο: ΠΚΚ, χωρίς παθολογικά ευρήματα\n-της έγραψα να κάνει υπέρηχο μαστών και θα μου τον προσκομίσει: \n-μου πλήρωσε 80 ευρώ"
        ],
        [
         "37",
         "1446",
         "2024-03-26",
         "-της πήρα τεστ Παπ και το πήγα στον Λαΐνη: αρνητικό για κακοήθεια. Επανάληψη σε ένα έτος. \n-υπέρηχος εγο: ΠΚΚ, χωρίς παθολογικά ευρήματα\n-για μαστούς την παρακολουθεί η Καρυδά\n-μου πλήρωσε 50 ευρώ μόνο για το τεστ Παπ"
        ],
        [
         "38",
         "1445",
         "2024-03-21",
         "-τεστ Παπ θα κάνουμε τον Σεπτέμβριο 2024\n-υπέρηχος εγο: ΠΚΚ, χωρίς παθολογικά ευρήματα. ΑΨΟΓΕΣ ωοθήκες\n-να κάνει μαστογραφία και υπέρηχο μαστών:\n-μου πλήρωσε 80 ευρώ"
        ],
        [
         "39",
         "1444",
         "2024-03-21",
         "-της πήρα τεστ Παπ και το πήγα στον Λαΐνη: αρνητικό για κακοήθεια. Επανάληψη σε ένα έτος\n-υπέρηχος εγο: ΠΚΚ, χωρίς παθολογικά ευρήματα\n-να κάνει υπέρηχο μαστών:\n-μου πλήρωσε 80 ευρώ"
        ],
        [
         "40",
         "1272",
         "2024-03-21",
         "-της πήρα τεστ Παπ και το πήγα στον Λαΐνη:\n-υπέρηχος εγο:\n-αν δεν θηλάζει, να κάνει υπέρηχο μαστών\n-μου πλήρωσε 100 ευρώ"
        ],
        [
         "41",
         "1248",
         "2024-03-21",
         "-της πήρα τεστ Παπ και το πήγα στον Λαΐνη: αρνητικό για κακοήθεια. Επανάληψη σε ένα έτος\n-υπέρηχος εγο: ΟΚΚ, χωρίς παθολογικά ευρήματα\n-της έγραψα να κάνει υπέρηχο μαστών και θα μου τον προσκομίσει:\n-μου πλήρωσε 80 ευρώ"
        ],
        [
         "42",
         "1094",
         "2024-03-21",
         "-της πήρα τεστ Παπ και το πήγα στον Λαΐνη: αρνητικό για κακοήθεια. Επανάληψη σε ένα έτος\n-υπέρηχος εγο: ΠΚΚ, χωρίς παθολογικά ευρήματα\n-να κάνει υπέρηχο μαστών:\n-μου πλήρωσε 80 ευρώ"
        ],
        [
         "43",
         "1062",
         "2024-03-21",
         "-της πήρα τεστ Παπ και το πήγα στον Λαΐνη: αρνητικό για κακοήθεια. Επανάληψη σε ένα έτος\n-υπέρηχος εγο: ΠΚΚ, χωρίς παθολογικά ευρήματα\n-να κάνει μαστογραφία αναφοράς και υπέρηχο μαστών:\n-μου πλήρωσε 100 ευρώ"
        ],
        [
         "44",
         "1443",
         "2024-03-20",
         "-υπέρηχος εγο: ΟΚΚ, χωρίς παθολογικά ευρήματα\n-τεστ Παπ (Ιανουάριος 2024): αρνητικό για κακοήθεια\n-μαστογραφία και υπέρηχος μαστών: κφ\n-μου πλήρωσε 70 ευρώ"
        ],
        [
         "45",
         "1230",
         "2024-03-20",
         "-της πήρα τεστ Παπ και το πήγα στον Λαΐνη: ίχνη HPV. Της έδωσα θεραπεία με papillocare gel και της είπα επανάληψη σε 4 μήνες και κολποσκόπηση. Αν χρειαστεί loop, θα της πω με 1500 ευρώ στο ΙΑΣΩ, γιατί είναι ΧΩΡΙΣ ΕΟΠΥΥ!!!!\n-ενδεχομένως να της τα κάνω και τα δύο μαζί στο ODS, αλλά θα της πω σε αυτήν την περίπτωση 2000 ευρώ: 1400 το loop και 600 η υστεροσκόπηση και θα πω στην ¨Αρτεμη να μην της χρεώσει το loop\n-υπέρηχος εγο: ΠΚΚ, οι ενδομητρικοί πολύποδες είναι εκεί (2)\n-θα κάνουμε υστεροσκόπηση μετά το Πάσχα στο ΙΑΣΩ. Της είπα 600 ευρώ δική μου αμοιβή και θα τη βάλω απογευματινό τιμολόγιο, γιατί είναι ΧΩΡΙΣ ΕΟΠΥΥ!!!!\n-να κάνει μαστογραφία και υπέρηχο μαστών:\n-μου πλήρωσε 70 ευρώ"
        ],
        [
         "46",
         "1442",
         "2024-03-19",
         "-της πήρα ΚΚΥ και τις πήγα στον Λαΐνη: φυσιολογική χλωρίδα\n-υπέρηχο εγο και τεστ Παπ έχει πρόσφατα και θα κάνουμε σε ένα έτος\n-μου πλήρωσε 80 ευρώ"
        ],
        [
         "47",
         "1441",
         "2024-03-19",
         "-της πήρα thin prep και το πήγα στον Λαΐνη: HPV\n-κολποσκόπηση: εγώ είδα LGSIL στη 12η ώρα του τραχήλου. Της είπα ήδη για loop\n-αν χρειαστεί loop, της έχω ήδη πει 1300 ευρώ στο ΙΑΣΩ. ΠΡΟΣΟΧΗ: HGSIL σε τεστ Παπ τον Μάρτιο 2024\n-μου πλήρωσε 180 ευρώ"
        ],
        [
         "48",
         "879",
         "2024-03-19",
         "-της πήρα τεστ Παπ και το πήγα στον Λαΐνη: SUPER SOS βλέπε προηγούμενο ιστορικό!!!!\n-υπέρηχος εγο: ΟΚΚ, \n-να κάνει υπέρηχο μαστών:\n-μου πλήρωσε 80 ευρώ για όλα μαζί"
        ],
        [
         "49",
         "877",
         "2024-03-19",
         "-της πήρα τεστ Παπ και το πήγα στον Λαΐνη: ίχνη ΗPV. Της έδωσα θεραπεία με papillocare και της είπα επανάληψη σε 4 μήνες και κολποσκόπηση. Αν χρειαστεί loop τότε, θα της πω με 1500 ευρώ στο ΙΑΣΩ\n-υπέρηχος εγο: ΠΚΚ, χωρίς παθολογικά ευρήματα\n-της έγραψα να κάνει μαστογραφία και υπέρηχο μαστών και θα μου τα προσκομίσει: \n-μου πλήρωσε 80 ευρώ για όλα μαζί"
        ]
       ],
       "shape": {
        "columns": 3,
        "rows": 397
       }
      },
      "text/html": [
       "<div>\n",
       "<style scoped>\n",
       "    .dataframe tbody tr th:only-of-type {\n",
       "        vertical-align: middle;\n",
       "    }\n",
       "\n",
       "    .dataframe tbody tr th {\n",
       "        vertical-align: top;\n",
       "    }\n",
       "\n",
       "    .dataframe thead th {\n",
       "        text-align: right;\n",
       "    }\n",
       "</style>\n",
       "<table border=\"1\" class=\"dataframe\">\n",
       "  <thead>\n",
       "    <tr style=\"text-align: right;\">\n",
       "      <th></th>\n",
       "      <th>patient_id</th>\n",
       "      <th>date_of_visit</th>\n",
       "      <th>comments</th>\n",
       "    </tr>\n",
       "  </thead>\n",
       "  <tbody>\n",
       "    <tr>\n",
       "      <th>0</th>\n",
       "      <td>1349</td>\n",
       "      <td>2024-05-28</td>\n",
       "      <td>-της πήρα τεστ Παπ και το πήγα στον Λαΐνη:\\n-υ...</td>\n",
       "    </tr>\n",
       "    <tr>\n",
       "      <th>1</th>\n",
       "      <td>608</td>\n",
       "      <td>2024-05-09</td>\n",
       "      <td>-της πήρα τεστ Παπ και το πήγα στον Λαΐνη: \\n-...</td>\n",
       "    </tr>\n",
       "    <tr>\n",
       "      <th>2</th>\n",
       "      <td>671</td>\n",
       "      <td>2024-04-24</td>\n",
       "      <td>-της πήρα τεστ Παπ και το πήγα στον Λαΐνη: \\n-...</td>\n",
       "    </tr>\n",
       "    <tr>\n",
       "      <th>3</th>\n",
       "      <td>255</td>\n",
       "      <td>2024-04-24</td>\n",
       "      <td>-της πήρα τεστ Παπ και το πήγα στον Λαΐνη:\\n-υ...</td>\n",
       "    </tr>\n",
       "    <tr>\n",
       "      <th>4</th>\n",
       "      <td>880</td>\n",
       "      <td>2024-04-23</td>\n",
       "      <td>-της πήρα τεστ Παπ και το πήγα στον Λαΐνη:\\n-α...</td>\n",
       "    </tr>\n",
       "    <tr>\n",
       "      <th>...</th>\n",
       "      <td>...</td>\n",
       "      <td>...</td>\n",
       "      <td>...</td>\n",
       "    </tr>\n",
       "    <tr>\n",
       "      <th>392</th>\n",
       "      <td>1042</td>\n",
       "      <td>2023-06-13</td>\n",
       "      <td>-της πήρα τεστ Παπ και το πήγα στον Λαΐνη: αρν...</td>\n",
       "    </tr>\n",
       "    <tr>\n",
       "      <th>393</th>\n",
       "      <td>934</td>\n",
       "      <td>2023-06-13</td>\n",
       "      <td>-της πήρα τεστ Παπ και το πήγα στον Λαΐνη: αρν...</td>\n",
       "    </tr>\n",
       "    <tr>\n",
       "      <th>394</th>\n",
       "      <td>852</td>\n",
       "      <td>2023-06-13</td>\n",
       "      <td>-της πήρα επαναληπτικό τεστ Παπ και το πήγα στ...</td>\n",
       "    </tr>\n",
       "    <tr>\n",
       "      <th>395</th>\n",
       "      <td>796</td>\n",
       "      <td>2023-06-13</td>\n",
       "      <td>-καυτηριασμός σπίλων\\n-μου πλήρωσε 50 ευρώ και...</td>\n",
       "    </tr>\n",
       "    <tr>\n",
       "      <th>396</th>\n",
       "      <td>305</td>\n",
       "      <td>2023-06-13</td>\n",
       "      <td>-της πήρα τεστ Παπ και το πήγα στον Λαΐνη: αρν...</td>\n",
       "    </tr>\n",
       "  </tbody>\n",
       "</table>\n",
       "<p>397 rows × 3 columns</p>\n",
       "</div>"
      ],
      "text/plain": [
       "     patient_id date_of_visit  \\\n",
       "0          1349    2024-05-28   \n",
       "1           608    2024-05-09   \n",
       "2           671    2024-04-24   \n",
       "3           255    2024-04-24   \n",
       "4           880    2024-04-23   \n",
       "..          ...           ...   \n",
       "392        1042    2023-06-13   \n",
       "393         934    2023-06-13   \n",
       "394         852    2023-06-13   \n",
       "395         796    2023-06-13   \n",
       "396         305    2023-06-13   \n",
       "\n",
       "                                              comments  \n",
       "0    -της πήρα τεστ Παπ και το πήγα στον Λαΐνη:\\n-υ...  \n",
       "1    -της πήρα τεστ Παπ και το πήγα στον Λαΐνη: \\n-...  \n",
       "2    -της πήρα τεστ Παπ και το πήγα στον Λαΐνη: \\n-...  \n",
       "3    -της πήρα τεστ Παπ και το πήγα στον Λαΐνη:\\n-υ...  \n",
       "4    -της πήρα τεστ Παπ και το πήγα στον Λαΐνη:\\n-α...  \n",
       "..                                                 ...  \n",
       "392  -της πήρα τεστ Παπ και το πήγα στον Λαΐνη: αρν...  \n",
       "393  -της πήρα τεστ Παπ και το πήγα στον Λαΐνη: αρν...  \n",
       "394  -της πήρα επαναληπτικό τεστ Παπ και το πήγα στ...  \n",
       "395  -καυτηριασμός σπίλων\\n-μου πλήρωσε 50 ευρώ και...  \n",
       "396  -της πήρα τεστ Παπ και το πήγα στον Λαΐνη: αρν...  \n",
       "\n",
       "[397 rows x 3 columns]"
      ]
     },
     "execution_count": 26,
     "metadata": {},
     "output_type": "execute_result"
    }
   ],
   "source": [
    "conn = sqlite3.connect(db_path)\n",
    "cursor = conn.cursor()\n",
    "\n",
    "cursor.execute(\"\"\"\n",
    "               SELECT patient_id\n",
    "                    , date_of_visit\n",
    "                    , comments\n",
    "               FROM gyn_history\n",
    "               WHERE date_of_visit >= date('2024-06-13', '-1 year')\n",
    "               AND is_active = 1\n",
    "               AND created_by = 1\n",
    "               GROUP BY patient_id\n",
    "               ORDER BY 2 DESC;\n",
    "               \"\"\")\n",
    "visits = cursor.fetchall()\n",
    "columns = [desc[0] for desc in cursor.description]\n",
    "\n",
    "visits_df = pd.DataFrame(visits, columns=columns)\n",
    "visits_df"
   ]
  },
  {
   "cell_type": "code",
   "execution_count": 25,
   "metadata": {},
   "outputs": [
    {
     "name": "stderr",
     "output_type": "stream",
     "text": [
      "\u001b[32m2025-10-17 11:41:15.790\u001b[0m | \u001b[1mINFO    \u001b[0m | \u001b[36m__main__\u001b[0m:\u001b[36m<module>\u001b[0m:\u001b[36m3\u001b[0m - \u001b[1mAnalyzing comment #0:\n",
      "-της πήρα τεστ Παπ και το πήγα στον Λαΐνη:\n",
      "-υπέρηχος εγο:\n",
      "-4 μήνες μετά τη διακοπή του θηλασμού, θα κάνουμε υπέρηχο μαστών\n",
      "-αν θέλει σπιράλ, θα της πω 200 ευρώ στο ΙΑΣΩ λόγω ΠΚΤ\n",
      "-μου πλήρωσε 100 ευρώ...\u001b[0m\n"
     ]
    },
    {
     "name": "stdout",
     "output_type": "stream",
     "text": [
      "\n",
      "\n",
      "\u001b[1m> Entering new AgentExecutor chain...\u001b[0m\n"
     ]
    },
    {
     "name": "stderr",
     "output_type": "stream",
     "text": [
      "\u001b[32m2025-10-17 11:41:16.375\u001b[0m | \u001b[1mINFO    \u001b[0m | \u001b[36m__main__\u001b[0m:\u001b[36m<module>\u001b[0m:\u001b[36m3\u001b[0m - \u001b[1mAnalyzing comment #1:\n",
      "-της πήρα τεστ Παπ και το πήγα στον Λαΐνη: \n",
      "-υπέρηχος εγο: ΠΚΚ,\n",
      "-της έγραψα να κάνει μαστογραφία και υπέρηχο μαστών και θα μου τα προσκομίσει:\n",
      "-μου πλήρωσε 80 ευρώ για όλα μαζί...\u001b[0m\n"
     ]
    },
    {
     "name": "stdout",
     "output_type": "stream",
     "text": [
      "\u001b[32;1m\u001b[1;3mNo appointment suggestion found.\u001b[0m\n",
      "\n",
      "\u001b[1m> Finished chain.\u001b[0m\n",
      "\n",
      "\n",
      "\u001b[1m> Entering new AgentExecutor chain...\u001b[0m\n"
     ]
    },
    {
     "name": "stderr",
     "output_type": "stream",
     "text": [
      "\u001b[32m2025-10-17 11:41:17.021\u001b[0m | \u001b[1mINFO    \u001b[0m | \u001b[36m__main__\u001b[0m:\u001b[36m<module>\u001b[0m:\u001b[36m3\u001b[0m - \u001b[1mAnalyzing comment #2:\n",
      "-της πήρα τεστ Παπ και το πήγα στον Λαΐνη: \n",
      "-υπέρηχος εγο: ενδομήτριο. Εξαρτήματα δεν έχει\n",
      "-θα κάνει μαστογραφία και υπέρηχο μαστών και θα μου τα προσκομίσει: \n",
      "-μου πλήρωσε 70 ευρώ για όλα μαζί...\u001b[0m\n"
     ]
    },
    {
     "name": "stdout",
     "output_type": "stream",
     "text": [
      "\u001b[32;1m\u001b[1;3mNo appointment suggestion found.\u001b[0m\n",
      "\n",
      "\u001b[1m> Finished chain.\u001b[0m\n",
      "\n",
      "\n",
      "\u001b[1m> Entering new AgentExecutor chain...\u001b[0m\n"
     ]
    },
    {
     "name": "stderr",
     "output_type": "stream",
     "text": [
      "\u001b[32m2025-10-17 11:41:17.602\u001b[0m | \u001b[1mINFO    \u001b[0m | \u001b[36m__main__\u001b[0m:\u001b[36m<module>\u001b[0m:\u001b[36m3\u001b[0m - \u001b[1mAnalyzing comment #3:\n",
      "-της πήρα τεστ Παπ και το πήγα στον Λαΐνη:\n",
      "-υπέρηχος εγο: ΠΚΚ, βλέπε προηγούμενο ιστορικό για ινομύωμα\n",
      "-της έγραψα να κάνει μαστογραφία και υπέρηχο μαστών και θα μου τα προσκομίσει: βλέπε προηγούμενο ιστορικό για ινοαδένωμα\n",
      "-μου πλήρωσε 80 ευρώ για όλα μαζί...\u001b[0m\n"
     ]
    },
    {
     "name": "stdout",
     "output_type": "stream",
     "text": [
      "\u001b[32;1m\u001b[1;3mNo appointment suggestion found.\u001b[0m\n",
      "\n",
      "\u001b[1m> Finished chain.\u001b[0m\n",
      "\n",
      "\n",
      "\u001b[1m> Entering new AgentExecutor chain...\u001b[0m\n"
     ]
    },
    {
     "name": "stderr",
     "output_type": "stream",
     "text": [
      "\u001b[32m2025-10-17 11:41:18.187\u001b[0m | \u001b[1mINFO    \u001b[0m | \u001b[36m__main__\u001b[0m:\u001b[36m<module>\u001b[0m:\u001b[36m3\u001b[0m - \u001b[1mAnalyzing comment #4:\n",
      "-της πήρα τεστ Παπ και το πήγα στον Λαΐνη:\n",
      "-αν θέλει, θα της κάνω κολποσκόπηση:\n",
      "-υπέρηχος εγο:\n",
      "-να κάνει υπέρηχο μαστών:\n",
      "-μου πλήρωσε 80 ευρώ. Αν κάνουμε και κολποσκόπηση, θα της πάρουμε 150 ευρώ...\u001b[0m\n"
     ]
    },
    {
     "name": "stdout",
     "output_type": "stream",
     "text": [
      "\u001b[32;1m\u001b[1;3mNo appointment suggestion found.\u001b[0m\n",
      "\n",
      "\u001b[1m> Finished chain.\u001b[0m\n",
      "\n",
      "\n",
      "\u001b[1m> Entering new AgentExecutor chain...\u001b[0m\n"
     ]
    },
    {
     "name": "stderr",
     "output_type": "stream",
     "text": [
      "\u001b[32m2025-10-17 11:41:18.741\u001b[0m | \u001b[1mINFO    \u001b[0m | \u001b[36m__main__\u001b[0m:\u001b[36m<module>\u001b[0m:\u001b[36m3\u001b[0m - \u001b[1mAnalyzing comment #5:\n",
      "-της πήρα τεστ Παπ και το πήγα στον Λαΐνη:\n",
      "-υπέρηχος εγο:\n",
      "-να κάνει μαστογραφία αναφοράς και υπέρηχο μαστών:\n",
      "-μου πλήρωσε 100 ευρώ...\u001b[0m\n"
     ]
    },
    {
     "name": "stdout",
     "output_type": "stream",
     "text": [
      "\u001b[32;1m\u001b[1;3mNo appointment suggestion found.\u001b[0m\n",
      "\n",
      "\u001b[1m> Finished chain.\u001b[0m\n",
      "\n",
      "\n",
      "\u001b[1m> Entering new AgentExecutor chain...\u001b[0m\n"
     ]
    },
    {
     "name": "stderr",
     "output_type": "stream",
     "text": [
      "\u001b[32m2025-10-17 11:41:20.035\u001b[0m | \u001b[1mINFO    \u001b[0m | \u001b[36m__main__\u001b[0m:\u001b[36m<module>\u001b[0m:\u001b[36m3\u001b[0m - \u001b[1mAnalyzing comment #6:\n",
      "-της πήρα τεστ Παπ και το πήγα στον Λαΐνη: \n",
      "-υπέρηχος εγο: ΠΚΚ, \n",
      "-check αν παίρνει ακόμη OCPs (βλέπε προηγούμενο ιστορικό)\n",
      "-να κάνει υπέρηχο μαστών:\n",
      "-μου πλήρωσε 80 ευρώ...\u001b[0m\n"
     ]
    },
    {
     "name": "stdout",
     "output_type": "stream",
     "text": [
      "\u001b[32;1m\u001b[1;3mNo appointment suggestion found.\u001b[0m\n",
      "\n",
      "\u001b[1m> Finished chain.\u001b[0m\n",
      "\n",
      "\n",
      "\u001b[1m> Entering new AgentExecutor chain...\u001b[0m\n"
     ]
    },
    {
     "name": "stderr",
     "output_type": "stream",
     "text": [
      "\u001b[32m2025-10-17 11:41:20.590\u001b[0m | \u001b[1mINFO    \u001b[0m | \u001b[36m__main__\u001b[0m:\u001b[36m<module>\u001b[0m:\u001b[36m3\u001b[0m - \u001b[1mAnalyzing comment #7:\n",
      "-της πήρα τεστ Παπ και το πήγα στον Λαΐνη:\n",
      "-υπέρηχος εγο: εικόνα ολικής υστερεκτομής\n",
      "-να κάνει μαστογραφία και υπέρηχο μαστών:\n",
      "-μου πλήρωσε 80 ευρώ\n",
      "-να της πω ότι δεν έχω πληρωθεί ακόμη από την ασφάλειά της για το χειρουργείο μας...\u001b[0m\n"
     ]
    },
    {
     "name": "stdout",
     "output_type": "stream",
     "text": [
      "\u001b[32;1m\u001b[1;3mNo appointment suggestion found.\u001b[0m\n",
      "\n",
      "\u001b[1m> Finished chain.\u001b[0m\n",
      "\n",
      "\n",
      "\u001b[1m> Entering new AgentExecutor chain...\u001b[0m\n"
     ]
    },
    {
     "name": "stderr",
     "output_type": "stream",
     "text": [
      "\u001b[32m2025-10-17 11:41:21.207\u001b[0m | \u001b[1mINFO    \u001b[0m | \u001b[36m__main__\u001b[0m:\u001b[36m<module>\u001b[0m:\u001b[36m3\u001b[0m - \u001b[1mAnalyzing comment #8:\n",
      "-της πήρα τεστ Παπ και το πήγα στον Λαΐνη: \n",
      "-υπέρηχος εγο: ΠΚΚ, χωρίς παθολογικά ευρήματα\n",
      "-της έγραψα να κάνει μαστογραφία αναφοράς και υπέρηχο μαστών και θα μου τα προσκομίσει:\n",
      "-μου πλήρωσε 100 ευρώ...\u001b[0m\n"
     ]
    },
    {
     "name": "stdout",
     "output_type": "stream",
     "text": [
      "\u001b[32;1m\u001b[1;3mNo appointment suggestion found.\u001b[0m\n",
      "\n",
      "\u001b[1m> Finished chain.\u001b[0m\n",
      "\n",
      "\n",
      "\u001b[1m> Entering new AgentExecutor chain...\u001b[0m\n"
     ]
    },
    {
     "name": "stderr",
     "output_type": "stream",
     "text": [
      "\u001b[32m2025-10-17 11:41:21.753\u001b[0m | \u001b[1mINFO    \u001b[0m | \u001b[36m__main__\u001b[0m:\u001b[36m<module>\u001b[0m:\u001b[36m3\u001b[0m - \u001b[1mAnalyzing comment #9:\n",
      "-αν έχει ξεκινήσει επαφές, της παίρνω τεστ Παπ:\n",
      "-υπέρηχος εγο: ΠΚΚ, χωρίς παθολογικά ευρήματα\n",
      "-δεν παίρνουμε επίσκεψη...\u001b[0m\n"
     ]
    },
    {
     "name": "stdout",
     "output_type": "stream",
     "text": [
      "\u001b[32;1m\u001b[1;3mNo appointment suggestion found.\u001b[0m\n",
      "\n",
      "\u001b[1m> Finished chain.\u001b[0m\n",
      "\n",
      "\n",
      "\u001b[1m> Entering new AgentExecutor chain...\u001b[0m\n"
     ]
    },
    {
     "name": "stderr",
     "output_type": "stream",
     "text": [
      "\u001b[32m2025-10-17 11:41:22.300\u001b[0m | \u001b[1mINFO    \u001b[0m | \u001b[36m__main__\u001b[0m:\u001b[36m<module>\u001b[0m:\u001b[36m3\u001b[0m - \u001b[1mAnalyzing comment #10:\n",
      "-της πήρα τεστ Παπ και το πήγα στον Λαΐνη: \n",
      "-υπέρηχος εγο: ΠΚΚ, χωρίς παθολογικά ευρήματα\n",
      "-προσπαθούν για τρίτο παιδί. Να ρωτήσω πώς πάμε\n",
      "-της έγραψα να κάνει υπέρηχο μαστών και θα μου τον προσκομίσει: της είπα για πιθανή επανάληψη υπερήχου με ψηφιακή τομοσύνθεση, αν δω κάτι ύποπτο\n",
      "-μου πλήρωσε 100 ευρώ για όλα μαζί...\u001b[0m\n"
     ]
    },
    {
     "name": "stdout",
     "output_type": "stream",
     "text": [
      "\u001b[32;1m\u001b[1;3mNo appointment suggestion found.\u001b[0m\n",
      "\n",
      "\u001b[1m> Finished chain.\u001b[0m\n",
      "\n",
      "\n",
      "\u001b[1m> Entering new AgentExecutor chain...\u001b[0m\n"
     ]
    },
    {
     "name": "stderr",
     "output_type": "stream",
     "text": [
      "\u001b[32m2025-10-17 11:41:23.161\u001b[0m | \u001b[1mINFO    \u001b[0m | \u001b[36m__main__\u001b[0m:\u001b[36m<module>\u001b[0m:\u001b[36m3\u001b[0m - \u001b[1mAnalyzing comment #11:\n",
      "-της πήρα τεστ Παπ και το πήγα στον Λαΐνη: αν κφ, δεν χρειάζεται να κάνουμε άλλο\n",
      "-υπέρηχος εγο: ΠΚΚ, ενδομήτριο 1,15 χιλιοστά\n",
      "-της έγραψα να κάνει μαστογραφία και θα μου την προσκομίσει: κφ, Μάρτιος 2024\n",
      "-μου πλήρωσε 80 ευρώ για όλα μαζί...\u001b[0m\n"
     ]
    },
    {
     "name": "stdout",
     "output_type": "stream",
     "text": [
      "\u001b[32;1m\u001b[1;3mNo appointment suggestion found.\u001b[0m\n",
      "\n",
      "\u001b[1m> Finished chain.\u001b[0m\n",
      "\n",
      "\n",
      "\u001b[1m> Entering new AgentExecutor chain...\u001b[0m\n"
     ]
    },
    {
     "name": "stderr",
     "output_type": "stream",
     "text": [
      "\u001b[32m2025-10-17 11:41:23.957\u001b[0m | \u001b[1mINFO    \u001b[0m | \u001b[36m__main__\u001b[0m:\u001b[36m<module>\u001b[0m:\u001b[36m3\u001b[0m - \u001b[1mAnalyzing comment #12:\n",
      "-τεστ Παπ είχε προ μηνός: κφ\n",
      "-υπέρηχος εγο: ΠΚΚ, πρόσθιο ενδοτοιχωματικό ινομύωμα 3,2 εκαστοστά και υποβλεννογόνιο 1,6 εκατοστά\n",
      "-να κάνει μαστογραφία και υπέρηχο μαστών: μαστογραφία κφ. Υπέρηχο θα κάνει του χρόνου\n",
      "-μου πλήρωσε 70 ευρώ...\u001b[0m\n"
     ]
    },
    {
     "name": "stdout",
     "output_type": "stream",
     "text": [
      "\u001b[32;1m\u001b[1;3mNo appointment suggestion found.\u001b[0m\n",
      "\n",
      "\u001b[1m> Finished chain.\u001b[0m\n",
      "\n",
      "\n",
      "\u001b[1m> Entering new AgentExecutor chain...\u001b[0m\n"
     ]
    },
    {
     "name": "stderr",
     "output_type": "stream",
     "text": [
      "\u001b[32m2025-10-17 11:41:24.465\u001b[0m | \u001b[1mINFO    \u001b[0m | \u001b[36m__main__\u001b[0m:\u001b[36m<module>\u001b[0m:\u001b[36m3\u001b[0m - \u001b[1mAnalyzing comment #13:\n",
      "-της έκανα τοποθέτηση IUD χαλκού\n",
      "-τεχνικά άψογα\n",
      "-υπέρηχος εγο μετά: IUD στη θέση του\n",
      "-μου πλήρωσε συνολικά 200 ευρώ...\u001b[0m\n"
     ]
    },
    {
     "name": "stdout",
     "output_type": "stream",
     "text": [
      "\u001b[32;1m\u001b[1;3mNo appointment suggestion found.\u001b[0m\n",
      "\n",
      "\u001b[1m> Finished chain.\u001b[0m\n",
      "\n",
      "\n",
      "\u001b[1m> Entering new AgentExecutor chain...\u001b[0m\n"
     ]
    },
    {
     "name": "stderr",
     "output_type": "stream",
     "text": [
      "\u001b[32m2025-10-17 11:41:25.067\u001b[0m | \u001b[1mINFO    \u001b[0m | \u001b[36m__main__\u001b[0m:\u001b[36m<module>\u001b[0m:\u001b[36m3\u001b[0m - \u001b[1mAnalyzing comment #14:\n",
      "-της πήρα τεστ Παπ και το πήγα στον Λαΐνη: αρνητικό για κακοήθεια. Επανάληψη σε ένα έτος\n",
      "-υπέρηχος εγο: ΠΚΚ, χωρίς παθολογικά ευρήματα\n",
      "-μου πλήρωσε 100 ευρώ\n",
      "-πρώτη επίσκεψη σε γυναικολόγο σήμερα...\u001b[0m\n"
     ]
    },
    {
     "name": "stdout",
     "output_type": "stream",
     "text": [
      "\u001b[32;1m\u001b[1;3mNo appointment suggestion found.\u001b[0m\n",
      "\n",
      "\u001b[1m> Finished chain.\u001b[0m\n",
      "\n",
      "\n",
      "\u001b[1m> Entering new AgentExecutor chain...\u001b[0m\n"
     ]
    },
    {
     "name": "stderr",
     "output_type": "stream",
     "text": [
      "\u001b[32m2025-10-17 11:41:26.549\u001b[0m | \u001b[1mINFO    \u001b[0m | \u001b[36m__main__\u001b[0m:\u001b[36m<module>\u001b[0m:\u001b[36m3\u001b[0m - \u001b[1mAnalyzing comment #15:\n",
      "-της πήρα τεστ Παπ και το πήγα στον Λαΐνη: αν κφ, της είπα το επόμενο σε 3 έτη. Έβγαλε ASCUS, μάλλον λόγω ατροφίας\n",
      "-υπέρηχος εγο: ΠΚΚ, χωρίς παθολογικά ευρήματα\n",
      "-να κάνει μαστογραφία και υπέρηχο μαστών: θα τα κάνει τον Οκτώβριο\n",
      "-μου πλήρωσε 80 ευρώ...\u001b[0m\n"
     ]
    },
    {
     "name": "stdout",
     "output_type": "stream",
     "text": [
      "\u001b[32;1m\u001b[1;3m\n",
      "Invoking: `calculate_appointment_date` with `{'reference_date': '2024-04-15', 'timeframe': '1 year'}`\n",
      "\n",
      "\n",
      "\u001b[0m\u001b[36;1m\u001b[1;3m2025-04-15\u001b[0m\u001b[32;1m\u001b[1;3m\n",
      "Invoking: `fetch_next_suggested_app_date` with `{'patient_id': '1456'}`\n",
      "\n",
      "\n",
      "\u001b[0m\n",
      "\n",
      "\u001b[1m> Entering new AgentExecutor chain...\u001b[0m\n"
     ]
    },
    {
     "name": "stderr",
     "output_type": "stream",
     "text": [
      "\u001b[32m2025-10-17 11:41:27.901\u001b[0m | \u001b[1mINFO    \u001b[0m | \u001b[36m__main__\u001b[0m:\u001b[36m<module>\u001b[0m:\u001b[36m3\u001b[0m - \u001b[1mAnalyzing comment #16:\n",
      "-της πήρα τεστ Παπ και το πήγα στον Λαΐνη: αρνητικό για κακοήθεια. Δεν χρειάζεται να το ξανακάνουμε\n",
      "-υπέρηχος εγο: ΠΚΚ, χωρίς παθολογικά ευρήματα, μικρή ενδομητρική συλλογή\n",
      "-έλεγχο μαστών έχει κάνει: κφ\n",
      "-δεν παίρνουμε επίσκεψη...\u001b[0m\n"
     ]
    },
    {
     "name": "stdout",
     "output_type": "stream",
     "text": [
      "\u001b[32;1m\u001b[1;3m\n",
      "Invoking: `fetch_next_suggested_app_date` with `{'patient_id': '1455'}`\n",
      "\n",
      "\n",
      "\u001b[0m\n",
      "\n",
      "\u001b[1m> Entering new AgentExecutor chain...\u001b[0m\n"
     ]
    },
    {
     "name": "stderr",
     "output_type": "stream",
     "text": [
      "\u001b[32m2025-10-17 11:41:28.449\u001b[0m | \u001b[1mINFO    \u001b[0m | \u001b[36m__main__\u001b[0m:\u001b[36m<module>\u001b[0m:\u001b[36m3\u001b[0m - \u001b[1mAnalyzing comment #17:\n",
      "-της πήρα τεστ Παπ και το πήγα στον Λαΐνη: αρνητικό για κακοήθεια. Επανάληψη σε ένα έτος\n",
      "-υπέρηχος εγο: ΟΚΚ, χωρίς παθολογικά ευρήματα\n",
      "-να κάνει υπέρηχο μαστών:\n",
      "-μου πλήρωσε 100 ευρώ...\u001b[0m\n"
     ]
    },
    {
     "name": "stdout",
     "output_type": "stream",
     "text": [
      "\u001b[32;1m\u001b[1;3mNo appointment suggestion found.\u001b[0m\n",
      "\n",
      "\u001b[1m> Finished chain.\u001b[0m\n",
      "\n",
      "\n",
      "\u001b[1m> Entering new AgentExecutor chain...\u001b[0m\n",
      "\u001b[32;1m\u001b[1;3m\n",
      "Invoking: `calculate_appointment_date` with `{'reference_date': '2024-04-15', 'timeframe': '1 year'}`\n",
      "\n",
      "\n",
      "\u001b[0m\u001b[36;1m\u001b[1;3m2025-04-15\u001b[0m"
     ]
    },
    {
     "name": "stderr",
     "output_type": "stream",
     "text": [
      "\u001b[32m2025-10-17 11:41:30.285\u001b[0m | \u001b[1mINFO    \u001b[0m | \u001b[36m__main__\u001b[0m:\u001b[36m<module>\u001b[0m:\u001b[36m3\u001b[0m - \u001b[1mAnalyzing comment #18:\n",
      "-της πήρα τεστ Παπ και το πήγα στον Λαΐνη: αρνητικό για κακοήθεια. Επανάληψη σε ένα έτος\n",
      "-υπέρηχος εγο: σε ευθειωρία, χωρίς παθολογικά ευρήματα\n",
      "-να κάνει μαστογραφία και υπέρηχο μαστών:\n",
      "-μου πλήρωσε 100 ευρώ...\u001b[0m\n"
     ]
    },
    {
     "name": "stdout",
     "output_type": "stream",
     "text": [
      "\u001b[32;1m\u001b[1;3m\n",
      "Invoking: `fetch_next_suggested_app_date` with `{'patient_id': '1121'}`\n",
      "\n",
      "\n",
      "\u001b[0m\n",
      "\n",
      "\u001b[1m> Entering new AgentExecutor chain...\u001b[0m\n",
      "\u001b[32;1m\u001b[1;3m\n",
      "Invoking: `calculate_appointment_date` with `{'reference_date': '2024-04-15', 'timeframe': '1 year'}`\n",
      "\n",
      "\n",
      "\u001b[0m\u001b[36;1m\u001b[1;3m2025-04-15\u001b[0m"
     ]
    },
    {
     "name": "stderr",
     "output_type": "stream",
     "text": [
      "\u001b[32m2025-10-17 11:41:32.235\u001b[0m | \u001b[1mINFO    \u001b[0m | \u001b[36m__main__\u001b[0m:\u001b[36m<module>\u001b[0m:\u001b[36m3\u001b[0m - \u001b[1mAnalyzing comment #19:\n",
      "-της πήρα τεστ Παπ και το πήγα στον Λαΐνη: αρνητικό για κακοήθεια. Επανάληψη σε ένα έτος\n",
      "-υπέρηχος εγο: ΠΚΚ, check IUD (το είχαμε βάλει Ιούνιο 2020). Όλα κφ\n",
      "-της έγραψα να κάνει μαστογραφία και υπέρηχο μαστών και θα μου τα προσκομίσει: υπέρηχος (Απρίλιος 2024): δύο απλές κύστεις του μισού εκατοστού. Εκκρεμεί μαστογραφία\n",
      "-μου πλήρωσε 80 ευρώ...\u001b[0m\n"
     ]
    },
    {
     "name": "stdout",
     "output_type": "stream",
     "text": [
      "\u001b[32;1m\u001b[1;3m\n",
      "Invoking: `fetch_next_suggested_app_date` with `{'patient_id': '1067'}`\n",
      "\n",
      "\n",
      "\u001b[0m\n",
      "\n",
      "\u001b[1m> Entering new AgentExecutor chain...\u001b[0m\n",
      "\u001b[32;1m\u001b[1;3m\n",
      "Invoking: `calculate_appointment_date` with `{'reference_date': '2024-04-15', 'timeframe': '1 year'}`\n",
      "\n",
      "\n",
      "\u001b[0m\u001b[36;1m\u001b[1;3m2025-04-15\u001b[0m\u001b[32;1m\u001b[1;3m\n",
      "Invoking: `fetch_next_suggested_app_date` with `{'patient_id': '256'}`\n",
      "\n",
      "\n",
      "\u001b[0m"
     ]
    }
   ],
   "source": [
    "for i, row in visits_df.head(20).iterrows():\n",
    "\n",
    "    logger.info(f\"Analyzing comment #{i}:\\n{row['comments']}...\")\n",
    "    doctor_note = row['comments']\n",
    "    patient_id = row['patient_id']\n",
    "    analyze_doctor_note(doctor_note, patient_id, current_appointment_date=None)"
   ]
  },
  {
   "cell_type": "code",
   "execution_count": null,
   "metadata": {},
   "outputs": [],
   "source": []
  },
  {
   "cell_type": "code",
   "execution_count": null,
   "metadata": {},
   "outputs": [],
   "source": []
  },
  {
   "cell_type": "code",
   "execution_count": null,
   "metadata": {},
   "outputs": [],
   "source": []
  },
  {
   "cell_type": "code",
   "execution_count": null,
   "metadata": {},
   "outputs": [],
   "source": []
  },
  {
   "cell_type": "code",
   "execution_count": null,
   "metadata": {},
   "outputs": [],
   "source": []
  },
  {
   "cell_type": "code",
   "execution_count": null,
   "metadata": {},
   "outputs": [],
   "source": []
  },
  {
   "cell_type": "markdown",
   "metadata": {},
   "source": [
    "### Migrate Medical Exams (INSERT)"
   ]
  },
  {
   "cell_type": "code",
   "execution_count": null,
   "metadata": {},
   "outputs": [],
   "source": [
    "source_tablename = 'tblmedexam'\n",
    "target_tablename = 'medical_exams'\n",
    "data_index = 8 # this is the index in the json_data list where the relevant data is stored\n",
    "\n",
    "sql_output = convert_json_to_insert_sql(json_data[data_index]['data'], column_mapping[source_tablename], target_tablename = target_tablename)\n",
    "# print(sql_output)\n",
    "output_file = os.path.join(assets_dir, f'{target_tablename}.sql')\n",
    "with open(output_file, 'w', encoding='utf-8') as f:\n",
    "    f.write(sql_output)"
   ]
  },
  {
   "cell_type": "code",
   "execution_count": null,
   "metadata": {},
   "outputs": [],
   "source": [
    "# delete_records(target_tablename, db_path)\n",
    "insert_records(target_tablename, db_path)\n",
    "fetch_records(target_tablename, db_path)"
   ]
  },
  {
   "cell_type": "markdown",
   "metadata": {},
   "source": [
    "### ... to be continued"
   ]
  },
  {
   "cell_type": "code",
   "execution_count": null,
   "metadata": {},
   "outputs": [],
   "source": [
    "get_tables(db_path)"
   ]
  },
  {
   "cell_type": "markdown",
   "metadata": {},
   "source": [
    "--------------"
   ]
  },
  {
   "cell_type": "code",
   "execution_count": null,
   "metadata": {},
   "outputs": [],
   "source": []
  },
  {
   "cell_type": "code",
   "execution_count": null,
   "metadata": {},
   "outputs": [],
   "source": []
  },
  {
   "cell_type": "code",
   "execution_count": null,
   "metadata": {},
   "outputs": [],
   "source": []
  }
 ],
 "metadata": {
  "kernelspec": {
   "display_name": "fetusappenv (3.12.4)",
   "language": "python",
   "name": "python3"
  },
  "language_info": {
   "codemirror_mode": {
    "name": "ipython",
    "version": 3
   },
   "file_extension": ".py",
   "mimetype": "text/x-python",
   "name": "python",
   "nbconvert_exporter": "python",
   "pygments_lexer": "ipython3",
   "version": "3.12.4"
  }
 },
 "nbformat": 4,
 "nbformat_minor": 2
}
