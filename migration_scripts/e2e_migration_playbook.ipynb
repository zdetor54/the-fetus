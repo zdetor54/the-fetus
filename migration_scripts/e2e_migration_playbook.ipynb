{
 "cells": [
  {
   "cell_type": "code",
   "execution_count": 1,
   "metadata": {},
   "outputs": [],
   "source": [
    "import os\n",
    "import json\n",
    "\n",
    "from typing import List, Dict, Any, Tuple\n",
    "\n",
    "from formating import format_date, format_value, escape_string\n",
    "from crud import insert_records, delete_records, fetch_records"
   ]
  },
  {
   "cell_type": "code",
   "execution_count": 2,
   "metadata": {},
   "outputs": [],
   "source": [
    "def convert_json_to_sql(json_data: Dict[str, Any], column_mapping: List[Dict[str, str]], target_tablename:str) -> str:\n",
    "    \"\"\"Convert JSON data to SQL insert statement with multiple VALUES.\"\"\"\n",
    "    \n",
    "    # Get column names\n",
    "    columns = [mapping['target'] for mapping in column_mapping]\n",
    "    columns_sql = ', '.join(columns)\n",
    "    \n",
    "    # Collect all value sets\n",
    "    all_values = []\n",
    "    for record in json_data:\n",
    "        values = []\n",
    "        for mapping in column_mapping:\n",
    "            source_field = mapping['source']\n",
    "            value_type = mapping['type']\n",
    "            try:\n",
    "                value = mapping['default']\n",
    "            except KeyError:\n",
    "                value = record.get(source_field)    \n",
    "            formatted_value = format_value(value, value_type)\n",
    "            values.append(formatted_value)\n",
    "        all_values.append(f\"({', '.join(str(value) for value in values)})\")\n",
    "    \n",
    "    # Create single INSERT statement with multiple VALUES\n",
    "    values_sql = ',\\n'.join(all_values)\n",
    "    sql_statement = f\"INSERT INTO {target_tablename} ({columns_sql})\\nVALUES\\n{values_sql};\"\n",
    "    \n",
    "    return sql_statement"
   ]
  },
  {
   "cell_type": "code",
   "execution_count": 3,
   "metadata": {},
   "outputs": [],
   "source": [
    "current_dir = os.getcwd()\n",
    "parent_dir = os.path.dirname(current_dir)\n",
    "assets_dir = os.path.join(parent_dir, '_assets')\n",
    "db_dir = os.path.join(parent_dir, 'fetusapp')\n",
    "db_filename = 'data.sqlite'\n",
    "data_filename = 'detoraki_fetusdata.json'\n",
    "mapping_filename = 'column_mapping.json'\n",
    "\n",
    "db_path = os.path.join(db_dir, db_filename)\n",
    "json_file = os.path.join(assets_dir, data_filename)\n",
    "mapping_file = os.path.join(current_dir, mapping_filename)"
   ]
  },
  {
   "cell_type": "markdown",
   "metadata": {},
   "source": [
    "Load the source data"
   ]
  },
  {
   "cell_type": "code",
   "execution_count": 15,
   "metadata": {},
   "outputs": [],
   "source": [
    "with open(json_file, 'r', encoding='utf-8') as f:\n",
    "        json_data = json.load(f)"
   ]
  },
  {
   "cell_type": "markdown",
   "metadata": {},
   "source": [
    "Load the column mapping from the JSON file"
   ]
  },
  {
   "cell_type": "code",
   "execution_count": 16,
   "metadata": {},
   "outputs": [],
   "source": [
    "with open(mapping_file, 'r', encoding='utf-8') as f:\n",
    "        column_mapping = json.load(f)"
   ]
  },
  {
   "cell_type": "markdown",
   "metadata": {},
   "source": [
    "### Migrate Patients\n",
    "\n",
    "Generate the sql output and save it"
   ]
  },
  {
   "cell_type": "code",
   "execution_count": 34,
   "metadata": {},
   "outputs": [],
   "source": [
    "source_tablename = 's_org_ext'\n",
    "target_tablename = 'patients'\n",
    "data_index = 3\n",
    "\n",
    "sql_output = convert_json_to_sql(json_data[data_index]['data'], column_mapping[source_tablename], target_tablename = target_tablename)\n",
    "# print(sql_output)\n",
    "output_file = os.path.join(assets_dir, f'{target_tablename}.sql')\n",
    "with open(output_file, 'w', encoding='utf-8') as f:\n",
    "    f.write(sql_output)"
   ]
  },
  {
   "cell_type": "code",
   "execution_count": 28,
   "metadata": {},
   "outputs": [
    {
     "name": "stdout",
     "output_type": "stream",
     "text": [
      "['96', '245', '507', '513', '521', '758', '814', '1277', '1417']\n"
     ]
    }
   ],
   "source": [
    "patient_data = json_data[data_index]['data']\n",
    "null_lastname_ids = [item['s_org_extID'] for item in patient_data if item['lastName'] == \"\"]\n",
    "print(null_lastname_ids)"
   ]
  },
  {
   "cell_type": "markdown",
   "metadata": {},
   "source": []
  },
  {
   "cell_type": "code",
   "execution_count": 30,
   "metadata": {},
   "outputs": [],
   "source": [
    "delete_records(target_tablename, db_path)"
   ]
  },
  {
   "cell_type": "code",
   "execution_count": 32,
   "metadata": {},
   "outputs": [],
   "source": [
    "insert_records(target_tablename, db_path)"
   ]
  },
  {
   "cell_type": "code",
   "execution_count": 33,
   "metadata": {},
   "outputs": [
    {
     "name": "stdout",
     "output_type": "stream",
     "text": [
      "(3, 2, 2, None, '2022-12-19 22:01:12', 'Φανή', 'Βασιλειάδου', 'Σπυρίδωνας', '1945-03-04', 'single', 'Ελληνική', 'Συνταξιούχος ΟΤΕ', 'Λέσβου', '112', 'Αθήνα', '17237', 'Αττικής', '2109731000', '6977221781', '2299073763', 'zdetor54@gmail.com', 'other', 'Axxa Ασφαλιστική', '13745541', 'Γεώργιος Δετοράκης', '1940-08-08', 'Συνταξιούχος ΟΤΕ', 0)\n",
      "(11, 2, 2, None, '2013-09-22 02:35:13', 'Μαρία', 'Παναγοπούλου', 'Κώστας', None, None, None, None, None, '0', None, '0', None, None, None, None, None, None, None, None, None, None, None, 0)\n",
      "(41, 2, 2, '2013-09-10 22:15:33', '2013-09-10 22:15:34', 'Μαρία', 'Κωνσταντινίδου', None, None, None, None, None, None, None, None, '0', None, None, None, None, None, None, None, None, None, None, None, 1)\n",
      "(48, 2, 2, '2013-09-15 15:18:53', '2013-09-15 22:02:56', 'Μαρία', 'Ρεπούση', None, None, None, None, None, None, None, None, None, None, None, None, None, None, None, None, None, None, None, None, 1)\n",
      "(54, 2, 2, None, '2013-10-24 23:51:03', 'Μαρία', 'Κοσμίδη', None, None, None, None, None, None, None, None, None, None, None, None, None, None, None, None, None, None, None, None, 1)\n"
     ]
    }
   ],
   "source": [
    "fetch_records(target_tablename, db_path)"
   ]
  },
  {
   "cell_type": "markdown",
   "metadata": {},
   "source": [
    "### Patients migrated"
   ]
  },
  {
   "cell_type": "code",
   "execution_count": null,
   "metadata": {},
   "outputs": [],
   "source": []
  },
  {
   "cell_type": "code",
   "execution_count": null,
   "metadata": {},
   "outputs": [],
   "source": []
  }
 ],
 "metadata": {
  "kernelspec": {
   "display_name": "fetusappenv",
   "language": "python",
   "name": "python3"
  },
  "language_info": {
   "codemirror_mode": {
    "name": "ipython",
    "version": 3
   },
   "file_extension": ".py",
   "mimetype": "text/x-python",
   "name": "python",
   "nbconvert_exporter": "python",
   "pygments_lexer": "ipython3",
   "version": "3.12.4"
  }
 },
 "nbformat": 4,
 "nbformat_minor": 2
}
