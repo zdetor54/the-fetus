{
 "cells": [
  {
   "cell_type": "code",
   "execution_count": null,
   "metadata": {},
   "outputs": [],
   "source": [
    "import os\n",
    "import json\n",
    "import sqlite3\n",
    "import pandas as pd\n",
    "from typing import List, Dict, Any, Tuple, Optional\n",
    "\n",
    "from formating import convert_json_to_insert_sql, convert_json_to_update_sql\n",
    "from crud import insert_records, delete_records, fetch_records, get_tables"
   ]
  },
  {
   "cell_type": "code",
   "execution_count": null,
   "metadata": {},
   "outputs": [],
   "source": [
    "current_dir = os.getcwd()\n",
    "parent_dir = os.path.dirname(current_dir)\n",
    "assets_dir = os.path.join(parent_dir, '_assets')\n",
    "db_dir = os.path.join(parent_dir, 'fetusapp')\n",
    "db_filename = 'data.sqlite'\n",
    "data_filename = 'detoraki_fetusdata.json'\n",
    "mapping_filename = 'column_mapping.json'\n",
    "\n",
    "db_path = os.path.join(db_dir, db_filename)\n",
    "json_file = os.path.join(assets_dir, data_filename)\n",
    "mapping_file = os.path.join(current_dir, mapping_filename)"
   ]
  },
  {
   "cell_type": "markdown",
   "metadata": {},
   "source": [
    "Load the source data"
   ]
  },
  {
   "cell_type": "code",
   "execution_count": null,
   "metadata": {},
   "outputs": [],
   "source": [
    "with open(json_file, 'r', encoding='utf-8') as f:\n",
    "        json_data = json.load(f)"
   ]
  },
  {
   "cell_type": "markdown",
   "metadata": {},
   "source": [
    "Load the column mapping from the JSON file"
   ]
  },
  {
   "cell_type": "code",
   "execution_count": null,
   "metadata": {},
   "outputs": [],
   "source": [
    "with open(mapping_file, 'r', encoding='utf-8') as f:\n",
    "        column_mapping = json.load(f)"
   ]
  },
  {
   "cell_type": "markdown",
   "metadata": {},
   "source": [
    "### Setup admin in Users (INSERT)\n",
    "\n",
    "The script should already be there in _assets"
   ]
  },
  {
   "cell_type": "code",
   "execution_count": null,
   "metadata": {},
   "outputs": [],
   "source": [
    "target_tablename = 'users'\n",
    "insert_records(target_tablename, db_path)\n"
   ]
  },
  {
   "cell_type": "code",
   "execution_count": null,
   "metadata": {},
   "outputs": [],
   "source": [
    "fetch_records(target_tablename, db_path)"
   ]
  },
  {
   "cell_type": "code",
   "execution_count": null,
   "metadata": {},
   "outputs": [],
   "source": [
    "# delete_records(target_tablename, db_path)"
   ]
  },
  {
   "cell_type": "markdown",
   "metadata": {},
   "source": [
    "---------------------"
   ]
  },
  {
   "cell_type": "markdown",
   "metadata": {},
   "source": [
    "### Migrate Patients (INSERT)\n",
    "\n",
    "Includes manual step to treat patients missing last_name"
   ]
  },
  {
   "cell_type": "code",
   "execution_count": null,
   "metadata": {},
   "outputs": [],
   "source": [
    "source_tablename = 's_org_ext'\n",
    "target_tablename = 'patients'\n",
    "data_index = 3\n",
    "\n",
    "sql_output = convert_json_to_insert_sql(json_data[data_index]['data'], column_mapping[source_tablename], target_tablename = target_tablename)\n",
    "# print(sql_output)\n",
    "output_file = os.path.join(assets_dir, f'{target_tablename}.sql')\n",
    "with open(output_file, 'w', encoding='utf-8') as f:\n",
    "    f.write(sql_output)"
   ]
  },
  {
   "cell_type": "markdown",
   "metadata": {},
   "source": [
    "#### Data Cleansing:\n",
    "* Identify records with null last name and either \n",
    "    * convert the null to the string 'null' in the generated script or\n",
    "    * remove the record altogether if it doesn't have any useful payload"
   ]
  },
  {
   "cell_type": "code",
   "execution_count": null,
   "metadata": {},
   "outputs": [],
   "source": [
    "patient_data = json_data[data_index]['data']\n",
    "null_lastname_ids = [item['s_org_extID'] for item in patient_data if item['lastName'] == \"\"]\n",
    "print(null_lastname_ids)"
   ]
  },
  {
   "cell_type": "markdown",
   "metadata": {},
   "source": []
  },
  {
   "cell_type": "code",
   "execution_count": null,
   "metadata": {},
   "outputs": [],
   "source": [
    "delete_records(target_tablename, db_path)"
   ]
  },
  {
   "cell_type": "code",
   "execution_count": null,
   "metadata": {},
   "outputs": [],
   "source": [
    "insert_records(target_tablename, db_path)"
   ]
  },
  {
   "cell_type": "code",
   "execution_count": null,
   "metadata": {},
   "outputs": [],
   "source": [
    "fetch_records(target_tablename, db_path)"
   ]
  },
  {
   "cell_type": "markdown",
   "metadata": {},
   "source": [
    "---------------------"
   ]
  },
  {
   "cell_type": "markdown",
   "metadata": {},
   "source": [
    "### Migrate MedicalHistory (INSERT)"
   ]
  },
  {
   "cell_type": "code",
   "execution_count": null,
   "metadata": {},
   "outputs": [],
   "source": [
    "source_tablename = 'tblmedhistory'\n",
    "target_tablename = 'history_medical'\n",
    "data_index = 10\n",
    "\n",
    "sql_output = convert_json_to_insert_sql(json_data[data_index]['data'], column_mapping[source_tablename], target_tablename = target_tablename)\n",
    "# print(sql_output)\n",
    "output_file = os.path.join(assets_dir, f'{target_tablename}.sql')\n",
    "with open(output_file, 'w', encoding='utf-8') as f:\n",
    "    f.write(sql_output)"
   ]
  },
  {
   "cell_type": "code",
   "execution_count": null,
   "metadata": {},
   "outputs": [],
   "source": [
    "insert_records(target_tablename, db_path)"
   ]
  },
  {
   "cell_type": "code",
   "execution_count": null,
   "metadata": {},
   "outputs": [],
   "source": [
    "# delete_records(target_tablename, db_path)"
   ]
  },
  {
   "cell_type": "code",
   "execution_count": null,
   "metadata": {},
   "outputs": [],
   "source": [
    "fetch_records(target_tablename, db_path)"
   ]
  },
  {
   "cell_type": "markdown",
   "metadata": {},
   "source": [
    "------------------"
   ]
  },
  {
   "cell_type": "markdown",
   "metadata": {},
   "source": [
    "### Migrate Short Gynaecological History data (UPDATE)"
   ]
  },
  {
   "cell_type": "code",
   "execution_count": null,
   "metadata": {},
   "outputs": [],
   "source": [
    "source_tablename = 'tblgynhistoryshort'\n",
    "target_tablename = 'history_medical'\n",
    "data_index = 7\n",
    "\n",
    "sql_output = convert_json_to_update_sql(json_data[data_index]['data'], column_mapping[source_tablename], target_tablename = target_tablename, source_id = 'MedHistoryID', target_id = 'id')\n",
    "# print(sql_output)\n",
    "output_file = os.path.join(assets_dir, f'{target_tablename}.sql')\n",
    "with open(output_file, 'w', encoding='utf-8') as f:\n",
    "    f.write(sql_output)"
   ]
  },
  {
   "cell_type": "code",
   "execution_count": null,
   "metadata": {},
   "outputs": [],
   "source": [
    "insert_records(target_tablename, db_path)"
   ]
  },
  {
   "cell_type": "markdown",
   "metadata": {},
   "source": [
    "---------"
   ]
  },
  {
   "cell_type": "markdown",
   "metadata": {},
   "source": [
    "### Migrate Pathologies (UPDATE)"
   ]
  },
  {
   "cell_type": "code",
   "execution_count": null,
   "metadata": {},
   "outputs": [],
   "source": [
    "source_tablename = 'tblpathologies'\n",
    "target_tablename = 'history_medical'\n",
    "data_index = 13\n",
    "\n",
    "sql_output = convert_json_to_update_sql(json_data[data_index]['data'], column_mapping[source_tablename], target_tablename = target_tablename, source_id = 'MedHistoryID', target_id = 'id')\n",
    "# print(sql_output)\n",
    "output_file = os.path.join(assets_dir, f'{target_tablename}.sql')\n",
    "with open(output_file, 'w', encoding='utf-8') as f:\n",
    "    f.write(sql_output)"
   ]
  },
  {
   "cell_type": "code",
   "execution_count": null,
   "metadata": {},
   "outputs": [],
   "source": [
    "insert_records(target_tablename, db_path)"
   ]
  },
  {
   "cell_type": "code",
   "execution_count": null,
   "metadata": {},
   "outputs": [],
   "source": [
    "fetch_records(target_tablename, db_path)"
   ]
  },
  {
   "cell_type": "markdown",
   "metadata": {},
   "source": [
    "----------"
   ]
  },
  {
   "cell_type": "markdown",
   "metadata": {},
   "source": [
    "### Migrate ObstetricsHistory (INSERT)"
   ]
  },
  {
   "cell_type": "code",
   "execution_count": null,
   "metadata": {},
   "outputs": [],
   "source": [
    "source_tablename = 'tblobstetrichistory'\n",
    "target_tablename = 'history_obstetrics'\n",
    "data_index = 11 # this is the index in the json_data list where the relevant data is stored\n",
    "\n",
    "sql_output = convert_json_to_insert_sql(json_data[data_index]['data'], column_mapping[source_tablename], target_tablename = target_tablename)\n",
    "# print(sql_output)\n",
    "output_file = os.path.join(assets_dir, f'{target_tablename}.sql')\n",
    "with open(output_file, 'w', encoding='utf-8') as f:\n",
    "    f.write(sql_output)"
   ]
  },
  {
   "cell_type": "code",
   "execution_count": null,
   "metadata": {},
   "outputs": [],
   "source": [
    "delete_records(target_tablename, db_path)"
   ]
  },
  {
   "cell_type": "code",
   "execution_count": null,
   "metadata": {},
   "outputs": [],
   "source": [
    "insert_records(target_tablename, db_path)"
   ]
  },
  {
   "cell_type": "code",
   "execution_count": null,
   "metadata": {},
   "outputs": [],
   "source": [
    "fetch_records(target_tablename, db_path)"
   ]
  },
  {
   "cell_type": "markdown",
   "metadata": {},
   "source": [
    "### tblobstetrichistory_x NOT TO BE MIGRATED"
   ]
  },
  {
   "cell_type": "markdown",
   "metadata": {},
   "source": [
    "### Migrate Short Pregnancies History data (INSERT)"
   ]
  },
  {
   "cell_type": "code",
   "execution_count": null,
   "metadata": {},
   "outputs": [],
   "source": [
    "source_tablename = 'tblpregnancyhistory'\n",
    "target_tablename = 'pregnancy_history'\n",
    "data_index = 16 # this is the index in the json_data list where the relevant data is stored\n",
    "\n",
    "sql_output = convert_json_to_insert_sql(json_data[data_index]['data'], column_mapping[source_tablename], target_tablename = target_tablename)\n",
    "# print(sql_output)\n",
    "output_file = os.path.join(assets_dir, f'{target_tablename}.sql')\n",
    "with open(output_file, 'w', encoding='utf-8') as f:\n",
    "    f.write(sql_output)"
   ]
  },
  {
   "cell_type": "code",
   "execution_count": null,
   "metadata": {},
   "outputs": [],
   "source": [
    "delete_records(target_tablename, db_path)"
   ]
  },
  {
   "cell_type": "code",
   "execution_count": null,
   "metadata": {},
   "outputs": [],
   "source": [
    "insert_records(target_tablename, db_path)"
   ]
  },
  {
   "cell_type": "code",
   "execution_count": null,
   "metadata": {},
   "outputs": [],
   "source": [
    "fetch_records(target_tablename, db_path)"
   ]
  },
  {
   "cell_type": "markdown",
   "metadata": {},
   "source": [
    "### Migrate Short Pregnancies History X data (INSERT)"
   ]
  },
  {
   "cell_type": "code",
   "execution_count": null,
   "metadata": {},
   "outputs": [],
   "source": [
    "source_tablename = 'tblpregnancyhistory_x'\n",
    "target_tablename = 'pregnancy_history_x'\n",
    "data_index = 17 # this is the index in the json_data list where the relevant data is stored\n",
    "\n",
    "sql_output = convert_json_to_insert_sql(json_data[data_index]['data'], column_mapping[source_tablename], target_tablename = target_tablename)\n",
    "# print(sql_output)\n",
    "output_file = os.path.join(assets_dir, f'{target_tablename}.sql')\n",
    "with open(output_file, 'w', encoding='utf-8') as f:\n",
    "    f.write(sql_output)"
   ]
  },
  {
   "cell_type": "code",
   "execution_count": null,
   "metadata": {},
   "outputs": [],
   "source": [
    "insert_records(target_tablename, db_path)\n",
    "fetch_records(target_tablename, db_path)\n",
    "# delete_records(target_tablename, db_path)"
   ]
  },
  {
   "cell_type": "markdown",
   "metadata": {},
   "source": [
    "Delete records with null TER"
   ]
  },
  {
   "cell_type": "code",
   "execution_count": null,
   "metadata": {},
   "outputs": [],
   "source": [
    "\n",
    "\n",
    "conn = sqlite3.connect(db_path)\n",
    "cursor = conn.cursor()\n",
    "\n",
    "cursor.execute(\"\"\"\n",
    "DELETE FROM pregnancy_history_x\n",
    "WHERE pregnancy_id IN (SELECT id FROM pregnancy_history WHERE ter IS NULL)\n",
    "\"\"\")\n",
    "cursor.execute(\"\"\"\n",
    "DELETE FROM pregnancy_history\n",
    "WHERE ter IS NULL\n",
    "\"\"\")\n",
    "conn.commit()\n",
    "\n",
    "conn.close()"
   ]
  },
  {
   "cell_type": "markdown",
   "metadata": {},
   "source": [
    "### Migrate Gyn History X data (INSERT)\n",
    "\n",
    "DELETE 5,8 and 10 records"
   ]
  },
  {
   "cell_type": "code",
   "execution_count": null,
   "metadata": {},
   "outputs": [],
   "source": [
    "source_tablename = 'tblgynhistory'\n",
    "target_tablename = 'gyn_history'\n",
    "data_index = 6 # this is the index in the json_data list where the relevant data is stored\n",
    "\n",
    "sql_output = convert_json_to_insert_sql(json_data[data_index]['data'], column_mapping[source_tablename], target_tablename = target_tablename)\n",
    "# print(sql_output)\n",
    "output_file = os.path.join(assets_dir, f'{target_tablename}.sql')\n",
    "with open(output_file, 'w', encoding='utf-8') as f:\n",
    "    f.write(sql_output)"
   ]
  },
  {
   "cell_type": "code",
   "execution_count": null,
   "metadata": {},
   "outputs": [],
   "source": [
    "delete_records(target_tablename, db_path)\n",
    "insert_records(target_tablename, db_path)\n",
    "fetch_records(target_tablename, db_path)"
   ]
  },
  {
   "cell_type": "code",
   "execution_count": null,
   "metadata": {},
   "outputs": [],
   "source": [
    "conn = sqlite3.connect(db_path)\n",
    "cursor = conn.cursor()\n",
    "cursor.execute(\"\"\"\n",
    "    UPDATE gyn_history\n",
    "    SET comments = TRIM(REPLACE(REPLACE(comments, '\\n\\n', '\\n'), '\\r\\n\\r\\n', '\\n'))\n",
    "    WHERE comments IS NOT NULL\n",
    "\"\"\")\n",
    "conn.commit()\n",
    "conn.close()"
   ]
  },
  {
   "cell_type": "markdown",
   "metadata": {},
   "source": [
    "## Update next_suggested_appointment date"
   ]
  },
  {
   "cell_type": "code",
   "execution_count": null,
   "metadata": {},
   "outputs": [],
   "source": [
    "from fetusapp.chatai.note_to_app_service import analyze_doctor_note\n",
    "from loguru import logger"
   ]
  },
  {
   "cell_type": "code",
   "execution_count": null,
   "metadata": {},
   "outputs": [],
   "source": [
    "conn = sqlite3.connect(db_path)\n",
    "cursor = conn.cursor()\n",
    "\n",
    "cursor.execute(\"\"\"\n",
    "               SELECT patient_id\n",
    "                    , date_of_visit\n",
    "                    , next_suggested_appointment\n",
    "                    , comments\n",
    "               FROM gyn_history g\n",
    "               JOIN patients p ON g.patient_id = p.id\n",
    "               WHERE date_of_visit >= date('2024-06-13', '-1 year')\n",
    "               AND g.is_active = 1\n",
    "               AND p.is_active = 1\n",
    "               AND g.created_by = 1\n",
    "               GROUP BY patient_id\n",
    "               ORDER BY 2 DESC;\n",
    "               \"\"\")\n",
    "visits = cursor.fetchall()\n",
    "columns = [desc[0] for desc in cursor.description]\n",
    "\n",
    "visits_df = pd.DataFrame(visits, columns=columns)\n",
    "logger.info(f\"Total visits to analyze: {len(visits_df)}\")"
   ]
  },
  {
   "cell_type": "code",
   "execution_count": null,
   "metadata": {},
   "outputs": [],
   "source": [
    "visits_df"
   ]
  },
  {
   "cell_type": "code",
   "execution_count": null,
   "metadata": {},
   "outputs": [],
   "source": [
    "from fetusapp import app  # Make sure this imports your Flask app\n",
    "\n",
    "with app.app_context():\n",
    "    for i, row in visits_df.head(50).iterrows():\n",
    "        logger.info(\"=\"*80)\n",
    "        logger.info(f\"Analyzing comment #{i}:\\n{row['comments']}...\")\n",
    "        doctor_note = row['comments']\n",
    "        patient_id = row['patient_id']\n",
    "        current_appointment_date = row['date_of_visit']\n",
    "        logger.info(f\"Using current appointment date: {current_appointment_date}\")\n",
    "        try:\n",
    "            analyze_doctor_note(doctor_note, patient_id, current_appointment_date=current_appointment_date)\n",
    "        except Exception as e:\n",
    "            logger.error(f\"Error analyzing note for patient {patient_id}: {e}\")\n",
    "        logger.info(\"=\"*80)"
   ]
  },
  {
   "cell_type": "code",
   "execution_count": null,
   "metadata": {},
   "outputs": [],
   "source": []
  },
  {
   "cell_type": "code",
   "execution_count": null,
   "metadata": {},
   "outputs": [],
   "source": []
  },
  {
   "cell_type": "code",
   "execution_count": null,
   "metadata": {},
   "outputs": [],
   "source": []
  },
  {
   "cell_type": "code",
   "execution_count": null,
   "metadata": {},
   "outputs": [],
   "source": []
  },
  {
   "cell_type": "code",
   "execution_count": null,
   "metadata": {},
   "outputs": [],
   "source": []
  },
  {
   "cell_type": "markdown",
   "metadata": {},
   "source": [
    "### Migrate Medical Exams (INSERT)"
   ]
  },
  {
   "cell_type": "code",
   "execution_count": null,
   "metadata": {},
   "outputs": [],
   "source": [
    "source_tablename = 'tblmedexam'\n",
    "target_tablename = 'medical_exams'\n",
    "data_index = 8 # this is the index in the json_data list where the relevant data is stored\n",
    "\n",
    "sql_output = convert_json_to_insert_sql(json_data[data_index]['data'], column_mapping[source_tablename], target_tablename = target_tablename)\n",
    "# print(sql_output)\n",
    "output_file = os.path.join(assets_dir, f'{target_tablename}.sql')\n",
    "with open(output_file, 'w', encoding='utf-8') as f:\n",
    "    f.write(sql_output)"
   ]
  },
  {
   "cell_type": "code",
   "execution_count": null,
   "metadata": {},
   "outputs": [],
   "source": [
    "# delete_records(target_tablename, db_path)\n",
    "insert_records(target_tablename, db_path)\n",
    "fetch_records(target_tablename, db_path)"
   ]
  },
  {
   "cell_type": "markdown",
   "metadata": {},
   "source": [
    "### ... to be continued"
   ]
  },
  {
   "cell_type": "code",
   "execution_count": null,
   "metadata": {},
   "outputs": [],
   "source": [
    "get_tables(db_path)"
   ]
  },
  {
   "cell_type": "markdown",
   "metadata": {},
   "source": [
    "--------------"
   ]
  },
  {
   "cell_type": "code",
   "execution_count": null,
   "metadata": {},
   "outputs": [],
   "source": []
  },
  {
   "cell_type": "code",
   "execution_count": null,
   "metadata": {},
   "outputs": [],
   "source": []
  },
  {
   "cell_type": "code",
   "execution_count": null,
   "metadata": {},
   "outputs": [],
   "source": []
  }
 ],
 "metadata": {
  "kernelspec": {
   "display_name": "fetusappenv (3.12.4)",
   "language": "python",
   "name": "python3"
  },
  "language_info": {
   "codemirror_mode": {
    "name": "ipython",
    "version": 3
   },
   "file_extension": ".py",
   "mimetype": "text/x-python",
   "name": "python",
   "nbconvert_exporter": "python",
   "pygments_lexer": "ipython3",
   "version": "3.12.4"
  }
 },
 "nbformat": 4,
 "nbformat_minor": 2
}
