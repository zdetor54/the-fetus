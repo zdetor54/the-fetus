{
 "cells": [
  {
   "cell_type": "code",
   "execution_count": 1,
   "metadata": {},
   "outputs": [],
   "source": [
    "import os\n",
    "import json\n",
    "\n",
    "from typing import List, Dict, Any, Tuple, Optional\n",
    "\n",
    "from formating import format_date, format_value, escape_string\n",
    "from crud import insert_records, delete_records, fetch_records, get_tables"
   ]
  },
  {
   "cell_type": "code",
   "execution_count": 2,
   "metadata": {},
   "outputs": [],
   "source": [
    "def convert_json_to_insert_sql(json_data: Dict[str, Any], column_mapping: List[Dict[str, str]], target_tablename:str) -> str:\n",
    "    \"\"\"Convert JSON data to SQL insert statement with multiple VALUES.\"\"\"\n",
    "    \n",
    "    # Get column names\n",
    "    columns = [mapping['target'] for mapping in column_mapping]\n",
    "    columns_sql = ', '.join(columns)\n",
    "    \n",
    "    # Collect all value sets\n",
    "    all_values = []\n",
    "    for record in json_data:\n",
    "        values = []\n",
    "        for mapping in column_mapping:\n",
    "            source_field = mapping['source']\n",
    "            value_type = mapping['type']\n",
    "            try:\n",
    "                value = mapping['default']\n",
    "            except KeyError:\n",
    "                value = record.get(source_field)    \n",
    "            formatted_value = format_value(value, value_type)\n",
    "            values.append(formatted_value)\n",
    "        all_values.append(f\"({', '.join(str(value) for value in values)})\")\n",
    "    \n",
    "    # Create single INSERT statement with multiple VALUES\n",
    "    values_sql = ',\\n'.join(all_values)\n",
    "    sql_statement = f\"INSERT INTO {target_tablename} ({columns_sql})\\nVALUES\\n{values_sql};\"\n",
    "    \n",
    "    return sql_statement\n",
    "\n",
    "def convert_json_to_update_sql(json_data: Dict[str, Any], column_mapping: List[Dict[str, str]], target_tablename: str, source_id: Optional[str] = None, target_id: Optional[str] = None) -> str:\n",
    "    \"\"\"Convert JSON data to SQL update statements.\"\"\"\n",
    "    \n",
    "    update_statements = []\n",
    "    for record in json_data:\n",
    "        # Build SET clause\n",
    "        set_values = []\n",
    "        for mapping in column_mapping:\n",
    "            source_field = mapping['source']\n",
    "            target_field = mapping['target']\n",
    "            value_type = mapping['type']\n",
    "            \n",
    "            try:\n",
    "                value = mapping['default']\n",
    "            except KeyError:\n",
    "                value = record.get(source_field)\n",
    "                \n",
    "            formatted_value = format_value(value, value_type)\n",
    "            set_values.append(f\"{target_field} = {formatted_value}\")\n",
    "        \n",
    "        # Create UPDATE statement for each record\n",
    "        set_clause = ',\\n    '.join(set_values)\n",
    "        update_sql = f\"\"\"UPDATE {target_tablename}\n",
    "                            SET\n",
    "                                {set_clause}\n",
    "                            WHERE id = {record[f'{source_id}']};\"\"\"\n",
    "        update_statements.append(update_sql)\n",
    "    \n",
    "    # Join all UPDATE statements\n",
    "    return '\\n\\n'.join(update_statements)"
   ]
  },
  {
   "cell_type": "code",
   "execution_count": 3,
   "metadata": {},
   "outputs": [],
   "source": [
    "current_dir = os.getcwd()\n",
    "parent_dir = os.path.dirname(current_dir)\n",
    "assets_dir = os.path.join(parent_dir, '_assets')\n",
    "db_dir = os.path.join(parent_dir, 'fetusapp')\n",
    "db_filename = 'data.sqlite'\n",
    "data_filename = 'detoraki_fetusdata.json'\n",
    "mapping_filename = 'column_mapping.json'\n",
    "\n",
    "db_path = os.path.join(db_dir, db_filename)\n",
    "json_file = os.path.join(assets_dir, data_filename)\n",
    "mapping_file = os.path.join(current_dir, mapping_filename)"
   ]
  },
  {
   "cell_type": "markdown",
   "metadata": {},
   "source": [
    "Load the source data"
   ]
  },
  {
   "cell_type": "code",
   "execution_count": 4,
   "metadata": {},
   "outputs": [],
   "source": [
    "with open(json_file, 'r', encoding='utf-8') as f:\n",
    "        json_data = json.load(f)"
   ]
  },
  {
   "cell_type": "markdown",
   "metadata": {},
   "source": [
    "Load the column mapping from the JSON file"
   ]
  },
  {
   "cell_type": "code",
   "execution_count": 7,
   "metadata": {},
   "outputs": [],
   "source": [
    "with open(mapping_file, 'r', encoding='utf-8') as f:\n",
    "        column_mapping = json.load(f)"
   ]
  },
  {
   "cell_type": "markdown",
   "metadata": {},
   "source": [
    "### Setup admin in Users\n",
    "\n",
    "The script should already be there in _assets"
   ]
  },
  {
   "cell_type": "code",
   "execution_count": 13,
   "metadata": {},
   "outputs": [],
   "source": [
    "target_tablename = 'users'\n",
    "insert_records(target_tablename, db_path)\n"
   ]
  },
  {
   "cell_type": "code",
   "execution_count": null,
   "metadata": {},
   "outputs": [],
   "source": [
    "# fetch_records(target_tablename, db_path)"
   ]
  },
  {
   "cell_type": "code",
   "execution_count": 11,
   "metadata": {},
   "outputs": [],
   "source": [
    "# delete_records(target_tablename, db_path)"
   ]
  },
  {
   "cell_type": "markdown",
   "metadata": {},
   "source": [
    "### Admin user created\n",
    "--------------------------\n",
    "### Migrate Patients\n",
    "\n",
    "Generate the sql output and save it"
   ]
  },
  {
   "cell_type": "code",
   "execution_count": null,
   "metadata": {},
   "outputs": [],
   "source": [
    "source_tablename = 's_org_ext'\n",
    "target_tablename = 'patients'\n",
    "data_index = 3\n",
    "\n",
    "sql_output = convert_json_to_insert_sql(json_data[data_index]['data'], column_mapping[source_tablename], target_tablename = target_tablename)\n",
    "# print(sql_output)\n",
    "output_file = os.path.join(assets_dir, f'{target_tablename}.sql')\n",
    "with open(output_file, 'w', encoding='utf-8') as f:\n",
    "    f.write(sql_output)"
   ]
  },
  {
   "cell_type": "code",
   "execution_count": null,
   "metadata": {},
   "outputs": [],
   "source": [
    "patient_data = json_data[data_index]['data']\n",
    "null_lastname_ids = [item['s_org_extID'] for item in patient_data if item['lastName'] == \"\"]\n",
    "print(null_lastname_ids)"
   ]
  },
  {
   "cell_type": "markdown",
   "metadata": {},
   "source": []
  },
  {
   "cell_type": "code",
   "execution_count": 30,
   "metadata": {},
   "outputs": [],
   "source": [
    "delete_records(target_tablename, db_path)"
   ]
  },
  {
   "cell_type": "code",
   "execution_count": 32,
   "metadata": {},
   "outputs": [],
   "source": [
    "insert_records(target_tablename, db_path)"
   ]
  },
  {
   "cell_type": "code",
   "execution_count": null,
   "metadata": {},
   "outputs": [],
   "source": [
    "fetch_records(target_tablename, db_path)"
   ]
  },
  {
   "cell_type": "markdown",
   "metadata": {},
   "source": [
    "---------------------"
   ]
  },
  {
   "cell_type": "markdown",
   "metadata": {},
   "source": [
    "### Migrate MedicalHistory"
   ]
  },
  {
   "cell_type": "code",
   "execution_count": 21,
   "metadata": {},
   "outputs": [],
   "source": [
    "source_tablename = 'tblmedhistory'\n",
    "target_tablename = 'history_medical'\n",
    "data_index = 10\n",
    "\n",
    "sql_output = convert_json_to_insert_sql(json_data[data_index]['data'], column_mapping[source_tablename], target_tablename = target_tablename)\n",
    "# print(sql_output)\n",
    "output_file = os.path.join(assets_dir, f'{target_tablename}.sql')\n",
    "with open(output_file, 'w', encoding='utf-8') as f:\n",
    "    f.write(sql_output)"
   ]
  },
  {
   "cell_type": "code",
   "execution_count": 19,
   "metadata": {},
   "outputs": [],
   "source": [
    "insert_records(target_tablename, db_path)"
   ]
  },
  {
   "cell_type": "code",
   "execution_count": 18,
   "metadata": {},
   "outputs": [],
   "source": [
    "# delete_records(target_tablename, db_path)"
   ]
  },
  {
   "cell_type": "code",
   "execution_count": 20,
   "metadata": {},
   "outputs": [
    {
     "name": "stdout",
     "output_type": "stream",
     "text": [
      "(2, 3, 1, 1, '2013-08-26 00:00:00', '2022-12-19 21:51:42', 'Έχει κάνει για τα κρεατάκια', 'Ναι', 'Ναι', 'Καταναλώνει ένα ποτηράκι κρασί την ημέρα', 0, 'Δεν έχει παρατηρηθεί καμία αντίδραση', 1, 'Στην ασπιρίνη', 'Στην στριχνίνη', 'Υπάρχει κάτι αλλά δεν θέλει να πει τι.', 53, 1.63, 19.948, 'Hi Sveta,\\n\\nWorking-wise everything is great. I still enjoy working for Close, both in terms of the projects I am involved with as well as the role. Unfortunately I have not registered for the CFA exam in July (may try next December instead). I am splitting my time between London and Athens (currently going back every second weekend) cause my mum’s condition has deteriorated rapidly so I can’t commit to studying over the weekends as much as I would like.\\n\\nBut Carl has sent out an invite and has started a working group for BAs and Big Data so I can at least hit one of my objectives for this semester. Wasn’t able to join his first meeting on Monday (09/11) because I was still in Athens but I will do my best to join the next ones.\\n\\nWe can always have a catch-up over the phone or I can meet you near Blackfriars station on your way back one day.\\n\\nKind Regards,\\n\\nZac\\n\\n', None, None, None, None, None, None, None, None, None, None, None, None, None, None, None, 1)\n",
      "(8, 39, 1, 1, '2013-09-15 17:38:19', '2013-09-15 17:38:19', 'Μόνο κάτι ψιλοπλαστικές επεμβάσεις αλλά μάλλον με ενέσιμα', 'Ναι είναι καπνίστρια', 'Δεν είναι ακόμη έγκυος', 'Lol. Το έχει κόψει μετά το έβδομο rehab', 0, 'Δεν κάνει τέτοια', 1, 'adderall', 'Είναι αλλεργική στο blueberries', 'Είναι όλοι αλκοολικοί και ναρκομανείς. Το καημένο το κοριτσάκι.', 52, 1.65, 19.1, None, None, None, None, None, None, None, None, None, None, None, None, None, None, None, None, 1)\n",
      "(11, 59, 1, 1, '2013-12-02 16:35:42', '2014-02-04 14:37:34', 'ΚΑΜΙΑ', 'ΟΧΙ', 'ΟΧΙ', 'ΟΧΙ', 0, None, 0, None, None, 'ΕΛΕΥΘΕΡΟ', 58, 1.64, 21.565, None, None, None, None, None, None, None, None, None, None, None, None, None, None, None, None, 1)\n",
      "(12, 60, 1, 1, '2013-12-05 18:16:19', '2013-12-05 18:16:19', None, None, None, None, 0, None, 0, None, None, None, 0, 0, 0, None, None, None, None, None, None, None, None, None, None, None, None, None, None, None, None, 1)\n",
      "(13, 64, 1, 1, '2014-02-18 13:57:12', '2014-02-24 18:13:12', 'Σκωληκοειδεκτομή', None, None, None, 0, None, 0, None, None, None, 0, 0, 0, 'Ελεύθερο ΑΑ. Δεν λαμβάνει φάρμακα. Σε U/S εγο προ έτους ανευρέθησαν δύο ινομυώματα 3,5 και 1,9 εκ. Ωοθήκες: κφ, Δουγλάσειος: ελεύθερος\\n\\nSOS: γνωστή ινοκυστική μαστοπάθεια. ΠΡΟΣΟΧΗ στην εκτίμηση των μαστογραφιών. Ίσως επιπρόσθετα να στέλνω και υπέρηχο στον Δημητρόπουλο και φυσικά ψηλάφηση.', None, None, None, None, None, None, None, None, None, None, None, None, None, None, None, 1)\n"
     ]
    }
   ],
   "source": [
    "fetch_records(target_tablename, db_path)"
   ]
  },
  {
   "cell_type": "markdown",
   "metadata": {},
   "source": [
    "------------------"
   ]
  },
  {
   "cell_type": "markdown",
   "metadata": {},
   "source": [
    "### Migrate Pathology data"
   ]
  },
  {
   "cell_type": "code",
   "execution_count": null,
   "metadata": {},
   "outputs": [],
   "source": [
    "fetch_records(target_tablename, db_path)"
   ]
  },
  {
   "cell_type": "code",
   "execution_count": null,
   "metadata": {},
   "outputs": [],
   "source": []
  },
  {
   "cell_type": "code",
   "execution_count": null,
   "metadata": {},
   "outputs": [],
   "source": []
  },
  {
   "cell_type": "code",
   "execution_count": null,
   "metadata": {},
   "outputs": [],
   "source": []
  },
  {
   "cell_type": "code",
   "execution_count": 10,
   "metadata": {},
   "outputs": [
    {
     "name": "stdout",
     "output_type": "stream",
     "text": [
      "('alembic_version',)\n",
      "('users',)\n",
      "('patients',)\n",
      "('history_medical',)\n"
     ]
    }
   ],
   "source": [
    "get_tables(db_path)"
   ]
  },
  {
   "cell_type": "code",
   "execution_count": null,
   "metadata": {},
   "outputs": [],
   "source": []
  },
  {
   "cell_type": "code",
   "execution_count": null,
   "metadata": {},
   "outputs": [],
   "source": []
  },
  {
   "cell_type": "code",
   "execution_count": null,
   "metadata": {},
   "outputs": [],
   "source": []
  },
  {
   "cell_type": "code",
   "execution_count": null,
   "metadata": {},
   "outputs": [],
   "source": []
  },
  {
   "cell_type": "code",
   "execution_count": null,
   "metadata": {},
   "outputs": [],
   "source": []
  },
  {
   "cell_type": "code",
   "execution_count": null,
   "metadata": {},
   "outputs": [],
   "source": []
  }
 ],
 "metadata": {
  "kernelspec": {
   "display_name": "fetusappenv",
   "language": "python",
   "name": "python3"
  },
  "language_info": {
   "codemirror_mode": {
    "name": "ipython",
    "version": 3
   },
   "file_extension": ".py",
   "mimetype": "text/x-python",
   "name": "python",
   "nbconvert_exporter": "python",
   "pygments_lexer": "ipython3",
   "version": "3.12.4"
  }
 },
 "nbformat": 4,
 "nbformat_minor": 2
}
