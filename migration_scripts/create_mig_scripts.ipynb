{
 "cells": [
  {
   "cell_type": "code",
   "execution_count": 1,
   "metadata": {},
   "outputs": [],
   "source": [
    "import json\n",
    "import os\n",
    "from typing import Any, Dict, List, Tuple"
   ]
  },
  {
   "cell_type": "code",
   "execution_count": 2,
   "metadata": {},
   "outputs": [],
   "source": [
    "def escape_string(value: Any) -> str:\n",
    "    \"\"\"Escape single quotes and handle null values for SQL strings.\"\"\"\n",
    "    if value is None or value == \"\":\n",
    "        return 'null'\n",
    "    return f\"'{str(value).replace(\"'\", \"''\")}'\"\n",
    "\n",
    "def format_date(date_str: str) -> str:\n",
    "    \"\"\"Format date strings, returning 'null' for empty or zero dates.\"\"\"\n",
    "    if not date_str or date_str == '0000-00-00 00:00:00' or date_str == '0000-00-00':\n",
    "        return 'null'\n",
    "    return f\"'{date_str}'\"\n",
    "\n",
    "def format_value(value: Any, value_type: str) -> str:\n",
    "    \"\"\"Format value based on its type.\"\"\"\n",
    "    if value_type.lower() == 'date':\n",
    "        return format_date(value)\n",
    "    elif value_type.lower() == 'str':\n",
    "        return escape_string(value)\n",
    "    elif value_type.lower() in ['int', 'bool']:\n",
    "        return str(value) if value is not None else 'null'\n",
    "    else:\n",
    "        return escape_string(value)  # Default to string handling"
   ]
  },
  {
   "cell_type": "code",
   "execution_count": 3,
   "metadata": {},
   "outputs": [],
   "source": [
    "def convert_json_to_sql(json_data: Dict[str, Any], column_mapping: List[Dict[str, str]], target_tablename:str) -> str:\n",
    "    \"\"\"Convert JSON data to SQL insert statement with multiple VALUES.\"\"\"\n",
    "    \n",
    "    # Get column names\n",
    "    columns = [mapping['target'] for mapping in column_mapping]\n",
    "    columns_sql = ', '.join(columns)\n",
    "    \n",
    "    # Collect all value sets\n",
    "    all_values = []\n",
    "    for record in json_data:\n",
    "        values = []\n",
    "        for mapping in column_mapping:\n",
    "            source_field = mapping['source']\n",
    "            value_type = mapping['type']\n",
    "            try:\n",
    "                value = mapping['default']\n",
    "            except KeyError:\n",
    "                value = record.get(source_field)    \n",
    "            formatted_value = format_value(value, value_type)\n",
    "            values.append(formatted_value)\n",
    "        all_values.append(f\"({', '.join(str(value) for value in values)})\")\n",
    "    \n",
    "    # Create single INSERT statement with multiple VALUES\n",
    "    values_sql = ',\\n'.join(all_values)\n",
    "    sql_statement = f\"INSERT INTO {target_tablename} ({columns_sql})\\nVALUES\\n{values_sql};\"\n",
    "    \n",
    "    return sql_statement"
   ]
  },
  {
   "cell_type": "code",
   "execution_count": 7,
   "metadata": {},
   "outputs": [
    {
     "name": "stdout",
     "output_type": "stream",
     "text": [
      "INSERT INTO patients (id, first_name, last_name, father_name, date_of_birth, marital_status, nationality, occupation, street_name, street_number, city, postal_code, county, home_phone, mobile_phone, alternative_phone, email, insurance, insurance_comment, amka, spouse_name, spouse_date_of_birth, spouse_occupation, created_on, created_by, last_updated_on, last_updated_by, is_active)\n",
      "VALUES\n",
      "(3, 'Φανή', 'Βασιλειάδου', 'Σπυρίδωνας', '1945-03-04', 'single', 'Ελληνική', 'Συνταξιούχος ΟΤΕ', 'Λέσβου', '112', 'Αθήνα', '17237', 'Αττικής', '2109731000', '6977221781', '2299073763', 'zdetor54@gmail.com', 'other', 'Axxa Ασφαλιστική', '13745541', 'Γεώργιος Δετοράκης', '1940-08-08', 'Συνταξιούχος ΟΤΕ', null, 2, '2022-12-19 22:01:12', 2, 0),\n",
      "(11, 'Μαρία', 'Παναγοπούλου', 'Κώστας', null, null, null, null, null, '0', null, '0', null, null, null, null, null, null, null, null, null, null, null, null, 2, '2013-09-22 02:35:13', 2, 0),\n",
      "(41, 'Μαρία', 'Κωνσταντινίδου', null, null, null, null, null, null, null, null, '0', null, null, null, null, null, null, null, null, null, null, null, '2013-09-10 22:15:33', 2, '2013-09-10 22:15:34', 2, 1),\n",
      "(48, 'Μαρία', 'Ρεπούση', null, null, null, null, null, null, null, null, null, null, null, null, null, null, null, null, null, null, null, null, '2013-09-15 15:18:53', 2, '2013-09-15 22:02:56', 2, 1),\n",
      "(54, 'Μαρία', 'Κοσμίδη', null, null, null, null, null, null, null, null, null, null, null, null, null, null, null, null, null, null, null, null, null, 2, '2013-10-24 23:51:03', 2, 1);\n"
     ]
    }
   ],
   "source": [
    "def main(source_tablename: str, target_tablename: str, data_index: int) -> Tuple[Dict[str, Any], List[Dict[str, str]]]:\n",
    "    current_dir = os.getcwd()\n",
    "    parent_dir = os.path.dirname(current_dir)\n",
    "    assets_dir = os.path.join(parent_dir, '_assets')\n",
    "    data_filename = 'detoraki_fetusdata_lite.json'\n",
    "    mapping_filename = 'column_mapping.json'\n",
    "    \n",
    "    json_file = os.path.join(assets_dir, data_filename)\n",
    "    mapping_file = os.path.join(current_dir, mapping_filename)\n",
    "    \n",
    "\n",
    "    # Read the input JSON file\n",
    "    with open(json_file, 'r', encoding='utf-8') as f:\n",
    "        json_data = json.load(f)\n",
    "    \n",
    "    # Read the column mapping file\n",
    "    with open(mapping_file, 'r', encoding='utf-8') as f:\n",
    "        column_mapping = json.load(f)\n",
    "        \n",
    "    sql_output = convert_json_to_sql(json_data[data_index]['data'], column_mapping[source_tablename], target_tablename = target_tablename)\n",
    "    print(sql_output)\n",
    "\n",
    "    output_file = os.path.join(assets_dir, f'{target_tablename}.sql')\n",
    "    with open(output_file, 'w', encoding='utf-8') as f:\n",
    "        f.write(sql_output)\n",
    "        \n",
    "\n",
    "main(source_tablename = 's_org_ext', data_index = 3, target_tablename = 'patients')   \n"
   ]
  },
  {
   "cell_type": "code",
   "execution_count": null,
   "metadata": {},
   "outputs": [],
   "source": []
  }
 ],
 "metadata": {
  "kernelspec": {
   "display_name": "fetusappenv",
   "language": "python",
   "name": "python3"
  },
  "language_info": {
   "codemirror_mode": {
    "name": "ipython",
    "version": 3
   },
   "file_extension": ".py",
   "mimetype": "text/x-python",
   "name": "python",
   "nbconvert_exporter": "python",
   "pygments_lexer": "ipython3",
   "version": "3.12.4"
  }
 },
 "nbformat": 4,
 "nbformat_minor": 2
}
