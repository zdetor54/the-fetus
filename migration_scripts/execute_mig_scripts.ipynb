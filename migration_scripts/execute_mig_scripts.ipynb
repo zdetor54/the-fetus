{
 "cells": [
  {
   "cell_type": "code",
   "execution_count": 2,
   "metadata": {},
   "outputs": [],
   "source": [
    "import sqlite3\n",
    "import os"
   ]
  },
  {
   "cell_type": "code",
   "execution_count": 3,
   "metadata": {},
   "outputs": [],
   "source": [
    "current_dir = os.getcwd()\n",
    "parent_dir = os.path.dirname(current_dir)\n",
    "db_dir = os.path.join(parent_dir, 'fetusapp')\n",
    "db_filename = 'data.sqlite'\n",
    "\n",
    "db_path = os.path.join(db_dir, db_filename)"
   ]
  },
  {
   "cell_type": "code",
   "execution_count": 4,
   "metadata": {},
   "outputs": [],
   "source": [
    "def insert_records(table:str, db_path: str) -> None:\n",
    "    \"\"\"\n",
    "    Insert records into a table in a SQLite database\n",
    "    \"\"\"\n",
    "\n",
    "    current_dir = os.getcwd()\n",
    "    parent_dir = os.path.dirname(current_dir)\n",
    "    assets_dir = os.path.join(parent_dir, '_assets')\n",
    "    sql_filename = f'{table}.sql'\n",
    "    sql_path = os.path.join(assets_dir, sql_filename)\n",
    "\n",
    "    # Establish a connection to the database\n",
    "    conn = sqlite3.connect(db_path)\n",
    "\n",
    "    # Create a cursor object using the cursor method\n",
    "    cursor = conn.cursor()\n",
    "    with open(sql_path, 'r') as f:\n",
    "        sql = f.read()  \n",
    "\n",
    "    # For example, to execute a query\n",
    "    cursor.execute(sql)\n",
    "    conn.commit()\n",
    "\n",
    "    # Don't forget to close the connection\n",
    "    conn.close()\n",
    "\n",
    "def fetch_records(table:str, db_path: str) -> None:\n",
    "    # Establish a connection to the database\n",
    "    conn = sqlite3.connect(db_path)\n",
    "    cursor = conn.cursor()\n",
    "\n",
    "    # For example, to execute a query\n",
    "    cursor.execute(f\"select * from {table} limit 5\")\n",
    "    rows = cursor.fetchall()\n",
    "\n",
    "    for row in rows:\n",
    "        print(row)\n",
    "\n",
    "    # Don't forget to close the connection\n",
    "    conn.close()\n",
    "\n",
    "def delete_records(table:str, db_path: str) -> None:\n",
    "    # Establish a connection to the database\n",
    "    conn = sqlite3.connect(db_path)\n",
    "    cursor = conn.cursor()\n",
    "\n",
    "    # For example, to execute a query\n",
    "    cursor.execute(f\"delete from {table}\")\n",
    "    conn.commit()\n",
    "\n",
    "    # Don't forget to close the connection\n",
    "    conn.close()"
   ]
  },
  {
   "cell_type": "code",
   "execution_count": null,
   "metadata": {},
   "outputs": [],
   "source": [
    "fetch_records(table='users', db_path=db_path)"
   ]
  },
  {
   "cell_type": "code",
   "execution_count": null,
   "metadata": {},
   "outputs": [],
   "source": []
  }
 ],
 "metadata": {
  "kernelspec": {
   "display_name": "fetusappenv",
   "language": "python",
   "name": "python3"
  },
  "language_info": {
   "codemirror_mode": {
    "name": "ipython",
    "version": 3
   },
   "file_extension": ".py",
   "mimetype": "text/x-python",
   "name": "python",
   "nbconvert_exporter": "python",
   "pygments_lexer": "ipython3",
   "version": "3.12.4"
  }
 },
 "nbformat": 4,
 "nbformat_minor": 2
}
