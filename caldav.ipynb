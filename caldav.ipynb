{
 "cells": [
  {
   "cell_type": "code",
   "execution_count": 5,
   "id": "460e3668",
   "metadata": {},
   "outputs": [
    {
     "name": "stdout",
     "output_type": "stream",
     "text": [
      "MyAvisCalendar\n",
      "Family\n",
      "Family\n",
      "Family\n",
      "Calendar\n",
      "Family\n",
      "Home\n",
      "Reminders\n",
      "Work\n"
     ]
    }
   ],
   "source": [
    "import caldav\n",
    "from caldav import DAVClient\n",
    "\n",
    "# Replace with your iCloud CalDAV server URL, username, and app-specific password\n",
    "url = \"https://caldav.icloud.com\"\n",
    "username = \"zdetor54@gmail.com\"\n",
    "password = \"nyvm-xzqu-fclb-iuox\"\n",
    "\n",
    "# Connect to the iCloud CalDAV server\n",
    "client = DAVClient(url, username=username, password=password)\n",
    "\n",
    "# Access your principal (your user account on the CalDAV server)\n",
    "principal = client.principal()\n",
    "\n",
    "# Fetch all calendars\n",
    "calendars = principal.calendars()\n",
    "for calendar in calendars:\n",
    "    print(calendar)"
   ]
  },
  {
   "cell_type": "code",
   "execution_count": 32,
   "id": "6d559af3",
   "metadata": {},
   "outputs": [
    {
     "name": "stdout",
     "output_type": "stream",
     "text": [
      "UID: EDD2AE21-E425-4B25-B2C2-49F5E7D0C696\n",
      "Summary: Updated Event Summary\n",
      "Description: No Description\n",
      "Start: 2024-05-14 12:00:00+01:00\n",
      "End: 2024-05-14 13:00:00+01:00\n",
      "---\n",
      "UID: 20240513T231430Z@example.com\n",
      "Summary: New Event for Wednesday\n",
      "Description: This is a description of the new event.\n",
      "Start: 2024-05-15 10:00:00+00:00\n",
      "End: 2024-05-15 11:00:00+00:00\n",
      "---\n",
      "UID: C8D4139E-5B31-45D8-8EF4-F8FFEDDD191F\n",
      "Summary: Another event\n",
      "Description: Let’s try one more time. I’ll get a bit more text this time so that I can see how well it will flex the layout that I’m gonna put in the main page. I’m very excited that I’m rebuilding the fit us up with additional functionality that didn’t exist before.\n",
      "Start: 2024-05-15 23:00:00+01:00\n",
      "End: 2024-05-15 23:00:00+01:00\n",
      "---\n",
      "UID: 20240513T233037Z@the-fetus.com\n",
      "Summary: Thursday we wear pink\n",
      "Description: This is a description of the new event.\n",
      "Start: 2024-05-16 10:00:00+00:00\n",
      "End: 2024-05-16 11:00:00+00:00\n",
      "---\n"
     ]
    }
   ],
   "source": [
    "import caldav\n",
    "from caldav import DAVClient\n",
    "from datetime import datetime, timedelta\n",
    "\n",
    "# Replace with your iCloud CalDAV server URL, Apple ID, and app-specific password\n",
    "url = \"https://caldav.icloud.com\"\n",
    "username = \"zdetor54@gmail.com\"\n",
    "password = \"nyvm-xzqu-fclb-iuox\"\n",
    "\n",
    "# Connect to the iCloud CalDAV server\n",
    "client = DAVClient(url, username=username, password=password)\n",
    "principal = client.principal()\n",
    "\n",
    "# Get your calendars\n",
    "calendars = principal.calendars()\n",
    "\n",
    "# Replace with the name of your desired calendar\n",
    "calendar_name = \"Work\"\n",
    "\n",
    "# Find the specific calendar\n",
    "calendar = next(cal for cal in calendars if cal.name == calendar_name)\n",
    "\n",
    "# Specify the day you want to get events for\n",
    "target_date = datetime(2024, 5, 14)  # Replace with your desired date\n",
    "\n",
    "# Define the time range for the entire day\n",
    "start = datetime.combine(target_date, datetime.min.time())\n",
    "end = datetime.combine(target_date + timedelta(days=7), datetime.min.time())\n",
    "\n",
    "# Get events for the specified day\n",
    "events = calendar.date_search(start=start, end=end)\n",
    "\n",
    "# Print event details\n",
    "for event in events:\n",
    "    vevent = event.vobject_instance.vevent\n",
    "    print(f\"UID: {vevent.uid.value if hasattr(vevent, 'uid') else 'No UID'}\")\n",
    "    print(f\"Summary: {vevent.summary.value if hasattr(vevent, 'summary') else 'No Summary'}\")\n",
    "    print(f\"Description: {vevent.description.value if hasattr(vevent, 'description') else 'No Description'}\")\n",
    "    print(f\"Start: {vevent.dtstart.value if hasattr(vevent, 'dtstart') else 'No Start Date'}\")\n",
    "    print(f\"End: {vevent.dtend.value if hasattr(vevent, 'dtend') else 'No End Date'}\")\n",
    "    print(\"---\")\n"
   ]
  },
  {
   "cell_type": "code",
   "execution_count": 19,
   "id": "c0845a12",
   "metadata": {},
   "outputs": [
    {
     "name": "stderr",
     "output_type": "stream",
     "text": [
      "ERROR:root:Ical data was modified to avoid compatibility issues\n",
      "(Your calendar server breaks the icalendar standard)\n",
      "This is probably harmless, particularly if not editing events or tasks\n",
      "(error count: 2 - this error is ratelimited)\n",
      "NoneType: None\n",
      "ERROR:root:--- \n",
      "+++ \n",
      "@@ -1,4 +1,3 @@\n",
      "-\n",
      " BEGIN:VCALENDAR\n",
      " VERSION:2.0\n",
      " PRODID:-//example.com//example//EN\n"
     ]
    },
    {
     "name": "stdout",
     "output_type": "stream",
     "text": [
      "Event added successfully!\n"
     ]
    }
   ],
   "source": [
    "# Find the specific calendar\n",
    "calendar = next(cal for cal in calendars if cal.name == calendar_name)\n",
    "\n",
    "# Define event details\n",
    "event_start = datetime(2024, 5, 16, 10, 0)\n",
    "event_end = datetime(2024, 5, 16, 11, 0)\n",
    "event_summary = \"Thursday we wear pink\"\n",
    "event_description = \"This is a description of the new event.\"\n",
    "\n",
    "# Create the event\n",
    "event_data = f\"\"\"\n",
    "BEGIN:VCALENDAR\n",
    "VERSION:2.0\n",
    "PRODID:-//example.com//example//EN\n",
    "BEGIN:VEVENT\n",
    "UID:{datetime.now().strftime(\"%Y%m%dT%H%M%SZ\")}@the-fetus.com\n",
    "DTSTAMP:{datetime.now().strftime(\"%Y%m%dT%H%M%SZ\")}\n",
    "DTSTART:{event_start.strftime(\"%Y%m%dT%H%M%SZ\")}\n",
    "DTEND:{event_end.strftime(\"%Y%m%dT%H%M%SZ\")}\n",
    "SUMMARY:{event_summary}\n",
    "DESCRIPTION:{event_description}\n",
    "END:VEVENT\n",
    "END:VCALENDAR\n",
    "\"\"\"\n",
    "\n",
    "# Add the event to the calendar\n",
    "calendar.add_event(event_data)\n",
    "print(\"Event added successfully!\")"
   ]
  },
  {
   "cell_type": "code",
   "execution_count": 8,
   "id": "a8b56298",
   "metadata": {},
   "outputs": [
    {
     "name": "stdout",
     "output_type": "stream",
     "text": [
      "Summary: Test one\n",
      "UID: EDD2AE21-E425-4B25-B2C2-49F5E7D0C696\n",
      "Start: 2024-05-14 23:00:00+01:00\n",
      "End: 2024-05-14 23:55:00+01:00\n",
      "---\n"
     ]
    }
   ],
   "source": [
    "# Define the time range for the entire day\n",
    "start = datetime.combine(target_date, datetime.min.time())\n",
    "end = datetime.combine(target_date + timedelta(days=1), datetime.min.time())\n",
    "\n",
    "# Get events for the specified day\n",
    "events = calendar.date_search(start=start, end=end)\n",
    "\n",
    "# Print event details and their UIDs\n",
    "for event in events:\n",
    "    vevent = event.vobject_instance.vevent\n",
    "    print(f\"Summary: {vevent.summary.value}\")\n",
    "    print(f\"UID: {vevent.uid.value}\")\n",
    "    print(f\"Start: {vevent.dtstart.value}\")\n",
    "    print(f\"End: {vevent.dtend.value}\")\n",
    "    print(\"---\")"
   ]
  },
  {
   "cell_type": "code",
   "execution_count": 11,
   "id": "0ad76c31",
   "metadata": {},
   "outputs": [
    {
     "name": "stdout",
     "output_type": "stream",
     "text": [
      "Summary: Test one\n",
      "Start: 2024-05-14 23:00:00+01:00\n",
      "End: 2024-05-14 23:55:00+01:00\n",
      "Event updated successfully!\n"
     ]
    }
   ],
   "source": [
    "# Specify the UID of the event you want to edit\n",
    "event_uid = \"EDD2AE21-E425-4B25-B2C2-49F5E7D0C696\"  # Replace with the actual UID of the event\n",
    "\n",
    "# Search for the event by UID\n",
    "event = None\n",
    "for e in calendar.events():\n",
    "    if e.vobject_instance.vevent.uid.value == event_uid:\n",
    "        event = e\n",
    "        break\n",
    "\n",
    "# Check if the event was found\n",
    "if event:\n",
    "    # Print the event details\n",
    "    vevent = event.vobject_instance.vevent\n",
    "    print(f\"Summary: {vevent.summary.value}\")\n",
    "    print(f\"Start: {vevent.dtstart.value}\")\n",
    "    print(f\"End: {vevent.dtend.value}\")\n",
    "\n",
    "    # Modify the event details\n",
    "    vevent.summary.value = \"Updated Event Summary\"\n",
    "    vevent.dtstart.value = datetime(2024, 5, 14, 12, 0)\n",
    "    vevent.dtend.value = datetime(2024, 5, 14, 13, 0)\n",
    "\n",
    "    # Save changes\n",
    "    event.save()\n",
    "    print(\"Event updated successfully!\")\n",
    "else:\n",
    "    print(\"Event not found.\")"
   ]
  },
  {
   "cell_type": "code",
   "execution_count": 23,
   "id": "984e28db",
   "metadata": {},
   "outputs": [
    {
     "name": "stdout",
     "output_type": "stream",
     "text": [
      "UID: 20240513T231430Z@example.com\n",
      "Summary: New Event for Wednesday\n",
      "Description: This is a description of the new event.\n",
      "Start: 2024-05-15 10:00:00+00:00\n",
      "End: 2024-05-15 11:00:00+00:00\n",
      "---\n",
      "All attributes:\n",
      "add: <bound method Component.add of <VEVENT| [<UID{}20240513T231430Z@example.com>, <DTSTART{}2024-05-15 10:00:00+00:00>, <DTEND{}2024-05-15 11:00:00+00:00>, <DESCRIPTION{}This is a description of the new event.>, <DTSTAMP{}2024-05-13 23:14:30+00:00>, <SUMMARY{}New Event for Wednesday>]>>\n",
      "autoBehavior: <bound method VBase.autoBehavior of <VEVENT| [<UID{}20240513T231430Z@example.com>, <DTSTART{}2024-05-15 10:00:00+00:00>, <DTEND{}2024-05-15 11:00:00+00:00>, <DESCRIPTION{}This is a description of the new event.>, <DTSTAMP{}2024-05-13 23:14:30+00:00>, <SUMMARY{}New Event for Wednesday>]>>\n",
      "behavior: <class 'vobject.icalendar.VEvent'>\n",
      "clearBehavior: <bound method VBase.clearBehavior of <VEVENT| [<UID{}20240513T231430Z@example.com>, <DTSTART{}2024-05-15 10:00:00+00:00>, <DTEND{}2024-05-15 11:00:00+00:00>, <DESCRIPTION{}This is a description of the new event.>, <DTSTAMP{}2024-05-13 23:14:30+00:00>, <SUMMARY{}New Event for Wednesday>]>>\n",
      "components: <bound method Component.components of <VEVENT| [<UID{}20240513T231430Z@example.com>, <DTSTART{}2024-05-15 10:00:00+00:00>, <DTEND{}2024-05-15 11:00:00+00:00>, <DESCRIPTION{}This is a description of the new event.>, <DTSTAMP{}2024-05-13 23:14:30+00:00>, <SUMMARY{}New Event for Wednesday>]>>\n",
      "contents: {'summary': [<SUMMARY{}New Event for Wednesday>], 'dtstart': [<DTSTART{}2024-05-15 10:00:00+00:00>], 'dtend': [<DTEND{}2024-05-15 11:00:00+00:00>], 'dtstamp': [<DTSTAMP{}2024-05-13 23:14:30+00:00>], 'uid': [<UID{}20240513T231430Z@example.com>], 'description': [<DESCRIPTION{}This is a description of the new event.>]}\n",
      "copy: <bound method Component.copy of <VEVENT| [<UID{}20240513T231430Z@example.com>, <DTSTART{}2024-05-15 10:00:00+00:00>, <DTEND{}2024-05-15 11:00:00+00:00>, <DESCRIPTION{}This is a description of the new event.>, <DTSTAMP{}2024-05-13 23:14:30+00:00>, <SUMMARY{}New Event for Wednesday>]>>\n",
      "duplicate: <bound method Component.duplicate of <class 'vobject.icalendar.RecurringComponent'>>\n",
      "getChildValue: <bound method Component.getChildValue of <VEVENT| [<UID{}20240513T231430Z@example.com>, <DTSTART{}2024-05-15 10:00:00+00:00>, <DTEND{}2024-05-15 11:00:00+00:00>, <DESCRIPTION{}This is a description of the new event.>, <DTSTAMP{}2024-05-13 23:14:30+00:00>, <SUMMARY{}New Event for Wednesday>]>>\n",
      "getChildren: <bound method Component.getChildren of <VEVENT| [<UID{}20240513T231430Z@example.com>, <DTSTART{}2024-05-15 10:00:00+00:00>, <DTEND{}2024-05-15 11:00:00+00:00>, <DESCRIPTION{}This is a description of the new event.>, <DTSTAMP{}2024-05-13 23:14:30+00:00>, <SUMMARY{}New Event for Wednesday>]>>\n",
      "getSortedChildren: <bound method Component.getSortedChildren of <VEVENT| [<UID{}20240513T231430Z@example.com>, <DTSTART{}2024-05-15 10:00:00+00:00>, <DTEND{}2024-05-15 11:00:00+00:00>, <DESCRIPTION{}This is a description of the new event.>, <DTSTAMP{}2024-05-13 23:14:30+00:00>, <SUMMARY{}New Event for Wednesday>]>>\n",
      "getrruleset: <bound method RecurringComponent.getrruleset of <VEVENT| [<UID{}20240513T231430Z@example.com>, <DTSTART{}2024-05-15 10:00:00+00:00>, <DTEND{}2024-05-15 11:00:00+00:00>, <DESCRIPTION{}This is a description of the new event.>, <DTSTAMP{}2024-05-13 23:14:30+00:00>, <SUMMARY{}New Event for Wednesday>]>>\n",
      "group: None\n",
      "isNative: True\n",
      "lines: <bound method Component.lines of <VEVENT| [<UID{}20240513T231430Z@example.com>, <DTSTART{}2024-05-15 10:00:00+00:00>, <DTEND{}2024-05-15 11:00:00+00:00>, <DESCRIPTION{}This is a description of the new event.>, <DTSTAMP{}2024-05-13 23:14:30+00:00>, <SUMMARY{}New Event for Wednesday>]>>\n",
      "name: VEVENT\n",
      "normal_attributes: ['contents', 'name', 'behavior', 'parentBehavior', 'group']\n",
      "parentBehavior: <class 'vobject.icalendar.VCalendar2_0'>\n",
      "prettyPrint: <bound method Component.prettyPrint of <VEVENT| [<UID{}20240513T231430Z@example.com>, <DTSTART{}2024-05-15 10:00:00+00:00>, <DTEND{}2024-05-15 11:00:00+00:00>, <DESCRIPTION{}This is a description of the new event.>, <DTSTAMP{}2024-05-13 23:14:30+00:00>, <SUMMARY{}New Event for Wednesday>]>>\n",
      "remove: <bound method Component.remove of <VEVENT| [<UID{}20240513T231430Z@example.com>, <DTSTART{}2024-05-15 10:00:00+00:00>, <DTEND{}2024-05-15 11:00:00+00:00>, <DESCRIPTION{}This is a description of the new event.>, <DTSTAMP{}2024-05-13 23:14:30+00:00>, <SUMMARY{}New Event for Wednesday>]>>\n",
      "rruleset: None\n",
      "serialize: <bound method VBase.serialize of <VEVENT| [<UID{}20240513T231430Z@example.com>, <DTSTART{}2024-05-15 10:00:00+00:00>, <DTEND{}2024-05-15 11:00:00+00:00>, <DESCRIPTION{}This is a description of the new event.>, <DTSTAMP{}2024-05-13 23:14:30+00:00>, <SUMMARY{}New Event for Wednesday>]>>\n",
      "setBehavior: <bound method VBase.setBehavior of <VEVENT| [<UID{}20240513T231430Z@example.com>, <DTSTART{}2024-05-15 10:00:00+00:00>, <DTEND{}2024-05-15 11:00:00+00:00>, <DESCRIPTION{}This is a description of the new event.>, <DTSTAMP{}2024-05-13 23:14:30+00:00>, <SUMMARY{}New Event for Wednesday>]>>\n",
      "setBehaviorFromVersionLine: <bound method Component.setBehaviorFromVersionLine of <VEVENT| [<UID{}20240513T231430Z@example.com>, <DTSTART{}2024-05-15 10:00:00+00:00>, <DTEND{}2024-05-15 11:00:00+00:00>, <DESCRIPTION{}This is a description of the new event.>, <DTSTAMP{}2024-05-13 23:14:30+00:00>, <SUMMARY{}New Event for Wednesday>]>>\n",
      "setProfile: <bound method Component.setProfile of <VEVENT| [<UID{}20240513T231430Z@example.com>, <DTSTART{}2024-05-15 10:00:00+00:00>, <DTEND{}2024-05-15 11:00:00+00:00>, <DESCRIPTION{}This is a description of the new event.>, <DTSTAMP{}2024-05-13 23:14:30+00:00>, <SUMMARY{}New Event for Wednesday>]>>\n",
      "setrruleset: <bound method RecurringComponent.setrruleset of <VEVENT| [<UID{}20240513T231430Z@example.com>, <DTSTART{}2024-05-15 10:00:00+00:00>, <DTEND{}2024-05-15 11:00:00+00:00>, <DESCRIPTION{}This is a description of the new event.>, <DTSTAMP{}2024-05-13 23:14:30+00:00>, <SUMMARY{}New Event for Wednesday>]>>\n",
      "sortChildKeys: <bound method Component.sortChildKeys of <VEVENT| [<UID{}20240513T231430Z@example.com>, <DTSTART{}2024-05-15 10:00:00+00:00>, <DTEND{}2024-05-15 11:00:00+00:00>, <DESCRIPTION{}This is a description of the new event.>, <DTSTAMP{}2024-05-13 23:14:30+00:00>, <SUMMARY{}New Event for Wednesday>]>>\n",
      "transformChildrenFromNative: <bound method Component.transformChildrenFromNative of <VEVENT| [<UID{}20240513T231430Z@example.com>, <DTSTART{}2024-05-15 10:00:00+00:00>, <DTEND{}2024-05-15 11:00:00+00:00>, <DESCRIPTION{}This is a description of the new event.>, <DTSTAMP{}2024-05-13 23:14:30+00:00>, <SUMMARY{}New Event for Wednesday>]>>\n",
      "transformChildrenToNative: <bound method Component.transformChildrenToNative of <VEVENT| [<UID{}20240513T231430Z@example.com>, <DTSTART{}2024-05-15 10:00:00+00:00>, <DTEND{}2024-05-15 11:00:00+00:00>, <DESCRIPTION{}This is a description of the new event.>, <DTSTAMP{}2024-05-13 23:14:30+00:00>, <SUMMARY{}New Event for Wednesday>]>>\n",
      "transformFromNative: <bound method VBase.transformFromNative of <VEVENT| [<UID{}20240513T231430Z@example.com>, <DTSTART{}2024-05-15 10:00:00+00:00>, <DTEND{}2024-05-15 11:00:00+00:00>, <DESCRIPTION{}This is a description of the new event.>, <DTSTAMP{}2024-05-13 23:14:30+00:00>, <SUMMARY{}New Event for Wednesday>]>>\n",
      "transformToNative: <bound method VBase.transformToNative of <VEVENT| [<UID{}20240513T231430Z@example.com>, <DTSTART{}2024-05-15 10:00:00+00:00>, <DTEND{}2024-05-15 11:00:00+00:00>, <DESCRIPTION{}This is a description of the new event.>, <DTSTAMP{}2024-05-13 23:14:30+00:00>, <SUMMARY{}New Event for Wednesday>]>>\n",
      "useBegin: True\n",
      "validate: <bound method VBase.validate of <VEVENT| [<UID{}20240513T231430Z@example.com>, <DTSTART{}2024-05-15 10:00:00+00:00>, <DTEND{}2024-05-15 11:00:00+00:00>, <DESCRIPTION{}This is a description of the new event.>, <DTSTAMP{}2024-05-13 23:14:30+00:00>, <SUMMARY{}New Event for Wednesday>]>>\n"
     ]
    }
   ],
   "source": [
    "# Specify the day you want to get events for\n",
    "target_date = datetime(2024, 5, 15)  # Replace with your desired date\n",
    "\n",
    "# Define the time range for the entire day\n",
    "start = datetime.combine(target_date, datetime.min.time())\n",
    "end = datetime.combine(target_date + timedelta(days=1), datetime.min.time())\n",
    "\n",
    "# Get events for the specified day\n",
    "events = calendar.date_search(start=start, end=end)\n",
    "\n",
    "# Print all attributes of the first event\n",
    "if events:\n",
    "    for event in events:\n",
    "        vevent = event.vobject_instance.vevent\n",
    "        print(f\"UID: {vevent.uid.value if hasattr(vevent, 'uid') else 'No UID'}\")\n",
    "        print(f\"Summary: {vevent.summary.value if hasattr(vevent, 'summary') else 'No Summary'}\")\n",
    "        print(f\"Description: {vevent.description.value if hasattr(vevent, 'description') else 'No Description'}\")\n",
    "        print(f\"Start: {vevent.dtstart.value if hasattr(vevent, 'dtstart') else 'No Start Date'}\")\n",
    "        print(f\"End: {vevent.dtend.value if hasattr(vevent, 'dtend') else 'No End Date'}\")\n",
    "        print(\"---\")\n",
    "\n",
    "        # Print all attributes for debugging\n",
    "        print(\"All attributes:\")\n",
    "        for attr in dir(vevent):\n",
    "            if not attr.startswith('__'):\n",
    "                print(f\"{attr}: {getattr(vevent, attr, 'No Value')}\")\n",
    "else:\n",
    "    print(\"No events found for the specified day.\")"
   ]
  },
  {
   "cell_type": "code",
   "execution_count": null,
   "id": "86fbe0d6",
   "metadata": {},
   "outputs": [],
   "source": [
    "import spacy\n",
    "\n",
    "# Load the Greek language model\n",
    "nlp = spacy.load(\"el_core_news_sm\")\n",
    "\n",
    "# Sample text\n",
    "text = \"Lap εξαρτηματεκτομή Κορφιάτη\"\n",
    "\n",
    "# Process the text\n",
    "doc = nlp(text)\n",
    "\n",
    "# Extract potential names\n",
    "names = [ent.text for ent in doc.ents if ent.label_ == 'PER']\n",
    "\n",
    "print(names)\n"
   ]
  }
 ],
 "metadata": {
  "kernelspec": {
   "display_name": "fetusappenv",
   "language": "python",
   "name": "python3"
  },
  "language_info": {
   "codemirror_mode": {
    "name": "ipython",
    "version": 3
   },
   "file_extension": ".py",
   "mimetype": "text/x-python",
   "name": "python",
   "nbconvert_exporter": "python",
   "pygments_lexer": "ipython3",
   "version": "3.12.4"
  }
 },
 "nbformat": 4,
 "nbformat_minor": 5
}
