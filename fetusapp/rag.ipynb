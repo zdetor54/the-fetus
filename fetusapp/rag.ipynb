{
 "cells": [
  {
   "cell_type": "code",
   "execution_count": 1,
   "metadata": {},
   "outputs": [],
   "source": [
    "import pandas as pd\n",
    "import sqlite3\n",
    "import openai\n",
    "import os\n",
    "from dotenv import load_dotenv\n"
   ]
  },
  {
   "cell_type": "code",
   "execution_count": 2,
   "metadata": {},
   "outputs": [],
   "source": [
    "def get_database_schema(db_path):\n",
    "    conn = sqlite3.connect(db_path)\n",
    "    cursor = conn.cursor()\n",
    "    \n",
    "    # Fetch all table names in the database\n",
    "    cursor.execute(\"SELECT name FROM sqlite_master WHERE type='table';\")\n",
    "    tables = cursor.fetchall()\n",
    "\n",
    "    schema = {}\n",
    "    for table in tables:\n",
    "        table_name = table[0]\n",
    "        # Get all column names for each table\n",
    "        cursor.execute(f\"PRAGMA table_info({table_name});\")\n",
    "        columns = [info[1] for info in cursor.fetchall()]\n",
    "        schema[table_name] = columns\n",
    "\n",
    "    conn.close()\n",
    "    return schema\n",
    "\n",
    "# Example usage:\n",
    "schema = get_database_schema('data.sqlite')\n"
   ]
  },
  {
   "cell_type": "code",
   "execution_count": 3,
   "metadata": {},
   "outputs": [
    {
     "data": {
      "text/plain": [
       "{'alembic_version': ['version_num'],\n",
       " 'users': ['id',\n",
       "  'username',\n",
       "  'password_hash',\n",
       "  'first_name',\n",
       "  'last_name',\n",
       "  'is_active',\n",
       "  'is_admin',\n",
       "  'created_on',\n",
       "  'last_updated_on'],\n",
       " 'patients': ['id',\n",
       "  'created_by',\n",
       "  'last_updated_by',\n",
       "  'created_on',\n",
       "  'last_updated_on',\n",
       "  'first_name',\n",
       "  'last_name',\n",
       "  'father_name',\n",
       "  'date_of_birth',\n",
       "  'marital_status',\n",
       "  'nationality',\n",
       "  'occupation',\n",
       "  'street_name',\n",
       "  'street_number',\n",
       "  'city',\n",
       "  'postal_code',\n",
       "  'county',\n",
       "  'home_phone',\n",
       "  'mobile_phone',\n",
       "  'alternative_phone',\n",
       "  'email',\n",
       "  'insurance',\n",
       "  'insurance_comment',\n",
       "  'amka',\n",
       "  'spouse_name',\n",
       "  'spouse_date_of_birth',\n",
       "  'spouse_occupation',\n",
       "  'is_active']}"
      ]
     },
     "execution_count": 3,
     "metadata": {},
     "output_type": "execute_result"
    }
   ],
   "source": [
    "schema"
   ]
  },
  {
   "cell_type": "code",
   "execution_count": 3,
   "metadata": {},
   "outputs": [],
   "source": [
    "# Convert dictionary to a DataFrame\n",
    "df = pd.DataFrame(dict([(k, pd.Series(v)) for k, v in schema.items()]))\n",
    "\n",
    "# Display the DataFrame nicely in Jupyter\n",
    "# df"
   ]
  },
  {
   "cell_type": "code",
   "execution_count": 4,
   "metadata": {},
   "outputs": [],
   "source": [
    "dotenv_path = os.path.join('..', 'keys.env')\n",
    "load_dotenv(dotenv_path)\n",
    "api_key=os.getenv(\"OPENAI_API_KEY\")"
   ]
  },
  {
   "cell_type": "code",
   "execution_count": 5,
   "metadata": {},
   "outputs": [],
   "source": [
    "def generate_sql_query(user_query, schema, api_key):\n",
    "    openai.api_key = api_key\n",
    "    \n",
    "    # Prepare the schema information as part of the system message\n",
    "    schema_prompt = \"Here is the database schema:\\n\"\n",
    "    for table, columns in schema.items():\n",
    "        schema_prompt += f\"Table: {table}\\nColumns: {', '.join(columns)}\\n\"\n",
    "    \n",
    "    # Use the Chat Completion API (for models like GPT-4)\n",
    "    messages = [\n",
    "        {\n",
    "            \"role\": \"system\",\n",
    "            \"content\": (\n",
    "                \"You are a SQL expert specialized in SQLite. Based on the user's question and the following database schema, \"\n",
    "                \"generate only a valid SQL query. Ensure that Greek names remain in Greek, without transliteration. \"\n",
    "                \"Do not provide any explanations, comments, or additional context—only return the SQL query as plain text.\\n\"\n",
    "                \"When calculating dates or ages, make sure to use SQLite-compatible functions like strftime().\\n\\n\"\n",
    "                + schema_prompt\n",
    "            )\n",
    "        },\n",
    "        {\n",
    "            \"role\": \"user\",\n",
    "            \"content\": f\"User query: {user_query}\"\n",
    "        }\n",
    "    ]\n",
    "    \n",
    "    response = openai.ChatCompletion.create(\n",
    "        model=\"gpt-4\",  # Ensure you're using a chat-based model\n",
    "        messages=messages,\n",
    "        max_tokens=150,\n",
    "        temperature=0,\n",
    "        top_p=1,\n",
    "    )\n",
    "    \n",
    "    # Extract the SQL query from the assistant's reply\n",
    "    sql_query = response['choices'][0]['message']['content'].strip()\n",
    "    # print(f\"Generated SQL Query: {sql_query}\") \n",
    "    return sql_query\n",
    "\n",
    "sql_query = generate_sql_query(\"Μια λίστα με τους πελάτες μου από 20 μέχρι 22 χρονών. Αριθμό πελάτη και ονοματεπώνυμο;\", schema, api_key=api_key)\n"
   ]
  },
  {
   "cell_type": "code",
   "execution_count": 6,
   "metadata": {},
   "outputs": [
    {
     "name": "stdout",
     "output_type": "stream",
     "text": [
      "[(687, 'ΕΜΜΑΝΟΥΕΛΑ', 'ΒΕΚΡΗ'), (716, 'ΜΙΧΑ', 'ΕΥΑ'), (768, 'ΠΑΠΑΝΙΚΟΛΑΟΥ', 'ΣΟΦΙΑ'), (910, 'ΑΝΔΡΟΜΑΧΗ', 'ΠΕΤΡΟΥ'), (955, 'chiara', 'trettow'), (1078, 'ΑΓΙΩΤΗ', 'ΑΝΑΣΤΑΣΙΑ'), (1143, 'ΛΕΜΕ', 'ΕΙΡΗΝΗ'), (1163, 'ΒΛΑΧΟΥ', 'ΔΕΣΠΟΙΝΑ'), (1170, 'ΝΤΟΣΤΗ', 'ΣΟΝΙΑ'), (1171, 'ΣΥΝΝΕΦΑΚΗ', 'ΒΑΣΙΛΙΚΗ'), (1178, 'ΚΑΝΔΑΡΑΚΗ', 'ΦΛΩΡΑ'), (1200, 'ΚΟΚΚΙΝΑΚΗ', 'ΜΑΡΙΑ'), (1259, 'ΣΙΩΜΟΥ', 'ΚΩΝΣΤΑΝΤΙΝΑ'), (1288, 'ΜΕΛΙΝΑ', 'ΠΑΝΤΑΖΟΠΟΥΛΟΥ'), (1322, 'ΜΑΡΙΑ', 'ΝΟΥΣΗ'), (1323, 'ΕΡΡΙΚΑ', 'ΝΟΥΣΗ'), (1342, 'ΜΕΛΙΝΑ', 'ΚΡΕΤΣΟΥ'), (1351, 'ΕΥΑΓΓΕΛΙΑ', 'ΠΩΓΩΝΙΔΟΥ'), (1397, 'ΠΗΓΗ', 'ΔΗΛΕ'), (1432, 'ΜΠΛΕΟΝΑ', 'ΛΑΜΑ'), (1440, 'ΠΑΠΑΚΩΝΣΤΑΝΤΙΝΟΥ', 'ΚΑΤΕΡΙΝΑ'), (1442, 'ΒΛΑΒΙΑΝΟΥ', 'ΜΑΡΓΑΡΙΤΑ'), (1463, 'ΕΥΓΕΝΙΑ', 'ΚΑΣΑΠΗ'), (1467, 'ΒΑΣΙΛΕΙΑ', 'ΤΖΕΛΕΠΗ'), (1468, 'ΒΑΣΙΛΕΙΑ', 'ΤΖΕΛΕΠΗ'), (1472, 'ΜΑΡΘΑ', 'ΤΣΟΠΑΝΟΓΛΟΥ')]\n"
     ]
    }
   ],
   "source": [
    "def execute_sql_query(sql_query, db_path):\n",
    "    conn = sqlite3.connect(db_path)\n",
    "    cursor = conn.cursor()\n",
    "\n",
    "    cursor.execute(sql_query)\n",
    "    result = cursor.fetchall()\n",
    "\n",
    "    conn.close()\n",
    "    return result\n",
    "\n",
    "# sql_query = \"\"\"\n",
    "# SELECT \n",
    "#     (strftime('%Y', 'now') - strftime('%Y', date_of_birth)) - \n",
    "#     (strftime('%m-%d', 'now') < strftime('%m-%d', date_of_birth)) AS age\n",
    "# FROM \n",
    "#     patients\n",
    "# WHERE \n",
    "#     first_name = 'Φανή' AND last_name = 'Βασιλειάδου';\n",
    "# \"\"\"\n",
    "\n",
    "\n",
    "# Example usage:\n",
    "result = execute_sql_query(sql_query, db_path=\"data.sqlite\")\n",
    "print(result)"
   ]
  },
  {
   "cell_type": "code",
   "execution_count": 7,
   "metadata": {},
   "outputs": [
    {
     "name": "stdout",
     "output_type": "stream",
     "text": [
      "You have 27 customers.\n"
     ]
    }
   ],
   "source": [
    "import openai\n",
    "\n",
    "def synthesize_response(user_query, data, api_key):\n",
    "    openai.api_key = api_key\n",
    "    \n",
    "    # Build a conversation prompt where the data retrieved from the database is included\n",
    "    data_context = f\"Retrieved data: {data}\\n\"\n",
    "\n",
    "    # Messages for the chat model (GPT-4) to synthesize the final response\n",
    "    messages = [\n",
    "        {\n",
    "            \"role\": \"system\",\n",
    "            \"content\": \"You are a helpful assistant that provides concise and accurate answers based on user queries and retrieved data.\"\n",
    "        },\n",
    "        {\n",
    "            \"role\": \"user\",\n",
    "            \"content\": f\"User query: {user_query}\"\n",
    "        },\n",
    "        {\n",
    "            \"role\": \"system\",\n",
    "            \"content\": data_context  # Provide the retrieved data as context for GPT-4\n",
    "        }\n",
    "    ]\n",
    "    \n",
    "    response = openai.ChatCompletion.create(\n",
    "        model=\"gpt-4\",\n",
    "        messages=messages,\n",
    "        max_tokens=1000,\n",
    "        temperature=0,\n",
    "        top_p=1,\n",
    "    )\n",
    "    \n",
    "    final_response = response['choices'][0]['message']['content'].strip()\n",
    "    return final_response\n",
    "\n",
    "# Example usage:\n",
    "final_response = synthesize_response(\"How many customers do I have?\", result, api_key=api_key)\n",
    "print(final_response)\n"
   ]
  },
  {
   "cell_type": "code",
   "execution_count": 8,
   "metadata": {},
   "outputs": [],
   "source": [
    "def rag_pipeline(user_query, db_path='data.sqlite', api_key=None):\n",
    "    # Step 1: Get the database schema dynamically\n",
    "    schema = get_database_schema(db_path)\n",
    "    # print(f\"Database Schema: {schema}\")  # Optional: to visualize the database schema\n",
    "    \n",
    "    # Step 2: Generate the SQL query from the user's natural language question\n",
    "    sql_query = generate_sql_query(user_query, schema, api_key)\n",
    "    # print(f\"Generated SQL Query: {sql_query}\")  # Optional: to visualize the generated SQL\n",
    "    \n",
    "    # Step 3: Execute the SQL query and retrieve data from the database\n",
    "    result = execute_sql_query(sql_query, db_path)\n",
    "    # print(f\"Retrieved Data: {result}\")  # Optional: to visualize the retrieved\n",
    "    \n",
    "    # Step 4: Synthesize the final response using GPT-4\n",
    "    final_response = synthesize_response(user_query, result, api_key)\n",
    "    \n",
    "    return final_response\n",
    "\n"
   ]
  },
  {
   "cell_type": "code",
   "execution_count": 9,
   "metadata": {},
   "outputs": [
    {
     "name": "stdout",
     "output_type": "stream",
     "text": [
      "Here is a list of your customers aged between 20 and 22:\n",
      "\n",
      "1. ΕΜΜΑΝΟΥΕΛΑ ΒΕΚΡΗ\n",
      "2. ΜΙΧΑ ΕΥΑ\n",
      "3. ΠΑΠΑΝΙΚΟΛΑΟΥ ΣΟΦΙΑ\n",
      "4. ΑΝΔΡΟΜΑΧΗ ΠΕΤΡΟΥ\n",
      "5. Chiara Trettow\n",
      "6. ΑΓΙΩΤΗ ΑΝΑΣΤΑΣΙΑ\n",
      "7. ΛΕΜΕ ΕΙΡΗΝΗ\n",
      "8. ΒΛΑΧΟΥ ΔΕΣΠΟΙΝΑ\n",
      "9. ΝΤΟΣΤΗ ΣΟΝΙΑ\n",
      "10. ΣΥΝΝΕΦΑΚΗ ΒΑΣΙΛΙΚΗ\n",
      "11. ΚΑΝΔΑΡΑΚΗ ΦΛΩΡΑ\n",
      "12. ΚΟΚΚΙΝΑΚΗ ΜΑΡΙΑ\n",
      "13. ΣΙΩΜΟΥ ΚΩΝΣΤΑΝΤΙΝΑ\n",
      "14. ΜΕΛΙΝΑ ΠΑΝΤΑΖΟΠΟΥΛΟΥ\n",
      "15. ΜΑΡΙΑ ΝΟΥΣΗ\n",
      "16. ΕΡΡΙΚΑ ΝΟΥΣΗ\n",
      "17. ΜΕΛΙΝΑ ΚΡΕΤΣΟΥ\n",
      "18. ΕΥΑΓΓΕΛΙΑ ΠΩΓΩΝΙΔΟΥ\n",
      "19. ΠΗΓΗ ΔΗΛΕ\n",
      "20. ΒΑΣΙΛΕΙΑ ΤΖΕΛΕΠΗ\n",
      "21. ΕΥΓΕΝΙΑ ΚΑΣΑΠΗ\n",
      "22. ΒΑΣΙΛΕΙΑ ΤΖΕΛΕΠΗ\n",
      "23. ΜΑΡΘΑ ΤΣΟΠΑΝΟΓΛΟΥ\n",
      "24. ΜΑΡΘΑ ΤΣΟΠΑΝΟΓΛΟΥ\n"
     ]
    }
   ],
   "source": [
    "user_query = \"Μια λίστα με τους πελάτες μου από 20 μέχρι 22 χρονών.\"\n",
    "# user_query = \"Θέλω μια λίστα με τα duplicates με τους διπλούς πελάτες δίπλα στον αριθμό τους. Μπορείς να μου το δώσεις; Τα duplicates είναι άτομα με το ίδιο όνομα και επώνυμο. και θέλω τον αριθμό τους και το όνομα τους σε μορφή json; θέλω και τους δύο πελάτες που είναι duplicates να εμφανίζονται στην λίστα αλλά ο αριθμός τους να μη χρησιμοπποιείτε για την ανεύρεση των διπλοτύπων;\"\n",
    "\n",
    "response = rag_pipeline(user_query, db_path=\"data.sqlite\", api_key=api_key)\n",
    "print(response)"
   ]
  },
  {
   "cell_type": "code",
   "execution_count": 11,
   "metadata": {},
   "outputs": [
    {
     "name": "stdout",
     "output_type": "stream",
     "text": [
      "Πόσο χρονών είναι η Φανή Βασιλειάδου\n",
      "Η Φανή Βασιλειάδου είναι 79 ετών.\n",
      "και πόσα παιδιά έχει η ασθενής αυτή;\n"
     ]
    },
    {
     "ename": "OperationalError",
     "evalue": "near \"Sorry\": syntax error",
     "output_type": "error",
     "traceback": [
      "\u001b[1;31m---------------------------------------------------------------------------\u001b[0m",
      "\u001b[1;31mOperationalError\u001b[0m                          Traceback (most recent call last)",
      "Cell \u001b[1;32mIn[11], line 17\u001b[0m\n\u001b[0;32m     14\u001b[0m         \u001b[38;5;28mprint\u001b[39m(response)  \u001b[38;5;66;03m# Print the response for the current query\u001b[39;00m\n\u001b[0;32m     16\u001b[0m \u001b[38;5;66;03m# Call the function to start the loop\u001b[39;00m\n\u001b[1;32m---> 17\u001b[0m \u001b[43mask_questions\u001b[49m\u001b[43m(\u001b[49m\u001b[43m)\u001b[49m\n",
      "Cell \u001b[1;32mIn[11], line 13\u001b[0m, in \u001b[0;36mask_questions\u001b[1;34m()\u001b[0m\n\u001b[0;32m     10\u001b[0m     \u001b[38;5;28;01mbreak\u001b[39;00m\n\u001b[0;32m     12\u001b[0m \u001b[38;5;66;03m# Process the query using your pipeline\u001b[39;00m\n\u001b[1;32m---> 13\u001b[0m response \u001b[38;5;241m=\u001b[39m \u001b[43mrag_pipeline\u001b[49m\u001b[43m(\u001b[49m\u001b[43muser_query\u001b[49m\u001b[43m,\u001b[49m\u001b[43m \u001b[49m\u001b[43mdb_path\u001b[49m\u001b[38;5;241;43m=\u001b[39;49m\u001b[38;5;124;43m\"\u001b[39;49m\u001b[38;5;124;43mdata.sqlite\u001b[39;49m\u001b[38;5;124;43m\"\u001b[39;49m\u001b[43m,\u001b[49m\u001b[43m \u001b[49m\u001b[43mapi_key\u001b[49m\u001b[38;5;241;43m=\u001b[39;49m\u001b[43mapi_key\u001b[49m\u001b[43m)\u001b[49m\n\u001b[0;32m     14\u001b[0m \u001b[38;5;28mprint\u001b[39m(response)\n",
      "Cell \u001b[1;32mIn[8], line 11\u001b[0m, in \u001b[0;36mrag_pipeline\u001b[1;34m(user_query, db_path, api_key)\u001b[0m\n\u001b[0;32m      7\u001b[0m sql_query \u001b[38;5;241m=\u001b[39m generate_sql_query(user_query, schema, api_key)\n\u001b[0;32m      8\u001b[0m \u001b[38;5;66;03m# print(f\"Generated SQL Query: {sql_query}\")  # Optional: to visualize the generated SQL\u001b[39;00m\n\u001b[0;32m      9\u001b[0m \n\u001b[0;32m     10\u001b[0m \u001b[38;5;66;03m# Step 3: Execute the SQL query and retrieve data from the database\u001b[39;00m\n\u001b[1;32m---> 11\u001b[0m result \u001b[38;5;241m=\u001b[39m \u001b[43mexecute_sql_query\u001b[49m\u001b[43m(\u001b[49m\u001b[43msql_query\u001b[49m\u001b[43m,\u001b[49m\u001b[43m \u001b[49m\u001b[43mdb_path\u001b[49m\u001b[43m)\u001b[49m\n\u001b[0;32m     12\u001b[0m \u001b[38;5;66;03m# print(f\"Retrieved Data: {result}\")  # Optional: to visualize the retrieved\u001b[39;00m\n\u001b[0;32m     13\u001b[0m \n\u001b[0;32m     14\u001b[0m \u001b[38;5;66;03m# Step 4: Synthesize the final response using GPT-4\u001b[39;00m\n\u001b[0;32m     15\u001b[0m final_response \u001b[38;5;241m=\u001b[39m synthesize_response(user_query, result, api_key)\n",
      "Cell \u001b[1;32mIn[6], line 5\u001b[0m, in \u001b[0;36mexecute_sql_query\u001b[1;34m(sql_query, db_path)\u001b[0m\n\u001b[0;32m      2\u001b[0m conn \u001b[38;5;241m=\u001b[39m sqlite3\u001b[38;5;241m.\u001b[39mconnect(db_path)\n\u001b[0;32m      3\u001b[0m cursor \u001b[38;5;241m=\u001b[39m conn\u001b[38;5;241m.\u001b[39mcursor()\n\u001b[1;32m----> 5\u001b[0m \u001b[43mcursor\u001b[49m\u001b[38;5;241;43m.\u001b[39;49m\u001b[43mexecute\u001b[49m\u001b[43m(\u001b[49m\u001b[43msql_query\u001b[49m\u001b[43m)\u001b[49m\n\u001b[0;32m      6\u001b[0m result \u001b[38;5;241m=\u001b[39m cursor\u001b[38;5;241m.\u001b[39mfetchall()\n\u001b[0;32m      8\u001b[0m conn\u001b[38;5;241m.\u001b[39mclose()\n",
      "\u001b[1;31mOperationalError\u001b[0m: near \"Sorry\": syntax error"
     ]
    }
   ],
   "source": [
    "# Function to handle the recursive question-answer process\n",
    "def ask_questions():\n",
    "    while True:\n",
    "        user_query = input(\"Enter your question (or type 'exit' to quit): \")\n",
    "        print(user_query)\n",
    "        \n",
    "        # Exit condition\n",
    "        if user_query.lower() == 'exit':\n",
    "            print(\"Exiting the question-answer loop.\")\n",
    "            break\n",
    "\n",
    "        # Process the query using your pipeline\n",
    "        response = rag_pipeline(user_query, db_path=\"data.sqlite\", api_key=api_key)\n",
    "        print(response)  # Print the response for the current query\n",
    "\n",
    "# Call the function to start the loop\n",
    "ask_questions()\n"
   ]
  },
  {
   "cell_type": "code",
   "execution_count": null,
   "metadata": {},
   "outputs": [],
   "source": []
  },
  {
   "cell_type": "code",
   "execution_count": null,
   "metadata": {},
   "outputs": [],
   "source": []
  }
 ],
 "metadata": {
  "kernelspec": {
   "display_name": "fetusappenv (3.12.4)",
   "language": "python",
   "name": "python3"
  },
  "language_info": {
   "codemirror_mode": {
    "name": "ipython",
    "version": 3
   },
   "file_extension": ".py",
   "mimetype": "text/x-python",
   "name": "python",
   "nbconvert_exporter": "python",
   "pygments_lexer": "ipython3",
   "version": "3.12.4"
  }
 },
 "nbformat": 4,
 "nbformat_minor": 2
}
